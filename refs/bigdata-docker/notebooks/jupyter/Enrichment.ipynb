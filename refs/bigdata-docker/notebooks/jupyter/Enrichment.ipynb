{
 "cells": [
  {
   "cell_type": "markdown",
   "metadata": {},
   "source": [
    "Enrichment\n",
    "=========="
   ]
  },
  {
   "cell_type": "markdown",
   "metadata": {},
   "source": [
    "Dependencies\n",
    "------------"
   ]
  },
  {
   "cell_type": "code",
   "execution_count": 1,
   "metadata": {},
   "outputs": [
    {
     "name": "stdout",
     "output_type": "stream",
     "text": [
      "Marking org.bdgenomics.adam:adam-core-spark2_2.11:0.24.0 for download\n",
      "Preparing to fetch from:\n",
      "-> file:/tmp/toree-tmp-dir8172174803993100516/toree_add_deps/\n",
      "-> https://repo1.maven.org/maven2\n",
      "-> New file at /tmp/toree-tmp-dir8172174803993100516/toree_add_deps/https/repo1.maven.org/maven2/org/bdgenomics/adam/adam-core-spark2_2.11/0.24.0/adam-core-spark2_2.11-0.24.0.jar\n",
      "-> New file at /tmp/toree-tmp-dir8172174803993100516/toree_add_deps/https/repo1.maven.org/maven2/org/bdgenomics/adam/adam-core-spark2_2.11/0.24.0/adam-core-spark2_2.11-0.24.0.pom\n"
     ]
    },
    {
     "data": {
      "text/plain": [
       "Waiting for a Spark session to start..."
      ]
     },
     "metadata": {},
     "output_type": "display_data",
     "source": "user"
    },
    {
     "name": "stdout",
     "output_type": "stream",
     "text": [
      "Marking comp.bio.aging:adam-playground_2.11:0.0.13 for download\n",
      "Preparing to fetch from:\n",
      "-> file:/tmp/toree-tmp-dir8172174803993100516/toree_add_deps/\n",
      "-> https://dl.bintray.com/comp-bio-aging/main/\n",
      "-> https://repo1.maven.org/maven2\n"
     ]
    }
   ],
   "source": [
    "%AddDeps org.bdgenomics.adam adam-core-spark2_2.11 0.24.0\n",
    "%AddDeps comp.bio.aging adam-playground_2.11 0.0.13 --repository https://dl.bintray.com/comp-bio-aging/main/"
   ]
  },
  {
   "cell_type": "code",
   "execution_count": 2,
   "metadata": {},
   "outputs": [
    {
     "name": "stdout",
     "output_type": "stream",
     "text": [
      "Marking org.apache.hadoop:hadoop-azure:2.7.6 for download\n",
      "Preparing to fetch from:\n",
      "-> file:/tmp/toree-tmp-dir8172174803993100516/toree_add_deps/\n",
      "-> https://repo1.maven.org/maven2\n",
      "-> New file at /tmp/toree-tmp-dir8172174803993100516/toree_add_deps/https/repo1.maven.org/maven2/org/apache/hadoop/hadoop-azure/2.7.6/hadoop-azure-2.7.6.jar\n",
      "-> New file at /tmp/toree-tmp-dir8172174803993100516/toree_add_deps/https/repo1.maven.org/maven2/org/apache/hadoop/hadoop-azure/2.7.6/hadoop-azure-2.7.6.pom\n"
     ]
    },
    {
     "data": {
      "text/plain": [
       "Waiting for a Spark session to start..."
      ]
     },
     "metadata": {},
     "output_type": "display_data",
     "source": "user"
    },
    {
     "name": "stdout",
     "output_type": "stream",
     "text": [
      "Marking com.microsoft.azure:azure-storage:2.0.0 for download\n",
      "Preparing to fetch from:\n",
      "-> file:/tmp/toree-tmp-dir8172174803993100516/toree_add_deps/\n",
      "-> https://repo1.maven.org/maven2\n",
      "-> New file at /tmp/toree-tmp-dir8172174803993100516/toree_add_deps/https/repo1.maven.org/maven2/com/microsoft/azure/azure-storage/2.0.0/azure-storage-2.0.0.jar\n",
      "-> New file at /tmp/toree-tmp-dir8172174803993100516/toree_add_deps/https/repo1.maven.org/maven2/com/microsoft/azure/azure-storage/2.0.0/azure-storage-2.0.0.pom\n"
     ]
    }
   ],
   "source": [
    "%AddDeps org.apache.hadoop hadoop-azure 2.7.6\n",
    "%AddDeps com.microsoft.azure azure-storage 2.0.0"
   ]
  },
  {
   "cell_type": "markdown",
   "metadata": {},
   "source": [
    "General functions\n",
    "-----------------"
   ]
  },
  {
   "cell_type": "code",
   "execution_count": 3,
   "metadata": {},
   "outputs": [],
   "source": [
    "import  org.apache.spark._\n",
    "import org.apache.spark.sql.{DataFrame, Encoders, SparkSession}\n",
    "import org.apache.spark.sql.types.StructType\n",
    "import scala.reflect.runtime.universe._\n",
    "import org.apache.spark.storage.StorageLevel\n",
    "import org.apache.spark.rdd._\n",
    "import org.apache.spark.sql.functions._"
   ]
  },
  {
   "cell_type": "code",
   "execution_count": 4,
   "metadata": {},
   "outputs": [
    {
     "data": {
      "text/plain": [
       "sparkHadoopConf: (sc: org.apache.spark.SparkContext, acountName: String, accountKey: String)org.apache.spark.SparkContext\n"
      ]
     },
     "metadata": {},
     "output_type": "display_data",
     "source": "user"
    }
   ],
   "source": [
    "def sparkHadoopConf(sc: SparkContext, acountName: String, accountKey: String) = {\n",
    "  sc.hadoopConfiguration.set(\"fs.azure\", \"org.apache.hadoop.fs.azure.NativeAzureFileSystem\")\n",
    "  sc.hadoopConfiguration.set(\"fs.azure.account.key.\" + acountName + \".blob.core.windows.net\", accountKey)\n",
    "  sc\n",
    "}"
   ]
  },
  {
   "cell_type": "code",
   "execution_count": 5,
   "metadata": {},
   "outputs": [
    {
     "data": {
      "text/plain": [
       "azurize: (container: String, accountName: String, blobFile: String)String\n",
       "writeText2Azure: [T](rdd: org.apache.spark.rdd.RDD[T], container: String, accountName: String, blobFile: String)String\n",
       "writeTsv2Azure: (df: org.apache.spark.sql.DataFrame, container: String, accountName: String, blobFile: String)String\n"
      ]
     },
     "metadata": {},
     "output_type": "display_data",
     "source": "user"
    }
   ],
   "source": [
    "def azurize(container: String, accountName: String, blobFile: String): String = \"wasbs://\"+container+\"@\"+accountName+\".blob.core.windows.net/\"+blobFile \n",
    "\n",
    "def writeText2Azure[T]( rdd: RDD[T], container: String, accountName: String, blobFile: String ): String =\n",
    "{\n",
    "  val url = azurize(container, accountName, blobFile)\n",
    "  rdd.saveAsTextFile(url)\n",
    "  url\n",
    "}\n",
    "\n",
    "def writeTsv2Azure( df: DataFrame, container: String, accountName: String, blobFile: String ): String =\n",
    "{\n",
    "  val url = azurize(container, accountName, blobFile)\n",
    "  df.write.option(\"sep\",\"\\t\").option(\"header\",\"true\").csv(url)\n",
    "  url\n",
    "}"
   ]
  },
  {
   "cell_type": "code",
   "execution_count": 6,
   "metadata": {},
   "outputs": [
    {
     "data": {
      "text/plain": [
       "account = pipelines1\n",
       "key = \n",
       "connString = DefaultEndpointsProtocol=https;AccountName=pipelines1;AccountKey=;EndpointSuffix=core.windows.net\n"
      ]
     },
     "metadata": {},
     "output_type": "display_data",
     "source": "user"
    },
    {
     "data": {
      "text/plain": [
       "az: (path: String)String\n"
      ]
     },
     "metadata": {},
     "output_type": "display_data",
     "source": "user"
    },
    {
     "data": {
      "text/plain": [
       "DefaultEndpointsProtocol=https;AccountName=pipelines1;AccountKey=;EndpointSuffix=core.windows.net"
      ]
     },
     "execution_count": 6,
     "metadata": {},
     "output_type": "execute_result"
    }
   ],
   "source": [
    "val account = \"pipelines1\"\n",
    "val key = \"\"\n",
    "val connString = s\"DefaultEndpointsProtocol=https;AccountName=pipelines1;AccountKey=${key};EndpointSuffix=core.windows.net\"\n",
    "def az(path: String): String = azurize(\"storage\", account, path)"
   ]
  },
  {
   "cell_type": "code",
   "execution_count": 7,
   "metadata": {},
   "outputs": [
    {
     "data": {
      "text/plain": [
       "write: (df: org.apache.spark.sql.DataFrame, url: String, header: Boolean)String\n"
      ]
     },
     "metadata": {},
     "output_type": "display_data",
     "source": "user"
    }
   ],
   "source": [
    "def write(df: DataFrame, url: String, header: Boolean = true) = {\n",
    "  df.coalesce(1).write.option(\"sep\",\"\\t\").option(\"header\", header).csv(url)\n",
    "  url\n",
    "}"
   ]
  },
  {
   "cell_type": "code",
   "execution_count": 8,
   "metadata": {},
   "outputs": [
    {
     "data": {
      "text/plain": [
       "readTSV: (path: String, header: Boolean, sep: String)org.apache.spark.sql.DataFrame\n"
      ]
     },
     "metadata": {},
     "output_type": "display_data",
     "source": "user"
    }
   ],
   "source": [
    "def readTSV(path: String, header: Boolean = false, sep: String = \"\\t\"): DataFrame = spark.read\n",
    "    .option(\"sep\", sep)\n",
    "    .option(\"comment\", \"#\")\n",
    "    .option(\"inferSchema\", true)\n",
    "    .option(\"header\", header)\n",
    "    .option(\"ignoreLeadingWhiteSpace\", true)\n",
    "    .option(\"ignoreTrailingWhiteSpace\", true)\n",
    "    .option(\"ignoreTrailingWhiteSpace\", true)\n",
    "    .option(\"maxColumns\", 150000)\n",
    "    .csv(path)"
   ]
  },
  {
   "cell_type": "code",
   "execution_count": 9,
   "metadata": {},
   "outputs": [
    {
     "data": {
      "text/plain": [
       "toVectors: (dataFrame: org.apache.spark.sql.DataFrame, columns: Seq[String], output: String)org.apache.spark.sql.DataFrame\n"
      ]
     },
     "metadata": {},
     "output_type": "display_data",
     "source": "user"
    }
   ],
   "source": [
    "def toVectors(dataFrame: DataFrame, columns: Seq[String], output: String) = {  \n",
    "  import org.apache.spark.ml.feature.VectorAssembler\n",
    "  import org.apache.spark.ml.linalg.Vectors\n",
    "  val assembler = new VectorAssembler()\n",
    "    .setInputCols(columns.toArray)\n",
    "    .setOutputCol(output)\n",
    "  assembler.transform(dataFrame.na.fill(0.0, columns).na.fill(0.0)).select(output)\n",
    "}"
   ]
  },
  {
   "cell_type": "code",
   "execution_count": 11,
   "metadata": {},
   "outputs": [
    {
     "data": {
      "text/plain": [
       "sparkContext = org.apache.spark.SparkContext@6ca639b5\n",
       "spark = org.apache.spark.sql.SparkSession@3508f046\n"
      ]
     },
     "metadata": {},
     "output_type": "display_data",
     "source": "user"
    },
    {
     "data": {
      "text/html": [
       "<ul>\n",
       "<li><a href=\"Some(http://c8fc1f462c1d:4040)\" target=\"new_tab\">Spark UI: app-20180706085823-0011</a></li>\n",
       "</ul>"
      ],
      "text/plain": [
       "Spark app-20180706085823-0011: Some(http://c8fc1f462c1d:4040)"
      ]
     },
     "execution_count": 11,
     "metadata": {},
     "output_type": "execute_result"
    }
   ],
   "source": [
    "val sparkContext = sc\n",
    "sparkHadoopConf(sparkContext, account, key)\n",
    "  \n",
    "val spark = SparkSession\n",
    "  .builder()\n",
    "  .appName(\"mapping_models\")\n",
    "  .getOrCreate()\n",
    "import spark.implicits._"
   ]
  },
  {
   "cell_type": "code",
   "execution_count": 14,
   "metadata": {},
   "outputs": [
    {
     "data": {
      "text/plain": [
       "rename: (dataFrame: org.apache.spark.sql.DataFrame, renamings: Map[String,String])org.apache.spark.sql.DataFrame\n",
       "renameFunction: (renamings: Map[String,String])org.apache.spark.sql.expressions.UserDefinedFunction\n"
      ]
     },
     "metadata": {},
     "output_type": "display_data",
     "source": "user"
    }
   ],
   "source": [
    "def rename(dataFrame: DataFrame, renamings: Map[String, String]) =   {\n",
    "      val newColumns = dataFrame.columns.map(c=> renamings.getOrElse(c, c))\n",
    "      dataFrame.toDF(newColumns:_*)\n",
    "    }\n",
    "def renameFunction(renamings: Map[String, String]) = udf[String, String](c=> renamings.getOrElse(c, c))"
   ]
  },
  {
   "cell_type": "code",
   "execution_count": 15,
   "metadata": {},
   "outputs": [
    {
     "data": {
      "text/plain": [
       "expressionsPath = expressions\n",
       "byGoPath = expressions/go\n",
       "comparison = expressions/go/gray_whale_with_bowhead_with_minke_with_NMR_with_human_with_mouse_with_cow_full_outer_counts_extended.tsv\n",
       "grouped = expressions/go/grouped\n",
       "ranked = expressions/go/grouped/ranked\n",
       "transcriptsPath = expressions/transcripts\n",
       "indexesPath = indexes\n",
       "reactomePath = indexes/reactome\n",
       "unirefPath = expressions/uniref90\n"
      ]
     },
     "metadata": {},
     "output_type": "display_data",
     "source": "user"
    },
    {
     "data": {
      "text/plain": [
       "expressions/uniref90"
      ]
     },
     "execution_count": 15,
     "metadata": {},
     "output_type": "execute_result"
    }
   ],
   "source": [
    "val expressionsPath = \"expressions\"\n",
    "val byGoPath = expressionsPath + \"/go\"\n",
    "val comparison = byGoPath + \"/gray_whale_with_bowhead_with_minke_with_NMR_with_human_with_mouse_with_cow_full_outer_counts_extended.tsv\"\n",
    "val grouped = byGoPath + \"/grouped\"\n",
    "val ranked = byGoPath + \"/grouped/ranked\"\n",
    "val transcriptsPath = expressionsPath + \"/transcripts\"\n",
    "val indexesPath = \"indexes\"\n",
    "val reactomePath = indexesPath + \"/reactome\"\n",
    "val unirefPath = expressionsPath + \"/\" + \"uniref90\""
   ]
  },
  {
   "cell_type": "markdown",
   "metadata": {},
   "source": [
    "GO annotations\n",
    "--------------"
   ]
  },
  {
   "cell_type": "code",
   "execution_count": 16,
   "metadata": {},
   "outputs": [
    {
     "name": "stdout",
     "output_type": "stream",
     "text": [
      "Marking net.sansa-stack:sansa-rdf-spark_2.11:0.4.0 for download\n",
      "Preparing to fetch from:\n",
      "-> file:/tmp/toree-tmp-dir8172174803993100516/toree_add_deps/\n",
      "-> https://repo1.maven.org/maven2\n",
      "-> Failed to resolve com.ibm.sparktc.sparkbench:sparkbench:2.3.0_0.4.0\n",
      "    -> not found: /tmp/toree-tmp-dir8172174803993100516/toree_add_deps/cache/com.ibm.sparktc.sparkbench/sparkbench/ivy-2.3.0_0.4.0.xml\n",
      "    -> not found: https://repo1.maven.org/maven2/com/ibm/sparktc/sparkbench/sparkbench/2.3.0_0.4.0/sparkbench-2.3.0_0.4.0.pom\n",
      "-> New file at /tmp/toree-tmp-dir8172174803993100516/toree_add_deps/https/repo1.maven.org/maven2/log4j/log4j/1.2.17/log4j-1.2.17.zip\n",
      "-> New file at /tmp/toree-tmp-dir8172174803993100516/toree_add_deps/https/repo1.maven.org/maven2/org/spark-project/hive/hive-exec/1.2.1.spark2/hive-exec-1.2.1.spark2.jar\n",
      "-> New file at /tmp/toree-tmp-dir8172174803993100516/toree_add_deps/https/repo1.maven.org/maven2/org/apache/hadoop/hadoop-yarn-common/2.8.3/hadoop-yarn-common-2.8.3.jar\n",
      "-> New file at /tmp/toree-tmp-dir8172174803993100516/toree_add_deps/https/repo1.maven.org/maven2/com/zaxxer/HikariCP/2.7.6/HikariCP-2.7.6.jar\n",
      "-> New file at /tmp/toree-tmp-dir8172174803993100516/toree_add_deps/https/repo1.maven.org/maven2/org/apache/thrift/libfb303/0.9.3/libfb303-0.9.3.jar\n",
      "-> New file at /tmp/toree-tmp-dir8172174803993100516/toree_add_deps/https/repo1.maven.org/maven2/org/apache/jena/jena-shaded-guava/3.7.0/jena-shaded-guava-3.7.0.jar\n",
      "-> New file at /tmp/toree-tmp-dir8172174803993100516/toree_add_deps/https/repo1.maven.org/maven2/commons-codec/commons-codec/1.11/commons-codec-1.11.jar\n",
      "-> New file at /tmp/toree-tmp-dir8172174803993100516/toree_add_deps/https/repo1.maven.org/maven2/org/slf4j/slf4j-ext/1.7.21/slf4j-ext-1.7.21.jar\n",
      "-> New file at /tmp/toree-tmp-dir8172174803993100516/toree_add_deps/https/repo1.maven.org/maven2/log4j/log4j/1.2.17/log4j-1.2.17.jar\n",
      "-> New file at /tmp/toree-tmp-dir8172174803993100516/toree_add_deps/https/repo1.maven.org/maven2/org/apache/jena/jena-base/3.7.0/jena-base-3.7.0.jar\n",
      "-> New file at /tmp/toree-tmp-dir8172174803993100516/toree_add_deps/https/repo1.maven.org/maven2/com/google/code/gson/gson/2.8.2/gson-2.8.2.jar\n",
      "-> New file at /tmp/toree-tmp-dir8172174803993100516/toree_add_deps/https/repo1.maven.org/maven2/org/mortbay/jetty/servlet-api/2.5-20081211/servlet-api-2.5-20081211.jar\n",
      "-> New file at /tmp/toree-tmp-dir8172174803993100516/toree_add_deps/https/repo1.maven.org/maven2/org/apache/jena/jena-sdb/3.7.0/jena-sdb-3.7.0.jar\n",
      "-> New file at /tmp/toree-tmp-dir8172174803993100516/toree_add_deps/https/repo1.maven.org/maven2/com/github/jsonld-java/jsonld-java/0.11.1/jsonld-java-0.11.1.jar\n",
      "-> New file at /tmp/toree-tmp-dir8172174803993100516/toree_add_deps/https/repo1.maven.org/maven2/org/postgresql/postgresql/42.2.2.jre7/postgresql-42.2.2.jre7.jar\n",
      "-> New file at /tmp/toree-tmp-dir8172174803993100516/toree_add_deps/https/repo1.maven.org/maven2/javax/inject/javax.inject/1/javax.inject-1.jar\n",
      "-> New file at /tmp/toree-tmp-dir8172174803993100516/toree_add_deps/https/repo1.maven.org/maven2/commons-net/commons-net/3.1/commons-net-3.1.jar\n",
      "-> New file at /tmp/toree-tmp-dir8172174803993100516/toree_add_deps/https/repo1.maven.org/maven2/org/apache/commons/commons-lang3/3.7/commons-lang3-3.7.jar\n",
      "-> New file at /tmp/toree-tmp-dir8172174803993100516/toree_add_deps/https/repo1.maven.org/maven2/com/googlecode/javaewah/JavaEWAH/0.3.2/JavaEWAH-0.3.2.jar\n",
      "-> New file at /tmp/toree-tmp-dir8172174803993100516/toree_add_deps/https/repo1.maven.org/maven2/commons-pool/commons-pool/1.5.4/commons-pool-1.5.4.jar\n",
      "-> New file at /tmp/toree-tmp-dir8172174803993100516/toree_add_deps/https/repo1.maven.org/maven2/org/apache/avro/avro-mapred/1.7.7/avro-mapred-1.7.7-hadoop2.jar\n",
      "-> New file at /tmp/toree-tmp-dir8172174803993100516/toree_add_deps/https/repo1.maven.org/maven2/org/aksw/commons/subgraph-isomorphism-index-jena/1.2.0/subgraph-isomorphism-index-jena-1.2.0.jar\n",
      "-> New file at /tmp/toree-tmp-dir8172174803993100516/toree_add_deps/https/repo1.maven.org/maven2/org/codehaus/plexus/plexus-utils/3.1.0/plexus-utils-3.1.0.jar\n",
      "-> New file at /tmp/toree-tmp-dir8172174803993100516/toree_add_deps/https/repo1.maven.org/maven2/it/unimi/dsi/fastutil/8.1.0/fastutil-8.1.0.jar\n",
      "-> New file at /tmp/toree-tmp-dir8172174803993100516/toree_add_deps/https/repo1.maven.org/maven2/log4j/log4j/1.2.17/log4j-1.2.17.tar.gz\n",
      "-> New file at /tmp/toree-tmp-dir8172174803993100516/toree_add_deps/https/repo1.maven.org/maven2/org/apache/spark/spark-hive_2.11/2.3.1/spark-hive_2.11-2.3.1.jar\n",
      "-> New file at /tmp/toree-tmp-dir8172174803993100516/toree_add_deps/https/repo1.maven.org/maven2/net/java/dev/jets3t/jets3t/0.9.0/jets3t-0.9.0.jar\n",
      "-> New file at /tmp/toree-tmp-dir8172174803993100516/toree_add_deps/https/repo1.maven.org/maven2/org/apache/thrift/libthrift/0.10.0/libthrift-0.10.0.jar\n",
      "-> New file at /tmp/toree-tmp-dir8172174803993100516/toree_add_deps/https/repo1.maven.org/maven2/junit/junit/4.12/junit-4.12.jar\n",
      "-> New file at /tmp/toree-tmp-dir8172174803993100516/toree_add_deps/https/repo1.maven.org/maven2/org/slf4j/slf4j-log4j12/1.7.25/slf4j-log4j12-1.7.25.jar\n",
      "-> New file at /tmp/toree-tmp-dir8172174803993100516/toree_add_deps/https/repo1.maven.org/maven2/jrexx/jrexx/1.1.1/jrexx-1.1.1.jar\n",
      "-> New file at /tmp/toree-tmp-dir8172174803993100516/toree_add_deps/https/repo1.maven.org/maven2/commons-beanutils/commons-beanutils-core/1.8.0/commons-beanutils-core-1.8.0.jar\n",
      "-> New file at /tmp/toree-tmp-dir8172174803993100516/toree_add_deps/https/repo1.maven.org/maven2/xmlenc/xmlenc/0.52/xmlenc-0.52.jar\n",
      "-> New file at /tmp/toree-tmp-dir8172174803993100516/toree_add_deps/https/repo1.maven.org/maven2/org/apache/zookeeper/zookeeper/3.4.6/zookeeper-3.4.6.jar\n",
      "-> New file at /tmp/toree-tmp-dir8172174803993100516/toree_add_deps/https/repo1.maven.org/maven2/org/apache/jena/jena-dboe-index/3.7.0/jena-dboe-index-3.7.0.jar\n",
      "-> New file at /tmp/toree-tmp-dir8172174803993100516/toree_add_deps/https/repo1.maven.org/maven2/com/typesafe/scala-logging/scala-logging_2.11/3.5.0/scala-logging_2.11-3.5.0.jar\n",
      "-> New file at /tmp/toree-tmp-dir8172174803993100516/toree_add_deps/https/repo1.maven.org/maven2/org/apache/commons/commons-csv/1.5/commons-csv-1.5.jar\n",
      "-> New file at /tmp/toree-tmp-dir8172174803993100516/toree_add_deps/https/repo1.maven.org/maven2/io/netty/netty/3.7.0.Final/netty-3.7.0.Final.jar\n",
      "-> New file at /tmp/toree-tmp-dir8172174803993100516/toree_add_deps/https/repo1.maven.org/maven2/org/aksw/sparqlify/obda-api-core/0.8.5/obda-api-core-0.8.5.jar\n",
      "-> New file at /tmp/toree-tmp-dir8172174803993100516/toree_add_deps/https/repo1.maven.org/maven2/org/apache/httpcomponents/httpclient-cache/4.5.3/httpclient-cache-4.5.3.jar\n",
      "-> New file at /tmp/toree-tmp-dir8172174803993100516/toree_add_deps/https/repo1.maven.org/maven2/org/apache/commons/commons-text/1.2/commons-text-1.2.jar\n",
      "-> New file at /tmp/toree-tmp-dir8172174803993100516/toree_add_deps/https/repo1.maven.org/maven2/com/sun/jersey/jersey-server/1.9/jersey-server-1.9.jar\n",
      "-> New file at /tmp/toree-tmp-dir8172174803993100516/toree_add_deps/https/repo1.maven.org/maven2/org/codehaus/jackson/jackson-mapper-asl/1.9.13/jackson-mapper-asl-1.9.13.jar\n",
      "-> New file at /tmp/toree-tmp-dir8172174803993100516/toree_add_deps/https/repo1.maven.org/maven2/org/apache/jena/jena-dboe-trans-data/3.7.0/jena-dboe-trans-data-3.7.0.jar\n",
      "-> New file at /tmp/toree-tmp-dir8172174803993100516/toree_add_deps/https/repo1.maven.org/maven2/stax/stax-api/1.0.1/stax-api-1.0.1.jar\n",
      "-> New file at /tmp/toree-tmp-dir8172174803993100516/toree_add_deps/https/repo1.maven.org/maven2/com/twitter/parquet-hadoop-bundle/1.6.0/parquet-hadoop-bundle-1.6.0.jar\n",
      "-> New file at /tmp/toree-tmp-dir8172174803993100516/toree_add_deps/https/repo1.maven.org/maven2/commons-beanutils/commons-beanutils/1.9.2/commons-beanutils-1.9.2.jar\n",
      "-> New file at /tmp/toree-tmp-dir8172174803993100516/toree_add_deps/https/repo1.maven.org/maven2/org/apache/jena/jena-rdfconnection/3.7.0/jena-rdfconnection-3.7.0.jar\n",
      "-> New file at /tmp/toree-tmp-dir8172174803993100516/toree_add_deps/https/repo1.maven.org/maven2/com/thoughtworks/xstream/xstream/1.3.1/xstream-1.3.1.jar\n",
      "-> New file at /tmp/toree-tmp-dir8172174803993100516/toree_add_deps/https/repo1.maven.org/maven2/org/aksw/commons/aksw-commons-collections/0.8.9/aksw-commons-collections-0.8.9.jar\n",
      "-> New file at /tmp/toree-tmp-dir8172174803993100516/toree_add_deps/https/repo1.maven.org/maven2/org/apache/hadoop/hadoop-yarn-api/2.8.3/hadoop-yarn-api-2.8.3.jar\n",
      "-> New file at /tmp/toree-tmp-dir8172174803993100516/toree_add_deps/https/repo1.maven.org/maven2/com/h2database/h2/1.4.196/h2-1.4.196.jar\n",
      "-> New file at /tmp/toree-tmp-dir8172174803993100516/toree_add_deps/https/repo1.maven.org/maven2/org/apache/httpcomponents/httpclient/4.5.4/httpclient-4.5.4.jar\n",
      "-> New file at /tmp/toree-tmp-dir8172174803993100516/toree_add_deps/https/repo1.maven.org/maven2/org/antlr/antlr-runtime/3.5.2/antlr-runtime-3.5.2.jar\n",
      "-> New file at /tmp/toree-tmp-dir8172174803993100516/toree_add_deps/https/repo1.maven.org/maven2/org/apache/directory/server/apacheds-kerberos-codec/2.0.0-M15/apacheds-kerberos-codec-2.0.0-M15.jar\n",
      "-> New file at /tmp/toree-tmp-dir8172174803993100516/toree_add_deps/https/repo1.maven.org/maven2/org/apache/jena/jena-tdb/3.7.0/jena-tdb-3.7.0.jar\n",
      "-> New file at /tmp/toree-tmp-dir8172174803993100516/toree_add_deps/https/repo1.maven.org/maven2/org/apache/spark/spark-streaming-kafka-0-10_2.11/2.3.1/spark-streaming-kafka-0-10_2.11-2.3.1.jar\n",
      "-> New file at /tmp/toree-tmp-dir8172174803993100516/toree_add_deps/https/repo1.maven.org/maven2/com/thoughtworks/paranamer/paranamer/2.3/paranamer-2.3.jar\n",
      "-> New file at /tmp/toree-tmp-dir8172174803993100516/toree_add_deps/https/repo1.maven.org/maven2/org/apache/jena/jena-dboe-base/3.7.0/jena-dboe-base-3.7.0.jar\n",
      "-> New file at /tmp/toree-tmp-dir8172174803993100516/toree_add_deps/https/repo1.maven.org/maven2/com/google/protobuf/protobuf-java/2.5.0/protobuf-java-2.5.0.jar\n",
      "-> New file at /tmp/toree-tmp-dir8172174803993100516/toree_add_deps/https/repo1.maven.org/maven2/org/mortbay/jetty/jetty-util/6.1.26/jetty-util-6.1.26.jar\n",
      "-> New file at /tmp/toree-tmp-dir8172174803993100516/toree_add_deps/https/repo1.maven.org/maven2/com/sun/jersey/jersey-json/1.9/jersey-json-1.9.jar\n",
      "-> New file at /tmp/toree-tmp-dir8172174803993100516/toree_add_deps/https/repo1.maven.org/maven2/io/reactivex/rxjava2/rxjava/2.1.14/rxjava-2.1.14.jar\n",
      "-> New file at /tmp/toree-tmp-dir8172174803993100516/toree_add_deps/https/repo1.maven.org/maven2/com/google/inject/guice/3.0/guice-3.0.jar\n",
      "-> New file at /tmp/toree-tmp-dir8172174803993100516/toree_add_deps/https/repo1.maven.org/maven2/org/aksw/jena-sparql-api/jena-sparql-api-core/3.7.0-3/jena-sparql-api-core-3.7.0-3.jar\n",
      "-> New file at /tmp/toree-tmp-dir8172174803993100516/toree_add_deps/https/repo1.maven.org/maven2/org/aksw/commons/subgraph-isomorphism-index-core/1.2.0/subgraph-isomorphism-index-core-1.2.0.jar\n",
      "-> New file at /tmp/toree-tmp-dir8172174803993100516/toree_add_deps/https/repo1.maven.org/maven2/org/aksw/sparqlify/obda-api-sml/0.8.5/obda-api-sml-0.8.5.jar\n",
      "-> New file at /tmp/toree-tmp-dir8172174803993100516/toree_add_deps/https/repo1.maven.org/maven2/org/apache/htrace/htrace-core4/4.0.1-incubating/htrace-core4-4.0.1-incubating.jar\n",
      "-> New file at /tmp/toree-tmp-dir8172174803993100516/toree_add_deps/https/repo1.maven.org/maven2/net/jcip/jcip-annotations/1.0/jcip-annotations-1.0.jar\n",
      "-> New file at /tmp/toree-tmp-dir8172174803993100516/toree_add_deps/https/repo1.maven.org/maven2/org/apache/directory/api/api-asn1-api/1.0.0-M20/api-asn1-api-1.0.0-M20.jar\n",
      "-> New file at /tmp/toree-tmp-dir8172174803993100516/toree_add_deps/https/repo1.maven.org/maven2/com/jamesmurty/utils/java-xmlbuilder/0.4/java-xmlbuilder-0.4.jar\n",
      "-> New file at /tmp/toree-tmp-dir8172174803993100516/toree_add_deps/https/repo1.maven.org/maven2/commons-cli/commons-cli/20040117.000000/commons-cli-20040117.000000.jar\n",
      "-> New file at /tmp/toree-tmp-dir8172174803993100516/toree_add_deps/https/repo1.maven.org/maven2/org/mortbay/jetty/jetty/6.1.26/jetty-6.1.26.jar\n",
      "-> New file at /tmp/toree-tmp-dir8172174803993100516/toree_add_deps/https/repo1.maven.org/maven2/org/aksw/jena-sparql-api/jena-sparql-api-sparql-ext/3.7.0-3/jena-sparql-api-sparql-ext-3.7.0-3.jar\n",
      "-> New file at /tmp/toree-tmp-dir8172174803993100516/toree_add_deps/https/repo1.maven.org/maven2/org/apache/directory/server/apacheds-i18n/2.0.0-M15/apacheds-i18n-2.0.0-M15.jar\n",
      "-> New file at /tmp/toree-tmp-dir8172174803993100516/toree_add_deps/https/repo1.maven.org/maven2/xml-apis/xml-apis/1.4.01/xml-apis-1.4.01.jar\n",
      "-> New file at /tmp/toree-tmp-dir8172174803993100516/toree_add_deps/https/repo1.maven.org/maven2/com/codepoetics/protonpack/1.11/protonpack-1.11.jar\n",
      "-> New file at /tmp/toree-tmp-dir8172174803993100516/toree_add_deps/https/repo1.maven.org/maven2/org/apache/spark/spark-tags_2.11/2.3.1/spark-tags_2.11-2.3.1.jar\n",
      "-> New file at /tmp/toree-tmp-dir8172174803993100516/toree_add_deps/https/repo1.maven.org/maven2/net/sourceforge/jexcelapi/jxl/2.6.12/jxl-2.6.12.jar\n",
      "-> New file at /tmp/toree-tmp-dir8172174803993100516/toree_add_deps/https/repo1.maven.org/maven2/org/mortbay/jetty/jetty-sslengine/6.1.26/jetty-sslengine-6.1.26.jar\n",
      "-> New file at /tmp/toree-tmp-dir8172174803993100516/toree_add_deps/https/repo1.maven.org/maven2/net/postgis/postgis-jdbc/2.2.1/postgis-jdbc-2.2.1.jar\n",
      "-> New file at /tmp/toree-tmp-dir8172174803993100516/toree_add_deps/https/repo1.maven.org/maven2/org/spark-project/hive/hive-metastore/1.2.1.spark2/hive-metastore-1.2.1.spark2.jar\n",
      "-> New file at /tmp/toree-tmp-dir8172174803993100516/toree_add_deps/https/repo1.maven.org/maven2/javax/servlet/servlet-api/2.5/servlet-api-2.5.jar\n",
      "-> New file at /tmp/toree-tmp-dir8172174803993100516/toree_add_deps/https/repo1.maven.org/maven2/org/aksw/jena-sparql-api/jena-sparql-api-algebra/3.7.0-3/jena-sparql-api-algebra-3.7.0-3.jar\n",
      "-> New file at /tmp/toree-tmp-dir8172174803993100516/toree_add_deps/https/repo1.maven.org/maven2/com/sun/xml/bind/jaxb-impl/2.2.3-1/jaxb-impl-2.2.3-1.jar\n",
      "-> New file at /tmp/toree-tmp-dir8172174803993100516/toree_add_deps/https/repo1.maven.org/maven2/org/hamcrest/hamcrest-core/1.3/hamcrest-core-1.3.jar\n",
      "-> New file at /tmp/toree-tmp-dir8172174803993100516/toree_add_deps/https/repo1.maven.org/maven2/net/minidev/accessors-smart/1.2/accessors-smart-1.2.jar\n",
      "-> New file at /tmp/toree-tmp-dir8172174803993100516/toree_add_deps/https/repo1.maven.org/maven2/log4j/apache-log4j-extras/1.2.17/apache-log4j-extras-1.2.17.jar\n",
      "-> New file at /tmp/toree-tmp-dir8172174803993100516/toree_add_deps/https/repo1.maven.org/maven2/org/codehaus/jackson/jackson-jaxrs/1.9.13/jackson-jaxrs-1.9.13.jar\n",
      "-> New file at /tmp/toree-tmp-dir8172174803993100516/toree_add_deps/https/repo1.maven.org/maven2/org/jgrapht/jgrapht-core/1.2.0/jgrapht-core-1.2.0.jar\n",
      "-> New file at /tmp/toree-tmp-dir8172174803993100516/toree_add_deps/https/repo1.maven.org/maven2/org/jodd/jodd-core/3.5.2/jodd-core-3.5.2.jar\n",
      "-> New file at /tmp/toree-tmp-dir8172174803993100516/toree_add_deps/https/repo1.maven.org/maven2/org/springframework/spring-tx/4.3.14.RELEASE/spring-tx-4.3.14.RELEASE.jar\n",
      "-> New file at /tmp/toree-tmp-dir8172174803993100516/toree_add_deps/https/repo1.maven.org/maven2/com/nurkiewicz/asyncretry/asyncretry-jdk7/0.0.6/asyncretry-jdk7-0.0.6.jar\n",
      "-> New file at /tmp/toree-tmp-dir8172174803993100516/toree_add_deps/https/repo1.maven.org/maven2/javax/transaction/jta/1.1/jta-1.1.jar\n",
      "-> New file at /tmp/toree-tmp-dir8172174803993100516/toree_add_deps/https/repo1.maven.org/maven2/javax/xml/stream/stax-api/1.0-2/stax-api-1.0-2.jar\n",
      "-> New file at /tmp/toree-tmp-dir8172174803993100516/toree_add_deps/https/repo1.maven.org/maven2/com/sun/jersey/contribs/jersey-guice/1.9/jersey-guice-1.9.jar\n",
      "-> New file at /tmp/toree-tmp-dir8172174803993100516/toree_add_deps/https/repo1.maven.org/maven2/org/apache/hadoop/hadoop-auth/2.8.3/hadoop-auth-2.8.3.jar\n",
      "-> New file at /tmp/toree-tmp-dir8172174803993100516/toree_add_deps/https/repo1.maven.org/maven2/org/apache/httpcomponents/httpcore/4.4.7/httpcore-4.4.7.jar\n",
      "-> New file at /tmp/toree-tmp-dir8172174803993100516/toree_add_deps/https/repo1.maven.org/maven2/org/datanucleus/datanucleus-api-jdo/3.2.6/datanucleus-api-jdo-3.2.6.jar\n",
      "-> New file at /tmp/toree-tmp-dir8172174803993100516/toree_add_deps/https/repo1.maven.org/maven2/com/esotericsoftware/kryo/4.0.0/kryo-4.0.0.jar\n",
      "-> New file at /tmp/toree-tmp-dir8172174803993100516/toree_add_deps/https/repo1.maven.org/maven2/org/ow2/asm/asm/5.0.4/asm-5.0.4.jar\n",
      "-> New file at /tmp/toree-tmp-dir8172174803993100516/toree_add_deps/https/repo1.maven.org/maven2/org/apache/avro/avro-ipc/1.7.7/avro-ipc-1.7.7-tests.jar\n",
      "-> New file at /tmp/toree-tmp-dir8172174803993100516/toree_add_deps/https/repo1.maven.org/maven2/javax/xml/bind/jaxb-api/2.2.2/jaxb-api-2.2.2.jar\n",
      "-> New file at /tmp/toree-tmp-dir8172174803993100516/toree_add_deps/https/repo1.maven.org/maven2/com/sun/jersey/jersey-client/1.9/jersey-client-1.9.jar\n",
      "-> New file at /tmp/toree-tmp-dir8172174803993100516/toree_add_deps/https/repo1.maven.org/maven2/com/github/andrewoma/dexx/collection/0.7/collection-0.7.jar\n",
      "-> New file at /tmp/toree-tmp-dir8172174803993100516/toree_add_deps/https/repo1.maven.org/maven2/org/datanucleus/datanucleus-rdbms/3.2.9/datanucleus-rdbms-3.2.9.jar\n",
      "-> New file at /tmp/toree-tmp-dir8172174803993100516/toree_add_deps/https/repo1.maven.org/maven2/com/fasterxml/jackson/core/jackson-core/2.9.0/jackson-core-2.9.0.jar\n",
      "-> New file at /tmp/toree-tmp-dir8172174803993100516/toree_add_deps/https/repo1.maven.org/maven2/xpp3/xpp3_min/1.1.4c/xpp3_min-1.1.4c.jar\n",
      "-> New file at /tmp/toree-tmp-dir8172174803993100516/toree_add_deps/https/repo1.maven.org/maven2/org/apache/derby/derby/10.12.1.1/derby-10.12.1.1.jar\n",
      "-> New file at /tmp/toree-tmp-dir8172174803993100516/toree_add_deps/https/repo1.maven.org/maven2/aopalliance/aopalliance/1.0/aopalliance-1.0.jar\n",
      "-> New file at /tmp/toree-tmp-dir8172174803993100516/toree_add_deps/https/repo1.maven.org/maven2/org/iq80/snappy/snappy/0.2/snappy-0.2.jar\n",
      "-> New file at /tmp/toree-tmp-dir8172174803993100516/toree_add_deps/https/repo1.maven.org/maven2/net/jpountz/lz4/lz4/1.3.0/lz4-1.3.0.jar\n",
      "-> New file at /tmp/toree-tmp-dir8172174803993100516/toree_add_deps/https/repo1.maven.org/maven2/org/datanucleus/datanucleus-core/3.2.10/datanucleus-core-3.2.10.jar\n",
      "-> New file at /tmp/toree-tmp-dir8172174803993100516/toree_add_deps/https/repo1.maven.org/maven2/org/aksw/sparqlify/sparqlify-core/0.8.5/sparqlify-core-0.8.5.jar\n",
      "-> New file at /tmp/toree-tmp-dir8172174803993100516/toree_add_deps/https/repo1.maven.org/maven2/commons-io/commons-io/2.6/commons-io-2.6.jar\n",
      "-> New file at /tmp/toree-tmp-dir8172174803993100516/toree_add_deps/https/repo1.maven.org/maven2/javax/validation/validation-api/2.0.1.Final/validation-api-2.0.1.Final.jar\n",
      "-> New file at /tmp/toree-tmp-dir8172174803993100516/toree_add_deps/https/repo1.maven.org/maven2/net/sansa-stack/sansa-rdf-spark_2.11/0.4.0/sansa-rdf-spark_2.11-0.4.0.jar\n",
      "-> New file at /tmp/toree-tmp-dir8172174803993100516/toree_add_deps/https/repo1.maven.org/maven2/org/springframework/spring-jdbc/4.3.14.RELEASE/spring-jdbc-4.3.14.RELEASE.jar\n",
      "-> New file at /tmp/toree-tmp-dir8172174803993100516/toree_add_deps/https/repo1.maven.org/maven2/org/aksw/sparqlify/obda-api-bundle/0.8.5/obda-api-bundle-0.8.5.jar\n",
      "-> New file at /tmp/toree-tmp-dir8172174803993100516/toree_add_deps/https/repo1.maven.org/maven2/net/sourceforge/collections/collections-generic/4.01/collections-generic-4.01.jar\n",
      "-> New file at /tmp/toree-tmp-dir8172174803993100516/toree_add_deps/https/repo1.maven.org/maven2/asm/asm/3.1/asm-3.1.jar\n",
      "-> New file at /tmp/toree-tmp-dir8172174803993100516/toree_add_deps/https/repo1.maven.org/maven2/org/apache/jena/jena-core/3.7.0/jena-core-3.7.0.jar\n",
      "-> New file at /tmp/toree-tmp-dir8172174803993100516/toree_add_deps/https/repo1.maven.org/maven2/ch/qos/cal10n/cal10n-api/0.8.1/cal10n-api-0.8.1.jar\n",
      "-> New file at /tmp/toree-tmp-dir8172174803993100516/toree_add_deps/https/repo1.maven.org/maven2/javolution/javolution/5.5.1/javolution-5.5.1.jar\n",
      "-> New file at /tmp/toree-tmp-dir8172174803993100516/toree_add_deps/https/repo1.maven.org/maven2/org/apache/jena/jena-arq/3.7.0/jena-arq-3.7.0.jar\n",
      "-> New file at /tmp/toree-tmp-dir8172174803993100516/toree_add_deps/https/repo1.maven.org/maven2/org/apache/commons/commons-compress/1.15/commons-compress-1.15.jar\n",
      "-> New file at /tmp/toree-tmp-dir8172174803993100516/toree_add_deps/https/repo1.maven.org/maven2/joda-time/joda-time/2.9.3/joda-time-2.9.3.jar\n",
      "-> New file at /tmp/toree-tmp-dir8172174803993100516/toree_add_deps/https/repo1.maven.org/maven2/org/apache/jena/jena-tdb2/3.7.0/jena-tdb2-3.7.0.jar\n",
      "-> New file at /tmp/toree-tmp-dir8172174803993100516/toree_add_deps/https/repo1.maven.org/maven2/org/aksw/commons/subgraph-isomorphism-index-jgrapht/1.2.0/subgraph-isomorphism-index-jgrapht-1.2.0.jar\n",
      "-> New file at /tmp/toree-tmp-dir8172174803993100516/toree_add_deps/https/repo1.maven.org/maven2/org/apache/jena/jena-dboe-transaction/3.7.0/jena-dboe-transaction-3.7.0.jar\n",
      "-> New file at /tmp/toree-tmp-dir8172174803993100516/toree_add_deps/https/repo1.maven.org/maven2/org/slf4j/jcl-over-slf4j/1.7.25/jcl-over-slf4j-1.7.25.jar\n",
      "-> New file at /tmp/toree-tmp-dir8172174803993100516/toree_add_deps/https/repo1.maven.org/maven2/org/aksw/jena-sparql-api/jena-sparql-api-views/3.7.0-3/jena-sparql-api-views-3.7.0-3.jar\n",
      "-> New file at /tmp/toree-tmp-dir8172174803993100516/toree_add_deps/https/repo1.maven.org/maven2/org/apache/hadoop/hadoop-mapreduce-client-core/2.8.3/hadoop-mapreduce-client-core-2.8.3.jar\n",
      "-> New file at /tmp/toree-tmp-dir8172174803993100516/toree_add_deps/https/repo1.maven.org/maven2/com/esotericsoftware/minlog/1.3.0/minlog-1.3.0.jar\n",
      "-> New file at /tmp/toree-tmp-dir8172174803993100516/toree_add_deps/https/repo1.maven.org/maven2/org/apache/calcite/calcite-core/1.2.0-incubating/calcite-core-1.2.0-incubating.jar\n",
      "-> New file at /tmp/toree-tmp-dir8172174803993100516/toree_add_deps/https/repo1.maven.org/maven2/org/aksw/commons/tagmap-core/1.0.3/tagmap-core-1.0.3.jar\n",
      "-> New file at /tmp/toree-tmp-dir8172174803993100516/toree_add_deps/https/repo1.maven.org/maven2/commons-dbcp/commons-dbcp/1.4/commons-dbcp-1.4.jar\n",
      "-> New file at /tmp/toree-tmp-dir8172174803993100516/toree_add_deps/https/repo1.maven.org/maven2/org/aksw/jena-sparql-api/jena-sparql-api-utils/3.7.0-3/jena-sparql-api-utils-3.7.0-3.jar\n",
      "-> New file at /tmp/toree-tmp-dir8172174803993100516/toree_add_deps/https/repo1.maven.org/maven2/org/apache/directory/api/api-util/1.0.0-M20/api-util-1.0.0-M20.jar\n",
      "-> New file at /tmp/toree-tmp-dir8172174803993100516/toree_add_deps/https/repo1.maven.org/maven2/org/aksw/sparqlify/obda-api-r2rml/0.8.5/obda-api-r2rml-0.8.5.jar\n",
      "-> New file at /tmp/toree-tmp-dir8172174803993100516/toree_add_deps/https/repo1.maven.org/maven2/org/apache/jena/jena-iri/3.7.0/jena-iri-3.7.0.jar\n",
      "-> New file at /tmp/toree-tmp-dir8172174803993100516/toree_add_deps/https/repo1.maven.org/maven2/xerces/xercesImpl/2.11.0/xercesImpl-2.11.0.jar\n",
      "-> New file at /tmp/toree-tmp-dir8172174803993100516/toree_add_deps/https/repo1.maven.org/maven2/de/javakaffee/kryo-serializers/0.41/kryo-serializers-0.41.jar\n",
      "-> New file at /tmp/toree-tmp-dir8172174803993100516/toree_add_deps/https/repo1.maven.org/maven2/org/apache/curator/curator-recipes/2.7.1/curator-recipes-2.7.1.jar\n",
      "-> New file at /tmp/toree-tmp-dir8172174803993100516/toree_add_deps/https/repo1.maven.org/maven2/javax/activation/activation/1.1/activation-1.1.jar\n",
      "-> New file at /tmp/toree-tmp-dir8172174803993100516/toree_add_deps/https/repo1.maven.org/maven2/org/apache/hadoop/hadoop-common/2.8.3/hadoop-common-2.8.3.jar\n",
      "-> New file at /tmp/toree-tmp-dir8172174803993100516/toree_add_deps/https/repo1.maven.org/maven2/commons-configuration/commons-configuration/1.6/commons-configuration-1.6.jar\n",
      "-> New file at /tmp/toree-tmp-dir8172174803993100516/toree_add_deps/https/repo1.maven.org/maven2/org/apache/ivy/ivy/2.4.0/ivy-2.4.0.jar\n",
      "-> New file at /tmp/toree-tmp-dir8172174803993100516/toree_add_deps/https/repo1.maven.org/maven2/org/spark-project/spark/unused/1.0.0/unused-1.0.0.jar\n",
      "-> New file at /tmp/toree-tmp-dir8172174803993100516/toree_add_deps/https/repo1.maven.org/maven2/net/sf/opencsv/opencsv/2.3/opencsv-2.3.jar\n",
      "-> New file at /tmp/toree-tmp-dir8172174803993100516/toree_add_deps/https/repo1.maven.org/maven2/org/apache/kafka/kafka-clients/0.10.0.1/kafka-clients-0.10.0.1.jar\n",
      "-> New file at /tmp/toree-tmp-dir8172174803993100516/toree_add_deps/https/repo1.maven.org/maven2/org/springframework/spring-beans/4.3.14.RELEASE/spring-beans-4.3.14.RELEASE.jar\n",
      "-> New file at /tmp/toree-tmp-dir8172174803993100516/toree_add_deps/https/repo1.maven.org/maven2/com/jayway/jsonpath/json-path/2.4.0/json-path-2.4.0.jar\n",
      "-> New file at /tmp/toree-tmp-dir8172174803993100516/toree_add_deps/https/repo1.maven.org/maven2/org/apache/curator/curator-client/2.7.1/curator-client-2.7.1.jar\n",
      "-> New file at /tmp/toree-tmp-dir8172174803993100516/toree_add_deps/https/repo1.maven.org/maven2/org/aksw/commons/jena-jgrapht-bindings/1.2.0/jena-jgrapht-bindings-1.2.0.jar\n",
      "-> New file at /tmp/toree-tmp-dir8172174803993100516/toree_add_deps/https/repo1.maven.org/maven2/org/codehaus/jettison/jettison/1.1/jettison-1.1.jar\n",
      "-> New file at /tmp/toree-tmp-dir8172174803993100516/toree_add_deps/https/repo1.maven.org/maven2/org/apache/curator/curator-framework/2.7.1/curator-framework-2.7.1.jar\n",
      "-> New file at /tmp/toree-tmp-dir8172174803993100516/toree_add_deps/https/repo1.maven.org/maven2/org/objenesis/objenesis/2.6/objenesis-2.6.jar\n",
      "-> New file at /tmp/toree-tmp-dir8172174803993100516/toree_add_deps/https/repo1.maven.org/maven2/com/sun/jersey/jersey-core/1.9/jersey-core-1.9.jar\n",
      "-> New file at /tmp/toree-tmp-dir8172174803993100516/toree_add_deps/https/repo1.maven.org/maven2/org/apache/calcite/calcite-avatica/1.2.0-incubating/calcite-avatica-1.2.0-incubating.jar\n",
      "-> New file at /tmp/toree-tmp-dir8172174803993100516/toree_add_deps/https/repo1.maven.org/maven2/org/apache/calcite/calcite-linq4j/1.2.0-incubating/calcite-linq4j-1.2.0-incubating.jar\n",
      "-> New file at /tmp/toree-tmp-dir8172174803993100516/toree_add_deps/https/repo1.maven.org/maven2/org/codehaus/jackson/jackson-xc/1.9.13/jackson-xc-1.9.13.jar\n",
      "-> New file at /tmp/toree-tmp-dir8172174803993100516/toree_add_deps/https/repo1.maven.org/maven2/org/reactivestreams/reactive-streams/1.0.2/reactive-streams-1.0.2.jar\n",
      "-> New file at /tmp/toree-tmp-dir8172174803993100516/toree_add_deps/https/repo1.maven.org/maven2/javax/jdo/jdo-api/3.0.1/jdo-api-3.0.1.jar\n",
      "-> New file at /tmp/toree-tmp-dir8172174803993100516/toree_add_deps/https/repo1.maven.org/maven2/org/apache/hadoop/hadoop-annotations/2.8.3/hadoop-annotations-2.8.3.jar\n",
      "-> New file at /tmp/toree-tmp-dir8172174803993100516/toree_add_deps/https/repo1.maven.org/maven2/org/springframework/spring-expression/4.3.14.RELEASE/spring-expression-4.3.14.RELEASE.jar\n",
      "-> New file at /tmp/toree-tmp-dir8172174803993100516/toree_add_deps/https/repo1.maven.org/maven2/org/codehaus/jackson/jackson-core-asl/1.9.13/jackson-core-asl-1.9.13.jar\n",
      "-> New file at /tmp/toree-tmp-dir8172174803993100516/toree_add_deps/https/repo1.maven.org/maven2/org/xerial/snappy/snappy-java/1.1.2.6/snappy-java-1.1.2.6.jar\n",
      "-> New file at /tmp/toree-tmp-dir8172174803993100516/toree_add_deps/https/repo1.maven.org/maven2/org/springframework/spring-aop/4.3.14.RELEASE/spring-aop-4.3.14.RELEASE.jar\n",
      "-> New file at /tmp/toree-tmp-dir8172174803993100516/toree_add_deps/https/repo1.maven.org/maven2/commons-httpclient/commons-httpclient/3.1/commons-httpclient-3.1.jar\n",
      "-> New file at /tmp/toree-tmp-dir8172174803993100516/toree_add_deps/https/repo1.maven.org/maven2/net/hydromatic/eigenbase-properties/1.1.5/eigenbase-properties-1.1.5.jar\n",
      "-> New file at /tmp/toree-tmp-dir8172174803993100516/toree_add_deps/https/repo1.maven.org/maven2/org/apache/avro/avro/1.7.7/avro-1.7.7.jar\n",
      "-> New file at /tmp/toree-tmp-dir8172174803993100516/toree_add_deps/https/repo1.maven.org/maven2/com/esotericsoftware/reflectasm/1.11.3/reflectasm-1.11.3.jar\n",
      "-> New file at /tmp/toree-tmp-dir8172174803993100516/toree_add_deps/https/repo1.maven.org/maven2/org/apache/avro/avro-ipc/1.7.7/avro-ipc-1.7.7.jar\n",
      "-> New file at /tmp/toree-tmp-dir8172174803993100516/toree_add_deps/https/repo1.maven.org/maven2/javax/servlet/jsp/jsp-api/2.1/jsp-api-2.1.jar\n",
      "-> New file at /tmp/toree-tmp-dir8172174803993100516/toree_add_deps/https/repo1.maven.org/maven2/com/google/inject/extensions/guice-servlet/3.0/guice-servlet-3.0.jar\n",
      "-> New file at /tmp/toree-tmp-dir8172174803993100516/toree_add_deps/https/repo1.maven.org/maven2/org/apache/commons/commons-math3/3.1.1/commons-math3-3.1.1.jar\n",
      "-> New file at /tmp/toree-tmp-dir8172174803993100516/toree_add_deps/https/repo1.maven.org/maven2/com/jcraft/jsch/0.1.54/jsch-0.1.54.jar\n",
      "-> New file at /tmp/toree-tmp-dir8172174803993100516/toree_add_deps/https/repo1.maven.org/maven2/net/sansa-stack/sansa-rdf-common_2.11/0.4.0/sansa-rdf-common_2.11-0.4.0.jar\n",
      "-> New file at /tmp/toree-tmp-dir8172174803993100516/toree_add_deps/https/repo1.maven.org/maven2/org/antlr/ST4/4.0.8/ST4-4.0.8.jar\n",
      "-> New file at /tmp/toree-tmp-dir8172174803993100516/toree_add_deps/https/repo1.maven.org/maven2/commons-lang/commons-lang/2.6/commons-lang-2.6.jar\n",
      "-> New file at /tmp/toree-tmp-dir8172174803993100516/toree_add_deps/https/repo1.maven.org/maven2/org/springframework/spring-context/4.3.14.RELEASE/spring-context-4.3.14.RELEASE.jar\n",
      "-> New file at /tmp/toree-tmp-dir8172174803993100516/toree_add_deps/https/repo1.maven.org/maven2/com/google/code/findbugs/jsr305/3.0.0/jsr305-3.0.0.jar\n",
      "-> New file at /tmp/toree-tmp-dir8172174803993100516/toree_add_deps/https/repo1.maven.org/maven2/org/aksw/commons/aksw-commons-util/0.8.9/aksw-commons-util-0.8.9.jar\n",
      "-> New file at /tmp/toree-tmp-dir8172174803993100516/toree_add_deps/https/repo1.maven.org/maven2/commons-digester/commons-digester/1.8.1/commons-digester-1.8.1.jar\n",
      "-> New file at /tmp/toree-tmp-dir8172174803993100516/toree_add_deps/https/repo1.maven.org/maven2/commons-collections/commons-collections/20040616/commons-collections-20040616.jar\n",
      "-> New file at /tmp/toree-tmp-dir8172174803993100516/toree_add_deps/https/repo1.maven.org/maven2/org/apache/jena/jena-cmds/3.7.0/jena-cmds-3.7.0.jar\n",
      "-> New file at /tmp/toree-tmp-dir8172174803993100516/toree_add_deps/https/repo1.maven.org/maven2/commons-logging/commons-logging/1.2/commons-logging-1.2.jar\n",
      "-> New file at /tmp/toree-tmp-dir8172174803993100516/toree_add_deps/https/repo1.maven.org/maven2/org/aksw/jena-sparql-api/jena-sparql-api-vocabs/3.7.0-3/jena-sparql-api-vocabs-3.7.0-3.jar\n",
      "-> New file at /tmp/toree-tmp-dir8172174803993100516/toree_add_deps/https/repo1.maven.org/maven2/jline/jline/0.9.94/jline-0.9.94.jar\n",
      "-> New file at /tmp/toree-tmp-dir8172174803993100516/toree_add_deps/https/repo1.maven.org/maven2/com/jolbox/bonecp/0.8.0.RELEASE/bonecp-0.8.0.RELEASE.jar\n",
      "-> New file at /tmp/toree-tmp-dir8172174803993100516/toree_add_deps/https/repo1.maven.org/maven2/com/nimbusds/nimbus-jose-jwt/3.9/nimbus-jose-jwt-3.9.jar\n",
      "-> New file at /tmp/toree-tmp-dir8172174803993100516/toree_add_deps/https/repo1.maven.org/maven2/commons-validator/commons-validator/1.6/commons-validator-1.6.jar\n",
      "-> New file at /tmp/toree-tmp-dir8172174803993100516/toree_add_deps/https/repo1.maven.org/maven2/net/minidev/json-smart/2.3/json-smart-2.3.jar\n",
      "-> New file at /tmp/toree-tmp-dir8172174803993100516/toree_add_deps/https/repo1.maven.org/maven2/org/aksw/jena-sparql-api/jena-sparql-api-resources-test-config/3.7.0-3/jena-sparql-api-resources-test-config-3.7.0-3.jar\n",
      "-> New file at /tmp/toree-tmp-dir8172174803993100516/toree_add_deps/https/repo1.maven.org/maven2/org/aksw/sparqlify/sparqlify-type-system/0.8.5/sparqlify-type-system-0.8.5.jar\n",
      "-> New file at /tmp/toree-tmp-dir8172174803993100516/toree_add_deps/https/repo1.maven.org/maven2/com/zaxxer/HikariCP/2.7.6/HikariCP-2.7.6.pom\n",
      "-> New file at /tmp/toree-tmp-dir8172174803993100516/toree_add_deps/https/repo1.maven.org/maven2/net/java/dev/jets3t/jets3t/0.9.0/jets3t-0.9.0.pom\n",
      "-> New file at /tmp/toree-tmp-dir8172174803993100516/toree_add_deps/https/repo1.maven.org/maven2/org/apache/thrift/libthrift/0.10.0/libthrift-0.10.0.pom\n",
      "-> New file at /tmp/toree-tmp-dir8172174803993100516/toree_add_deps/https/repo1.maven.org/maven2/org/apache/thrift/libfb303/0.9.3/libfb303-0.9.3.pom\n",
      "-> New file at /tmp/toree-tmp-dir8172174803993100516/toree_add_deps/https/repo1.maven.org/maven2/org/slf4j/slf4j-log4j12/1.7.25/slf4j-log4j12-1.7.25.pom\n",
      "-> New file at /tmp/toree-tmp-dir8172174803993100516/toree_add_deps/https/repo1.maven.org/maven2/junit/junit/4.12/junit-4.12.pom\n",
      "-> New file at /tmp/toree-tmp-dir8172174803993100516/toree_add_deps/https/repo1.maven.org/maven2/org/apache/hadoop/hadoop-yarn-common/2.8.3/hadoop-yarn-common-2.8.3.pom\n",
      "-> New file at /tmp/toree-tmp-dir8172174803993100516/toree_add_deps/https/repo1.maven.org/maven2/org/slf4j/slf4j-ext/1.7.21/slf4j-ext-1.7.21.pom\n",
      "-> New file at /tmp/toree-tmp-dir8172174803993100516/toree_add_deps/https/repo1.maven.org/maven2/jrexx/jrexx/1.1.1/jrexx-1.1.1.pom\n",
      "-> New file at /tmp/toree-tmp-dir8172174803993100516/toree_add_deps/https/repo1.maven.org/maven2/commons-beanutils/commons-beanutils-core/1.8.0/commons-beanutils-core-1.8.0.pom\n",
      "-> New file at /tmp/toree-tmp-dir8172174803993100516/toree_add_deps/https/repo1.maven.org/maven2/xmlenc/xmlenc/0.52/xmlenc-0.52.pom\n",
      "-> New file at /tmp/toree-tmp-dir8172174803993100516/toree_add_deps/https/repo1.maven.org/maven2/commons-codec/commons-codec/1.11/commons-codec-1.11.pom\n",
      "-> New file at /tmp/toree-tmp-dir8172174803993100516/toree_add_deps/https/repo1.maven.org/maven2/log4j/log4j/1.2.17/log4j-1.2.17.pom\n",
      "-> New file at /tmp/toree-tmp-dir8172174803993100516/toree_add_deps/https/repo1.maven.org/maven2/it/unimi/dsi/fastutil/8.1.0/fastutil-8.1.0.pom\n",
      "-> New file at /tmp/toree-tmp-dir8172174803993100516/toree_add_deps/https/repo1.maven.org/maven2/org/apache/jena/jena-base/3.7.0/jena-base-3.7.0.pom\n",
      "-> New file at /tmp/toree-tmp-dir8172174803993100516/toree_add_deps/https/repo1.maven.org/maven2/org/apache/jena/jena-dboe-index/3.7.0/jena-dboe-index-3.7.0.pom\n",
      "-> New file at /tmp/toree-tmp-dir8172174803993100516/toree_add_deps/https/repo1.maven.org/maven2/org/mortbay/jetty/servlet-api/2.5-20081211/servlet-api-2.5-20081211.pom\n",
      "-> New file at /tmp/toree-tmp-dir8172174803993100516/toree_add_deps/https/repo1.maven.org/maven2/com/google/code/gson/gson/2.8.2/gson-2.8.2.pom\n",
      "-> New file at /tmp/toree-tmp-dir8172174803993100516/toree_add_deps/https/repo1.maven.org/maven2/com/typesafe/scala-logging/scala-logging_2.11/3.5.0/scala-logging_2.11-3.5.0.pom\n",
      "-> New file at /tmp/toree-tmp-dir8172174803993100516/toree_add_deps/https/repo1.maven.org/maven2/org/apache/commons/commons-csv/1.5/commons-csv-1.5.pom\n",
      "-> New file at /tmp/toree-tmp-dir8172174803993100516/toree_add_deps/https/repo1.maven.org/maven2/org/aksw/sparqlify/obda-api-core/0.8.5/obda-api-core-0.8.5.pom\n",
      "-> New file at /tmp/toree-tmp-dir8172174803993100516/toree_add_deps/https/repo1.maven.org/maven2/javax/inject/javax.inject/1/javax.inject-1.pom\n",
      "-> New file at /tmp/toree-tmp-dir8172174803993100516/toree_add_deps/https/repo1.maven.org/maven2/org/apache/spark/spark-hive_2.11/2.3.1/spark-hive_2.11-2.3.1.pom\n",
      "-> New file at /tmp/toree-tmp-dir8172174803993100516/toree_add_deps/https/repo1.maven.org/maven2/com/github/jsonld-java/jsonld-java/0.11.1/jsonld-java-0.11.1.pom\n",
      "-> New file at /tmp/toree-tmp-dir8172174803993100516/toree_add_deps/https/repo1.maven.org/maven2/org/apache/zookeeper/zookeeper/3.4.6/zookeeper-3.4.6.pom\n",
      "-> New file at /tmp/toree-tmp-dir8172174803993100516/toree_add_deps/https/repo1.maven.org/maven2/org/apache/jena/jena-sdb/3.7.0/jena-sdb-3.7.0.pom\n",
      "-> New file at /tmp/toree-tmp-dir8172174803993100516/toree_add_deps/https/repo1.maven.org/maven2/org/apache/jena/apache-jena-libs/3.7.0/apache-jena-libs-3.7.0.pom\n",
      "-> New file at /tmp/toree-tmp-dir8172174803993100516/toree_add_deps/https/repo1.maven.org/maven2/org/apache/httpcomponents/httpclient-cache/4.5.3/httpclient-cache-4.5.3.pom\n",
      "-> New file at /tmp/toree-tmp-dir8172174803993100516/toree_add_deps/https/repo1.maven.org/maven2/commons-net/commons-net/3.1/commons-net-3.1.pom\n",
      "-> New file at /tmp/toree-tmp-dir8172174803993100516/toree_add_deps/https/repo1.maven.org/maven2/org/apache/commons/commons-text/1.2/commons-text-1.2.pom\n",
      "-> New file at /tmp/toree-tmp-dir8172174803993100516/toree_add_deps/https/repo1.maven.org/maven2/com/googlecode/javaewah/JavaEWAH/0.3.2/JavaEWAH-0.3.2.pom\n",
      "-> New file at /tmp/toree-tmp-dir8172174803993100516/toree_add_deps/https/repo1.maven.org/maven2/commons-pool/commons-pool/1.5.4/commons-pool-1.5.4.pom\n",
      "-> New file at /tmp/toree-tmp-dir8172174803993100516/toree_add_deps/https/repo1.maven.org/maven2/org/apache/jena/jena-dboe-trans-data/3.7.0/jena-dboe-trans-data-3.7.0.pom\n",
      "-> New file at /tmp/toree-tmp-dir8172174803993100516/toree_add_deps/https/repo1.maven.org/maven2/org/postgresql/postgresql/42.2.2.jre7/postgresql-42.2.2.jre7.pom\n",
      "-> New file at /tmp/toree-tmp-dir8172174803993100516/toree_add_deps/https/repo1.maven.org/maven2/stax/stax-api/1.0.1/stax-api-1.0.1.pom\n",
      "-> New file at /tmp/toree-tmp-dir8172174803993100516/toree_add_deps/https/repo1.maven.org/maven2/org/apache/commons/commons-lang3/3.7/commons-lang3-3.7.pom\n",
      "-> New file at /tmp/toree-tmp-dir8172174803993100516/toree_add_deps/https/repo1.maven.org/maven2/org/aksw/commons/subgraph-isomorphism-index-jena/1.2.0/subgraph-isomorphism-index-jena-1.2.0.pom\n",
      "-> New file at /tmp/toree-tmp-dir8172174803993100516/toree_add_deps/https/repo1.maven.org/maven2/io/netty/netty/3.7.0.Final/netty-3.7.0.Final.pom\n",
      "-> New file at /tmp/toree-tmp-dir8172174803993100516/toree_add_deps/https/repo1.maven.org/maven2/commons-beanutils/commons-beanutils/1.9.2/commons-beanutils-1.9.2.pom\n",
      "-> New file at /tmp/toree-tmp-dir8172174803993100516/toree_add_deps/https/repo1.maven.org/maven2/org/codehaus/plexus/plexus-utils/3.1.0/plexus-utils-3.1.0.pom\n",
      "-> New file at /tmp/toree-tmp-dir8172174803993100516/toree_add_deps/https/repo1.maven.org/maven2/org/apache/jena/jena-rdfconnection/3.7.0/jena-rdfconnection-3.7.0.pom\n",
      "-> New file at /tmp/toree-tmp-dir8172174803993100516/toree_add_deps/https/repo1.maven.org/maven2/com/sun/jersey/jersey-server/1.9/jersey-server-1.9.pom\n",
      "-> New file at /tmp/toree-tmp-dir8172174803993100516/toree_add_deps/https/repo1.maven.org/maven2/org/aksw/commons/aksw-commons-collections/0.8.9/aksw-commons-collections-0.8.9.pom\n",
      "-> New file at /tmp/toree-tmp-dir8172174803993100516/toree_add_deps/https/repo1.maven.org/maven2/org/apache/jena/jena-shaded-guava/3.7.0/jena-shaded-guava-3.7.0.pom\n",
      "-> New file at /tmp/toree-tmp-dir8172174803993100516/toree_add_deps/https/repo1.maven.org/maven2/org/antlr/antlr-runtime/3.5.2/antlr-runtime-3.5.2.pom\n",
      "-> New file at /tmp/toree-tmp-dir8172174803993100516/toree_add_deps/https/repo1.maven.org/maven2/com/thoughtworks/xstream/xstream/1.3.1/xstream-1.3.1.pom\n",
      "-> New file at /tmp/toree-tmp-dir8172174803993100516/toree_add_deps/https/repo1.maven.org/maven2/org/codehaus/jackson/jackson-mapper-asl/1.9.13/jackson-mapper-asl-1.9.13.pom\n",
      "-> New file at /tmp/toree-tmp-dir8172174803993100516/toree_add_deps/https/repo1.maven.org/maven2/org/apache/spark/spark-streaming-kafka-0-10_2.11/2.3.1/spark-streaming-kafka-0-10_2.11-2.3.1.pom\n",
      "-> New file at /tmp/toree-tmp-dir8172174803993100516/toree_add_deps/https/repo1.maven.org/maven2/com/thoughtworks/paranamer/paranamer/2.3/paranamer-2.3.pom\n",
      "-> New file at /tmp/toree-tmp-dir8172174803993100516/toree_add_deps/https/repo1.maven.org/maven2/org/apache/httpcomponents/httpclient/4.5.4/httpclient-4.5.4.pom\n",
      "-> New file at /tmp/toree-tmp-dir8172174803993100516/toree_add_deps/https/repo1.maven.org/maven2/org/apache/directory/server/apacheds-kerberos-codec/2.0.0-M15/apacheds-kerberos-codec-2.0.0-M15.pom\n",
      "-> New file at /tmp/toree-tmp-dir8172174803993100516/toree_add_deps/https/repo1.maven.org/maven2/org/apache/jena/jena-dboe-base/3.7.0/jena-dboe-base-3.7.0.pom\n",
      "-> New file at /tmp/toree-tmp-dir8172174803993100516/toree_add_deps/https/repo1.maven.org/maven2/org/mortbay/jetty/jetty-util/6.1.26/jetty-util-6.1.26.pom\n",
      "-> New file at /tmp/toree-tmp-dir8172174803993100516/toree_add_deps/https/repo1.maven.org/maven2/org/apache/jena/jena-tdb/3.7.0/jena-tdb-3.7.0.pom\n",
      "-> New file at /tmp/toree-tmp-dir8172174803993100516/toree_add_deps/https/repo1.maven.org/maven2/com/h2database/h2/1.4.196/h2-1.4.196.pom\n",
      "-> New file at /tmp/toree-tmp-dir8172174803993100516/toree_add_deps/https/repo1.maven.org/maven2/com/sun/jersey/jersey-json/1.9/jersey-json-1.9.pom\n",
      "-> New file at /tmp/toree-tmp-dir8172174803993100516/toree_add_deps/https/repo1.maven.org/maven2/org/aksw/commons/subgraph-isomorphism-index-core/1.2.0/subgraph-isomorphism-index-core-1.2.0.pom\n",
      "-> New file at /tmp/toree-tmp-dir8172174803993100516/toree_add_deps/https/repo1.maven.org/maven2/com/google/protobuf/protobuf-java/2.5.0/protobuf-java-2.5.0.pom\n",
      "-> New file at /tmp/toree-tmp-dir8172174803993100516/toree_add_deps/https/repo1.maven.org/maven2/net/jcip/jcip-annotations/1.0/jcip-annotations-1.0.pom\n",
      "-> New file at /tmp/toree-tmp-dir8172174803993100516/toree_add_deps/https/repo1.maven.org/maven2/com/google/inject/guice/3.0/guice-3.0.pom\n",
      "-> New file at /tmp/toree-tmp-dir8172174803993100516/toree_add_deps/https/repo1.maven.org/maven2/org/aksw/sparqlify/obda-api-sml/0.8.5/obda-api-sml-0.8.5.pom\n",
      "-> New file at /tmp/toree-tmp-dir8172174803993100516/toree_add_deps/https/repo1.maven.org/maven2/org/apache/directory/api/api-asn1-api/1.0.0-M20/api-asn1-api-1.0.0-M20.pom\n",
      "-> New file at /tmp/toree-tmp-dir8172174803993100516/toree_add_deps/https/repo1.maven.org/maven2/com/jamesmurty/utils/java-xmlbuilder/0.4/java-xmlbuilder-0.4.pom\n",
      "-> New file at /tmp/toree-tmp-dir8172174803993100516/toree_add_deps/https/repo1.maven.org/maven2/commons-cli/commons-cli/20040117.000000/commons-cli-20040117.000000.pom\n",
      "-> New file at /tmp/toree-tmp-dir8172174803993100516/toree_add_deps/https/repo1.maven.org/maven2/com/twitter/parquet-hadoop-bundle/1.6.0/parquet-hadoop-bundle-1.6.0.pom\n",
      "-> New file at /tmp/toree-tmp-dir8172174803993100516/toree_add_deps/https/repo1.maven.org/maven2/org/aksw/jena-sparql-api/jena-sparql-api-sparql-ext/3.7.0-3/jena-sparql-api-sparql-ext-3.7.0-3.pom\n",
      "-> New file at /tmp/toree-tmp-dir8172174803993100516/toree_add_deps/https/repo1.maven.org/maven2/org/apache/hadoop/hadoop-yarn-api/2.8.3/hadoop-yarn-api-2.8.3.pom\n",
      "-> New file at /tmp/toree-tmp-dir8172174803993100516/toree_add_deps/https/repo1.maven.org/maven2/org/apache/directory/server/apacheds-i18n/2.0.0-M15/apacheds-i18n-2.0.0-M15.pom\n",
      "-> New file at /tmp/toree-tmp-dir8172174803993100516/toree_add_deps/https/repo1.maven.org/maven2/org/aksw/jena-sparql-api/jena-sparql-api-core/3.7.0-3/jena-sparql-api-core-3.7.0-3.pom\n",
      "-> New file at /tmp/toree-tmp-dir8172174803993100516/toree_add_deps/https/repo1.maven.org/maven2/xml-apis/xml-apis/1.4.01/xml-apis-1.4.01.pom\n",
      "-> New file at /tmp/toree-tmp-dir8172174803993100516/toree_add_deps/https/repo1.maven.org/maven2/com/codepoetics/protonpack/1.11/protonpack-1.11.pom\n",
      "-> New file at /tmp/toree-tmp-dir8172174803993100516/toree_add_deps/https/repo1.maven.org/maven2/org/apache/spark/spark-tags_2.11/2.3.1/spark-tags_2.11-2.3.1.pom\n",
      "-> New file at /tmp/toree-tmp-dir8172174803993100516/toree_add_deps/https/repo1.maven.org/maven2/org/mortbay/jetty/jetty-sslengine/6.1.26/jetty-sslengine-6.1.26.pom\n",
      "-> New file at /tmp/toree-tmp-dir8172174803993100516/toree_add_deps/https/repo1.maven.org/maven2/net/postgis/postgis-jdbc/2.2.1/postgis-jdbc-2.2.1.pom\n",
      "-> New file at /tmp/toree-tmp-dir8172174803993100516/toree_add_deps/https/repo1.maven.org/maven2/org/mortbay/jetty/jetty/6.1.26/jetty-6.1.26.pom\n",
      "-> New file at /tmp/toree-tmp-dir8172174803993100516/toree_add_deps/https/repo1.maven.org/maven2/org/aksw/jena-sparql-api/jena-sparql-api-algebra/3.7.0-3/jena-sparql-api-algebra-3.7.0-3.pom\n",
      "-> New file at /tmp/toree-tmp-dir8172174803993100516/toree_add_deps/https/repo1.maven.org/maven2/javax/servlet/servlet-api/2.5/servlet-api-2.5.pom\n",
      "-> New file at /tmp/toree-tmp-dir8172174803993100516/toree_add_deps/https/repo1.maven.org/maven2/org/hamcrest/hamcrest-core/1.3/hamcrest-core-1.3.pom\n",
      "-> New file at /tmp/toree-tmp-dir8172174803993100516/toree_add_deps/https/repo1.maven.org/maven2/net/minidev/accessors-smart/1.2/accessors-smart-1.2.pom\n",
      "-> New file at /tmp/toree-tmp-dir8172174803993100516/toree_add_deps/https/repo1.maven.org/maven2/net/sourceforge/jexcelapi/jxl/2.6.12/jxl-2.6.12.pom\n",
      "-> New file at /tmp/toree-tmp-dir8172174803993100516/toree_add_deps/https/repo1.maven.org/maven2/org/codehaus/jackson/jackson-jaxrs/1.9.13/jackson-jaxrs-1.9.13.pom\n",
      "-> New file at /tmp/toree-tmp-dir8172174803993100516/toree_add_deps/https/repo1.maven.org/maven2/log4j/apache-log4j-extras/1.2.17/apache-log4j-extras-1.2.17.pom\n",
      "-> New file at /tmp/toree-tmp-dir8172174803993100516/toree_add_deps/https/repo1.maven.org/maven2/org/jodd/jodd-core/3.5.2/jodd-core-3.5.2.pom\n",
      "-> New file at /tmp/toree-tmp-dir8172174803993100516/toree_add_deps/https/repo1.maven.org/maven2/com/nurkiewicz/asyncretry/asyncretry-jdk7/0.0.6/asyncretry-jdk7-0.0.6.pom\n",
      "-> New file at /tmp/toree-tmp-dir8172174803993100516/toree_add_deps/https/repo1.maven.org/maven2/org/apache/htrace/htrace-core4/4.0.1-incubating/htrace-core4-4.0.1-incubating.pom\n",
      "-> New file at /tmp/toree-tmp-dir8172174803993100516/toree_add_deps/https/repo1.maven.org/maven2/javax/transaction/jta/1.1/jta-1.1.pom\n",
      "-> New file at /tmp/toree-tmp-dir8172174803993100516/toree_add_deps/https/repo1.maven.org/maven2/javax/xml/stream/stax-api/1.0-2/stax-api-1.0-2.pom\n",
      "-> New file at /tmp/toree-tmp-dir8172174803993100516/toree_add_deps/https/repo1.maven.org/maven2/io/reactivex/rxjava2/rxjava/2.1.14/rxjava-2.1.14.pom\n",
      "-> New file at /tmp/toree-tmp-dir8172174803993100516/toree_add_deps/https/repo1.maven.org/maven2/com/sun/jersey/contribs/jersey-guice/1.9/jersey-guice-1.9.pom\n",
      "-> New file at /tmp/toree-tmp-dir8172174803993100516/toree_add_deps/https/repo1.maven.org/maven2/org/apache/hadoop/hadoop-auth/2.8.3/hadoop-auth-2.8.3.pom\n",
      "-> New file at /tmp/toree-tmp-dir8172174803993100516/toree_add_deps/https/repo1.maven.org/maven2/org/springframework/spring-tx/4.3.14.RELEASE/spring-tx-4.3.14.RELEASE.pom\n",
      "-> New file at /tmp/toree-tmp-dir8172174803993100516/toree_add_deps/https/repo1.maven.org/maven2/org/ow2/asm/asm/5.0.4/asm-5.0.4.pom\n",
      "-> New file at /tmp/toree-tmp-dir8172174803993100516/toree_add_deps/https/repo1.maven.org/maven2/com/sun/xml/bind/jaxb-impl/2.2.3-1/jaxb-impl-2.2.3-1.pom\n",
      "-> New file at /tmp/toree-tmp-dir8172174803993100516/toree_add_deps/https/repo1.maven.org/maven2/org/jgrapht/jgrapht-core/1.2.0/jgrapht-core-1.2.0.pom\n",
      "-> New file at /tmp/toree-tmp-dir8172174803993100516/toree_add_deps/https/repo1.maven.org/maven2/com/esotericsoftware/kryo/4.0.0/kryo-4.0.0.pom\n",
      "-> New file at /tmp/toree-tmp-dir8172174803993100516/toree_add_deps/https/repo1.maven.org/maven2/org/datanucleus/datanucleus-api-jdo/3.2.6/datanucleus-api-jdo-3.2.6.pom\n",
      "-> New file at /tmp/toree-tmp-dir8172174803993100516/toree_add_deps/https/repo1.maven.org/maven2/javax/xml/bind/jaxb-api/2.2.2/jaxb-api-2.2.2.pom\n",
      "-> New file at /tmp/toree-tmp-dir8172174803993100516/toree_add_deps/https/repo1.maven.org/maven2/com/sun/jersey/jersey-client/1.9/jersey-client-1.9.pom\n",
      "-> New file at /tmp/toree-tmp-dir8172174803993100516/toree_add_deps/https/repo1.maven.org/maven2/org/apache/httpcomponents/httpcore/4.4.7/httpcore-4.4.7.pom\n",
      "-> New file at /tmp/toree-tmp-dir8172174803993100516/toree_add_deps/https/repo1.maven.org/maven2/xpp3/xpp3_min/1.1.4c/xpp3_min-1.1.4c.pom\n",
      "-> New file at /tmp/toree-tmp-dir8172174803993100516/toree_add_deps/https/repo1.maven.org/maven2/aopalliance/aopalliance/1.0/aopalliance-1.0.pom\n",
      "-> New file at /tmp/toree-tmp-dir8172174803993100516/toree_add_deps/https/repo1.maven.org/maven2/com/github/andrewoma/dexx/collection/0.7/collection-0.7.pom\n",
      "-> New file at /tmp/toree-tmp-dir8172174803993100516/toree_add_deps/https/repo1.maven.org/maven2/org/iq80/snappy/snappy/0.2/snappy-0.2.pom\n",
      "-> New file at /tmp/toree-tmp-dir8172174803993100516/toree_add_deps/https/repo1.maven.org/maven2/net/jpountz/lz4/lz4/1.3.0/lz4-1.3.0.pom\n",
      "-> New file at /tmp/toree-tmp-dir8172174803993100516/toree_add_deps/https/repo1.maven.org/maven2/com/fasterxml/jackson/core/jackson-core/2.9.0/jackson-core-2.9.0.pom\n",
      "-> New file at /tmp/toree-tmp-dir8172174803993100516/toree_add_deps/https/repo1.maven.org/maven2/commons-io/commons-io/2.6/commons-io-2.6.pom\n",
      "-> New file at /tmp/toree-tmp-dir8172174803993100516/toree_add_deps/https/repo1.maven.org/maven2/javax/validation/validation-api/2.0.1.Final/validation-api-2.0.1.Final.pom\n",
      "-> New file at /tmp/toree-tmp-dir8172174803993100516/toree_add_deps/https/repo1.maven.org/maven2/org/aksw/sparqlify/obda-api-bundle/0.8.5/obda-api-bundle-0.8.5.pom\n",
      "-> New file at /tmp/toree-tmp-dir8172174803993100516/toree_add_deps/https/repo1.maven.org/maven2/org/aksw/sparqlify/sparqlify-core/0.8.5/sparqlify-core-0.8.5.pom\n",
      "-> New file at /tmp/toree-tmp-dir8172174803993100516/toree_add_deps/https/repo1.maven.org/maven2/org/springframework/spring-jdbc/4.3.14.RELEASE/spring-jdbc-4.3.14.RELEASE.pom\n",
      "-> New file at /tmp/toree-tmp-dir8172174803993100516/toree_add_deps/https/repo1.maven.org/maven2/asm/asm/3.1/asm-3.1.pom\n",
      "-> New file at /tmp/toree-tmp-dir8172174803993100516/toree_add_deps/https/repo1.maven.org/maven2/ch/qos/cal10n/cal10n-api/0.8.1/cal10n-api-0.8.1.pom\n",
      "-> New file at /tmp/toree-tmp-dir8172174803993100516/toree_add_deps/https/repo1.maven.org/maven2/net/sourceforge/collections/collections-generic/4.01/collections-generic-4.01.pom\n",
      "-> New file at /tmp/toree-tmp-dir8172174803993100516/toree_add_deps/https/repo1.maven.org/maven2/org/datanucleus/datanucleus-rdbms/3.2.9/datanucleus-rdbms-3.2.9.pom\n",
      "-> New file at /tmp/toree-tmp-dir8172174803993100516/toree_add_deps/https/repo1.maven.org/maven2/net/sansa-stack/sansa-rdf-spark_2.11/0.4.0/sansa-rdf-spark_2.11-0.4.0.pom\n",
      "-> New file at /tmp/toree-tmp-dir8172174803993100516/toree_add_deps/https/repo1.maven.org/maven2/javolution/javolution/5.5.1/javolution-5.5.1.pom\n",
      "-> New file at /tmp/toree-tmp-dir8172174803993100516/toree_add_deps/https/repo1.maven.org/maven2/org/apache/jena/jena-tdb2/3.7.0/jena-tdb2-3.7.0.pom\n",
      "-> New file at /tmp/toree-tmp-dir8172174803993100516/toree_add_deps/https/repo1.maven.org/maven2/org/aksw/commons/subgraph-isomorphism-index-jgrapht/1.2.0/subgraph-isomorphism-index-jgrapht-1.2.0.pom\n",
      "-> New file at /tmp/toree-tmp-dir8172174803993100516/toree_add_deps/https/repo1.maven.org/maven2/org/datanucleus/datanucleus-core/3.2.10/datanucleus-core-3.2.10.pom\n",
      "-> New file at /tmp/toree-tmp-dir8172174803993100516/toree_add_deps/https/repo1.maven.org/maven2/org/apache/commons/commons-compress/1.15/commons-compress-1.15.pom\n",
      "-> New file at /tmp/toree-tmp-dir8172174803993100516/toree_add_deps/https/repo1.maven.org/maven2/org/apache/jena/jena-dboe-transaction/3.7.0/jena-dboe-transaction-3.7.0.pom\n",
      "-> New file at /tmp/toree-tmp-dir8172174803993100516/toree_add_deps/https/repo1.maven.org/maven2/org/slf4j/jcl-over-slf4j/1.7.25/jcl-over-slf4j-1.7.25.pom\n",
      "-> New file at /tmp/toree-tmp-dir8172174803993100516/toree_add_deps/https/repo1.maven.org/maven2/org/apache/derby/derby/10.12.1.1/derby-10.12.1.1.pom\n",
      "-> New file at /tmp/toree-tmp-dir8172174803993100516/toree_add_deps/https/repo1.maven.org/maven2/com/esotericsoftware/minlog/1.3.0/minlog-1.3.0.pom\n",
      "-> New file at /tmp/toree-tmp-dir8172174803993100516/toree_add_deps/https/repo1.maven.org/maven2/org/apache/jena/jena-core/3.7.0/jena-core-3.7.0.pom\n",
      "-> New file at /tmp/toree-tmp-dir8172174803993100516/toree_add_deps/https/repo1.maven.org/maven2/joda-time/joda-time/2.9.3/joda-time-2.9.3.pom\n",
      "-> New file at /tmp/toree-tmp-dir8172174803993100516/toree_add_deps/https/repo1.maven.org/maven2/org/aksw/commons/tagmap-core/1.0.3/tagmap-core-1.0.3.pom\n",
      "-> New file at /tmp/toree-tmp-dir8172174803993100516/toree_add_deps/https/repo1.maven.org/maven2/org/aksw/jena-sparql-api/jena-sparql-api-views/3.7.0-3/jena-sparql-api-views-3.7.0-3.pom\n",
      "-> New file at /tmp/toree-tmp-dir8172174803993100516/toree_add_deps/https/repo1.maven.org/maven2/commons-dbcp/commons-dbcp/1.4/commons-dbcp-1.4.pom\n",
      "-> New file at /tmp/toree-tmp-dir8172174803993100516/toree_add_deps/https/repo1.maven.org/maven2/org/apache/directory/api/api-util/1.0.0-M20/api-util-1.0.0-M20.pom\n",
      "-> New file at /tmp/toree-tmp-dir8172174803993100516/toree_add_deps/https/repo1.maven.org/maven2/org/spark-project/hive/hive-exec/1.2.1.spark2/hive-exec-1.2.1.spark2.pom\n",
      "-> New file at /tmp/toree-tmp-dir8172174803993100516/toree_add_deps/https/repo1.maven.org/maven2/org/aksw/jena-sparql-api/jena-sparql-api-utils/3.7.0-3/jena-sparql-api-utils-3.7.0-3.pom\n",
      "-> New file at /tmp/toree-tmp-dir8172174803993100516/toree_add_deps/https/repo1.maven.org/maven2/org/aksw/sparqlify/obda-api-r2rml/0.8.5/obda-api-r2rml-0.8.5.pom\n",
      "-> New file at /tmp/toree-tmp-dir8172174803993100516/toree_add_deps/https/repo1.maven.org/maven2/org/apache/jena/jena-iri/3.7.0/jena-iri-3.7.0.pom\n",
      "-> New file at /tmp/toree-tmp-dir8172174803993100516/toree_add_deps/https/repo1.maven.org/maven2/de/javakaffee/kryo-serializers/0.41/kryo-serializers-0.41.pom\n",
      "-> New file at /tmp/toree-tmp-dir8172174803993100516/toree_add_deps/https/repo1.maven.org/maven2/org/apache/curator/curator-recipes/2.7.1/curator-recipes-2.7.1.pom\n",
      "-> New file at /tmp/toree-tmp-dir8172174803993100516/toree_add_deps/https/repo1.maven.org/maven2/org/spark-project/hive/hive-metastore/1.2.1.spark2/hive-metastore-1.2.1.spark2.pom\n",
      "-> New file at /tmp/toree-tmp-dir8172174803993100516/toree_add_deps/https/repo1.maven.org/maven2/javax/activation/activation/1.1/activation-1.1.pom\n",
      "-> New file at /tmp/toree-tmp-dir8172174803993100516/toree_add_deps/https/repo1.maven.org/maven2/commons-configuration/commons-configuration/1.6/commons-configuration-1.6.pom\n",
      "-> New file at /tmp/toree-tmp-dir8172174803993100516/toree_add_deps/https/repo1.maven.org/maven2/org/spark-project/spark/unused/1.0.0/unused-1.0.0.pom\n",
      "-> New file at /tmp/toree-tmp-dir8172174803993100516/toree_add_deps/https/repo1.maven.org/maven2/net/sf/opencsv/opencsv/2.3/opencsv-2.3.pom\n",
      "-> New file at /tmp/toree-tmp-dir8172174803993100516/toree_add_deps/https/repo1.maven.org/maven2/org/apache/curator/curator-client/2.7.1/curator-client-2.7.1.pom\n",
      "-> New file at /tmp/toree-tmp-dir8172174803993100516/toree_add_deps/https/repo1.maven.org/maven2/org/apache/hadoop/hadoop-mapreduce-client-core/2.8.3/hadoop-mapreduce-client-core-2.8.3.pom\n",
      "-> New file at /tmp/toree-tmp-dir8172174803993100516/toree_add_deps/https/repo1.maven.org/maven2/xerces/xercesImpl/2.11.0/xercesImpl-2.11.0.pom\n",
      "-> New file at /tmp/toree-tmp-dir8172174803993100516/toree_add_deps/https/repo1.maven.org/maven2/org/apache/kafka/kafka-clients/0.10.0.1/kafka-clients-0.10.0.1.pom\n",
      "-> New file at /tmp/toree-tmp-dir8172174803993100516/toree_add_deps/https/repo1.maven.org/maven2/org/aksw/commons/jena-jgrapht-bindings/1.2.0/jena-jgrapht-bindings-1.2.0.pom\n",
      "-> New file at /tmp/toree-tmp-dir8172174803993100516/toree_add_deps/https/repo1.maven.org/maven2/com/jayway/jsonpath/json-path/2.4.0/json-path-2.4.0.pom\n",
      "-> New file at /tmp/toree-tmp-dir8172174803993100516/toree_add_deps/https/repo1.maven.org/maven2/org/apache/ivy/ivy/2.4.0/ivy-2.4.0.pom\n",
      "-> New file at /tmp/toree-tmp-dir8172174803993100516/toree_add_deps/https/repo1.maven.org/maven2/org/codehaus/jettison/jettison/1.1/jettison-1.1.pom\n",
      "-> New file at /tmp/toree-tmp-dir8172174803993100516/toree_add_deps/https/repo1.maven.org/maven2/org/objenesis/objenesis/2.6/objenesis-2.6.pom\n",
      "-> New file at /tmp/toree-tmp-dir8172174803993100516/toree_add_deps/https/repo1.maven.org/maven2/org/apache/curator/curator-framework/2.7.1/curator-framework-2.7.1.pom\n",
      "-> New file at /tmp/toree-tmp-dir8172174803993100516/toree_add_deps/https/repo1.maven.org/maven2/org/apache/jena/jena-arq/3.7.0/jena-arq-3.7.0.pom\n",
      "-> New file at /tmp/toree-tmp-dir8172174803993100516/toree_add_deps/https/repo1.maven.org/maven2/org/apache/calcite/calcite-avatica/1.2.0-incubating/calcite-avatica-1.2.0-incubating.pom\n",
      "-> New file at /tmp/toree-tmp-dir8172174803993100516/toree_add_deps/https/repo1.maven.org/maven2/org/codehaus/jackson/jackson-xc/1.9.13/jackson-xc-1.9.13.pom\n",
      "-> New file at /tmp/toree-tmp-dir8172174803993100516/toree_add_deps/https/repo1.maven.org/maven2/org/reactivestreams/reactive-streams/1.0.2/reactive-streams-1.0.2.pom\n",
      "-> New file at /tmp/toree-tmp-dir8172174803993100516/toree_add_deps/https/repo1.maven.org/maven2/org/springframework/spring-beans/4.3.14.RELEASE/spring-beans-4.3.14.RELEASE.pom\n",
      "-> New file at /tmp/toree-tmp-dir8172174803993100516/toree_add_deps/https/repo1.maven.org/maven2/org/apache/hadoop/hadoop-annotations/2.8.3/hadoop-annotations-2.8.3.pom\n",
      "-> New file at /tmp/toree-tmp-dir8172174803993100516/toree_add_deps/https/repo1.maven.org/maven2/com/sun/jersey/jersey-core/1.9/jersey-core-1.9.pom\n",
      "-> New file at /tmp/toree-tmp-dir8172174803993100516/toree_add_deps/https/repo1.maven.org/maven2/javax/jdo/jdo-api/3.0.1/jdo-api-3.0.1.pom\n",
      "-> New file at /tmp/toree-tmp-dir8172174803993100516/toree_add_deps/https/repo1.maven.org/maven2/org/apache/calcite/calcite-core/1.2.0-incubating/calcite-core-1.2.0-incubating.pom\n",
      "-> New file at /tmp/toree-tmp-dir8172174803993100516/toree_add_deps/https/repo1.maven.org/maven2/org/apache/calcite/calcite-linq4j/1.2.0-incubating/calcite-linq4j-1.2.0-incubating.pom\n",
      "-> New file at /tmp/toree-tmp-dir8172174803993100516/toree_add_deps/https/repo1.maven.org/maven2/org/springframework/spring-expression/4.3.14.RELEASE/spring-expression-4.3.14.RELEASE.pom\n",
      "-> New file at /tmp/toree-tmp-dir8172174803993100516/toree_add_deps/https/repo1.maven.org/maven2/org/codehaus/jackson/jackson-core-asl/1.9.13/jackson-core-asl-1.9.13.pom\n",
      "-> New file at /tmp/toree-tmp-dir8172174803993100516/toree_add_deps/https/repo1.maven.org/maven2/net/hydromatic/eigenbase-properties/1.1.5/eigenbase-properties-1.1.5.pom\n",
      "-> New file at /tmp/toree-tmp-dir8172174803993100516/toree_add_deps/https/repo1.maven.org/maven2/com/esotericsoftware/reflectasm/1.11.3/reflectasm-1.11.3.pom\n",
      "-> New file at /tmp/toree-tmp-dir8172174803993100516/toree_add_deps/https/repo1.maven.org/maven2/commons-httpclient/commons-httpclient/3.1/commons-httpclient-3.1.pom\n",
      "-> New file at /tmp/toree-tmp-dir8172174803993100516/toree_add_deps/https/repo1.maven.org/maven2/org/springframework/spring-aop/4.3.14.RELEASE/spring-aop-4.3.14.RELEASE.pom\n",
      "-> New file at /tmp/toree-tmp-dir8172174803993100516/toree_add_deps/https/repo1.maven.org/maven2/javax/servlet/jsp/jsp-api/2.1/jsp-api-2.1.pom\n",
      "-> New file at /tmp/toree-tmp-dir8172174803993100516/toree_add_deps/https/repo1.maven.org/maven2/org/apache/avro/avro-ipc/1.7.7/avro-ipc-1.7.7.pom\n",
      "-> New file at /tmp/toree-tmp-dir8172174803993100516/toree_add_deps/https/repo1.maven.org/maven2/com/google/inject/extensions/guice-servlet/3.0/guice-servlet-3.0.pom\n",
      "-> New file at /tmp/toree-tmp-dir8172174803993100516/toree_add_deps/https/repo1.maven.org/maven2/org/apache/avro/avro/1.7.7/avro-1.7.7.pom\n",
      "-> New file at /tmp/toree-tmp-dir8172174803993100516/toree_add_deps/https/repo1.maven.org/maven2/net/sansa-stack/sansa-rdf-common_2.11/0.4.0/sansa-rdf-common_2.11-0.4.0.pom\n",
      "-> New file at /tmp/toree-tmp-dir8172174803993100516/toree_add_deps/https/repo1.maven.org/maven2/com/jcraft/jsch/0.1.54/jsch-0.1.54.pom\n",
      "-> New file at /tmp/toree-tmp-dir8172174803993100516/toree_add_deps/https/repo1.maven.org/maven2/org/antlr/ST4/4.0.8/ST4-4.0.8.pom\n",
      "-> New file at /tmp/toree-tmp-dir8172174803993100516/toree_add_deps/https/repo1.maven.org/maven2/com/google/code/findbugs/jsr305/3.0.0/jsr305-3.0.0.pom\n",
      "-> New file at /tmp/toree-tmp-dir8172174803993100516/toree_add_deps/https/repo1.maven.org/maven2/commons-lang/commons-lang/2.6/commons-lang-2.6.pom\n",
      "-> New file at /tmp/toree-tmp-dir8172174803993100516/toree_add_deps/https/repo1.maven.org/maven2/org/aksw/commons/aksw-commons-util/0.8.9/aksw-commons-util-0.8.9.pom\n",
      "-> New file at /tmp/toree-tmp-dir8172174803993100516/toree_add_deps/https/repo1.maven.org/maven2/commons-digester/commons-digester/1.8.1/commons-digester-1.8.1.pom\n",
      "-> New file at /tmp/toree-tmp-dir8172174803993100516/toree_add_deps/https/repo1.maven.org/maven2/org/xerial/snappy/snappy-java/1.1.2.6/snappy-java-1.1.2.6.pom\n",
      "-> New file at /tmp/toree-tmp-dir8172174803993100516/toree_add_deps/https/repo1.maven.org/maven2/org/aksw/jena-sparql-api/jena-sparql-api-vocabs/3.7.0-3/jena-sparql-api-vocabs-3.7.0-3.pom\n",
      "-> New file at /tmp/toree-tmp-dir8172174803993100516/toree_add_deps/https/repo1.maven.org/maven2/org/apache/jena/jena-cmds/3.7.0/jena-cmds-3.7.0.pom\n",
      "-> New file at /tmp/toree-tmp-dir8172174803993100516/toree_add_deps/https/repo1.maven.org/maven2/jline/jline/0.9.94/jline-0.9.94.pom\n",
      "-> New file at /tmp/toree-tmp-dir8172174803993100516/toree_add_deps/https/repo1.maven.org/maven2/commons-logging/commons-logging/1.2/commons-logging-1.2.pom\n",
      "-> New file at /tmp/toree-tmp-dir8172174803993100516/toree_add_deps/https/repo1.maven.org/maven2/com/jolbox/bonecp/0.8.0.RELEASE/bonecp-0.8.0.RELEASE.pom\n",
      "-> New file at /tmp/toree-tmp-dir8172174803993100516/toree_add_deps/https/repo1.maven.org/maven2/org/apache/commons/commons-math3/3.1.1/commons-math3-3.1.1.pom\n",
      "-> New file at /tmp/toree-tmp-dir8172174803993100516/toree_add_deps/https/repo1.maven.org/maven2/commons-collections/commons-collections/20040616/commons-collections-20040616.pom\n",
      "-> New file at /tmp/toree-tmp-dir8172174803993100516/toree_add_deps/https/repo1.maven.org/maven2/com/nimbusds/nimbus-jose-jwt/3.9/nimbus-jose-jwt-3.9.pom\n",
      "-> New file at /tmp/toree-tmp-dir8172174803993100516/toree_add_deps/https/repo1.maven.org/maven2/commons-validator/commons-validator/1.6/commons-validator-1.6.pom\n",
      "-> New file at /tmp/toree-tmp-dir8172174803993100516/toree_add_deps/https/repo1.maven.org/maven2/org/apache/hadoop/hadoop-common/2.8.3/hadoop-common-2.8.3.pom\n",
      "-> New file at /tmp/toree-tmp-dir8172174803993100516/toree_add_deps/https/repo1.maven.org/maven2/org/springframework/spring-context/4.3.14.RELEASE/spring-context-4.3.14.RELEASE.pom\n",
      "-> New file at /tmp/toree-tmp-dir8172174803993100516/toree_add_deps/https/repo1.maven.org/maven2/net/minidev/json-smart/2.3/json-smart-2.3.pom\n",
      "-> New file at /tmp/toree-tmp-dir8172174803993100516/toree_add_deps/https/repo1.maven.org/maven2/org/aksw/sparqlify/sparqlify-type-system/0.8.5/sparqlify-type-system-0.8.5.pom\n",
      "-> New file at /tmp/toree-tmp-dir8172174803993100516/toree_add_deps/https/repo1.maven.org/maven2/org/aksw/jena-sparql-api/jena-sparql-api-resources-test-config/3.7.0-3/jena-sparql-api-resources-test-config-3.7.0-3.pom\n"
     ]
    },
    {
     "data": {
      "text/plain": [
       "error: error while loading StaticSQLConf, class file '/usr/local/spark-2.3.0-bin-hadoop2.7/jars/spark-catalyst_2.11-2.3.0.jar(org/apache/spark/sql/internal/StaticSQLConf.class)' has location not matching its contents: contains class StaticSQLConf\n",
       "error: error while loading SessionStateBuilder, class file '/usr/local/spark-2.3.0-bin-hadoop2.7/jars/spark-sql_2.11-2.3.0.jar(org/apache/spark/sql/internal/SessionStateBuilder.class)' has location not matching its contents: contains class SessionStateBuilder\n",
       "error: error while loading HiveSerDe, class file '/usr/local/spark-2.3.0-bin-hadoop2.7/jars/spark-sql_2.11-2.3.0.jar(org/apache/spark/sql/internal/HiveSerDe.class)' has location not matching its contents: contains class HiveSerDe\n",
       "error: error while loading CatalogImpl, class file '/usr/local/spark-2.3.0-bin-hadoop2.7/jars/spark-sql_2.11-2.3.0.jar(org/apache/spark/sql/internal/CatalogImpl.class)' has location not matching its contents: contains class CatalogImpl\n",
       "error: error while loading NonClosableMutableURLClassLoader, class file '/usr/local/spark-2.3.0-bin-hadoop2.7/jars/spark-sql_2.11-2.3.0.jar(org/apache/spark/sql/internal/NonClosableMutableURLClassLoader.class)' has location not matching its contents: contains class NonClosableMutableURLClassLoader\n",
       "error: error while loading SessionResourceLoader, class file '/usr/local/spark-2.3.0-bin-hadoop2.7/jars/spark-sql_2.11-2.3.0.jar(org/apache/spark/sql/internal/SessionResourceLoader.class)' has location not matching its contents: contains class SessionResourceLoader\n",
       "error: error while loading BaseSessionStateBuilder, class file '/usr/local/spark-2.3.0-bin-hadoop2.7/jars/spark-sql_2.11-2.3.0.jar(org/apache/spark/sql/internal/BaseSessionStateBuilder.class)' has location not matching its contents: contains class BaseSessionStateBuilder\n",
       "error: error while loading VariableSubstitution, class file '/usr/local/spark-2.3.0-bin-hadoop2.7/jars/spark-sql_2.11-2.3.0.jar(org/apache/spark/sql/internal/VariableSubstitution.class)' has location not matching its contents: contains class VariableSubstitution\n",
       "error: error while loading WithTestConf, class file '/usr/local/spark-2.3.0-bin-hadoop2.7/jars/spark-sql_2.11-2.3.0.jar(org/apache/spark/sql/internal/WithTestConf.class)' has location not matching its contents: contains class WithTestConf\n",
       "error: error while loading SchemaUtils, class file '/usr/local/spark-2.3.0-bin-hadoop2.7/jars/spark-catalyst_2.11-2.3.0.jar(org/apache/spark/sql/util/SchemaUtils.class)' has location not matching its contents: contains class SchemaUtils\n",
       "error: error while loading QueryExecutionListener, class file '/usr/local/spark-2.3.0-bin-hadoop2.7/jars/spark-sql_2.11-2.3.0.jar(org/apache/spark/sql/util/QueryExecutionListener.class)' has location not matching its contents: contains class QueryExecutionListener\n",
       "error: error while loading OutputMode, class file '/usr/local/spark-2.3.0-bin-hadoop2.7/jars/spark-catalyst_2.11-2.3.0.jar(org/apache/spark/sql/streaming/OutputMode.class)' has location not matching its contents: contains class OutputMode\n",
       "error: error while loading GroupStateTimeout, class file '/usr/local/spark-2.3.0-bin-hadoop2.7/jars/spark-catalyst_2.11-2.3.0.jar(org/apache/spark/sql/streaming/GroupStateTimeout.class)' has location not matching its contents: contains class GroupStateTimeout\n",
       "error: error while loading ProcessingTime, class file '/usr/local/spark-2.3.0-bin-hadoop2.7/jars/spark-sql_2.11-2.3.0.jar(org/apache/spark/sql/streaming/ProcessingTime.class)' has location not matching its contents: contains class ProcessingTime\n",
       "error: error while loading StateOperatorProgress, class file '/usr/local/spark-2.3.0-bin-hadoop2.7/jars/spark-sql_2.11-2.3.0.jar(org/apache/spark/sql/streaming/StateOperatorProgress.class)' has location not matching its contents: contains class StateOperatorProgress\n",
       "error: error while loading DataStreamWriter, class file '/usr/local/spark-2.3.0-bin-hadoop2.7/jars/spark-sql_2.11-2.3.0.jar(org/apache/spark/sql/streaming/DataStreamWriter.class)' has location not matching its contents: contains class DataStreamWriter\n",
       "error: error while loading Trigger, class file '/usr/local/spark-2.3.0-bin-hadoop2.7/jars/spark-sql_2.11-2.3.0.jar(org/apache/spark/sql/streaming/Trigger.class)' has location not matching its contents: contains class Trigger\n",
       "error: error while loading StreamingQueryException, class file '/usr/local/spark-2.3.0-bin-hadoop2.7/jars/spark-sql_2.11-2.3.0.jar(org/apache/spark/sql/streaming/StreamingQueryException.class)' has location not matching its contents: contains class StreamingQueryException\n",
       "error: error while loading SourceProgress, class file '/usr/local/spark-2.3.0-bin-hadoop2.7/jars/spark-sql_2.11-2.3.0.jar(org/apache/spark/sql/streaming/SourceProgress.class)' has location not matching its contents: contains class SourceProgress\n",
       "error: error while loading StreamingQueryProgress, class file '/usr/local/spark-2.3.0-bin-hadoop2.7/jars/spark-sql_2.11-2.3.0.jar(org/apache/spark/sql/streaming/StreamingQueryProgress.class)' has location not matching its contents: contains class StreamingQueryProgress\n",
       "error: error while loading SinkProgress, class file '/usr/local/spark-2.3.0-bin-hadoop2.7/jars/spark-sql_2.11-2.3.0.jar(org/apache/spark/sql/streaming/SinkProgress.class)' has location not matching its contents: contains class SinkProgress\n",
       "error: error while loading StreamingQueryListener, class file '/usr/local/spark-2.3.0-bin-hadoop2.7/jars/spark-sql_2.11-2.3.0.jar(org/apache/spark/sql/streaming/StreamingQueryListener.class)' has location not matching its contents: contains class StreamingQueryListener\n",
       "error: error while loading StreamingQueryStatus, class file '/usr/local/spark-2.3.0-bin-hadoop2.7/jars/spark-sql_2.11-2.3.0.jar(org/apache/spark/sql/streaming/StreamingQueryStatus.class)' has location not matching its contents: contains class StreamingQueryStatus\n",
       "error: error while loading StreamingQuery, class file '/usr/local/spark-2.3.0-bin-hadoop2.7/jars/spark-sql_2.11-2.3.0.jar(org/apache/spark/sql/streaming/StreamingQuery.class)' has location not matching its contents: contains class StreamingQuery\n",
       "error: error while loading GroupState, class file '/usr/local/spark-2.3.0-bin-hadoop2.7/jars/spark-sql_2.11-2.3.0.jar(org/apache/spark/sql/streaming/GroupState.class)' has location not matching its contents: contains class GroupState\n",
       "error: error while loading Table, class file '/usr/local/spark-2.3.0-bin-hadoop2.7/jars/spark-sql_2.11-2.3.0.jar(org/apache/spark/sql/catalog/Table.class)' has location not matching its contents: contains class Table\n",
       "error: error while loading Column, class file '/usr/local/spark-2.3.0-bin-hadoop2.7/jars/spark-sql_2.11-2.3.0.jar(org/apache/spark/sql/catalog/Column.class)' has location not matching its contents: contains class Column\n",
       "error: error while loading Database, class file '/usr/local/spark-2.3.0-bin-hadoop2.7/jars/spark-sql_2.11-2.3.0.jar(org/apache/spark/sql/catalog/Database.class)' has location not matching its contents: contains class Database\n",
       "error: error while loading Function, class file '/usr/local/spark-2.3.0-bin-hadoop2.7/jars/spark-sql_2.11-2.3.0.jar(org/apache/spark/sql/catalog/Function.class)' has location not matching its contents: contains class Function\n"
      ]
     },
     "metadata": {},
     "output_type": "display_data",
     "source": "user"
    },
    {
     "name": "stdout",
     "output_type": "stream",
     "text": [
      "Marking net.sansa-stack:sansa-owl-spark_2.11:0.4.0 for download\n",
      "Preparing to fetch from:\n",
      "-> file:/tmp/toree-tmp-dir8172174803993100516/toree_add_deps/\n",
      "-> https://repo1.maven.org/maven2\n",
      "-> New file at /tmp/toree-tmp-dir8172174803993100516/toree_add_deps/https/repo1.maven.org/maven2/org/apache/spark/spark-core_2.11/2.3.1/spark-core_2.11-2.3.1.jar\n",
      "-> New file at /tmp/toree-tmp-dir8172174803993100516/toree_add_deps/https/repo1.maven.org/maven2/org/apache/commons/commons-math3/3.4.1/commons-math3-3.4.1.jar\n",
      "-> New file at /tmp/toree-tmp-dir8172174803993100516/toree_add_deps/https/repo1.maven.org/maven2/org/apache/hadoop/hadoop-mapreduce-client-core/2.7.0/hadoop-mapreduce-client-core-2.7.0.jar\n",
      "-> New file at /tmp/toree-tmp-dir8172174803993100516/toree_add_deps/https/repo1.maven.org/maven2/org/apache/hadoop/hadoop-common/2.7.0/hadoop-common-2.7.0.jar\n",
      "-> New file at /tmp/toree-tmp-dir8172174803993100516/toree_add_deps/https/repo1.maven.org/maven2/org/slf4j/jul-to-slf4j/1.7.16/jul-to-slf4j-1.7.16.jar\n",
      "-> New file at /tmp/toree-tmp-dir8172174803993100516/toree_add_deps/https/repo1.maven.org/maven2/org/apache/spark/spark-kvstore_2.11/2.3.1/spark-kvstore_2.11-2.3.1.jar\n",
      "-> New file at /tmp/toree-tmp-dir8172174803993100516/toree_add_deps/https/repo1.maven.org/maven2/commons-digester/commons-digester/1.8/commons-digester-1.8.jar\n",
      "-> New file at /tmp/toree-tmp-dir8172174803993100516/toree_add_deps/https/repo1.maven.org/maven2/com/google/inject/guice/4.1.0/guice-4.1.0.jar\n",
      "-> New file at /tmp/toree-tmp-dir8172174803993100516/toree_add_deps/https/repo1.maven.org/maven2/net/razorvine/pyrolite/4.13/pyrolite-4.13.jar\n",
      "-> New file at /tmp/toree-tmp-dir8172174803993100516/toree_add_deps/https/repo1.maven.org/maven2/org/glassfish/jersey/core/jersey-common/2.22.2/jersey-common-2.22.2.jar\n",
      "-> New file at /tmp/toree-tmp-dir8172174803993100516/toree_add_deps/https/repo1.maven.org/maven2/com/twitter/chill-java/0.8.4/chill-java-0.8.4.jar\n",
      "-> New file at /tmp/toree-tmp-dir8172174803993100516/toree_add_deps/https/repo1.maven.org/maven2/org/apache/arrow/arrow-vector/0.8.0/arrow-vector-0.8.0.jar\n",
      "-> New file at /tmp/toree-tmp-dir8172174803993100516/toree_add_deps/https/repo1.maven.org/maven2/org/glassfish/jersey/core/jersey-server/2.22.2/jersey-server-2.22.2.jar\n",
      "-> New file at /tmp/toree-tmp-dir8172174803993100516/toree_add_deps/https/repo1.maven.org/maven2/org/objenesis/objenesis/2.2/objenesis-2.2.jar\n",
      "-> New file at /tmp/toree-tmp-dir8172174803993100516/toree_add_deps/https/repo1.maven.org/maven2/com/ning/compress-lzf/1.0.3/compress-lzf-1.0.3.jar\n",
      "-> New file at /tmp/toree-tmp-dir8172174803993100516/toree_add_deps/https/repo1.maven.org/maven2/org/apache/httpcomponents/fluent-hc/4.5.3/fluent-hc-4.5.3.jar\n",
      "-> New file at /tmp/toree-tmp-dir8172174803993100516/toree_add_deps/https/repo1.maven.org/maven2/javax/ws/rs/javax.ws.rs-api/2.0.1/javax.ws.rs-api-2.0.1.jar\n",
      "-> New file at /tmp/toree-tmp-dir8172174803993100516/toree_add_deps/https/repo1.maven.org/maven2/org/eclipse/rdf4j/rdf4j-rio-rdfxml/2.2.2/rdf4j-rio-rdfxml-2.2.2.jar\n",
      "-> New file at /tmp/toree-tmp-dir8172174803993100516/toree_add_deps/https/repo1.maven.org/maven2/org/glassfish/hk2/hk2-api/2.4.0-b34/hk2-api-2.4.0-b34.jar\n",
      "-> New file at /tmp/toree-tmp-dir8172174803993100516/toree_add_deps/https/repo1.maven.org/maven2/org/apache/arrow/arrow-format/0.8.0/arrow-format-0.8.0.jar\n",
      "-> New file at /tmp/toree-tmp-dir8172174803993100516/toree_add_deps/https/repo1.maven.org/maven2/org/apache/hadoop/hadoop-client/2.6.5/hadoop-client-2.6.5.jar\n",
      "-> New file at /tmp/toree-tmp-dir8172174803993100516/toree_add_deps/https/repo1.maven.org/maven2/io/dropwizard/metrics/metrics-core/3.1.5/metrics-core-3.1.5.jar\n",
      "-> New file at /tmp/toree-tmp-dir8172174803993100516/toree_add_deps/https/repo1.maven.org/maven2/org/apache/hadoop/hadoop-yarn-server-nodemanager/2.6.5/hadoop-yarn-server-nodemanager-2.6.5.jar\n",
      "-> New file at /tmp/toree-tmp-dir8172174803993100516/toree_add_deps/https/repo1.maven.org/maven2/org/json4s/json4s-core_2.11/3.2.11/json4s-core_2.11-3.2.11.jar\n",
      "-> New file at /tmp/toree-tmp-dir8172174803993100516/toree_add_deps/https/repo1.maven.org/maven2/org/apache/orc/orc-core/1.4.4/orc-core-1.4.4-nohive.jar\n",
      "-> New file at /tmp/toree-tmp-dir8172174803993100516/toree_add_deps/https/repo1.maven.org/maven2/xerces/xercesImpl/2.9.1/xercesImpl-2.9.1.jar\n",
      "-> New file at /tmp/toree-tmp-dir8172174803993100516/toree_add_deps/https/repo1.maven.org/maven2/org/roaringbitmap/RoaringBitmap/0.5.11/RoaringBitmap-0.5.11.jar\n",
      "-> New file at /tmp/toree-tmp-dir8172174803993100516/toree_add_deps/https/repo1.maven.org/maven2/com/esotericsoftware/kryo-shaded/3.0.3/kryo-shaded-3.0.3.jar\n",
      "-> New file at /tmp/toree-tmp-dir8172174803993100516/toree_add_deps/https/repo1.maven.org/maven2/javax/activation/activation/1.1.1/activation-1.1.1.jar\n",
      "-> New file at /tmp/toree-tmp-dir8172174803993100516/toree_add_deps/https/repo1.maven.org/maven2/org/apache/httpcomponents/httpcore-nio/4.4.6/httpcore-nio-4.4.6.jar\n",
      "-> New file at /tmp/toree-tmp-dir8172174803993100516/toree_add_deps/https/repo1.maven.org/maven2/org/apache/httpcomponents/httpmime/4.5.3/httpmime-4.5.3.jar\n",
      "-> New file at /tmp/toree-tmp-dir8172174803993100516/toree_add_deps/https/repo1.maven.org/maven2/javax/servlet/javax.servlet-api/3.1.0/javax.servlet-api-3.1.0.jar\n",
      "-> New file at /tmp/toree-tmp-dir8172174803993100516/toree_add_deps/https/repo1.maven.org/maven2/org/apache/httpcomponents/httpcore/4.4.6/httpcore-4.4.6.jar\n",
      "-> New file at /tmp/toree-tmp-dir8172174803993100516/toree_add_deps/https/repo1.maven.org/maven2/commons-beanutils/commons-beanutils/1.7.0/commons-beanutils-1.7.0.jar\n",
      "-> New file at /tmp/toree-tmp-dir8172174803993100516/toree_add_deps/https/repo1.maven.org/maven2/org/fusesource/leveldbjni/leveldbjni-all/1.8/leveldbjni-all-1.8.jar\n",
      "-> New file at /tmp/toree-tmp-dir8172174803993100516/toree_add_deps/https/repo1.maven.org/maven2/org/glassfish/jersey/core/jersey-client/2.22.2/jersey-client-2.22.2.jar\n",
      "-> New file at /tmp/toree-tmp-dir8172174803993100516/toree_add_deps/https/repo1.maven.org/maven2/com/fasterxml/jackson/module/jackson-module-scala_2.11/2.6.7.1/jackson-module-scala_2.11-2.6.7.1.jar\n",
      "-> New file at /tmp/toree-tmp-dir8172174803993100516/toree_add_deps/https/repo1.maven.org/maven2/com/google/guava/guava/20.0/guava-20.0.jar\n",
      "-> New file at /tmp/toree-tmp-dir8172174803993100516/toree_add_deps/https/repo1.maven.org/maven2/org/apache/parquet/parquet-column/1.8.3/parquet-column-1.8.3.jar\n",
      "-> New file at /tmp/toree-tmp-dir8172174803993100516/toree_add_deps/https/repo1.maven.org/maven2/com/jamesmurty/utils/java-xmlbuilder/1.1/java-xmlbuilder-1.1.jar\n",
      "-> New file at /tmp/toree-tmp-dir8172174803993100516/toree_add_deps/https/repo1.maven.org/maven2/org/eclipse/rdf4j/rdf4j-rio-trix/2.2.2/rdf4j-rio-trix-2.2.2.jar\n",
      "-> New file at /tmp/toree-tmp-dir8172174803993100516/toree_add_deps/https/repo1.maven.org/maven2/commons-codec/commons-codec/1.10/commons-codec-1.10.jar\n",
      "-> New file at /tmp/toree-tmp-dir8172174803993100516/toree_add_deps/https/repo1.maven.org/maven2/io/netty/netty/3.9.9.Final/netty-3.9.9.Final.jar\n",
      "-> New file at /tmp/toree-tmp-dir8172174803993100516/toree_add_deps/https/repo1.maven.org/maven2/net/sourceforge/owlapi/owlapi-impl/5.1.5/owlapi-impl-5.1.5.jar\n",
      "-> New file at /tmp/toree-tmp-dir8172174803993100516/toree_add_deps/https/repo1.maven.org/maven2/com/thoughtworks/paranamer/paranamer/2.8/paranamer-2.8.jar\n",
      "-> New file at /tmp/toree-tmp-dir8172174803993100516/toree_add_deps/https/repo1.maven.org/maven2/org/codehaus/janino/janino/3.0.8/janino-3.0.8.jar\n",
      "-> New file at /tmp/toree-tmp-dir8172174803993100516/toree_add_deps/https/repo1.maven.org/maven2/com/carrotsearch/hppc/0.7.2/hppc-0.7.2.jar\n",
      "-> New file at /tmp/toree-tmp-dir8172174803993100516/toree_add_deps/https/repo1.maven.org/maven2/joda-time/joda-time/2.9.9/joda-time-2.9.9.jar\n",
      "-> New file at /tmp/toree-tmp-dir8172174803993100516/toree_add_deps/https/repo1.maven.org/maven2/org/apache/hadoop/hadoop-auth/2.7.0/hadoop-auth-2.7.0.jar\n",
      "-> New file at /tmp/toree-tmp-dir8172174803993100516/toree_add_deps/https/repo1.maven.org/maven2/org/apache/xbean/xbean-asm5-shaded/4.4/xbean-asm5-shaded-4.4.jar\n",
      "-> New file at /tmp/toree-tmp-dir8172174803993100516/toree_add_deps/https/repo1.maven.org/maven2/org/glassfish/jersey/media/jersey-media-jaxb/2.22.2/jersey-media-jaxb-2.22.2.jar\n",
      "-> New file at /tmp/toree-tmp-dir8172174803993100516/toree_add_deps/https/repo1.maven.org/maven2/net/sourceforge/owlapi/owlapi-oboformat/5.1.5/owlapi-oboformat-5.1.5.jar\n",
      "-> New file at /tmp/toree-tmp-dir8172174803993100516/toree_add_deps/https/repo1.maven.org/maven2/org/tukaani/xz/1.6/xz-1.6.jar\n",
      "-> New file at /tmp/toree-tmp-dir8172174803993100516/toree_add_deps/https/repo1.maven.org/maven2/com/github/ben-manes/caffeine/caffeine/2.5.6/caffeine-2.5.6.jar\n",
      "-> New file at /tmp/toree-tmp-dir8172174803993100516/toree_add_deps/https/repo1.maven.org/maven2/io/dropwizard/metrics/metrics-json/3.1.5/metrics-json-3.1.5.jar\n",
      "-> New file at /tmp/toree-tmp-dir8172174803993100516/toree_add_deps/https/repo1.maven.org/maven2/com/twitter/chill_2.11/0.8.4/chill_2.11-0.8.4.jar\n",
      "-> New file at /tmp/toree-tmp-dir8172174803993100516/toree_add_deps/https/repo1.maven.org/maven2/org/eclipse/rdf4j/rdf4j-rio-languages/2.2.2/rdf4j-rio-languages-2.2.2.jar\n",
      "-> New file at /tmp/toree-tmp-dir8172174803993100516/toree_add_deps/https/repo1.maven.org/maven2/net/sourceforge/owlapi/owlapi-tools/5.1.5/owlapi-tools-5.1.5.jar\n",
      "-> New file at /tmp/toree-tmp-dir8172174803993100516/toree_add_deps/https/repo1.maven.org/maven2/org/apache/spark/spark-sketch_2.11/2.3.1/spark-sketch_2.11-2.3.1.jar\n",
      "-> New file at /tmp/toree-tmp-dir8172174803993100516/toree_add_deps/https/repo1.maven.org/maven2/org/glassfish/hk2/external/javax.inject/2.4.0-b34/javax.inject-2.4.0-b34.jar\n",
      "-> New file at /tmp/toree-tmp-dir8172174803993100516/toree_add_deps/https/repo1.maven.org/maven2/org/eclipse/rdf4j/rdf4j-model/2.2.2/rdf4j-model-2.2.2.jar\n",
      "-> New file at /tmp/toree-tmp-dir8172174803993100516/toree_add_deps/https/repo1.maven.org/maven2/org/eclipse/rdf4j/rdf4j-util/2.2.2/rdf4j-util-2.2.2.jar\n",
      "-> New file at /tmp/toree-tmp-dir8172174803993100516/toree_add_deps/https/repo1.maven.org/maven2/io/dropwizard/metrics/metrics-graphite/3.1.5/metrics-graphite-3.1.5.jar\n",
      "-> New file at /tmp/toree-tmp-dir8172174803993100516/toree_add_deps/https/repo1.maven.org/maven2/com/google/inject/extensions/guice-assistedinject/4.1.0/guice-assistedinject-4.1.0.jar\n",
      "-> New file at /tmp/toree-tmp-dir8172174803993100516/toree_add_deps/https/repo1.maven.org/maven2/org/glassfish/hk2/hk2-utils/2.4.0-b34/hk2-utils-2.4.0-b34.jar\n",
      "-> New file at /tmp/toree-tmp-dir8172174803993100516/toree_add_deps/https/repo1.maven.org/maven2/org/eclipse/rdf4j/rdf4j-rio-ntriples/2.2.2/rdf4j-rio-ntriples-2.2.2.jar\n",
      "-> New file at /tmp/toree-tmp-dir8172174803993100516/toree_add_deps/https/repo1.maven.org/maven2/com/clearspring/analytics/stream/2.7.0/stream-2.7.0.jar\n",
      "-> New file at /tmp/toree-tmp-dir8172174803993100516/toree_add_deps/https/repo1.maven.org/maven2/com/google/code/findbugs/jsr305/3.0.2/jsr305-3.0.2.jar\n",
      "-> New file at /tmp/toree-tmp-dir8172174803993100516/toree_add_deps/https/repo1.maven.org/maven2/org/javassist/javassist/3.18.1-GA/javassist-3.18.1-GA.jar\n",
      "-> New file at /tmp/toree-tmp-dir8172174803993100516/toree_add_deps/https/repo1.maven.org/maven2/net/sourceforge/owlapi/owlapi-api/5.1.5/owlapi-api-5.1.5.jar\n",
      "-> New file at /tmp/toree-tmp-dir8172174803993100516/toree_add_deps/https/repo1.maven.org/maven2/commons-collections/commons-collections/3.2.1/commons-collections-3.2.1.jar\n",
      "-> New file at /tmp/toree-tmp-dir8172174803993100516/toree_add_deps/https/repo1.maven.org/maven2/org/apache/httpcomponents/httpclient/4.5.3/httpclient-4.5.3.jar\n",
      "-> New file at /tmp/toree-tmp-dir8172174803993100516/toree_add_deps/https/repo1.maven.org/maven2/org/htrace/htrace-core/3.0.4/htrace-core-3.0.4.jar\n",
      "-> New file at /tmp/toree-tmp-dir8172174803993100516/toree_add_deps/https/repo1.maven.org/maven2/org/eclipse/rdf4j/rdf4j-rio-binary/2.2.2/rdf4j-rio-binary-2.2.2.jar\n",
      "-> New file at /tmp/toree-tmp-dir8172174803993100516/toree_add_deps/https/repo1.maven.org/maven2/com/fasterxml/jackson/module/jackson-module-paranamer/2.7.9/jackson-module-paranamer-2.7.9.jar\n",
      "-> New file at /tmp/toree-tmp-dir8172174803993100516/toree_add_deps/https/repo1.maven.org/maven2/xml-apis/xml-apis/1.3.04/xml-apis-1.3.04.jar\n",
      "-> New file at /tmp/toree-tmp-dir8172174803993100516/toree_add_deps/https/repo1.maven.org/maven2/org/slf4j/slf4j-log4j12/1.7.16/slf4j-log4j12-1.7.16.jar\n",
      "-> New file at /tmp/toree-tmp-dir8172174803993100516/toree_add_deps/https/repo1.maven.org/maven2/net/sansa-stack/sansa-owl-common_2.11/0.4.0/sansa-owl-common_2.11-0.4.0.pom\n",
      "-> New file at /tmp/toree-tmp-dir8172174803993100516/toree_add_deps/https/repo1.maven.org/maven2/org/apache/directory/api/api-util/1.0.0-M20/api-util-1.0.0-M20.pom\n",
      "-> New file at /tmp/toree-tmp-dir8172174803993100516/toree_add_deps/https/repo1.maven.org/maven2/org/apache/directory/api/api-asn1-api/1.0.0-M20/api-asn1-api-1.0.0-M20.pom\n",
      "-> New file at /tmp/toree-tmp-dir8172174803993100516/toree_add_deps/https/repo1.maven.org/maven2/org/apache/directory/server/apacheds-kerberos-codec/2.0.0-M15/apacheds-kerberos-codec-2.0.0-M15.pom\n",
      "-> New file at /tmp/toree-tmp-dir8172174803993100516/toree_add_deps/https/repo1.maven.org/maven2/org/apache/hadoop/hadoop-annotations/2.7.0/hadoop-annotations-2.7.0.pom\n",
      "-> New file at /tmp/toree-tmp-dir8172174803993100516/toree_add_deps/https/repo1.maven.org/maven2/org/eclipse/rdf4j/rdf4j-rio-jsonld/2.2.2/rdf4j-rio-jsonld-2.2.2.pom\n",
      "-> New file at /tmp/toree-tmp-dir8172174803993100516/toree_add_deps/https/repo1.maven.org/maven2/javax/servlet/servlet-api/2.5/servlet-api-2.5.pom\n",
      "-> New file at /tmp/toree-tmp-dir8172174803993100516/toree_add_deps/https/repo1.maven.org/maven2/org/apache/parquet/parquet-common/1.8.3/parquet-common-1.8.3.pom\n",
      "-> New file at /tmp/toree-tmp-dir8172174803993100516/toree_add_deps/https/repo1.maven.org/maven2/commons-beanutils/commons-beanutils-core/1.8.0/commons-beanutils-core-1.8.0.jar\n",
      "-> New file at /tmp/toree-tmp-dir8172174803993100516/toree_add_deps/https/repo1.maven.org/maven2/commons-beanutils/commons-beanutils-core/1.8.0/commons-beanutils-core-1.8.0.pom\n",
      "-> New file at /tmp/toree-tmp-dir8172174803993100516/toree_add_deps/https/repo1.maven.org/maven2/commons-logging/commons-logging/1.2/commons-logging-1.2.pom\n",
      "-> New file at /tmp/toree-tmp-dir8172174803993100516/toree_add_deps/https/repo1.maven.org/maven2/com/esotericsoftware/minlog/1.3.0/minlog-1.3.0.jar\n",
      "-> New file at /tmp/toree-tmp-dir8172174803993100516/toree_add_deps/https/repo1.maven.org/maven2/org/apache/parquet/parquet-format/2.3.1/parquet-format-2.3.1.pom\n",
      "-> New file at /tmp/toree-tmp-dir8172174803993100516/toree_add_deps/https/repo1.maven.org/maven2/org/lz4/lz4-java/1.4.0/lz4-java-1.4.0.pom\n",
      "-> New file at /tmp/toree-tmp-dir8172174803993100516/toree_add_deps/https/repo1.maven.org/maven2/com/esotericsoftware/reflectasm/1.11.3/reflectasm-1.11.3.jar\n",
      "-> New file at /tmp/toree-tmp-dir8172174803993100516/toree_add_deps/https/repo1.maven.org/maven2/com/sun/jersey/jersey-core/1.9/jersey-core-1.9.jar\n",
      "-> New file at /tmp/toree-tmp-dir8172174803993100516/toree_add_deps/https/repo1.maven.org/maven2/org/apache/hadoop/hadoop-hdfs/2.6.5/hadoop-hdfs-2.6.5.jar\n",
      "-> New file at /tmp/toree-tmp-dir8172174803993100516/toree_add_deps/https/repo1.maven.org/maven2/org/apache/spark/spark-catalyst_2.11/2.3.1/spark-catalyst_2.11-2.3.1.jar\n",
      "-> New file at /tmp/toree-tmp-dir8172174803993100516/toree_add_deps/https/repo1.maven.org/maven2/net/sansa-stack/sansa-owl-common_2.11/0.4.0/sansa-owl-common_2.11-0.4.0.jar\n",
      "-> New file at /tmp/toree-tmp-dir8172174803993100516/toree_add_deps/https/repo1.maven.org/maven2/net/java/dev/jets3t/jets3t/0.9.4/jets3t-0.9.4.jar\n",
      "-> New file at /tmp/toree-tmp-dir8172174803993100516/toree_add_deps/https/repo1.maven.org/maven2/net/sourceforge/owlapi/owlapi-parsers/5.1.5/owlapi-parsers-5.1.5.jar\n",
      "-> New file at /tmp/toree-tmp-dir8172174803993100516/toree_add_deps/https/repo1.maven.org/maven2/org/apache/hadoop/hadoop-annotations/2.7.0/hadoop-annotations-2.7.0.jar\n",
      "-> New file at /tmp/toree-tmp-dir8172174803993100516/toree_add_deps/https/repo1.maven.org/maven2/org/eclipse/rdf4j/rdf4j-rio-jsonld/2.2.2/rdf4j-rio-jsonld-2.2.2.jar\n",
      "-> New file at /tmp/toree-tmp-dir8172174803993100516/toree_add_deps/https/repo1.maven.org/maven2/org/apache/parquet/parquet-format/2.3.1/parquet-format-2.3.1.jar\n",
      "-> New file at /tmp/toree-tmp-dir8172174803993100516/toree_add_deps/https/repo1.maven.org/maven2/org/apache/parquet/parquet-common/1.8.3/parquet-common-1.8.3.jar\n",
      "-> New file at /tmp/toree-tmp-dir8172174803993100516/toree_add_deps/https/repo1.maven.org/maven2/org/lz4/lz4-java/1.4.0/lz4-java-1.4.0.jar\n",
      "-> New file at /tmp/toree-tmp-dir8172174803993100516/toree_add_deps/https/repo1.maven.org/maven2/org/glassfish/hk2/external/aopalliance-repackaged/2.4.0-b34/aopalliance-repackaged-2.4.0-b34.jar\n",
      "-> New file at /tmp/toree-tmp-dir8172174803993100516/toree_add_deps/https/repo1.maven.org/maven2/org/eclipse/rdf4j/rdf4j-rio-nquads/2.2.2/rdf4j-rio-nquads-2.2.2.jar\n",
      "-> New file at /tmp/toree-tmp-dir8172174803993100516/toree_add_deps/https/repo1.maven.org/maven2/org/glassfish/jersey/containers/jersey-container-servlet/2.22.2/jersey-container-servlet-2.22.2.jar\n",
      "-> New file at /tmp/toree-tmp-dir8172174803993100516/toree_add_deps/https/repo1.maven.org/maven2/org/eclipse/rdf4j/rdf4j-rio-trig/2.2.2/rdf4j-rio-trig-2.2.2.jar\n",
      "-> New file at /tmp/toree-tmp-dir8172174803993100516/toree_add_deps/https/repo1.maven.org/maven2/org/eclipse/rdf4j/rdf4j-rio-rdfjson/2.2.2/rdf4j-rio-rdfjson-2.2.2.jar\n",
      "-> New file at /tmp/toree-tmp-dir8172174803993100516/toree_add_deps/https/repo1.maven.org/maven2/org/codehaus/janino/commons-compiler/3.0.8/commons-compiler-3.0.8.jar\n",
      "-> New file at /tmp/toree-tmp-dir8172174803993100516/toree_add_deps/https/repo1.maven.org/maven2/org/apache/httpcomponents/httpcore-osgi/4.4.6/httpcore-osgi-4.4.6.jar\n",
      "-> New file at /tmp/toree-tmp-dir8172174803993100516/toree_add_deps/https/repo1.maven.org/maven2/io/airlift/aircompressor/0.8/aircompressor-0.8.jar\n",
      "-> New file at /tmp/toree-tmp-dir8172174803993100516/toree_add_deps/https/repo1.maven.org/maven2/io/dropwizard/metrics/metrics-jvm/3.1.5/metrics-jvm-3.1.5.jar\n",
      "-> New file at /tmp/toree-tmp-dir8172174803993100516/toree_add_deps/https/repo1.maven.org/maven2/org/apache/spark/spark-network-common_2.11/2.3.1/spark-network-common_2.11-2.3.1.jar\n",
      "-> New file at /tmp/toree-tmp-dir8172174803993100516/toree_add_deps/https/repo1.maven.org/maven2/oro/oro/2.0.8/oro-2.0.8.jar\n",
      "-> New file at /tmp/toree-tmp-dir8172174803993100516/toree_add_deps/https/repo1.maven.org/maven2/javax/validation/validation-api/1.1.0.Final/validation-api-1.1.0.Final.jar\n",
      "-> New file at /tmp/toree-tmp-dir8172174803993100516/toree_add_deps/https/repo1.maven.org/maven2/org/antlr/antlr4-runtime/4.7/antlr4-runtime-4.7.jar\n",
      "-> New file at /tmp/toree-tmp-dir8172174803993100516/toree_add_deps/https/repo1.maven.org/maven2/com/vlkan/flatbuffers/1.2.0-3f79e055/flatbuffers-1.2.0-3f79e055.jar\n",
      "-> New file at /tmp/toree-tmp-dir8172174803993100516/toree_add_deps/https/repo1.maven.org/maven2/org/glassfish/jersey/containers/jersey-container-servlet-core/2.22.2/jersey-container-servlet-core-2.22.2.jar\n",
      "-> New file at /tmp/toree-tmp-dir8172174803993100516/toree_add_deps/https/repo1.maven.org/maven2/org/slf4j/slf4j-api/1.7.25/slf4j-api-1.7.25.jar\n",
      "-> New file at /tmp/toree-tmp-dir8172174803993100516/toree_add_deps/https/repo1.maven.org/maven2/org/glassfish/hk2/osgi-resource-locator/1.0.1/osgi-resource-locator-1.0.1.jar\n",
      "-> New file at /tmp/toree-tmp-dir8172174803993100516/toree_add_deps/https/repo1.maven.org/maven2/com/fasterxml/jackson/core/jackson-annotations/2.9.0/jackson-annotations-2.9.0.jar\n",
      "-> New file at /tmp/toree-tmp-dir8172174803993100516/toree_add_deps/https/repo1.maven.org/maven2/com/jcraft/jsch/0.1.42/jsch-0.1.42.jar\n",
      "-> New file at /tmp/toree-tmp-dir8172174803993100516/toree_add_deps/https/repo1.maven.org/maven2/net/sansa-stack/sansa-owl-spark_2.11/0.4.0/sansa-owl-spark_2.11-0.4.0.jar\n",
      "-> New file at /tmp/toree-tmp-dir8172174803993100516/toree_add_deps/https/repo1.maven.org/maven2/net/sourceforge/owlapi/owlapi-rio/5.1.5/owlapi-rio-5.1.5.jar\n",
      "-> New file at /tmp/toree-tmp-dir8172174803993100516/toree_add_deps/https/repo1.maven.org/maven2/org/apache/hadoop/hadoop-mapreduce-client-app/2.6.5/hadoop-mapreduce-client-app-2.6.5.jar\n",
      "-> New file at /tmp/toree-tmp-dir8172174803993100516/toree_add_deps/https/repo1.maven.org/maven2/org/apache/hadoop/hadoop-yarn-common/2.7.0/hadoop-yarn-common-2.7.0.jar\n",
      "-> New file at /tmp/toree-tmp-dir8172174803993100516/toree_add_deps/https/repo1.maven.org/maven2/org/apache/parquet/parquet-jackson/1.8.3/parquet-jackson-1.8.3.jar\n",
      "-> New file at /tmp/toree-tmp-dir8172174803993100516/toree_add_deps/https/repo1.maven.org/maven2/org/apache/spark/spark-sql_2.11/2.3.1/spark-sql_2.11-2.3.1.jar\n",
      "-> New file at /tmp/toree-tmp-dir8172174803993100516/toree_add_deps/https/repo1.maven.org/maven2/com/univocity/univocity-parsers/2.5.9/univocity-parsers-2.5.9.jar\n",
      "-> New file at /tmp/toree-tmp-dir8172174803993100516/toree_add_deps/https/repo1.maven.org/maven2/net/sf/py4j/py4j/0.10.7/py4j-0.10.7.jar\n",
      "-> New file at /tmp/toree-tmp-dir8172174803993100516/toree_add_deps/https/repo1.maven.org/maven2/org/apache/hadoop/hadoop-mapreduce-client-shuffle/2.6.5/hadoop-mapreduce-client-shuffle-2.6.5.jar\n",
      "-> New file at /tmp/toree-tmp-dir8172174803993100516/toree_add_deps/https/repo1.maven.org/maven2/org/apache/orc/orc-mapreduce/1.4.4/orc-mapreduce-1.4.4-nohive.jar\n",
      "-> New file at /tmp/toree-tmp-dir8172174803993100516/toree_add_deps/https/repo1.maven.org/maven2/com/github/luben/zstd-jni/1.3.2-2/zstd-jni-1.3.2-2.jar\n",
      "-> New file at /tmp/toree-tmp-dir8172174803993100516/toree_add_deps/https/repo1.maven.org/maven2/org/apache/commons/commons-crypto/1.0.0/commons-crypto-1.0.0.jar\n",
      "-> New file at /tmp/toree-tmp-dir8172174803993100516/toree_add_deps/https/repo1.maven.org/maven2/org/apache/spark/spark-unsafe_2.11/2.3.1/spark-unsafe_2.11-2.3.1.jar\n",
      "-> New file at /tmp/toree-tmp-dir8172174803993100516/toree_add_deps/https/repo1.maven.org/maven2/org/apache/parquet/parquet-hadoop/1.8.3/parquet-hadoop-1.8.3.jar\n",
      "-> New file at /tmp/toree-tmp-dir8172174803993100516/toree_add_deps/https/repo1.maven.org/maven2/org/apache/hadoop/hadoop-mapreduce-client-common/2.6.5/hadoop-mapreduce-client-common-2.6.5.jar\n",
      "-> New file at /tmp/toree-tmp-dir8172174803993100516/toree_add_deps/https/repo1.maven.org/maven2/org/eclipse/rdf4j/rdf4j-rio-datatypes/2.2.2/rdf4j-rio-datatypes-2.2.2.jar\n",
      "-> New file at /tmp/toree-tmp-dir8172174803993100516/toree_add_deps/https/repo1.maven.org/maven2/org/apache/spark/spark-network-shuffle_2.11/2.3.1/spark-network-shuffle_2.11-2.3.1.jar\n",
      "-> New file at /tmp/toree-tmp-dir8172174803993100516/toree_add_deps/https/repo1.maven.org/maven2/org/apache/spark/spark-launcher_2.11/2.3.1/spark-launcher_2.11-2.3.1.jar\n",
      "-> New file at /tmp/toree-tmp-dir8172174803993100516/toree_add_deps/https/repo1.maven.org/maven2/net/sf/trove4j/trove4j/3.0.3/trove4j-3.0.3.jar\n",
      "-> New file at /tmp/toree-tmp-dir8172174803993100516/toree_add_deps/https/repo1.maven.org/maven2/io/netty/netty-all/4.1.17.Final/netty-all-4.1.17.Final.jar\n",
      "-> New file at /tmp/toree-tmp-dir8172174803993100516/toree_add_deps/https/repo1.maven.org/maven2/com/google/inject/extensions/guice-multibindings/4.1.0/guice-multibindings-4.1.0.jar\n",
      "-> New file at /tmp/toree-tmp-dir8172174803993100516/toree_add_deps/https/repo1.maven.org/maven2/net/iharder/base64/2.3.8/base64-2.3.8.jar\n",
      "-> New file at /tmp/toree-tmp-dir8172174803993100516/toree_add_deps/https/repo1.maven.org/maven2/org/glassfish/jersey/bundles/repackaged/jersey-guava/2.22.2/jersey-guava-2.22.2.jar\n",
      "-> New file at /tmp/toree-tmp-dir8172174803993100516/toree_add_deps/https/repo1.maven.org/maven2/org/json4s/json4s-jackson_2.11/3.2.11/json4s-jackson_2.11-3.2.11.jar\n",
      "-> New file at /tmp/toree-tmp-dir8172174803993100516/toree_add_deps/https/repo1.maven.org/maven2/com/fasterxml/jackson/core/jackson-databind/2.9.0/jackson-databind-2.9.0.jar\n",
      "-> New file at /tmp/toree-tmp-dir8172174803993100516/toree_add_deps/https/repo1.maven.org/maven2/org/apache/arrow/arrow-memory/0.8.0/arrow-memory-0.8.0.jar\n",
      "-> New file at /tmp/toree-tmp-dir8172174803993100516/toree_add_deps/https/repo1.maven.org/maven2/org/eclipse/rdf4j/rdf4j-rio-turtle/2.2.2/rdf4j-rio-turtle-2.2.2.jar\n",
      "-> New file at /tmp/toree-tmp-dir8172174803993100516/toree_add_deps/https/repo1.maven.org/maven2/org/apache/htrace/htrace-core/3.1.0-incubating/htrace-core-3.1.0-incubating.jar\n",
      "-> New file at /tmp/toree-tmp-dir8172174803993100516/toree_add_deps/https/repo1.maven.org/maven2/org/apache/hadoop/hadoop-yarn-api/2.7.0/hadoop-yarn-api-2.7.0.jar\n",
      "-> New file at /tmp/toree-tmp-dir8172174803993100516/toree_add_deps/https/repo1.maven.org/maven2/org/bouncycastle/bcprov-jdk15on/1.52/bcprov-jdk15on-1.52.jar\n",
      "-> New file at /tmp/toree-tmp-dir8172174803993100516/toree_add_deps/https/repo1.maven.org/maven2/org/eclipse/rdf4j/rdf4j-rio-n3/2.2.2/rdf4j-rio-n3-2.2.2.jar\n",
      "-> New file at /tmp/toree-tmp-dir8172174803993100516/toree_add_deps/https/repo1.maven.org/maven2/commons-cli/commons-cli/1.2/commons-cli-1.2.jar\n",
      "-> New file at /tmp/toree-tmp-dir8172174803993100516/toree_add_deps/https/repo1.maven.org/maven2/org/apache/parquet/parquet-encoding/1.8.3/parquet-encoding-1.8.3.jar\n",
      "-> New file at /tmp/toree-tmp-dir8172174803993100516/toree_add_deps/https/repo1.maven.org/maven2/javax/annotation/javax.annotation-api/1.2/javax.annotation-api-1.2.jar\n",
      "-> New file at /tmp/toree-tmp-dir8172174803993100516/toree_add_deps/https/repo1.maven.org/maven2/org/apache/httpcomponents/httpclient-osgi/4.5.3/httpclient-osgi-4.5.3.jar\n",
      "-> New file at /tmp/toree-tmp-dir8172174803993100516/toree_add_deps/https/repo1.maven.org/maven2/org/apache/hadoop/hadoop-mapreduce-client-jobclient/2.6.5/hadoop-mapreduce-client-jobclient-2.6.5.jar\n",
      "-> New file at /tmp/toree-tmp-dir8172174803993100516/toree_add_deps/https/repo1.maven.org/maven2/com/google/code/gson/gson/2.2.4/gson-2.2.4.jar\n",
      "-> New file at /tmp/toree-tmp-dir8172174803993100516/toree_add_deps/https/repo1.maven.org/maven2/org/apache/commons/commons-rdf-api/0.3.0-incubating/commons-rdf-api-0.3.0-incubating.jar\n",
      "-> New file at /tmp/toree-tmp-dir8172174803993100516/toree_add_deps/https/repo1.maven.org/maven2/org/apache/commons/commons-lang3/3.5/commons-lang3-3.5.jar\n",
      "-> New file at /tmp/toree-tmp-dir8172174803993100516/toree_add_deps/https/repo1.maven.org/maven2/org/eclipse/rdf4j/rdf4j-rio-api/2.2.2/rdf4j-rio-api-2.2.2.jar\n",
      "-> New file at /tmp/toree-tmp-dir8172174803993100516/toree_add_deps/https/repo1.maven.org/maven2/commons-io/commons-io/2.5/commons-io-2.5.jar\n",
      "-> New file at /tmp/toree-tmp-dir8172174803993100516/toree_add_deps/https/repo1.maven.org/maven2/org/apache/hadoop/hadoop-yarn-server-common/2.6.5/hadoop-yarn-server-common-2.6.5.jar\n",
      "-> New file at /tmp/toree-tmp-dir8172174803993100516/toree_add_deps/https/repo1.maven.org/maven2/org/apache/commons/commons-compress/1.4.1/commons-compress-1.4.1.jar\n",
      "-> New file at /tmp/toree-tmp-dir8172174803993100516/toree_add_deps/https/repo1.maven.org/maven2/org/glassfish/hk2/hk2-locator/2.4.0-b34/hk2-locator-2.4.0-b34.jar\n",
      "-> New file at /tmp/toree-tmp-dir8172174803993100516/toree_add_deps/https/repo1.maven.org/maven2/de/javakaffee/kryo-serializers/0.42/kryo-serializers-0.42.jar\n",
      "-> New file at /tmp/toree-tmp-dir8172174803993100516/toree_add_deps/https/repo1.maven.org/maven2/org/json4s/json4s-ast_2.11/3.2.11/json4s-ast_2.11-3.2.11.jar\n",
      "-> New file at /tmp/toree-tmp-dir8172174803993100516/toree_add_deps/https/repo1.maven.org/maven2/net/sourceforge/owlapi/owlapi-apibinding/5.1.5/owlapi-apibinding-5.1.5.jar\n",
      "-> New file at /tmp/toree-tmp-dir8172174803993100516/toree_add_deps/https/repo1.maven.org/maven2/org/apache/hadoop/hadoop-yarn-client/2.6.5/hadoop-yarn-client-2.6.5.jar\n",
      "-> New file at /tmp/toree-tmp-dir8172174803993100516/toree_add_deps/https/repo1.maven.org/maven2/org/apache/directory/api/api-asn1-api/1.0.0-M20/api-asn1-api-1.0.0-M20.jar\n",
      "-> New file at /tmp/toree-tmp-dir8172174803993100516/toree_add_deps/https/repo1.maven.org/maven2/org/apache/directory/api/api-util/1.0.0-M20/api-util-1.0.0-M20.jar\n",
      "-> New file at /tmp/toree-tmp-dir8172174803993100516/toree_add_deps/https/repo1.maven.org/maven2/org/apache/directory/server/apacheds-kerberos-codec/2.0.0-M15/apacheds-kerberos-codec-2.0.0-M15.jar\n",
      "-> New file at /tmp/toree-tmp-dir8172174803993100516/toree_add_deps/https/repo1.maven.org/maven2/org/apache/hadoop/hadoop-mapreduce-client-core/2.7.0/hadoop-mapreduce-client-core-2.7.0.pom\n",
      "-> New file at /tmp/toree-tmp-dir8172174803993100516/toree_add_deps/https/repo1.maven.org/maven2/org/slf4j/jul-to-slf4j/1.7.16/jul-to-slf4j-1.7.16.pom\n",
      "-> New file at /tmp/toree-tmp-dir8172174803993100516/toree_add_deps/https/repo1.maven.org/maven2/org/apache/spark/spark-kvstore_2.11/2.3.1/spark-kvstore_2.11-2.3.1.pom\n",
      "-> New file at /tmp/toree-tmp-dir8172174803993100516/toree_add_deps/https/repo1.maven.org/maven2/javax/servlet/servlet-api/2.5/servlet-api-2.5.jar\n",
      "-> New file at /tmp/toree-tmp-dir8172174803993100516/toree_add_deps/https/repo1.maven.org/maven2/commons-digester/commons-digester/1.8/commons-digester-1.8.pom\n",
      "-> New file at /tmp/toree-tmp-dir8172174803993100516/toree_add_deps/https/repo1.maven.org/maven2/net/razorvine/pyrolite/4.13/pyrolite-4.13.pom\n",
      "-> New file at /tmp/toree-tmp-dir8172174803993100516/toree_add_deps/https/repo1.maven.org/maven2/net/sourceforge/owlapi/owlapi-parsers/5.1.5/owlapi-parsers-5.1.5.pom\n",
      "-> New file at /tmp/toree-tmp-dir8172174803993100516/toree_add_deps/https/repo1.maven.org/maven2/commons-logging/commons-logging/1.2/commons-logging-1.2.jar\n",
      "-> New file at /tmp/toree-tmp-dir8172174803993100516/toree_add_deps/https/repo1.maven.org/maven2/org/apache/commons/commons-math3/3.4.1/commons-math3-3.4.1.pom\n",
      "-> New file at /tmp/toree-tmp-dir8172174803993100516/toree_add_deps/https/repo1.maven.org/maven2/com/esotericsoftware/minlog/1.3.0/minlog-1.3.0.pom\n",
      "-> New file at /tmp/toree-tmp-dir8172174803993100516/toree_add_deps/https/repo1.maven.org/maven2/org/glassfish/hk2/external/aopalliance-repackaged/2.4.0-b34/aopalliance-repackaged-2.4.0-b34.pom\n",
      "-> New file at /tmp/toree-tmp-dir8172174803993100516/toree_add_deps/https/repo1.maven.org/maven2/com/twitter/chill-java/0.8.4/chill-java-0.8.4.pom\n",
      "-> New file at /tmp/toree-tmp-dir8172174803993100516/toree_add_deps/https/repo1.maven.org/maven2/com/esotericsoftware/reflectasm/1.11.3/reflectasm-1.11.3.pom\n",
      "-> New file at /tmp/toree-tmp-dir8172174803993100516/toree_add_deps/https/repo1.maven.org/maven2/org/apache/curator/curator-client/2.7.1/curator-client-2.7.1.jar\n",
      "-> New file at /tmp/toree-tmp-dir8172174803993100516/toree_add_deps/https/repo1.maven.org/maven2/org/apache/curator/curator-client/2.7.1/curator-client-2.7.1.pom\n",
      "-> New file at /tmp/toree-tmp-dir8172174803993100516/toree_add_deps/https/repo1.maven.org/maven2/com/sun/jersey/jersey-core/1.9/jersey-core-1.9.pom\n",
      "-> New file at /tmp/toree-tmp-dir8172174803993100516/toree_add_deps/https/repo1.maven.org/maven2/javax/servlet/jsp/jsp-api/2.1/jsp-api-2.1.jar\n",
      "-> New file at /tmp/toree-tmp-dir8172174803993100516/toree_add_deps/https/repo1.maven.org/maven2/javax/servlet/jsp/jsp-api/2.1/jsp-api-2.1.pom\n",
      "-> New file at /tmp/toree-tmp-dir8172174803993100516/toree_add_deps/https/repo1.maven.org/maven2/org/glassfish/jersey/containers/jersey-container-servlet/2.22.2/jersey-container-servlet-2.22.2.pom\n",
      "-> New file at /tmp/toree-tmp-dir8172174803993100516/toree_add_deps/https/repo1.maven.org/maven2/org/apache/zookeeper/zookeeper/3.4.6/zookeeper-3.4.6.jar\n",
      "-> New file at /tmp/toree-tmp-dir8172174803993100516/toree_add_deps/https/repo1.maven.org/maven2/com/google/inject/guice/4.1.0/guice-4.1.0.pom\n",
      "-> New file at /tmp/toree-tmp-dir8172174803993100516/toree_add_deps/https/repo1.maven.org/maven2/net/java/dev/jets3t/jets3t/0.9.4/jets3t-0.9.4.pom\n",
      "-> New file at /tmp/toree-tmp-dir8172174803993100516/toree_add_deps/https/repo1.maven.org/maven2/org/apache/directory/server/apacheds-i18n/2.0.0-M15/apacheds-i18n-2.0.0-M15.jar\n",
      "-> New file at /tmp/toree-tmp-dir8172174803993100516/toree_add_deps/https/repo1.maven.org/maven2/org/mortbay/jetty/jetty/6.1.26/jetty-6.1.26.jar\n",
      "-> New file at /tmp/toree-tmp-dir8172174803993100516/toree_add_deps/https/repo1.maven.org/maven2/com/google/protobuf/protobuf-java/2.5.0/protobuf-java-2.5.0.jar\n",
      "-> New file at /tmp/toree-tmp-dir8172174803993100516/toree_add_deps/https/repo1.maven.org/maven2/org/apache/directory/server/apacheds-i18n/2.0.0-M15/apacheds-i18n-2.0.0-M15.pom\n",
      "-> New file at /tmp/toree-tmp-dir8172174803993100516/toree_add_deps/https/repo1.maven.org/maven2/com/google/protobuf/protobuf-java/2.5.0/protobuf-java-2.5.0.pom\n",
      "-> New file at /tmp/toree-tmp-dir8172174803993100516/toree_add_deps/https/repo1.maven.org/maven2/org/apache/zookeeper/zookeeper/3.4.6/zookeeper-3.4.6.pom\n",
      "-> New file at /tmp/toree-tmp-dir8172174803993100516/toree_add_deps/https/repo1.maven.org/maven2/org/mortbay/jetty/jetty/6.1.26/jetty-6.1.26.pom\n",
      "-> New file at /tmp/toree-tmp-dir8172174803993100516/toree_add_deps/https/repo1.maven.org/maven2/org/eclipse/rdf4j/rdf4j-rio-trig/2.2.2/rdf4j-rio-trig-2.2.2.pom\n",
      "-> New file at /tmp/toree-tmp-dir8172174803993100516/toree_add_deps/https/repo1.maven.org/maven2/org/objenesis/objenesis/2.2/objenesis-2.2.pom\n",
      "-> New file at /tmp/toree-tmp-dir8172174803993100516/toree_add_deps/https/repo1.maven.org/maven2/org/eclipse/rdf4j/rdf4j-rio-rdfjson/2.2.2/rdf4j-rio-rdfjson-2.2.2.pom\n",
      "-> New file at /tmp/toree-tmp-dir8172174803993100516/toree_add_deps/https/repo1.maven.org/maven2/org/codehaus/janino/commons-compiler/3.0.8/commons-compiler-3.0.8.pom\n",
      "-> New file at /tmp/toree-tmp-dir8172174803993100516/toree_add_deps/https/repo1.maven.org/maven2/com/ning/compress-lzf/1.0.3/compress-lzf-1.0.3.pom\n",
      "-> New file at /tmp/toree-tmp-dir8172174803993100516/toree_add_deps/https/repo1.maven.org/maven2/org/apache/httpcomponents/fluent-hc/4.5.3/fluent-hc-4.5.3.pom\n",
      "-> New file at /tmp/toree-tmp-dir8172174803993100516/toree_add_deps/https/repo1.maven.org/maven2/javax/ws/rs/javax.ws.rs-api/2.0.1/javax.ws.rs-api-2.0.1.pom\n",
      "-> New file at /tmp/toree-tmp-dir8172174803993100516/toree_add_deps/https/repo1.maven.org/maven2/jline/jline/0.9.94/jline-0.9.94.jar\n",
      "-> New file at /tmp/toree-tmp-dir8172174803993100516/toree_add_deps/https/repo1.maven.org/maven2/jline/jline/0.9.94/jline-0.9.94.pom\n",
      "-> New file at /tmp/toree-tmp-dir8172174803993100516/toree_add_deps/https/repo1.maven.org/maven2/org/eclipse/rdf4j/rdf4j-rio-rdfxml/2.2.2/rdf4j-rio-rdfxml-2.2.2.pom\n",
      "-> New file at /tmp/toree-tmp-dir8172174803993100516/toree_add_deps/https/repo1.maven.org/maven2/io/dropwizard/metrics/metrics-jvm/3.1.5/metrics-jvm-3.1.5.pom\n",
      "-> New file at /tmp/toree-tmp-dir8172174803993100516/toree_add_deps/https/repo1.maven.org/maven2/org/apache/ivy/ivy/2.4.0/ivy-2.4.0.jar\n",
      "-> New file at /tmp/toree-tmp-dir8172174803993100516/toree_add_deps/https/repo1.maven.org/maven2/org/glassfish/jersey/core/jersey-server/2.22.2/jersey-server-2.22.2.pom\n",
      "-> New file at /tmp/toree-tmp-dir8172174803993100516/toree_add_deps/https/repo1.maven.org/maven2/org/apache/ivy/ivy/2.4.0/ivy-2.4.0.pom\n",
      "-> New file at /tmp/toree-tmp-dir8172174803993100516/toree_add_deps/https/repo1.maven.org/maven2/org/glassfish/jersey/core/jersey-common/2.22.2/jersey-common-2.22.2.pom\n",
      "-> New file at /tmp/toree-tmp-dir8172174803993100516/toree_add_deps/https/repo1.maven.org/maven2/com/github/jsonld-java/jsonld-java/0.11.1/jsonld-java-0.11.1.jar\n",
      "-> New file at /tmp/toree-tmp-dir8172174803993100516/toree_add_deps/https/repo1.maven.org/maven2/io/airlift/aircompressor/0.8/aircompressor-0.8.pom\n",
      "-> New file at /tmp/toree-tmp-dir8172174803993100516/toree_add_deps/https/repo1.maven.org/maven2/com/github/jsonld-java/jsonld-java/0.11.1/jsonld-java-0.11.1.pom\n",
      "-> New file at /tmp/toree-tmp-dir8172174803993100516/toree_add_deps/https/repo1.maven.org/maven2/org/apache/arrow/arrow-format/0.8.0/arrow-format-0.8.0.pom\n",
      "-> New file at /tmp/toree-tmp-dir8172174803993100516/toree_add_deps/https/repo1.maven.org/maven2/org/apache/arrow/arrow-vector/0.8.0/arrow-vector-0.8.0.pom\n",
      "-> New file at /tmp/toree-tmp-dir8172174803993100516/toree_add_deps/https/repo1.maven.org/maven2/org/glassfish/hk2/hk2-api/2.4.0-b34/hk2-api-2.4.0-b34.pom\n",
      "-> New file at /tmp/toree-tmp-dir8172174803993100516/toree_add_deps/https/repo1.maven.org/maven2/aopalliance/aopalliance/1.0/aopalliance-1.0.jar\n",
      "-> New file at /tmp/toree-tmp-dir8172174803993100516/toree_add_deps/https/repo1.maven.org/maven2/aopalliance/aopalliance/1.0/aopalliance-1.0.pom\n",
      "-> New file at /tmp/toree-tmp-dir8172174803993100516/toree_add_deps/https/repo1.maven.org/maven2/oro/oro/2.0.8/oro-2.0.8.pom\n",
      "-> New file at /tmp/toree-tmp-dir8172174803993100516/toree_add_deps/https/repo1.maven.org/maven2/org/apache/httpcomponents/httpcore-osgi/4.4.6/httpcore-osgi-4.4.6.pom\n",
      "-> New file at /tmp/toree-tmp-dir8172174803993100516/toree_add_deps/https/repo1.maven.org/maven2/org/apache/hadoop/hadoop-client/2.6.5/hadoop-client-2.6.5.pom\n",
      "-> New file at /tmp/toree-tmp-dir8172174803993100516/toree_add_deps/https/repo1.maven.org/maven2/javax/validation/validation-api/1.1.0.Final/validation-api-1.1.0.Final.pom\n",
      "-> New file at /tmp/toree-tmp-dir8172174803993100516/toree_add_deps/https/repo1.maven.org/maven2/io/dropwizard/metrics/metrics-core/3.1.5/metrics-core-3.1.5.pom\n",
      "-> New file at /tmp/toree-tmp-dir8172174803993100516/toree_add_deps/https/repo1.maven.org/maven2/com/vlkan/flatbuffers/1.2.0-3f79e055/flatbuffers-1.2.0-3f79e055.pom\n",
      "-> New file at /tmp/toree-tmp-dir8172174803993100516/toree_add_deps/https/repo1.maven.org/maven2/org/glassfish/jersey/containers/jersey-container-servlet-core/2.22.2/jersey-container-servlet-core-2.22.2.pom\n",
      "-> New file at /tmp/toree-tmp-dir8172174803993100516/toree_add_deps/https/repo1.maven.org/maven2/org/antlr/antlr4-runtime/4.7/antlr4-runtime-4.7.pom\n",
      "-> New file at /tmp/toree-tmp-dir8172174803993100516/toree_add_deps/https/repo1.maven.org/maven2/org/slf4j/slf4j-api/1.7.25/slf4j-api-1.7.25.pom\n",
      "-> New file at /tmp/toree-tmp-dir8172174803993100516/toree_add_deps/https/repo1.maven.org/maven2/org/apache/hadoop/hadoop-yarn-server-nodemanager/2.6.5/hadoop-yarn-server-nodemanager-2.6.5.pom\n",
      "-> New file at /tmp/toree-tmp-dir8172174803993100516/toree_add_deps/https/repo1.maven.org/maven2/org/glassfish/hk2/osgi-resource-locator/1.0.1/osgi-resource-locator-1.0.1.pom\n",
      "-> New file at /tmp/toree-tmp-dir8172174803993100516/toree_add_deps/https/repo1.maven.org/maven2/com/fasterxml/jackson/core/jackson-annotations/2.9.0/jackson-annotations-2.9.0.pom\n",
      "-> New file at /tmp/toree-tmp-dir8172174803993100516/toree_add_deps/https/repo1.maven.org/maven2/org/roaringbitmap/RoaringBitmap/0.5.11/RoaringBitmap-0.5.11.pom\n",
      "-> New file at /tmp/toree-tmp-dir8172174803993100516/toree_add_deps/https/repo1.maven.org/maven2/org/json4s/json4s-core_2.11/3.2.11/json4s-core_2.11-3.2.11.pom\n",
      "-> New file at /tmp/toree-tmp-dir8172174803993100516/toree_add_deps/https/repo1.maven.org/maven2/com/jcraft/jsch/0.1.42/jsch-0.1.42.pom\n",
      "-> New file at /tmp/toree-tmp-dir8172174803993100516/toree_add_deps/https/repo1.maven.org/maven2/javax/activation/activation/1.1.1/activation-1.1.1.pom\n",
      "-> New file at /tmp/toree-tmp-dir8172174803993100516/toree_add_deps/https/repo1.maven.org/maven2/com/sun/jersey/jersey-json/1.9/jersey-json-1.9.jar\n",
      "-> New file at /tmp/toree-tmp-dir8172174803993100516/toree_add_deps/https/repo1.maven.org/maven2/com/sun/jersey/jersey-json/1.9/jersey-json-1.9.pom\n",
      "-> New file at /tmp/toree-tmp-dir8172174803993100516/toree_add_deps/https/repo1.maven.org/maven2/com/esotericsoftware/kryo-shaded/3.0.3/kryo-shaded-3.0.3.pom\n",
      "-> New file at /tmp/toree-tmp-dir8172174803993100516/toree_add_deps/https/repo1.maven.org/maven2/net/sansa-stack/sansa-owl-spark_2.11/0.4.0/sansa-owl-spark_2.11-0.4.0.pom\n",
      "-> New file at /tmp/toree-tmp-dir8172174803993100516/toree_add_deps/https/repo1.maven.org/maven2/net/sourceforge/owlapi/owlapi-rio/5.1.5/owlapi-rio-5.1.5.pom\n",
      "-> New file at /tmp/toree-tmp-dir8172174803993100516/toree_add_deps/https/repo1.maven.org/maven2/org/apache/hadoop/hadoop-hdfs/2.6.5/hadoop-hdfs-2.6.5.pom\n",
      "-> New file at /tmp/toree-tmp-dir8172174803993100516/toree_add_deps/https/repo1.maven.org/maven2/org/apache/httpcomponents/httpmime/4.5.3/httpmime-4.5.3.pom\n",
      "-> New file at /tmp/toree-tmp-dir8172174803993100516/toree_add_deps/https/repo1.maven.org/maven2/javax/servlet/javax.servlet-api/3.1.0/javax.servlet-api-3.1.0.pom\n",
      "-> New file at /tmp/toree-tmp-dir8172174803993100516/toree_add_deps/https/repo1.maven.org/maven2/org/apache/hadoop/hadoop-common/2.7.0/hadoop-common-2.7.0.pom\n",
      "-> New file at /tmp/toree-tmp-dir8172174803993100516/toree_add_deps/https/repo1.maven.org/maven2/org/apache/httpcomponents/httpcore-nio/4.4.6/httpcore-nio-4.4.6.pom\n",
      "-> New file at /tmp/toree-tmp-dir8172174803993100516/toree_add_deps/https/repo1.maven.org/maven2/com/sun/xml/bind/jaxb-impl/2.2.3-1/jaxb-impl-2.2.3-1.jar\n",
      "-> New file at /tmp/toree-tmp-dir8172174803993100516/toree_add_deps/https/repo1.maven.org/maven2/com/sun/xml/bind/jaxb-impl/2.2.3-1/jaxb-impl-2.2.3-1.pom\n",
      "-> New file at /tmp/toree-tmp-dir8172174803993100516/toree_add_deps/https/repo1.maven.org/maven2/org/apache/httpcomponents/httpcore/4.4.6/httpcore-4.4.6.pom\n",
      "-> New file at /tmp/toree-tmp-dir8172174803993100516/toree_add_deps/https/repo1.maven.org/maven2/commons-beanutils/commons-beanutils/1.7.0/commons-beanutils-1.7.0.pom\n",
      "-> New file at /tmp/toree-tmp-dir8172174803993100516/toree_add_deps/https/repo1.maven.org/maven2/org/apache/spark/spark-network-common_2.11/2.3.1/spark-network-common_2.11-2.3.1.pom\n",
      "-> New file at /tmp/toree-tmp-dir8172174803993100516/toree_add_deps/https/repo1.maven.org/maven2/javax/xml/stream/stax-api/1.0-2/stax-api-1.0-2.jar\n",
      "-> New file at /tmp/toree-tmp-dir8172174803993100516/toree_add_deps/https/repo1.maven.org/maven2/javax/xml/stream/stax-api/1.0-2/stax-api-1.0-2.pom\n",
      "-> New file at /tmp/toree-tmp-dir8172174803993100516/toree_add_deps/https/repo1.maven.org/maven2/org/apache/hadoop/hadoop-mapreduce-client-app/2.6.5/hadoop-mapreduce-client-app-2.6.5.pom\n",
      "-> New file at /tmp/toree-tmp-dir8172174803993100516/toree_add_deps/https/repo1.maven.org/maven2/xerces/xercesImpl/2.9.1/xercesImpl-2.9.1.pom\n",
      "-> New file at /tmp/toree-tmp-dir8172174803993100516/toree_add_deps/https/repo1.maven.org/maven2/com/univocity/univocity-parsers/2.5.9/univocity-parsers-2.5.9.pom\n",
      "-> New file at /tmp/toree-tmp-dir8172174803993100516/toree_add_deps/https/repo1.maven.org/maven2/org/glassfish/jersey/core/jersey-client/2.22.2/jersey-client-2.22.2.pom\n",
      "-> New file at /tmp/toree-tmp-dir8172174803993100516/toree_add_deps/https/repo1.maven.org/maven2/net/sf/py4j/py4j/0.10.7/py4j-0.10.7.pom\n",
      "-> New file at /tmp/toree-tmp-dir8172174803993100516/toree_add_deps/https/repo1.maven.org/maven2/org/apache/hadoop/hadoop-mapreduce-client-shuffle/2.6.5/hadoop-mapreduce-client-shuffle-2.6.5.pom\n",
      "-> New file at /tmp/toree-tmp-dir8172174803993100516/toree_add_deps/https/repo1.maven.org/maven2/org/apache/parquet/parquet-jackson/1.8.3/parquet-jackson-1.8.3.pom\n",
      "-> New file at /tmp/toree-tmp-dir8172174803993100516/toree_add_deps/https/repo1.maven.org/maven2/org/fusesource/leveldbjni/leveldbjni-all/1.8/leveldbjni-all-1.8.pom\n",
      "-> New file at /tmp/toree-tmp-dir8172174803993100516/toree_add_deps/https/repo1.maven.org/maven2/com/google/inject/extensions/guice-servlet/3.0/guice-servlet-3.0.jar\n",
      "-> New file at /tmp/toree-tmp-dir8172174803993100516/toree_add_deps/https/repo1.maven.org/maven2/com/google/inject/extensions/guice-servlet/3.0/guice-servlet-3.0.pom\n",
      "-> New file at /tmp/toree-tmp-dir8172174803993100516/toree_add_deps/https/repo1.maven.org/maven2/org/apache/hadoop/hadoop-yarn-common/2.7.0/hadoop-yarn-common-2.7.0.pom\n",
      "-> New file at /tmp/toree-tmp-dir8172174803993100516/toree_add_deps/https/repo1.maven.org/maven2/org/apache/avro/avro-ipc/1.7.7/avro-ipc-1.7.7-tests.jar\n",
      "-> New file at /tmp/toree-tmp-dir8172174803993100516/toree_add_deps/https/repo1.maven.org/maven2/org/ow2/asm/asm/5.0.4/asm-5.0.4.jar\n",
      "-> New file at /tmp/toree-tmp-dir8172174803993100516/toree_add_deps/https/repo1.maven.org/maven2/com/jamesmurty/utils/java-xmlbuilder/1.1/java-xmlbuilder-1.1.pom\n",
      "-> New file at /tmp/toree-tmp-dir8172174803993100516/toree_add_deps/https/repo1.maven.org/maven2/org/ow2/asm/asm/5.0.4/asm-5.0.4.pom\n",
      "-> New file at /tmp/toree-tmp-dir8172174803993100516/toree_add_deps/https/repo1.maven.org/maven2/org/apache/curator/curator-recipes/2.7.1/curator-recipes-2.7.1.jar\n",
      "-> New file at /tmp/toree-tmp-dir8172174803993100516/toree_add_deps/https/repo1.maven.org/maven2/org/apache/httpcomponents/httpclient/4.5.3/httpclient-4.5.3.pom\n",
      "-> New file at /tmp/toree-tmp-dir8172174803993100516/toree_add_deps/https/repo1.maven.org/maven2/org/eclipse/rdf4j/rdf4j-rio-nquads/2.2.2/rdf4j-rio-nquads-2.2.2.pom\n",
      "-> New file at /tmp/toree-tmp-dir8172174803993100516/toree_add_deps/https/repo1.maven.org/maven2/org/codehaus/jackson/jackson-xc/1.9.13/jackson-xc-1.9.13.jar\n",
      "-> New file at /tmp/toree-tmp-dir8172174803993100516/toree_add_deps/https/repo1.maven.org/maven2/org/codehaus/jackson/jackson-xc/1.9.13/jackson-xc-1.9.13.pom\n",
      "-> New file at /tmp/toree-tmp-dir8172174803993100516/toree_add_deps/https/repo1.maven.org/maven2/org/apache/curator/curator-recipes/2.7.1/curator-recipes-2.7.1.pom\n",
      "-> New file at /tmp/toree-tmp-dir8172174803993100516/toree_add_deps/https/repo1.maven.org/maven2/org/eclipse/rdf4j/rdf4j-rio-trix/2.2.2/rdf4j-rio-trix-2.2.2.pom\n",
      "-> New file at /tmp/toree-tmp-dir8172174803993100516/toree_add_deps/https/repo1.maven.org/maven2/org/apache/commons/commons-crypto/1.0.0/commons-crypto-1.0.0.pom\n",
      "-> New file at /tmp/toree-tmp-dir8172174803993100516/toree_add_deps/https/repo1.maven.org/maven2/org/apache/spark/spark-unsafe_2.11/2.3.1/spark-unsafe_2.11-2.3.1.pom\n",
      "-> New file at /tmp/toree-tmp-dir8172174803993100516/toree_add_deps/https/repo1.maven.org/maven2/commons-configuration/commons-configuration/1.6/commons-configuration-1.6.jar\n",
      "-> New file at /tmp/toree-tmp-dir8172174803993100516/toree_add_deps/https/repo1.maven.org/maven2/org/apache/parquet/parquet-hadoop/1.8.3/parquet-hadoop-1.8.3.pom\n",
      "-> New file at /tmp/toree-tmp-dir8172174803993100516/toree_add_deps/https/repo1.maven.org/maven2/org/apache/avro/avro-ipc/1.7.7/avro-ipc-1.7.7.jar\n",
      "-> New file at /tmp/toree-tmp-dir8172174803993100516/toree_add_deps/https/repo1.maven.org/maven2/commons-configuration/commons-configuration/1.6/commons-configuration-1.6.pom\n",
      "-> New file at /tmp/toree-tmp-dir8172174803993100516/toree_add_deps/https/repo1.maven.org/maven2/commons-net/commons-net/3.1/commons-net-3.1.jar\n",
      "-> New file at /tmp/toree-tmp-dir8172174803993100516/toree_add_deps/https/repo1.maven.org/maven2/org/apache/avro/avro-ipc/1.7.7/avro-ipc-1.7.7.pom\n",
      "-> New file at /tmp/toree-tmp-dir8172174803993100516/toree_add_deps/https/repo1.maven.org/maven2/org/apache/parquet/parquet-column/1.8.3/parquet-column-1.8.3.pom\n",
      "-> New file at /tmp/toree-tmp-dir8172174803993100516/toree_add_deps/https/repo1.maven.org/maven2/commons-net/commons-net/3.1/commons-net-3.1.pom\n",
      "-> New file at /tmp/toree-tmp-dir8172174803993100516/toree_add_deps/https/repo1.maven.org/maven2/com/sun/jersey/jersey-client/1.9/jersey-client-1.9.jar\n",
      "-> New file at /tmp/toree-tmp-dir8172174803993100516/toree_add_deps/https/repo1.maven.org/maven2/com/sun/jersey/jersey-client/1.9/jersey-client-1.9.pom\n",
      "-> New file at /tmp/toree-tmp-dir8172174803993100516/toree_add_deps/https/repo1.maven.org/maven2/javax/xml/bind/jaxb-api/2.2.2/jaxb-api-2.2.2.jar\n",
      "-> New file at /tmp/toree-tmp-dir8172174803993100516/toree_add_deps/https/repo1.maven.org/maven2/javax/xml/bind/jaxb-api/2.2.2/jaxb-api-2.2.2.pom\n",
      "-> New file at /tmp/toree-tmp-dir8172174803993100516/toree_add_deps/https/repo1.maven.org/maven2/org/apache/httpcomponents/httpclient-cache/4.5.3/httpclient-cache-4.5.3.jar\n",
      "-> New file at /tmp/toree-tmp-dir8172174803993100516/toree_add_deps/https/repo1.maven.org/maven2/org/apache/httpcomponents/httpclient-cache/4.5.3/httpclient-cache-4.5.3.pom\n",
      "-> New file at /tmp/toree-tmp-dir8172174803993100516/toree_add_deps/https/repo1.maven.org/maven2/commons-codec/commons-codec/1.10/commons-codec-1.10.pom\n",
      "-> New file at /tmp/toree-tmp-dir8172174803993100516/toree_add_deps/https/repo1.maven.org/maven2/org/eclipse/rdf4j/rdf4j-rio-datatypes/2.2.2/rdf4j-rio-datatypes-2.2.2.pom\n",
      "-> New file at /tmp/toree-tmp-dir8172174803993100516/toree_add_deps/https/repo1.maven.org/maven2/com/thoughtworks/paranamer/paranamer/2.8/paranamer-2.8.pom\n",
      "-> New file at /tmp/toree-tmp-dir8172174803993100516/toree_add_deps/https/repo1.maven.org/maven2/org/apache/hadoop/hadoop-mapreduce-client-common/2.6.5/hadoop-mapreduce-client-common-2.6.5.pom\n",
      "-> New file at /tmp/toree-tmp-dir8172174803993100516/toree_add_deps/https/repo1.maven.org/maven2/org/apache/spark/spark-network-shuffle_2.11/2.3.1/spark-network-shuffle_2.11-2.3.1.pom\n",
      "-> New file at /tmp/toree-tmp-dir8172174803993100516/toree_add_deps/https/repo1.maven.org/maven2/org/apache/spark/spark-launcher_2.11/2.3.1/spark-launcher_2.11-2.3.1.pom\n",
      "-> New file at /tmp/toree-tmp-dir8172174803993100516/toree_add_deps/https/repo1.maven.org/maven2/net/sourceforge/owlapi/owlapi-impl/5.1.5/owlapi-impl-5.1.5.pom\n",
      "-> New file at /tmp/toree-tmp-dir8172174803993100516/toree_add_deps/https/repo1.maven.org/maven2/com/google/guava/guava/20.0/guava-20.0.pom\n",
      "-> New file at /tmp/toree-tmp-dir8172174803993100516/toree_add_deps/https/repo1.maven.org/maven2/io/netty/netty/3.9.9.Final/netty-3.9.9.Final.pom\n",
      "-> New file at /tmp/toree-tmp-dir8172174803993100516/toree_add_deps/https/repo1.maven.org/maven2/org/codehaus/janino/janino/3.0.8/janino-3.0.8.pom\n",
      "-> New file at /tmp/toree-tmp-dir8172174803993100516/toree_add_deps/https/repo1.maven.org/maven2/org/apache/hadoop/hadoop-auth/2.7.0/hadoop-auth-2.7.0.pom\n",
      "-> New file at /tmp/toree-tmp-dir8172174803993100516/toree_add_deps/https/repo1.maven.org/maven2/com/google/inject/extensions/guice-multibindings/4.1.0/guice-multibindings-4.1.0.pom\n",
      "-> New file at /tmp/toree-tmp-dir8172174803993100516/toree_add_deps/https/repo1.maven.org/maven2/com/sun/jersey/jersey-server/1.9/jersey-server-1.9.jar\n",
      "-> New file at /tmp/toree-tmp-dir8172174803993100516/toree_add_deps/https/repo1.maven.org/maven2/org/apache/spark/spark-catalyst_2.11/2.3.1/spark-catalyst_2.11-2.3.1.pom\n",
      "-> New file at /tmp/toree-tmp-dir8172174803993100516/toree_add_deps/https/repo1.maven.org/maven2/com/sun/jersey/jersey-server/1.9/jersey-server-1.9.pom\n",
      "-> New file at /tmp/toree-tmp-dir8172174803993100516/toree_add_deps/https/repo1.maven.org/maven2/net/iharder/base64/2.3.8/base64-2.3.8.pom\n",
      "-> New file at /tmp/toree-tmp-dir8172174803993100516/toree_add_deps/https/repo1.maven.org/maven2/org/apache/xbean/xbean-asm5-shaded/4.4/xbean-asm5-shaded-4.4.pom\n",
      "-> New file at /tmp/toree-tmp-dir8172174803993100516/toree_add_deps/https/repo1.maven.org/maven2/com/github/luben/zstd-jni/1.3.2-2/zstd-jni-1.3.2-2.pom\n",
      "-> New file at /tmp/toree-tmp-dir8172174803993100516/toree_add_deps/https/repo1.maven.org/maven2/asm/asm/3.1/asm-3.1.jar\n",
      "-> New file at /tmp/toree-tmp-dir8172174803993100516/toree_add_deps/https/repo1.maven.org/maven2/asm/asm/3.1/asm-3.1.pom\n",
      "-> New file at /tmp/toree-tmp-dir8172174803993100516/toree_add_deps/https/repo1.maven.org/maven2/org/glassfish/jersey/media/jersey-media-jaxb/2.22.2/jersey-media-jaxb-2.22.2.pom\n",
      "-> New file at /tmp/toree-tmp-dir8172174803993100516/toree_add_deps/https/repo1.maven.org/maven2/com/carrotsearch/hppc/0.7.2/hppc-0.7.2.pom\n",
      "-> New file at /tmp/toree-tmp-dir8172174803993100516/toree_add_deps/https/repo1.maven.org/maven2/net/sourceforge/owlapi/owlapi-oboformat/5.1.5/owlapi-oboformat-5.1.5.pom\n",
      "-> New file at /tmp/toree-tmp-dir8172174803993100516/toree_add_deps/https/repo1.maven.org/maven2/org/apache/spark/spark-tags_2.11/2.3.1/spark-tags_2.11-2.3.1.jar\n",
      "-> New file at /tmp/toree-tmp-dir8172174803993100516/toree_add_deps/https/repo1.maven.org/maven2/org/apache/spark/spark-tags_2.11/2.3.1/spark-tags_2.11-2.3.1.pom\n",
      "-> New file at /tmp/toree-tmp-dir8172174803993100516/toree_add_deps/https/repo1.maven.org/maven2/org/json4s/json4s-jackson_2.11/3.2.11/json4s-jackson_2.11-3.2.11.pom\n",
      "-> New file at /tmp/toree-tmp-dir8172174803993100516/toree_add_deps/https/repo1.maven.org/maven2/org/tukaani/xz/1.6/xz-1.6.pom\n",
      "-> New file at /tmp/toree-tmp-dir8172174803993100516/toree_add_deps/https/repo1.maven.org/maven2/org/apache/arrow/arrow-memory/0.8.0/arrow-memory-0.8.0.pom\n",
      "-> New file at /tmp/toree-tmp-dir8172174803993100516/toree_add_deps/https/repo1.maven.org/maven2/org/glassfish/jersey/bundles/repackaged/jersey-guava/2.22.2/jersey-guava-2.22.2.pom\n",
      "-> New file at /tmp/toree-tmp-dir8172174803993100516/toree_add_deps/https/repo1.maven.org/maven2/com/fasterxml/jackson/module/jackson-module-scala_2.11/2.6.7.1/jackson-module-scala_2.11-2.6.7.1.pom\n",
      "-> New file at /tmp/toree-tmp-dir8172174803993100516/toree_add_deps/https/repo1.maven.org/maven2/io/dropwizard/metrics/metrics-json/3.1.5/metrics-json-3.1.5.pom\n",
      "-> New file at /tmp/toree-tmp-dir8172174803993100516/toree_add_deps/https/repo1.maven.org/maven2/joda-time/joda-time/2.9.9/joda-time-2.9.9.pom\n",
      "-> New file at /tmp/toree-tmp-dir8172174803993100516/toree_add_deps/https/repo1.maven.org/maven2/org/eclipse/rdf4j/rdf4j-rio-turtle/2.2.2/rdf4j-rio-turtle-2.2.2.pom\n",
      "-> New file at /tmp/toree-tmp-dir8172174803993100516/toree_add_deps/https/repo1.maven.org/maven2/org/mortbay/jetty/jetty-util/6.1.26/jetty-util-6.1.26.jar\n",
      "-> New file at /tmp/toree-tmp-dir8172174803993100516/toree_add_deps/https/repo1.maven.org/maven2/org/mortbay/jetty/jetty-util/6.1.26/jetty-util-6.1.26.pom\n",
      "-> New file at /tmp/toree-tmp-dir8172174803993100516/toree_add_deps/https/repo1.maven.org/maven2/com/github/ben-manes/caffeine/caffeine/2.5.6/caffeine-2.5.6.pom\n",
      "-> New file at /tmp/toree-tmp-dir8172174803993100516/toree_add_deps/https/repo1.maven.org/maven2/net/sf/trove4j/trove4j/3.0.3/trove4j-3.0.3.pom\n",
      "-> New file at /tmp/toree-tmp-dir8172174803993100516/toree_add_deps/https/repo1.maven.org/maven2/commons-lang/commons-lang/2.6/commons-lang-2.6.jar\n",
      "-> New file at /tmp/toree-tmp-dir8172174803993100516/toree_add_deps/https/repo1.maven.org/maven2/commons-lang/commons-lang/2.6/commons-lang-2.6.pom\n",
      "-> New file at /tmp/toree-tmp-dir8172174803993100516/toree_add_deps/https/repo1.maven.org/maven2/org/eclipse/rdf4j/rdf4j-rio-languages/2.2.2/rdf4j-rio-languages-2.2.2.pom\n",
      "-> New file at /tmp/toree-tmp-dir8172174803993100516/toree_add_deps/https/repo1.maven.org/maven2/com/twitter/chill_2.11/0.8.4/chill_2.11-0.8.4.pom\n",
      "-> New file at /tmp/toree-tmp-dir8172174803993100516/toree_add_deps/https/repo1.maven.org/maven2/net/sourceforge/owlapi/owlapi-tools/5.1.5/owlapi-tools-5.1.5.pom\n",
      "-> New file at /tmp/toree-tmp-dir8172174803993100516/toree_add_deps/https/repo1.maven.org/maven2/com/fasterxml/jackson/core/jackson-databind/2.9.0/jackson-databind-2.9.0.pom\n",
      "-> New file at /tmp/toree-tmp-dir8172174803993100516/toree_add_deps/https/repo1.maven.org/maven2/org/apache/spark/spark-sketch_2.11/2.3.1/spark-sketch_2.11-2.3.1.pom\n",
      "-> New file at /tmp/toree-tmp-dir8172174803993100516/toree_add_deps/https/repo1.maven.org/maven2/org/eclipse/rdf4j/rdf4j-rio-n3/2.2.2/rdf4j-rio-n3-2.2.2.pom\n",
      "-> New file at /tmp/toree-tmp-dir8172174803993100516/toree_add_deps/https/repo1.maven.org/maven2/commons-cli/commons-cli/1.2/commons-cli-1.2.pom\n",
      "-> New file at /tmp/toree-tmp-dir8172174803993100516/toree_add_deps/https/repo1.maven.org/maven2/org/eclipse/rdf4j/rdf4j-model/2.2.2/rdf4j-model-2.2.2.pom\n",
      "-> New file at /tmp/toree-tmp-dir8172174803993100516/toree_add_deps/https/repo1.maven.org/maven2/com/esotericsoftware/kryo/4.0.0/kryo-4.0.0.jar\n",
      "-> New file at /tmp/toree-tmp-dir8172174803993100516/toree_add_deps/https/repo1.maven.org/maven2/org/apache/parquet/parquet-encoding/1.8.3/parquet-encoding-1.8.3.pom\n",
      "-> New file at /tmp/toree-tmp-dir8172174803993100516/toree_add_deps/https/repo1.maven.org/maven2/com/esotericsoftware/kryo/4.0.0/kryo-4.0.0.pom\n",
      "-> New file at /tmp/toree-tmp-dir8172174803993100516/toree_add_deps/https/repo1.maven.org/maven2/org/glassfish/hk2/external/javax.inject/2.4.0-b34/javax.inject-2.4.0-b34.pom\n",
      "-> New file at /tmp/toree-tmp-dir8172174803993100516/toree_add_deps/https/repo1.maven.org/maven2/org/apache/curator/curator-framework/2.7.1/curator-framework-2.7.1.jar\n",
      "-> New file at /tmp/toree-tmp-dir8172174803993100516/toree_add_deps/https/repo1.maven.org/maven2/org/apache/curator/curator-framework/2.7.1/curator-framework-2.7.1.pom\n",
      "-> New file at /tmp/toree-tmp-dir8172174803993100516/toree_add_deps/https/repo1.maven.org/maven2/org/eclipse/rdf4j/rdf4j-util/2.2.2/rdf4j-util-2.2.2.pom\n",
      "-> New file at /tmp/toree-tmp-dir8172174803993100516/toree_add_deps/https/repo1.maven.org/maven2/org/spark-project/spark/unused/1.0.0/unused-1.0.0.jar\n",
      "-> New file at /tmp/toree-tmp-dir8172174803993100516/toree_add_deps/https/repo1.maven.org/maven2/org/spark-project/spark/unused/1.0.0/unused-1.0.0.pom\n",
      "-> New file at /tmp/toree-tmp-dir8172174803993100516/toree_add_deps/https/repo1.maven.org/maven2/javax/annotation/javax.annotation-api/1.2/javax.annotation-api-1.2.pom\n",
      "-> New file at /tmp/toree-tmp-dir8172174803993100516/toree_add_deps/https/repo1.maven.org/maven2/io/dropwizard/metrics/metrics-graphite/3.1.5/metrics-graphite-3.1.5.pom\n",
      "-> New file at /tmp/toree-tmp-dir8172174803993100516/toree_add_deps/https/repo1.maven.org/maven2/io/netty/netty-all/4.1.17.Final/netty-all-4.1.17.Final.pom\n",
      "-> New file at /tmp/toree-tmp-dir8172174803993100516/toree_add_deps/https/repo1.maven.org/maven2/com/google/inject/extensions/guice-assistedinject/4.1.0/guice-assistedinject-4.1.0.pom\n",
      "-> New file at /tmp/toree-tmp-dir8172174803993100516/toree_add_deps/https/repo1.maven.org/maven2/org/apache/avro/avro/1.7.7/avro-1.7.7.jar\n",
      "-> New file at /tmp/toree-tmp-dir8172174803993100516/toree_add_deps/https/repo1.maven.org/maven2/org/apache/avro/avro/1.7.7/avro-1.7.7.pom\n",
      "-> New file at /tmp/toree-tmp-dir8172174803993100516/toree_add_deps/https/repo1.maven.org/maven2/org/apache/hadoop/hadoop-mapreduce-client-jobclient/2.6.5/hadoop-mapreduce-client-jobclient-2.6.5.pom\n",
      "-> New file at /tmp/toree-tmp-dir8172174803993100516/toree_add_deps/https/repo1.maven.org/maven2/org/glassfish/hk2/hk2-utils/2.4.0-b34/hk2-utils-2.4.0-b34.pom\n",
      "-> New file at /tmp/toree-tmp-dir8172174803993100516/toree_add_deps/https/repo1.maven.org/maven2/org/apache/avro/avro-mapred/1.7.7/avro-mapred-1.7.7-hadoop2.jar\n",
      "-> New file at /tmp/toree-tmp-dir8172174803993100516/toree_add_deps/https/repo1.maven.org/maven2/org/apache/htrace/htrace-core/3.1.0-incubating/htrace-core-3.1.0-incubating.pom\n",
      "-> New file at /tmp/toree-tmp-dir8172174803993100516/toree_add_deps/https/repo1.maven.org/maven2/org/codehaus/jettison/jettison/1.1/jettison-1.1.jar\n",
      "-> New file at /tmp/toree-tmp-dir8172174803993100516/toree_add_deps/https/repo1.maven.org/maven2/org/codehaus/jettison/jettison/1.1/jettison-1.1.pom\n",
      "-> New file at /tmp/toree-tmp-dir8172174803993100516/toree_add_deps/https/repo1.maven.org/maven2/org/apache/spark/spark-core_2.11/2.3.1/spark-core_2.11-2.3.1.pom\n",
      "-> New file at /tmp/toree-tmp-dir8172174803993100516/toree_add_deps/https/repo1.maven.org/maven2/com/sun/jersey/contribs/jersey-guice/1.9/jersey-guice-1.9.jar\n",
      "-> New file at /tmp/toree-tmp-dir8172174803993100516/toree_add_deps/https/repo1.maven.org/maven2/com/sun/jersey/contribs/jersey-guice/1.9/jersey-guice-1.9.pom\n",
      "-> New file at /tmp/toree-tmp-dir8172174803993100516/toree_add_deps/https/repo1.maven.org/maven2/org/apache/commons/commons-rdf-api/0.3.0-incubating/commons-rdf-api-0.3.0-incubating.pom\n",
      "-> New file at /tmp/toree-tmp-dir8172174803993100516/toree_add_deps/https/repo1.maven.org/maven2/org/eclipse/rdf4j/rdf4j-rio-ntriples/2.2.2/rdf4j-rio-ntriples-2.2.2.pom\n",
      "-> New file at /tmp/toree-tmp-dir8172174803993100516/toree_add_deps/https/repo1.maven.org/maven2/com/google/code/gson/gson/2.2.4/gson-2.2.4.pom\n",
      "-> New file at /tmp/toree-tmp-dir8172174803993100516/toree_add_deps/https/repo1.maven.org/maven2/com/google/code/findbugs/jsr305/3.0.2/jsr305-3.0.2.pom\n",
      "-> New file at /tmp/toree-tmp-dir8172174803993100516/toree_add_deps/https/repo1.maven.org/maven2/com/clearspring/analytics/stream/2.7.0/stream-2.7.0.pom\n",
      "-> New file at /tmp/toree-tmp-dir8172174803993100516/toree_add_deps/https/repo1.maven.org/maven2/org/eclipse/rdf4j/rdf4j-rio-api/2.2.2/rdf4j-rio-api-2.2.2.pom\n",
      "-> New file at /tmp/toree-tmp-dir8172174803993100516/toree_add_deps/https/repo1.maven.org/maven2/commons-httpclient/commons-httpclient/3.1/commons-httpclient-3.1.jar\n",
      "-> New file at /tmp/toree-tmp-dir8172174803993100516/toree_add_deps/https/repo1.maven.org/maven2/commons-httpclient/commons-httpclient/3.1/commons-httpclient-3.1.pom\n",
      "-> New file at /tmp/toree-tmp-dir8172174803993100516/toree_add_deps/https/repo1.maven.org/maven2/org/apache/commons/commons-lang3/3.5/commons-lang3-3.5.pom\n",
      "-> New file at /tmp/toree-tmp-dir8172174803993100516/toree_add_deps/https/repo1.maven.org/maven2/commons-io/commons-io/2.5/commons-io-2.5.pom\n",
      "-> New file at /tmp/toree-tmp-dir8172174803993100516/toree_add_deps/https/repo1.maven.org/maven2/org/apache/hadoop/hadoop-yarn-server-common/2.6.5/hadoop-yarn-server-common-2.6.5.pom\n",
      "-> New file at /tmp/toree-tmp-dir8172174803993100516/toree_add_deps/https/repo1.maven.org/maven2/org/apache/hadoop/hadoop-yarn-api/2.7.0/hadoop-yarn-api-2.7.0.pom\n",
      "-> New file at /tmp/toree-tmp-dir8172174803993100516/toree_add_deps/https/repo1.maven.org/maven2/org/apache/httpcomponents/httpclient-osgi/4.5.3/httpclient-osgi-4.5.3.pom\n",
      "-> New file at /tmp/toree-tmp-dir8172174803993100516/toree_add_deps/https/repo1.maven.org/maven2/com/fasterxml/jackson/core/jackson-core/2.9.0/jackson-core-2.9.0.jar\n",
      "-> New file at /tmp/toree-tmp-dir8172174803993100516/toree_add_deps/https/repo1.maven.org/maven2/com/fasterxml/jackson/core/jackson-core/2.9.0/jackson-core-2.9.0.pom\n",
      "-> New file at /tmp/toree-tmp-dir8172174803993100516/toree_add_deps/https/repo1.maven.org/maven2/org/glassfish/hk2/hk2-locator/2.4.0-b34/hk2-locator-2.4.0-b34.pom\n",
      "-> New file at /tmp/toree-tmp-dir8172174803993100516/toree_add_deps/https/repo1.maven.org/maven2/xmlenc/xmlenc/0.52/xmlenc-0.52.jar\n",
      "-> New file at /tmp/toree-tmp-dir8172174803993100516/toree_add_deps/https/repo1.maven.org/maven2/xmlenc/xmlenc/0.52/xmlenc-0.52.pom\n",
      "-> New file at /tmp/toree-tmp-dir8172174803993100516/toree_add_deps/https/repo1.maven.org/maven2/org/apache/commons/commons-compress/1.4.1/commons-compress-1.4.1.pom\n",
      "-> New file at /tmp/toree-tmp-dir8172174803993100516/toree_add_deps/https/repo1.maven.org/maven2/org/javassist/javassist/3.18.1-GA/javassist-3.18.1-GA.pom\n",
      "-> New file at /tmp/toree-tmp-dir8172174803993100516/toree_add_deps/https/repo1.maven.org/maven2/org/htrace/htrace-core/3.0.4/htrace-core-3.0.4.pom\n",
      "-> New file at /tmp/toree-tmp-dir8172174803993100516/toree_add_deps/https/repo1.maven.org/maven2/org/codehaus/jackson/jackson-jaxrs/1.9.13/jackson-jaxrs-1.9.13.jar\n",
      "-> New file at /tmp/toree-tmp-dir8172174803993100516/toree_add_deps/https/repo1.maven.org/maven2/org/codehaus/jackson/jackson-jaxrs/1.9.13/jackson-jaxrs-1.9.13.pom\n",
      "-> New file at /tmp/toree-tmp-dir8172174803993100516/toree_add_deps/https/repo1.maven.org/maven2/org/eclipse/rdf4j/rdf4j-rio-binary/2.2.2/rdf4j-rio-binary-2.2.2.pom\n",
      "-> New file at /tmp/toree-tmp-dir8172174803993100516/toree_add_deps/https/repo1.maven.org/maven2/commons-collections/commons-collections/3.2.1/commons-collections-3.2.1.pom\n",
      "-> New file at /tmp/toree-tmp-dir8172174803993100516/toree_add_deps/https/repo1.maven.org/maven2/org/codehaus/jackson/jackson-core-asl/1.9.13/jackson-core-asl-1.9.13.jar\n",
      "-> New file at /tmp/toree-tmp-dir8172174803993100516/toree_add_deps/https/repo1.maven.org/maven2/org/codehaus/jackson/jackson-core-asl/1.9.13/jackson-core-asl-1.9.13.pom\n",
      "-> New file at /tmp/toree-tmp-dir8172174803993100516/toree_add_deps/https/repo1.maven.org/maven2/org/xerial/snappy/snappy-java/1.1.2.6/snappy-java-1.1.2.6.jar\n",
      "-> New file at /tmp/toree-tmp-dir8172174803993100516/toree_add_deps/https/repo1.maven.org/maven2/org/json4s/json4s-ast_2.11/3.2.11/json4s-ast_2.11-3.2.11.pom\n",
      "-> New file at /tmp/toree-tmp-dir8172174803993100516/toree_add_deps/https/repo1.maven.org/maven2/log4j/log4j/1.2.17/log4j-1.2.17.zip\n",
      "-> New file at /tmp/toree-tmp-dir8172174803993100516/toree_add_deps/https/repo1.maven.org/maven2/org/xerial/snappy/snappy-java/1.1.2.6/snappy-java-1.1.2.6.pom\n",
      "-> New file at /tmp/toree-tmp-dir8172174803993100516/toree_add_deps/https/repo1.maven.org/maven2/log4j/log4j/1.2.17/log4j-1.2.17.tar.gz\n",
      "-> New file at /tmp/toree-tmp-dir8172174803993100516/toree_add_deps/https/repo1.maven.org/maven2/de/javakaffee/kryo-serializers/0.42/kryo-serializers-0.42.pom\n",
      "-> New file at /tmp/toree-tmp-dir8172174803993100516/toree_add_deps/https/repo1.maven.org/maven2/log4j/log4j/1.2.17/log4j-1.2.17.jar\n",
      "-> New file at /tmp/toree-tmp-dir8172174803993100516/toree_add_deps/https/repo1.maven.org/maven2/log4j/log4j/1.2.17/log4j-1.2.17.pom\n",
      "-> New file at /tmp/toree-tmp-dir8172174803993100516/toree_add_deps/https/repo1.maven.org/maven2/net/sourceforge/owlapi/owlapi-api/5.1.5/owlapi-api-5.1.5.pom\n",
      "-> New file at /tmp/toree-tmp-dir8172174803993100516/toree_add_deps/https/repo1.maven.org/maven2/org/codehaus/jackson/jackson-mapper-asl/1.9.13/jackson-mapper-asl-1.9.13.jar\n",
      "-> New file at /tmp/toree-tmp-dir8172174803993100516/toree_add_deps/https/repo1.maven.org/maven2/net/sourceforge/owlapi/owlapi-apibinding/5.1.5/owlapi-apibinding-5.1.5.pom\n",
      "-> New file at /tmp/toree-tmp-dir8172174803993100516/toree_add_deps/https/repo1.maven.org/maven2/org/codehaus/jackson/jackson-mapper-asl/1.9.13/jackson-mapper-asl-1.9.13.pom\n",
      "-> New file at /tmp/toree-tmp-dir8172174803993100516/toree_add_deps/https/repo1.maven.org/maven2/com/fasterxml/jackson/module/jackson-module-paranamer/2.7.9/jackson-module-paranamer-2.7.9.pom\n",
      "-> New file at /tmp/toree-tmp-dir8172174803993100516/toree_add_deps/https/repo1.maven.org/maven2/org/slf4j/slf4j-log4j12/1.7.16/slf4j-log4j12-1.7.16.pom\n",
      "-> New file at /tmp/toree-tmp-dir8172174803993100516/toree_add_deps/https/repo1.maven.org/maven2/org/apache/spark/spark-sql_2.11/2.3.1/spark-sql_2.11-2.3.1.pom\n",
      "-> New file at /tmp/toree-tmp-dir8172174803993100516/toree_add_deps/https/repo1.maven.org/maven2/javax/inject/javax.inject/1/javax.inject-1.jar\n",
      "-> New file at /tmp/toree-tmp-dir8172174803993100516/toree_add_deps/https/repo1.maven.org/maven2/com/typesafe/scala-logging/scala-logging_2.11/3.5.0/scala-logging_2.11-3.5.0.jar\n",
      "-> New file at /tmp/toree-tmp-dir8172174803993100516/toree_add_deps/https/repo1.maven.org/maven2/javax/inject/javax.inject/1/javax.inject-1.pom\n",
      "-> New file at /tmp/toree-tmp-dir8172174803993100516/toree_add_deps/https/repo1.maven.org/maven2/com/typesafe/scala-logging/scala-logging_2.11/3.5.0/scala-logging_2.11-3.5.0.pom\n",
      "-> New file at /tmp/toree-tmp-dir8172174803993100516/toree_add_deps/https/repo1.maven.org/maven2/org/bouncycastle/bcprov-jdk15on/1.52/bcprov-jdk15on-1.52.pom\n",
      "-> New file at /tmp/toree-tmp-dir8172174803993100516/toree_add_deps/https/repo1.maven.org/maven2/org/slf4j/jcl-over-slf4j/1.7.25/jcl-over-slf4j-1.7.25.jar\n",
      "-> New file at /tmp/toree-tmp-dir8172174803993100516/toree_add_deps/https/repo1.maven.org/maven2/org/apache/hadoop/hadoop-yarn-client/2.6.5/hadoop-yarn-client-2.6.5.pom\n",
      "-> New file at /tmp/toree-tmp-dir8172174803993100516/toree_add_deps/https/repo1.maven.org/maven2/org/slf4j/jcl-over-slf4j/1.7.25/jcl-over-slf4j-1.7.25.pom\n",
      "-> New file at /tmp/toree-tmp-dir8172174803993100516/toree_add_deps/https/repo1.maven.org/maven2/xml-apis/xml-apis/1.3.04/xml-apis-1.3.04.pom\n",
      "Marking net.sansa-stack:sansa-query-spark_2.11:0.4.0 for download\n",
      "Preparing to fetch from:\n",
      "-> file:/tmp/toree-tmp-dir8172174803993100516/toree_add_deps/\n",
      "-> https://repo1.maven.org/maven2\n",
      "-> New file at /tmp/toree-tmp-dir8172174803993100516/toree_add_deps/https/repo1.maven.org/maven2/net/sansa-stack/sansa-query-spark_2.11/0.4.0/sansa-query-spark_2.11-0.4.0.jar\n",
      "-> New file at /tmp/toree-tmp-dir8172174803993100516/toree_add_deps/https/repo1.maven.org/maven2/net/sansa-stack/sansa-query-spark_2.11/0.4.0/sansa-query-spark_2.11-0.4.0.pom\n"
     ]
    }
   ],
   "source": [
    "%AddDeps net.sansa-stack sansa-rdf-spark_2.11 0.4.0 --transitive\n",
    "%AddDeps net.sansa-stack sansa-owl-spark_2.11 0.4.0 --transitive\n",
    "%AddDeps net.sansa-stack sansa-query-spark_2.11 0.4.0"
   ]
  },
  {
   "cell_type": "code",
   "execution_count": 17,
   "metadata": {},
   "outputs": [
    {
     "data": {
      "text/plain": [
       "input = wasbs://storage@pipelines1.blob.core.windows.net//go/go.owl\n",
       "lang = Lang:RDF/XML\n",
       "triples = MapPartitionsRDD[1] at map at package.scala:225\n"
      ]
     },
     "metadata": {},
     "output_type": "display_data",
     "source": "user"
    },
    {
     "data": {
      "text/plain": [
       "MapPartitionsRDD[1] at map at package.scala:225"
      ]
     },
     "execution_count": 17,
     "metadata": {},
     "output_type": "execute_result"
    }
   ],
   "source": [
    "import net.sansa_stack.rdf.spark.io._\n",
    "import org.apache.jena.riot.Lang\n",
    "\n",
    "val input = az(\"/go/go.owl\")\n",
    "\n",
    "val lang = Lang.RDFXML\n",
    "val triples = spark.rdf(lang)(input)"
   ]
  },
  {
   "cell_type": "code",
   "execution_count": 23,
   "metadata": {},
   "outputs": [
    {
     "data": {
      "text/plain": [
       "toGO: (id: String)org.apache.jena.graph.Node\n"
      ]
     },
     "metadata": {},
     "output_type": "display_data",
     "source": "user"
    }
   ],
   "source": [
    "import net.sansa_stack.rdf.spark.model._\n",
    "import net.sansa_stack.query.spark.query\n",
    "\n",
    "import org.apache.jena.graph.NodeFactory\n",
    "def toGO(id: String) = NodeFactory.createURI(id.replace(\"GO:\",\"http://purl.obolibrary.org/obo/GO_\"))"
   ]
  },
  {
   "cell_type": "code",
   "execution_count": 19,
   "metadata": {},
   "outputs": [
    {
     "data": {
      "text/plain": [
       "g = org.apache.spark.graphx.impl.GraphImpl@9009ebf\n"
      ]
     },
     "metadata": {},
     "output_type": "display_data",
     "source": "user"
    },
    {
     "data": {
      "text/plain": [
       "org.apache.spark.graphx.impl.GraphImpl@9009ebf"
      ]
     },
     "execution_count": 19,
     "metadata": {},
     "output_type": "execute_result"
    }
   ],
   "source": [
    "import net.sansa_stack.rdf.spark.model.graph._\n",
    "val g = GraphOps.constructStringGraph(triples).cache\n",
    "g"
   ]
  },
  {
   "cell_type": "code",
   "execution_count": 20,
   "metadata": {},
   "outputs": [
    {
     "data": {
      "text/plain": [
       "alternative = http://www.geneontology.org/formats/oboInOwl#hasAlternativeId\n",
       "namespace = http://www.geneontology.org/formats/oboInOwl#hasOBONamespace\n"
      ]
     },
     "metadata": {},
     "output_type": "display_data",
     "source": "user"
    },
    {
     "data": {
      "text/plain": [
       "error: error while loading EdgeDirection, class file '/usr/local/spark-2.3.0-bin-hadoop2.7/jars/spark-graphx_2.11-2.3.0.jar(org/apache/spark/graphx/EdgeDirection.class)' has location not matching its contents: contains class EdgeDirection\n",
       "error: error while loading EdgeTriplet, class file '/usr/local/spark-2.3.0-bin-hadoop2.7/jars/spark-graphx_2.11-2.3.0.jar(org/apache/spark/graphx/EdgeTriplet.class)' has location not matching its contents: contains class EdgeTriplet\n",
       "error: error while loading GraphOps, class file '/usr/local/spark-2.3.0-bin-hadoop2.7/jars/spark-graphx_2.11-2.3.0.jar(org/apache/spark/graphx/GraphOps.class)' has location not matching its contents: contains class GraphOps\n",
       "error: error while loading PartitionStrategy, class file '/usr/local/spark-2.3.0-bin-hadoop2.7/jars/spark-graphx_2.11-2.3.0.jar(org/apache/spark/graphx/PartitionStrategy.class)' has location not matching its contents: contains trait PartitionStrategy\n",
       "error: error while loading TripletFields, class file '/usr/local/spark-2.3.0-bin-hadoop2.7/jars/spark-graphx_2.11-2.3.0.jar(org/apache/spark/graphx/TripletFields.class)' has location not matching its contents: contains class TripletFields\n",
       "error: error while loading Pregel, class file '/usr/local/spark-2.3.0-bin-hadoop2.7/jars/spark-graphx_2.11-2.3.0.jar(org/apache/spark/graphx/Pregel.class)' has location not matching its contents: contains class Pregel\n",
       "error: error while loading EdgeRDD, class file '/usr/local/spark-2.3.0-bin-hadoop2.7/jars/spark-graphx_2.11-2.3.0.jar(org/apache/spark/graphx/EdgeRDD.class)' has location not matching its contents: contains class EdgeRDD\n",
       "error: error while loading GraphXUtils, class file '/usr/local/spark-2.3.0-bin-hadoop2.7/jars/spark-graphx_2.11-2.3.0.jar(org/apache/spark/graphx/GraphXUtils.class)' has location not matching its contents: contains class GraphXUtils\n",
       "error: error while loading GraphLoader, class file '/usr/local/spark-2.3.0-bin-hadoop2.7/jars/spark-graphx_2.11-2.3.0.jar(org/apache/spark/graphx/GraphLoader.class)' has location not matching its contents: contains class GraphLoader\n",
       "error: error while loading VertexRDD, class file '/usr/local/spark-2.3.0-bin-hadoop2.7/jars/spark-graphx_2.11-2.3.0.jar(org/apache/spark/graphx/VertexRDD.class)' has location not matching its contents: contains class VertexRDD\n",
       "error: error while loading EdgeContext, class file '/usr/local/spark-2.3.0-bin-hadoop2.7/jars/spark-graphx_2.11-2.3.0.jar(org/apache/spark/graphx/EdgeContext.class)' has location not matching its contents: contains class EdgeContext\n",
       "error: error while loading Edge, class file '/usr/local/spark-2.3.0-bin-hadoop2.7/jars/spark-graphx_2.11-2.3.0.jar(org/apache/spark/graphx/Edge.class)' has location not matching its contents: contains class Edge\n",
       "error: error while loading Graph, class file '/usr/local/spark-2.3.0-bin-hadoop2.7/jars/spark-graphx_2.11-2.3.0.jar(org/apache/spark/graphx/Graph.class)' has location not matching its contents: contains class Graph\n",
       "error: error while loading package, class file '/usr/local/spark-2.3.0-bin-hadoop2.7/jars/spark-graphx_2.11-2.3.0.jar(org/apache/spark/graphx/lib/package.class)' has location not matching its contents: contains package object lib\n",
       "error: error while loading package, class file '/usr/local/spark-2.3.0-bin-hadoop2.7/jars/spark-graphx_2.11-2.3.0.jar(org/apache/spark/graphx/impl/package.class)' has location not matching its contents: contains package object impl\n",
       "error: error while loading package, class file '/usr/local/spark-2.3.0-bin-hadoop2.7/jars/spark-graphx_2.11-2.3.0.jar(org/apache/spark/graphx/util/package.class)' has location not matching its contents: contains package object util\n",
       "error: error while loading VertexAttributeBlock, class file '/usr/local/spark-2.3.0-bin-hadoop2.7/jars/spark-graphx_2.11-2.3.0.jar(org/apache/spark/graphx/impl/VertexAttributeBlock.class)' has location not matching its contents: contains class VertexAttributeBlock\n",
       "error: error while loading EdgeRDDImpl, class file '/usr/local/spark-2.3.0-bin-hadoop2.7/jars/spark-graphx_2.11-2.3.0.jar(org/apache/spark/graphx/impl/EdgeRDDImpl.class)' has location not matching its contents: contains class EdgeRDDImpl\n",
       "error: error while loading VertexPartitionBaseOps, class file '/usr/local/spark-2.3.0-bin-hadoop2.7/jars/spark-graphx_2.11-2.3.0.jar(org/apache/spark/graphx/impl/VertexPartitionBaseOps.class)' has location not matching its contents: contains class VertexPartitionBaseOps\n",
       "error: error while loading RoutingTablePartition, class file '/usr/local/spark-2.3.0-bin-hadoop2.7/jars/spark-graphx_2.11-2.3.0.jar(org/apache/spark/graphx/impl/RoutingTablePartition.class)' has location not matching its contents: contains class RoutingTablePartition\n",
       "error: error while loading VertexPartition, class file '/usr/local/spark-2.3.0-bin-hadoop2.7/jars/spark-graphx_2.11-2.3.0.jar(org/apache/spark/graphx/impl/VertexPartition.class)' has location not matching its contents: contains class VertexPartition\n",
       "error: error while loading ShippableVertexPartitionOps, class file '/usr/local/spark-2.3.0-bin-hadoop2.7/jars/spark-graphx_2.11-2.3.0.jar(org/apache/spark/graphx/impl/ShippableVertexPartitionOps.class)' has location not matching its contents: contains class ShippableVertexPartitionOps\n",
       "error: error while loading ReplicatedVertexView, class file '/usr/local/spark-2.3.0-bin-hadoop2.7/jars/spark-graphx_2.11-2.3.0.jar(org/apache/spark/graphx/impl/ReplicatedVertexView.class)' has location not matching its contents: contains class ReplicatedVertexView\n",
       "error: error while loading ShippableVertexPartition, class file '/usr/local/spark-2.3.0-bin-hadoop2.7/jars/spark-graphx_2.11-2.3.0.jar(org/apache/spark/graphx/impl/ShippableVertexPartition.class)' has location not matching its contents: contains class ShippableVertexPartition\n",
       "error: error while loading AggregatingEdgeContext, class file '/usr/local/spark-2.3.0-bin-hadoop2.7/jars/spark-graphx_2.11-2.3.0.jar(org/apache/spark/graphx/impl/AggregatingEdgeContext.class)' has location not matching its contents: contains class AggregatingEdgeContext\n",
       "error: error while loading VertexPartitionOps, class file '/usr/local/spark-2.3.0-bin-hadoop2.7/jars/spark-graphx_2.11-2.3.0.jar(org/apache/spark/graphx/impl/VertexPartitionOps.class)' has location not matching its contents: contains class VertexPartitionOps\n",
       "error: error while loading EdgeActiveness, class file '/usr/local/spark-2.3.0-bin-hadoop2.7/jars/spark-graphx_2.11-2.3.0.jar(org/apache/spark/graphx/impl/EdgeActiveness.class)' has location not matching its contents: contains class EdgeActiveness\n",
       "error: error while loading EdgeWithLocalIds, class file '/usr/local/spark-2.3.0-bin-hadoop2.7/jars/spark-graphx_2.11-2.3.0.jar(org/apache/spark/graphx/impl/EdgeWithLocalIds.class)' has location not matching its contents: contains class EdgeWithLocalIds\n",
       "error: error while loading VertexRDDImpl, class file '/usr/local/spark-2.3.0-bin-hadoop2.7/jars/spark-graphx_2.11-2.3.0.jar(org/apache/spark/graphx/impl/VertexRDDImpl.class)' has location not matching its contents: contains class VertexRDDImpl\n",
       "error: error while loading VertexPartitionBaseOpsConstructor, class file '/usr/local/spark-2.3.0-bin-hadoop2.7/jars/spark-graphx_2.11-2.3.0.jar(org/apache/spark/graphx/impl/VertexPartitionBaseOpsConstructor.class)' has location not matching its contents: contains trait VertexPartitionBaseOpsConstructor\n",
       "error: error while loading GraphImpl, class file '/usr/local/spark-2.3.0-bin-hadoop2.7/jars/spark-graphx_2.11-2.3.0.jar(org/apache/spark/graphx/impl/GraphImpl.class)' has location not matching its contents: contains class GraphImpl\n",
       "error: error while loading VertexPartitionBase, class file '/usr/local/spark-2.3.0-bin-hadoop2.7/jars/spark-graphx_2.11-2.3.0.jar(org/apache/spark/graphx/impl/VertexPartitionBase.class)' has location not matching its contents: contains class VertexPartitionBase\n",
       "error: error while loading EdgePartition, class file '/usr/local/spark-2.3.0-bin-hadoop2.7/jars/spark-graphx_2.11-2.3.0.jar(org/apache/spark/graphx/impl/EdgePartition.class)' has location not matching its contents: contains class EdgePartition\n",
       "error: error while loading EdgePartitionBuilder, class file '/usr/local/spark-2.3.0-bin-hadoop2.7/jars/spark-graphx_2.11-2.3.0.jar(org/apache/spark/graphx/impl/EdgePartitionBuilder.class)' has location not matching its contents: contains class EdgePartitionBuilder\n",
       "error: error while loading ExistingEdgePartitionBuilder, class file '/usr/local/spark-2.3.0-bin-hadoop2.7/jars/spark-graphx_2.11-2.3.0.jar(org/apache/spark/graphx/impl/ExistingEdgePartitionBuilder.class)' has location not matching its contents: contains class ExistingEdgePartitionBuilder\n",
       "uri: (str: String)org.apache.jena.graph.Node\n",
       "toGO: (id: String)org.apache.jena.graph.Node\n"
      ]
     },
     "metadata": {},
     "output_type": "display_data",
     "source": "user"
    },
    {
     "data": {
      "text/plain": [
       "http://www.geneontology.org/formats/oboInOwl#hasOBONamespace"
      ]
     },
     "execution_count": 20,
     "metadata": {},
     "output_type": "execute_result"
    }
   ],
   "source": [
    "import org.apache.jena.graph.NodeFactory\n",
    "def uri(str: String) = NodeFactory.createURI(str)\n",
    "def toGO(id: String) = uri(id.replace(\"GO:\",\"http://purl.obolibrary.org/obo/go#\"))\n",
    "val alternative = uri(\"http://www.geneontology.org/formats/oboInOwl#hasAlternativeId\")\n",
    "val namespace =  uri(\"http://www.geneontology.org/formats/oboInOwl#hasOBONamespace\")\n"
   ]
  },
  {
   "cell_type": "code",
   "execution_count": 21,
   "metadata": {},
   "outputs": [
    {
     "data": {
      "text/plain": [
       "namespaces = [s: string, namespace: string]\n",
       "labels = [s: string, label: string]\n",
       "go_anno = [GO: string, namespace: string ... 1 more field]\n"
      ]
     },
     "metadata": {},
     "output_type": "display_data",
     "source": "user"
    },
    {
     "data": {
      "text/plain": [
       "error: error while loading QualifiedTableName, class file '/usr/local/spark-2.3.0-bin-hadoop2.7/jars/spark-catalyst_2.11-2.3.0.jar(org/apache/spark/sql/catalyst/QualifiedTableName.class)' has location not matching its contents: contains class QualifiedTableName\n",
       "error: error while loading JavaTypeInference, class file '/usr/local/spark-2.3.0-bin-hadoop2.7/jars/spark-catalyst_2.11-2.3.0.jar(org/apache/spark/sql/catalyst/JavaTypeInference.class)' has location not matching its contents: contains class JavaTypeInference\n",
       "error: error while loading FunctionIdentifier, class file '/usr/local/spark-2.3.0-bin-hadoop2.7/jars/spark-catalyst_2.11-2.3.0.jar(org/apache/spark/sql/catalyst/FunctionIdentifier.class)' has location not matching its contents: contains class FunctionIdentifier\n",
       "error: error while loading DefinedByConstructorParams, class file '/usr/local/spark-2.3.0-bin-hadoop2.7/jars/spark-catalyst_2.11-2.3.0.jar(org/apache/spark/sql/catalyst/DefinedByConstructorParams.class)' has location not matching its contents: contains class DefinedByConstructorParams\n",
       "error: error while loading IdentifierWithDatabase, class file '/usr/local/spark-2.3.0-bin-hadoop2.7/jars/spark-catalyst_2.11-2.3.0.jar(org/apache/spark/sql/catalyst/IdentifierWithDatabase.class)' has location not matching its contents: contains class IdentifierWithDatabase\n",
       "error: error while loading SpecializedGetters, class file '/usr/local/spark-2.3.0-bin-hadoop2.7/jars/spark-catalyst_2.11-2.3.0.jar(org/apache/spark/sql/catalyst/expressions/SpecializedGetters.class)' has location not matching its contents: contains class SpecializedGetters\n",
       "error: error while loading Decimal, class file '/usr/local/spark-2.3.0-bin-hadoop2.7/jars/spark-catalyst_2.11-2.3.0.jar(org/apache/spark/sql/types/Decimal.class)' has location not matching its contents: contains class Decimal\n",
       "error: error while loading ScalaReflection, class file '/usr/local/spark-2.3.0-bin-hadoop2.7/jars/spark-catalyst_2.11-2.3.0.jar(org/apache/spark/sql/catalyst/ScalaReflection.class)' has location not matching its contents: contains trait ScalaReflection\n",
       "error: error while loading CatalystTypeConverters, class file '/usr/local/spark-2.3.0-bin-hadoop2.7/jars/spark-catalyst_2.11-2.3.0.jar(org/apache/spark/sql/catalyst/CatalystTypeConverters.class)' has location not matching its contents: contains class CatalystTypeConverters\n",
       "error: error while loading package, class file '/usr/local/spark-2.3.0-bin-hadoop2.7/jars/spark-catalyst_2.11-2.3.0.jar(org/apache/spark/sql/catalyst/dsl/package.class)' has location not matching its contents: contains package object dsl\n",
       "error: error while loading package, class file '/usr/local/spark-2.3.0-bin-hadoop2.7/jars/spark-catalyst_2.11-2.3.0.jar(org/apache/spark/sql/catalyst/util/package.class)' has location not matching its contents: contains package object util\n",
       "error: error while loading package, class file '/usr/local/spark-2.3.0-bin-hadoop2.7/jars/spark-catalyst_2.11-2.3.0.jar(org/apache/spark/sql/catalyst/errors/package.class)' has location not matching its contents: contains package object errors\n",
       "error: error while loading ByteType, class file '/usr/local/spark-2.3.0-bin-hadoop2.7/jars/spark-catalyst_2.11-2.3.0.jar(org/apache/spark/sql/types/ByteType.class)' has location not matching its contents: contains class ByteType\n",
       "error: error while loading PythonUserDefinedType, class file '/usr/local/spark-2.3.0-bin-hadoop2.7/jars/spark-catalyst_2.11-2.3.0.jar(org/apache/spark/sql/types/PythonUserDefinedType.class)' has location not matching its contents: contains class PythonUserDefinedType\n",
       "error: error while loading Metadata, class file '/usr/local/spark-2.3.0-bin-hadoop2.7/jars/spark-catalyst_2.11-2.3.0.jar(org/apache/spark/sql/types/Metadata.class)' has location not matching its contents: contains class Metadata\n",
       "error: error while loading UserDefinedType, class file '/usr/local/spark-2.3.0-bin-hadoop2.7/jars/spark-catalyst_2.11-2.3.0.jar(org/apache/spark/sql/types/UserDefinedType.class)' has location not matching its contents: contains class UserDefinedType\n",
       "error: error while loading LongType, class file '/usr/local/spark-2.3.0-bin-hadoop2.7/jars/spark-catalyst_2.11-2.3.0.jar(org/apache/spark/sql/types/LongType.class)' has location not matching its contents: contains class LongType\n",
       "error: error while loading DataTypes, class file '/usr/local/spark-2.3.0-bin-hadoop2.7/jars/spark-catalyst_2.11-2.3.0.jar(org/apache/spark/sql/types/DataTypes.class)' has location not matching its contents: contains class DataTypes\n",
       "error: error while loading NumericType, class file '/usr/local/spark-2.3.0-bin-hadoop2.7/jars/spark-catalyst_2.11-2.3.0.jar(org/apache/spark/sql/types/NumericType.class)' has location not matching its contents: contains class NumericType\n",
       "error: error while loading StructField, class file '/usr/local/spark-2.3.0-bin-hadoop2.7/jars/spark-catalyst_2.11-2.3.0.jar(org/apache/spark/sql/types/StructField.class)' has location not matching its contents: contains class StructField\n",
       "error: error while loading MetadataBuilder, class file '/usr/local/spark-2.3.0-bin-hadoop2.7/jars/spark-catalyst_2.11-2.3.0.jar(org/apache/spark/sql/types/MetadataBuilder.class)' has location not matching its contents: contains class MetadataBuilder\n",
       "error: error while loading FractionalType, class file '/usr/local/spark-2.3.0-bin-hadoop2.7/jars/spark-catalyst_2.11-2.3.0.jar(org/apache/spark/sql/types/FractionalType.class)' has location not matching its contents: contains class FractionalType\n",
       "error: error while loading TypeCollection, class file '/usr/local/spark-2.3.0-bin-hadoop2.7/jars/spark-catalyst_2.11-2.3.0.jar(org/apache/spark/sql/types/TypeCollection.class)' has location not matching its contents: contains class TypeCollection\n",
       "error: error while loading DoubleType, class file '/usr/local/spark-2.3.0-bin-hadoop2.7/jars/spark-catalyst_2.11-2.3.0.jar(org/apache/spark/sql/types/DoubleType.class)' has location not matching its contents: contains class DoubleType\n",
       "error: error while loading AnyDataType, class file '/usr/local/spark-2.3.0-bin-hadoop2.7/jars/spark-catalyst_2.11-2.3.0.jar(org/apache/spark/sql/types/AnyDataType.class)' has location not matching its contents: contains class AnyDataType\n",
       "error: error while loading StringType, class file '/usr/local/spark-2.3.0-bin-hadoop2.7/jars/spark-catalyst_2.11-2.3.0.jar(org/apache/spark/sql/types/StringType.class)' has location not matching its contents: contains class StringType\n",
       "error: error while loading ObjectType, class file '/usr/local/spark-2.3.0-bin-hadoop2.7/jars/spark-catalyst_2.11-2.3.0.jar(org/apache/spark/sql/types/ObjectType.class)' has location not matching its contents: contains class ObjectType\n",
       "error: error while loading NullType, class file '/usr/local/spark-2.3.0-bin-hadoop2.7/jars/spark-catalyst_2.11-2.3.0.jar(org/apache/spark/sql/types/NullType.class)' has location not matching its contents: contains class NullType\n",
       "error: error while loading ShortType, class file '/usr/local/spark-2.3.0-bin-hadoop2.7/jars/spark-catalyst_2.11-2.3.0.jar(org/apache/spark/sql/types/ShortType.class)' has location not matching its contents: contains class ShortType\n",
       "error: error while loading IntegralType, class file '/usr/local/spark-2.3.0-bin-hadoop2.7/jars/spark-catalyst_2.11-2.3.0.jar(org/apache/spark/sql/types/IntegralType.class)' has location not matching its contents: contains class IntegralType\n",
       "error: error while loading AbstractDataType, class file '/usr/local/spark-2.3.0-bin-hadoop2.7/jars/spark-catalyst_2.11-2.3.0.jar(org/apache/spark/sql/types/AbstractDataType.class)' has location not matching its contents: contains class AbstractDataType\n",
       "error: error while loading Expression, class file '/usr/local/spark-2.3.0-bin-hadoop2.7/jars/spark-catalyst_2.11-2.3.0.jar(org/apache/spark/sql/catalyst/expressions/Expression.class)' has location not matching its contents: contains class Expression\n",
       "error: error while loading InterpretedOrdering, class file '/usr/local/spark-2.3.0-bin-hadoop2.7/jars/spark-catalyst_2.11-2.3.0.jar(org/apache/spark/sql/catalyst/expressions/InterpretedOrdering.class)' has location not matching its contents: contains class InterpretedOrdering\n",
       "error: error while loading HiveStringType, class file '/usr/local/spark-2.3.0-bin-hadoop2.7/jars/spark-catalyst_2.11-2.3.0.jar(org/apache/spark/sql/types/HiveStringType.class)' has location not matching its contents: contains class HiveStringType\n",
       "error: error while loading ArrayType, class file '/usr/local/spark-2.3.0-bin-hadoop2.7/jars/spark-catalyst_2.11-2.3.0.jar(org/apache/spark/sql/types/ArrayType.class)' has location not matching its contents: contains class ArrayType\n",
       "error: error while loading BinaryType, class file '/usr/local/spark-2.3.0-bin-hadoop2.7/jars/spark-catalyst_2.11-2.3.0.jar(org/apache/spark/sql/types/BinaryType.class)' has location not matching its contents: contains class BinaryType\n",
       "error: error while loading TimestampType, class file '/usr/local/spark-2.3.0-bin-hadoop2.7/jars/spark-catalyst_2.11-2.3.0.jar(org/apache/spark/sql/types/TimestampType.class)' has location not matching its contents: contains class TimestampType\n",
       "error: error while loading BooleanType, class file '/usr/local/spark-2.3.0-bin-hadoop2.7/jars/spark-catalyst_2.11-2.3.0.jar(org/apache/spark/sql/types/BooleanType.class)' has location not matching its contents: contains class BooleanType\n",
       "error: error while loading IntegerType, class file '/usr/local/spark-2.3.0-bin-hadoop2.7/jars/spark-catalyst_2.11-2.3.0.jar(org/apache/spark/sql/types/IntegerType.class)' has location not matching its contents: contains class IntegerType\n",
       "error: error while loading DecimalType, class file '/usr/local/spark-2.3.0-bin-hadoop2.7/jars/spark-catalyst_2.11-2.3.0.jar(org/apache/spark/sql/types/DecimalType.class)' has location not matching its contents: contains class DecimalType\n",
       "error: error while loading SQLUserDefinedType, class file '/usr/local/spark-2.3.0-bin-hadoop2.7/jars/spark-catalyst_2.11-2.3.0.jar(org/apache/spark/sql/types/SQLUserDefinedType.class)' has location not matching its contents: contains class SQLUserDefinedType\n",
       "error: error while loading FloatType, class file '/usr/local/spark-2.3.0-bin-hadoop2.7/jars/spark-catalyst_2.11-2.3.0.jar(org/apache/spark/sql/types/FloatType.class)' has location not matching its contents: contains class FloatType\n",
       "error: error while loading CalendarIntervalType, class file '/usr/local/spark-2.3.0-bin-hadoop2.7/jars/spark-catalyst_2.11-2.3.0.jar(org/apache/spark/sql/types/CalendarIntervalType.class)' has location not matching its contents: contains class CalendarIntervalType\n",
       "error: error while loading CharType, class file '/usr/local/spark-2.3.0-bin-hadoop2.7/jars/spark-catalyst_2.11-2.3.0.jar(org/apache/spark/sql/types/CharType.class)' has location not matching its contents: contains class CharType\n",
       "error: error while loading MapType, class file '/usr/local/spark-2.3.0-bin-hadoop2.7/jars/spark-catalyst_2.11-2.3.0.jar(org/apache/spark/sql/types/MapType.class)' has location not matching its contents: contains class MapType\n",
       "error: error while loading DateType, class file '/usr/local/spark-2.3.0-bin-hadoop2.7/jars/spark-catalyst_2.11-2.3.0.jar(org/apache/spark/sql/types/DateType.class)' has location not matching its contents: contains class DateType\n",
       "error: error while loading AtomicType, class file '/usr/local/spark-2.3.0-bin-hadoop2.7/jars/spark-catalyst_2.11-2.3.0.jar(org/apache/spark/sql/types/AtomicType.class)' has location not matching its contents: contains class AtomicType\n",
       "error: error while loading VarcharType, class file '/usr/local/spark-2.3.0-bin-hadoop2.7/jars/spark-catalyst_2.11-2.3.0.jar(org/apache/spark/sql/types/VarcharType.class)' has location not matching its contents: contains class VarcharType\n",
       "error: error while loading UDTRegistration, class file '/usr/local/spark-2.3.0-bin-hadoop2.7/jars/spark-catalyst_2.11-2.3.0.jar(org/apache/spark/sql/types/UDTRegistration.class)' has location not matching its contents: contains class UDTRegistration\n",
       "toGO: org.apache.spark.sql.expressions.UserDefinedFunction\n"
      ]
     },
     "metadata": {},
     "output_type": "display_data",
     "source": "user"
    },
    {
     "data": {
      "text/plain": [
       "[GO: string, namespace: string ... 1 more field]"
      ]
     },
     "execution_count": 21,
     "metadata": {},
     "output_type": "execute_result"
    }
   ],
   "source": [
    "val namespaces = triples.toDF.where($\"p\" === \"http://www.geneontology.org/formats/oboInOwl#hasOBONamespace\").select(\"s\", \"o\").withColumnRenamed(\"o\", \"namespace\")\n",
    "val labels = triples.toDF.where($\"p\" === \"http://www.w3.org/2000/01/rdf-schema#label\").select(\"s\", \"o\").withColumnRenamed(\"o\", \"label\")\n",
    "def toGO = udf[String, String](str => str.replace(\"http://purl.obolibrary.org/obo/GO_\", \"GO:\"))\n",
    "\n",
    "val go_anno = namespaces.join(labels, Seq(\"s\")).withColumn(\"GO\", toGO($\"s\")).select(\"GO\", \"namespace\", \"label\").cache"
   ]
  },
  {
   "cell_type": "code",
   "execution_count": null,
   "metadata": {},
   "outputs": [],
   "source": [
    "%%dataframe go_anno"
   ]
  },
  {
   "cell_type": "code",
   "execution_count": null,
   "metadata": {},
   "outputs": [],
   "source": [
    "write(go_anno, az(\"/go/names.tsv\"), true)"
   ]
  },
  {
   "cell_type": "code",
   "execution_count": null,
   "metadata": {},
   "outputs": [],
   "source": [
    "/*\n",
    "def toGO(str: String) = str.replace(\"http://purl.obolibrary.org/obo/GO_\", \"GO:\")\n",
    "val ns = nms.map{ case (key, value) => toGO(key) -> value}.toDF(\"go\", \"namespace\")\n",
    "val newColumns = \"namespace\"::comparison.columns.toList.tail.map(s=> if(s==\"gray_whale_average\") \"gray_whale_avg\" else s)\n",
    "val table = comparison.join(ns, Seq(\"go\"), \"left_outer\")\n",
    "  .withColumn(\"gray_whale_avg\", toDouble($\"gray_whale_average\")).drop(\"gray_whale_average\")\n",
    "  .select(\"go\", newColumns:_*)\n",
    "  .sort($\"gray_whale_avg\".desc)\n",
    "table\n",
    "*/"
   ]
  },
  {
   "cell_type": "markdown",
   "metadata": {},
   "source": [
    "GO enrichment\n",
    "============="
   ]
  },
  {
   "cell_type": "code",
   "execution_count": null,
   "metadata": {},
   "outputs": [],
   "source": [
    "val goTable = readTSV(az(comparison), true)"
   ]
  },
  {
   "cell_type": "code",
   "execution_count": null,
   "metadata": {},
   "outputs": [],
   "source": [
    "%%dataframe goTable"
   ]
  },
  {
   "cell_type": "code",
   "execution_count": null,
   "metadata": {},
   "outputs": [],
   "source": [
    "val components = readTSV(az(grouped + \"/by_biological_process.tab\"  ), true)\n",
    "val processes = readTSV(az(grouped + \"/by_cellular_component.tab\"  ), true)\n",
    "val functions = readTSV(az(grouped + \"/by_molecular_function.tsv\"  ), true)"
   ]
  },
  {
   "cell_type": "code",
   "execution_count": null,
   "metadata": {},
   "outputs": [],
   "source": [
    "(components.count, processes.count, functions.count, goTable.count)"
   ]
  },
  {
   "cell_type": "code",
   "execution_count": null,
   "metadata": {},
   "outputs": [],
   "source": [
    "import org.apache.spark.sql._\n",
    "import org.apache.spark.sql.catalyst.encoders.RowEncoder\n",
    "\n",
    "def goFlatten(df: DataFrame) = {\n",
    "    df.select(\"GO\").na.fill(\"\").flatMap{\n",
    "      case Row(g: String) =>\n",
    "        val goes = if(g==null) Array[(String, Int)]() else g.split(\";\").map(go=>go.trim -> 1).filter{ case (go, _) => go!=\"\"}\n",
    "        goes\n",
    "    }.join(go_anno, Seq(\"go\"))\n",
    "}\n",
    "def goCounts(df: DataFrame) = {\n",
    "    goFlatten(df)\n",
    "        .groupByKey(_._1)\n",
    "        .mapValues(_._2)\n",
    "        .reduceGroups(_ + _)\n",
    "        .toDF(\"GO\", \"GO_count\")\n",
    "        .sort($\"GO_count\".desc)\n",
    "}\n",
    "\n",
    "val process = \"biological_process\"\n",
    "val function = \"molecular_function\"\n",
    "val component = \"cellular_component\"\n",
    "\n",
    "def goFilteredCounts(df: DataFrame, namespace: String)  = {\n",
    "    val flat = goFlatten(df).join(ns, Seq(\"GO\"))\n",
    "    flat\n",
    "        .where($\"namespace\" = namespace)\n",
    "        .groupByKey(_._1)\n",
    "        .mapValues(_._2)\n",
    "        .reduceGroups(_ + _)\n",
    "        .toDF(\"GO\", \"GO_count\")\n",
    "        .sort($\"GO_count\".desc)\n",
    "}"
   ]
  },
  {
   "cell_type": "code",
   "execution_count": null,
   "metadata": {},
   "outputs": [],
   "source": [
    "import org.apache.commons.math3.distribution.{HypergeometricDistribution}\n",
    "\n",
    "def enrichmentFunction = udf[Double, Int, Int, Int, Int]{\n",
    "    case (populationSize: Int, numberOfSuccesses: Int, sampleSize: Int, value: Int) => \n",
    "      val a = new HypergeometricDistribution(populationSize, numberOfSuccesses, sampleSize)\n",
    "      1 - a.cumulativeProbability(value-1)\n",
    "  }\n",
    "def significantFunction = udf[Boolean, Double]{ v => v <= 0.01}"
   ]
  },
  {
   "cell_type": "code",
   "execution_count": null,
   "metadata": {},
   "outputs": [],
   "source": [
    "def topExpressed(df: DataFrame, name: String, n: Int) = {\n",
    "  val sorted = df.sort(new ColumnName(name).desc)\n",
    "  sorted.select(\"GO\").limit(n)\n",
    "}\n",
    "\n",
    "def prepareEnrichment(df: DataFrame, name: String, n: Int) = {\n",
    "    val allCounts: DataFrame = goCounts(df)\n",
    "    import org.apache.spark.sql.functions.sum\n",
    "    val population = allCounts.agg(sum(\"GO_count\")).as[Long].head\n",
    "    val countName = s\"top_${name}_${n}_GO_count\"\n",
    "    val tc = goCounts(topExpressed(df, name, n))\n",
    "      .withColumnRenamed(\"GO_count\", countName)\n",
    "    allCounts\n",
    "        .withColumn(\"all_GO\", lit(population))\n",
    "        .withColumn(\"sample_size\", lit(n))\n",
    "        .join(tc, Seq(\"GO\"))\n",
    "    .sort(new ColumnName(countName).desc)\n",
    "}\n",
    "\n",
    "def enrich(df: DataFrame, name: String, n: Int) = {\n",
    "    val data = prepareEnrichment(df, name, n)\n",
    "    val countName = s\"top_${name}_${n}_GO_count\"\n",
    "    data\n",
    "    .withColumn(\"p-value\", enrichmentFunction($\"all_GO\", $\"GO_count\", $\"sample_size\",  new ColumnName(countName)))\n",
    "    .withColumn(\"significant\", significantFunction($\"p-value\"))\n",
    "    .sort($\"p-value\".desc)\n",
    "}"
   ]
  },
  {
   "cell_type": "code",
   "execution_count": null,
   "metadata": {},
   "outputs": [],
   "source": [
    "def prepareEnrichmentNamespaced(df: DataFrame, name: String, n: Int) = {\n",
    "    val allCounts: DataFrame = goCounts(df)\n",
    "    import org.apache.spark.sql.functions.sum\n",
    "    val population = allCounts.agg(sum(\"GO_count\")).as[Long].head\n",
    "    val countName = s\"top_${name}_${n}_GO_count\"\n",
    "    val tc = goCounts(topExpressed(df, name, n))\n",
    "      .withColumnRenamed(\"GO_count\", countName)\n",
    "    allCounts\n",
    "        .withColumn(\"all_GO\", lit(population))\n",
    "        .withColumn(\"sample_size\", lit(n))\n",
    "        .join(tc, Seq(\"GO\"))\n",
    "    .sort(new ColumnName(countName).desc)\n",
    "}\n",
    "\n",
    "def enrich(df: DataFrame, name: String, namespace: String, n: Int) = {\n",
    "    val data = prepareEnrichment(df, name, n)\n",
    "    val countName = s\"top_${name}_${n}_GO_count\"\n",
    "    data\n",
    "    .withColumn(\"p-value\", enrichmentFunction($\"all_GO\", $\"GO_count\", $\"sample_size\",  new ColumnName(countName)))\n",
    "    .withColumn(\"significant\", significantFunction($\"p-value\"))\n",
    "    .sort($\"p-value\".desc)\n",
    "}"
   ]
  },
  {
   "cell_type": "code",
   "execution_count": null,
   "metadata": {},
   "outputs": [],
   "source": [
    "val g = enrich(gray_whale, \"liver\", 50)"
   ]
  },
  {
   "cell_type": "code",
   "execution_count": null,
   "metadata": {},
   "outputs": [],
   "source": [
    "%%dataframe g"
   ]
  },
  {
   "cell_type": "code",
   "execution_count": null,
   "metadata": {},
   "outputs": [],
   "source": [
    "(g.count, g.where(\"significant = true\").count, g.where(\"significant = false\").count)"
   ]
  },
  {
   "cell_type": "code",
   "execution_count": null,
   "metadata": {},
   "outputs": [],
   "source": [
    "val g = enrich(gray_whale, \"kidney\", 200)"
   ]
  },
  {
   "cell_type": "code",
   "execution_count": null,
   "metadata": {},
   "outputs": [],
   "source": [
    "(g.count, g.where(\"significant = true\").count, g.where(\"significant = false\").count)"
   ]
  },
  {
   "cell_type": "code",
   "execution_count": null,
   "metadata": {},
   "outputs": [],
   "source": [
    "val allUniref = readTSV(az(unirefPath + \"/all_uniref90_outer.tab\"  ), true)"
   ]
  },
  {
   "cell_type": "code",
   "execution_count": null,
   "metadata": {},
   "outputs": [],
   "source": [
    "val gray_whale = readTSV(az(unirefPath + \"/gray_whale_uniref90_all.tab\"  ), true)"
   ]
  },
  {
   "cell_type": "code",
   "execution_count": null,
   "metadata": {},
   "outputs": [],
   "source": [
    "%%dataframe gray_whale_counts"
   ]
  },
  {
   "cell_type": "code",
   "execution_count": null,
   "metadata": {},
   "outputs": [],
   "source": [
    "val gray_whale_simple = gray_whale.select(\"uniref90\", \"go\", \"liver\", \"kidney\").na(\"\")"
   ]
  },
  {
   "cell_type": "code",
   "execution_count": null,
   "metadata": {},
   "outputs": [],
   "source": [
    "%%dataframe gray_whale_simple"
   ]
  },
  {
   "cell_type": "code",
   "execution_count": null,
   "metadata": {},
   "outputs": [],
   "source": [
    "%%dataframe allUniref"
   ]
  },
  {
   "cell_type": "code",
   "execution_count": 3,
   "metadata": {},
   "outputs": [
    {
     "data": {
      "text/plain": [
       "An error occurred converting DataFrame to html.\n",
       "<console>:26: error: not found: value gray_whale_simple\n",
       "       gray_whale_simple.select(\"uniref90\")\n",
       "       ^\n"
      ]
     },
     "execution_count": 3,
     "metadata": {},
     "output_type": "execute_result"
    }
   ],
   "source": [
    "%%dataframe gray_whale_simple.select(\"uniref90\")"
   ]
  },
  {
   "cell_type": "code",
   "execution_count": 32,
   "metadata": {},
   "outputs": [
    {
     "data": {
      "text/plain": [
       "Name: Compile Error\n",
       "Message: <console>:92: error: not found: type ApacheHypergeometricDistribution\n",
       "         val a = new ApacheHypergeometricDistribution(populationSize, numberOfSuccesses, sampleSize)\n",
       "                     ^\n",
       "<console>:92: error: <none> is abstract; cannot be instantiated\n",
       "         val a = new ApacheHypergeometricDistribution(populationSize, numberOfSuccesses, sampleSize)\n",
       "                 ^\n",
       "\n",
       "StackTrace: "
      ]
     },
     "execution_count": 32,
     "metadata": {},
     "output_type": "execute_result"
    }
   ],
   "source": [
    "import org.apache.commons.math3.distribution.{HypergeometricDistribution}\n",
    "\n",
    "def makeDistrib(populationSize: Int, numberOfSuccesses: Int, sampleSize: Int): HypergeometricDistribution ={\n",
    "  val a = new ApacheHypergeometricDistribution(populationSize, numberOfSuccesses, sampleSize)\n",
    "  a\n",
    "}"
   ]
  },
  {
   "cell_type": "code",
   "execution_count": 24,
   "metadata": {},
   "outputs": [
    {
     "data": {
      "text/plain": [
       "Name: Compile Error\n",
       "Message: <console>:89: error: not found: type HypergeometricDistribution\n",
       "       def geomPValue(h: HypergeometricDistribution) = (0 to 100).foldLeft(0.0){ case (acc, el) => acc + h.probabilityOf(el)}\n",
       "                         ^\n",
       "\n",
       "StackTrace: "
      ]
     },
     "execution_count": 24,
     "metadata": {},
     "output_type": "execute_result"
    }
   ],
   "source": [
    "def geomPValue(h: HypergeometricDistribution) = (0 to 100).foldLeft(0.0){ case (acc, el) => acc + h.probabilityOf(el)}"
   ]
  },
  {
   "cell_type": "code",
   "execution_count": 25,
   "metadata": {},
   "outputs": [
    {
     "data": {
      "text/plain": [
       "Name: Compile Error\n",
       "Message: <console>:89: error: not found: value renamings\n",
       "       def enrichment(population: Int, sampleSize: Int = 100) = udf[Double, Double](c=> renamings.getOrElse(c, c))\n",
       "                                                                                        ^\n",
       "\n",
       "StackTrace: "
      ]
     },
     "execution_count": 25,
     "metadata": {},
     "output_type": "execute_result"
    }
   ],
   "source": [
    "def enrichment(population: Int, sampleSize: Int = 100) = udf[Double, Double](c=> renamings.getOrElse(c, c))"
   ]
  },
  {
   "cell_type": "code",
   "execution_count": 1,
   "metadata": {},
   "outputs": [
    {
     "name": "stdout",
     "output_type": "stream",
     "text": [
      "Helo\n"
     ]
    }
   ],
   "source": [
    "println(\"Helo\")"
   ]
  },
  {
   "cell_type": "code",
   "execution_count": 2,
   "metadata": {},
   "outputs": [
    {
     "data": {
      "text/plain": [
       "Name: Compile Error\n",
       "Message: <console>:26: error: not found: value allUniref\n",
       "       allUniref.count\n",
       "       ^\n",
       "\n",
       "StackTrace: "
      ]
     },
     "execution_count": 2,
     "metadata": {},
     "output_type": "execute_result"
    }
   ],
   "source": [
    " allUniref.count"
   ]
  },
  {
   "cell_type": "code",
   "execution_count": null,
   "metadata": {},
   "outputs": [],
   "source": []
  }
 ],
 "metadata": {
  "kernelspec": {
   "display_name": "Apache Toree - Scala",
   "language": "scala",
   "name": "apache_toree_scala"
  },
  "language_info": {
   "codemirror_mode": "text/x-scala",
   "file_extension": ".scala",
   "mimetype": "text/x-scala",
   "name": "scala",
   "pygments_lexer": "scala",
   "version": "2.11.8"
  }
 },
 "nbformat": 4,
 "nbformat_minor": 2
}
