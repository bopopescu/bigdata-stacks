{
 "cells": [
  {
   "cell_type": "code",
   "execution_count": 2,
   "metadata": {},
   "outputs": [
    {
     "name": "stdout",
     "output_type": "stream",
     "text": [
      "Marking org.bdgenomics.adam:adam-core-spark2_2.11:0.24.0 for download\n",
      "Preparing to fetch from:\n",
      "-> file:/tmp/toree-tmp-dir3070127853329215662/toree_add_deps/\n",
      "-> https://repo1.maven.org/maven2\n",
      "-> New file at /tmp/toree-tmp-dir3070127853329215662/toree_add_deps/https/repo1.maven.org/maven2/org/bdgenomics/adam/adam-core-spark2_2.11/0.24.0/adam-core-spark2_2.11-0.24.0.jar\n",
      "-> New file at /tmp/toree-tmp-dir3070127853329215662/toree_add_deps/https/repo1.maven.org/maven2/org/bdgenomics/adam/adam-core-spark2_2.11/0.24.0/adam-core-spark2_2.11-0.24.0.pom\n"
     ]
    },
    {
     "data": {
      "text/plain": [
       "Waiting for a Spark session to start..."
      ]
     },
     "metadata": {},
     "output_type": "display_data",
     "source": "user"
    },
    {
     "name": "stdout",
     "output_type": "stream",
     "text": [
      "Marking comp.bio.aging:adam-playground_2.11:0.0.13 for download\n",
      "Preparing to fetch from:\n",
      "-> file:/tmp/toree-tmp-dir3070127853329215662/toree_add_deps/\n",
      "-> https://dl.bintray.com/comp-bio-aging/main/\n",
      "-> https://repo1.maven.org/maven2\n"
     ]
    }
   ],
   "source": [
    "%AddDeps org.bdgenomics.adam adam-core-spark2_2.11 0.24.0\n",
    "%AddDeps comp.bio.aging adam-playground_2.11 0.0.13 --repository https://dl.bintray.com/comp-bio-aging/main/"
   ]
  },
  {
   "cell_type": "code",
   "execution_count": 3,
   "metadata": {},
   "outputs": [
    {
     "name": "stdout",
     "output_type": "stream",
     "text": [
      "Marking org.apache.hadoop:hadoop-azure:2.7.6 for download\n",
      "Preparing to fetch from:\n",
      "-> file:/tmp/toree-tmp-dir3070127853329215662/toree_add_deps/\n",
      "-> https://repo1.maven.org/maven2\n",
      "-> New file at /tmp/toree-tmp-dir3070127853329215662/toree_add_deps/https/repo1.maven.org/maven2/org/apache/hadoop/hadoop-azure/2.7.6/hadoop-azure-2.7.6.jar\n",
      "-> New file at /tmp/toree-tmp-dir3070127853329215662/toree_add_deps/https/repo1.maven.org/maven2/org/apache/hadoop/hadoop-azure/2.7.6/hadoop-azure-2.7.6.pom\n"
     ]
    },
    {
     "data": {
      "text/plain": [
       "Waiting for a Spark session to start..."
      ]
     },
     "metadata": {},
     "output_type": "display_data",
     "source": "user"
    },
    {
     "name": "stdout",
     "output_type": "stream",
     "text": [
      "Marking com.microsoft.azure:azure-storage:2.0.0 for download\n",
      "Preparing to fetch from:\n",
      "-> file:/tmp/toree-tmp-dir3070127853329215662/toree_add_deps/\n",
      "-> https://repo1.maven.org/maven2\n",
      "-> New file at /tmp/toree-tmp-dir3070127853329215662/toree_add_deps/https/repo1.maven.org/maven2/com/microsoft/azure/azure-storage/2.0.0/azure-storage-2.0.0.jar\n",
      "-> New file at /tmp/toree-tmp-dir3070127853329215662/toree_add_deps/https/repo1.maven.org/maven2/com/microsoft/azure/azure-storage/2.0.0/azure-storage-2.0.0.pom\n"
     ]
    }
   ],
   "source": [
    "%AddDeps org.apache.hadoop hadoop-azure 2.7.6\n",
    "%AddDeps com.microsoft.azure azure-storage 2.0.0"
   ]
  },
  {
   "cell_type": "code",
   "execution_count": 4,
   "metadata": {},
   "outputs": [],
   "source": [
    "import  org.apache.spark._\n",
    "import org.apache.spark.sql.{DataFrame, Encoders, SparkSession}\n",
    "import org.apache.spark.sql.types.StructType\n",
    "import scala.reflect.runtime.universe._\n",
    "import org.apache.spark.storage.StorageLevel\n",
    "import org.apache.spark.rdd._"
   ]
  },
  {
   "cell_type": "code",
   "execution_count": 5,
   "metadata": {},
   "outputs": [
    {
     "data": {
      "text/plain": [
       "sparkHadoopConf: (sc: org.apache.spark.SparkContext, acountName: String, accountKey: String)org.apache.spark.SparkContext\n"
      ]
     },
     "metadata": {},
     "output_type": "display_data",
     "source": "user"
    }
   ],
   "source": [
    "def sparkHadoopConf(sc: SparkContext, acountName: String, accountKey: String) = {\n",
    "  sc.hadoopConfiguration.set(\"fs.azure\", \"org.apache.hadoop.fs.azure.NativeAzureFileSystem\")\n",
    "  sc.hadoopConfiguration.set(\"fs.azure.account.key.\" + acountName + \".blob.core.windows.net\", accountKey)\n",
    "  sc\n",
    "}"
   ]
  },
  {
   "cell_type": "code",
   "execution_count": 6,
   "metadata": {},
   "outputs": [
    {
     "data": {
      "text/plain": [
       "azurize: (container: String, accountName: String, blobFile: String)String\n",
       "writeText2Azure: [T](rdd: org.apache.spark.rdd.RDD[T], container: String, accountName: String, blobFile: String)String\n",
       "writeTsv2Azure: (df: org.apache.spark.sql.DataFrame, container: String, accountName: String, blobFile: String)String\n"
      ]
     },
     "metadata": {},
     "output_type": "display_data",
     "source": "user"
    }
   ],
   "source": [
    "def azurize(container: String, accountName: String, blobFile: String): String = \"wasbs://\"+container+\"@\"+accountName+\".blob.core.windows.net/\"+blobFile \n",
    "\n",
    "def writeText2Azure[T]( rdd: RDD[T], container: String, accountName: String, blobFile: String ): String =\n",
    "{\n",
    "  val url = azurize(container, accountName, blobFile)\n",
    "  rdd.saveAsTextFile(url)\n",
    "  url\n",
    "}\n",
    "\n",
    "def writeTsv2Azure( df: DataFrame, container: String, accountName: String, blobFile: String ): String =\n",
    "{\n",
    "  val url = azurize(container, accountName, blobFile)\n",
    "  df.write.option(\"sep\",\"\\t\").option(\"header\",\"true\").csv(url)\n",
    "  url\n",
    "}"
   ]
  },
  {
   "cell_type": "code",
   "execution_count": 7,
   "metadata": {},
   "outputs": [
    {
     "data": {
      "text/plain": [
       "account = pipelines1\n",
       "key = \n",
       "connString = DefaultEndpointsProtocol=https;AccountName=pipelines1;AccountKey=;EndpointSuffix=core.windows.net\n"
      ]
     },
     "metadata": {},
     "output_type": "display_data",
     "source": "user"
    },
    {
     "data": {
      "text/plain": [
       "az: (path: String)String\n"
      ]
     },
     "metadata": {},
     "output_type": "display_data",
     "source": "user"
    },
    {
     "data": {
      "text/plain": [
       "DefaultEndpointsProtocol=https;AccountName=pipelines1;AccountKey=;EndpointSuffix=core.windows.net"
      ]
     },
     "execution_count": 7,
     "metadata": {},
     "output_type": "execute_result"
    }
   ],
   "source": [
    "val account = \"pipelines1\"\n",
    "val key = \"\"\n",
    "val connString = s\"DefaultEndpointsProtocol=https;AccountName=pipelines1;AccountKey=${key};EndpointSuffix=core.windows.net\"\n",
    "def az(path: String): String = azurize(\"storage\", account, path)"
   ]
  },
  {
   "cell_type": "code",
   "execution_count": 8,
   "metadata": {},
   "outputs": [
    {
     "data": {
      "text/plain": [
       "sparkContext = org.apache.spark.SparkContext@5c0329bf\n",
       "spark = org.apache.spark.sql.SparkSession@12e9d200\n"
      ]
     },
     "metadata": {},
     "output_type": "display_data",
     "source": "user"
    },
    {
     "data": {
      "text/html": [
       "<ul>\n",
       "<li><a href=\"Some(http://c8fc1f462c1d:4041)\" target=\"new_tab\">Spark UI: app-20180703170633-0003</a></li>\n",
       "</ul>"
      ],
      "text/plain": [
       "Spark app-20180703170633-0003: Some(http://c8fc1f462c1d:4041)"
      ]
     },
     "execution_count": 8,
     "metadata": {},
     "output_type": "execute_result"
    }
   ],
   "source": [
    "val sparkContext = sc\n",
    "sparkHadoopConf(sparkContext, account, key)\n",
    "  \n",
    "val spark = SparkSession\n",
    "  .builder()\n",
    "  .appName(\"mapping_models\")\n",
    "  .getOrCreate()"
   ]
  },
  {
   "cell_type": "code",
   "execution_count": 9,
   "metadata": {},
   "outputs": [
    {
     "data": {
      "text/plain": [
       "write: (df: org.apache.spark.sql.DataFrame, url: String, header: Boolean)String\n"
      ]
     },
     "metadata": {},
     "output_type": "display_data",
     "source": "user"
    }
   ],
   "source": [
    "def write(df: DataFrame, url: String, header: Boolean = true) = {\n",
    "  df.coalesce(1).write.option(\"sep\",\"\\t\").option(\"header\", header).csv(url)\n",
    "  url\n",
    "}"
   ]
  },
  {
   "cell_type": "code",
   "execution_count": 10,
   "metadata": {},
   "outputs": [
    {
     "data": {
      "text/plain": [
       "readTSV: (path: String, header: Boolean, sep: String)org.apache.spark.sql.DataFrame\n"
      ]
     },
     "metadata": {},
     "output_type": "display_data",
     "source": "user"
    }
   ],
   "source": [
    "def readTSV(path: String, header: Boolean = false, sep: String = \"\\t\"): DataFrame = spark.read\n",
    "    .option(\"sep\", sep)\n",
    "    .option(\"comment\", \"#\")\n",
    "    .option(\"inferSchema\", true)\n",
    "    .option(\"header\", header)\n",
    "    .option(\"ignoreLeadingWhiteSpace\", true)\n",
    "    .option(\"ignoreTrailingWhiteSpace\", true)\n",
    "    .option(\"ignoreTrailingWhiteSpace\", true)\n",
    "    .option(\"maxColumns\", 150000)\n",
    "    .csv(path)"
   ]
  },
  {
   "cell_type": "code",
   "execution_count": 11,
   "metadata": {},
   "outputs": [
    {
     "data": {
      "text/plain": [
       "toVectors: (dataFrame: org.apache.spark.sql.DataFrame, columns: Seq[String], output: String)org.apache.spark.sql.DataFrame\n"
      ]
     },
     "metadata": {},
     "output_type": "display_data",
     "source": "user"
    }
   ],
   "source": [
    " def toVectors(dataFrame: DataFrame, columns: Seq[String], output: String) = {  \n",
    "      import org.apache.spark.ml.feature.VectorAssembler\n",
    "      import org.apache.spark.ml.linalg.Vectors\n",
    "      val assembler = new VectorAssembler()\n",
    "        .setInputCols(columns.toArray)\n",
    "        .setOutputCol(output)\n",
    "      assembler.transform(dataFrame.na.fill(0.0, columns).na.fill(0.0)).select(output)\n",
    "    }"
   ]
  },
  {
   "cell_type": "code",
   "execution_count": 27,
   "metadata": {},
   "outputs": [
    {
     "data": {
      "text/plain": [
       "rename: (dataFrame: org.apache.spark.sql.DataFrame, renamings: Map[String,String])org.apache.spark.sql.DataFrame\n",
       "renameFunction: (renamings: Map[String,String])org.apache.spark.sql.expressions.UserDefinedFunction\n"
      ]
     },
     "metadata": {},
     "output_type": "display_data",
     "source": "user"
    }
   ],
   "source": [
    "def rename(dataFrame: DataFrame, renamings: Map[String, String]) =   {\n",
    "      val newColumns = dataFrame.columns.map(c=> renamings.getOrElse(c, c))\n",
    "      dataFrame.toDF(newColumns:_*)\n",
    "    }\n",
    "def renameFunction(renamings: Map[String, String]) = udf[String, String](c=> renamings.getOrElse(c, c))"
   ]
  },
  {
   "cell_type": "code",
   "execution_count": 22,
   "metadata": {},
   "outputs": [
    {
     "data": {
      "text/plain": [
       "uselect: (dataFrame: org.apache.spark.sql.DataFrame, prefix: String)org.apache.spark.sql.DataFrame\n"
      ]
     },
     "metadata": {},
     "output_type": "display_data",
     "source": "user"
    }
   ],
   "source": [
    "def uselect(dataFrame: DataFrame, prefix: String) = {\n",
    "    val liverNew = prefix + \"_liver\"\n",
    "    val kidneyNew = prefix + \"_kidney\"\n",
    "    dataFrame\n",
    "        .withColumnRenamed(\"liver\", liverNew)\n",
    "        .withColumnRenamed(\"kidney\", kidneyNew)\n",
    "    .select(\"uniref90\", liverNew, kidneyNew)\n",
    "}"
   ]
  },
  {
   "cell_type": "code",
   "execution_count": 13,
   "metadata": {},
   "outputs": [
    {
     "data": {
      "text/plain": [
       "expressionsPath = expressions\n",
       "byGoPath = expressions/go\n",
       "comparison = expressions/go/gray_whale_with_bowhead_with_minke_with_NMR_with_human_with_mouse_with_cow_full_outer_counts_extended.tsv\n",
       "grouped = expressions/go/grouped\n",
       "ranked = expressions/go/grouped/ranked\n",
       "transcriptsPath = expressions/transcripts\n",
       "indexesPath = indexes\n",
       "reactomePath = indexes/reactome\n",
       "unirefPath = expressions/uniref90\n"
      ]
     },
     "metadata": {},
     "output_type": "display_data",
     "source": "user"
    },
    {
     "data": {
      "text/plain": [
       "expressions/uniref90"
      ]
     },
     "execution_count": 13,
     "metadata": {},
     "output_type": "execute_result"
    }
   ],
   "source": [
    "val expressionsPath = \"expressions\"\n",
    "val byGoPath = expressionsPath + \"/go\"\n",
    "val comparison = byGoPath + \"/gray_whale_with_bowhead_with_minke_with_NMR_with_human_with_mouse_with_cow_full_outer_counts_extended.tsv\"\n",
    "val grouped = byGoPath + \"/grouped\"\n",
    "val ranked = byGoPath + \"/grouped/ranked\"\n",
    "val transcriptsPath = expressionsPath + \"/transcripts\"\n",
    "val indexesPath = \"indexes\"\n",
    "val reactomePath = indexesPath + \"/reactome\"\n",
    "val unirefPath = expressionsPath + \"/\" + \"uniref90\""
   ]
  },
  {
   "cell_type": "markdown",
   "metadata": {},
   "source": [
    "Merge nonmodel Uniref90\n",
    "-----------------------\n",
    "Uniref90 or nonmodel animals"
   ]
  },
  {
   "cell_type": "code",
   "execution_count": 16,
   "metadata": {},
   "outputs": [
    {
     "data": {
      "text/plain": [
       "cut_id = UserDefinedFunction(<function1>,StringType,Some(List(StringType)))\n"
      ]
     },
     "metadata": {},
     "output_type": "display_data",
     "source": "user"
    },
    {
     "data": {
      "text/plain": [
       "UserDefinedFunction(<function1>,StringType,Some(List(StringType)))"
      ]
     },
     "execution_count": 16,
     "metadata": {},
     "output_type": "execute_result"
    }
   ],
   "source": [
    "import org.apache.spark.sql.functions._\n",
    "import spark.implicits._\n",
    "val cut_id = udf[String, String]( _.replace(\"UniRef90_\",\"\"))"
   ]
  },
  {
   "cell_type": "code",
   "execution_count": 19,
   "metadata": {},
   "outputs": [
    {
     "data": {
      "text/plain": [
       "nonModelUniref90_outer = [uniref90: string, gray_whale_liver: double ... 7 more fields]\n"
      ]
     },
     "metadata": {},
     "output_type": "display_data",
     "source": "user"
    },
    {
     "data": {
      "text/plain": [
       "[uniref90: string, gray_whale_liver: double ... 7 more fields]"
      ]
     },
     "execution_count": 19,
     "metadata": {},
     "output_type": "execute_result"
    }
   ],
   "source": [
    "val nonModelUniref90_outer = readTSV(az(unirefPath + \"/non_model_uniref90_outer.tsv\"), true)"
   ]
  },
  {
   "cell_type": "code",
   "execution_count": 86,
   "metadata": {},
   "outputs": [
    {
     "data": {
      "text/plain": [
       "mapping = [uniprot_ac: string, uniprot_id: string ... 20 more fields]\n"
      ]
     },
     "metadata": {},
     "output_type": "display_data",
     "source": "user"
    },
    {
     "data": {
      "text/plain": [
       "[uniprot_ac: string, uniprot_id: string ... 20 more fields]"
      ]
     },
     "execution_count": 86,
     "metadata": {},
     "output_type": "execute_result"
    }
   ],
   "source": [
    "/*\n",
    "import org.apache.spark.storage._\n",
    "\n",
    "val mapping =  readTSV(az(\"/indexes/uniprot/idmapping_selected.tab\"))\n",
    ".toDF(\"uniprot_ac\",\"uniprot_id\",\"entrez\",\"refSeq\", \"gi\",\"pdb\", \"go\", \"uniref100\", \"uniref90\", \"uniref50\", \"uniparc\", \"pir\", \"taxon\", \"mim\", \"unigene\", \"pubmed\", \"embl\", \"embl_cds\", \"ensembl\", \"ensembl_trs\", \"ensembl_pro\", \"additional_pubmed\")\n",
    ".persist(StorageLevel.MEMORY_AND_DISK) \n",
    "*/"
   ]
  },
  {
   "cell_type": "markdown",
   "metadata": {},
   "source": [
    "Merge model uniref90-s\n",
    "----------------------"
   ]
  },
  {
   "cell_type": "code",
   "execution_count": 87,
   "metadata": {},
   "outputs": [
    {
     "data": {
      "text/plain": [
       "An error occurred converting DataFrame to html.\n",
       "<console>:93: error: not found: value mappings\n",
       "       mappings\n",
       "       ^\n"
      ]
     },
     "execution_count": 87,
     "metadata": {},
     "output_type": "execute_result"
    }
   ],
   "source": [
    "//%%dataframe mappings"
   ]
  },
  {
   "cell_type": "code",
   "execution_count": 20,
   "metadata": {},
   "outputs": [
    {
     "data": {
      "text/plain": [
       "human_transcripts = [transcript: string, uniref90: string ... 13 more fields]\n",
       "cow_mRNA_transcripts = [transcript: string, uniref90: string ... 13 more fields]\n",
       "cow_totalRNA_transcripts = [transcript: string, uniref90: string ... 13 more fields]\n",
       "mouse_mRNA_transcripts = [transcript: string, uniref90: string ... 13 more fields]\n",
       "mouse_totalRNA_transcripts = [transcript: string, uniref90: string ... 13 more fields]\n"
      ]
     },
     "metadata": {},
     "output_type": "display_data",
     "source": "user"
    },
    {
     "data": {
      "text/plain": [
       "[transcript: string, uniref90: string ... 13 more fields]"
      ]
     },
     "execution_count": 20,
     "metadata": {},
     "output_type": "execute_result"
    }
   ],
   "source": [
    "val human_transcripts = readTSV(az(transcriptsPath + \"/human_transcripts_all.tsv\"), true)\n",
    "val cow_mRNA_transcripts = readTSV(az(transcriptsPath + \"/cow_mRNA_transcripts_all.tsv\"), true)\n",
    "val cow_totalRNA_transcripts = readTSV(az(transcriptsPath + \"/cow_totalRNA_transcripts_all.tsv\"), true)\n",
    "val mouse_mRNA_transcripts = readTSV(az(transcriptsPath + \"/mouse_mRNA_transcripts_all.tsv\"), true)\n",
    "val mouse_totalRNA_transcripts = readTSV(az(transcriptsPath + \"/mouse_totalRNA_transcripts_all.tsv\"), true)"
   ]
  },
  {
   "cell_type": "code",
   "execution_count": 23,
   "metadata": {},
   "outputs": [
    {
     "data": {
      "text/plain": [
       "allTr = [uniref90: string, human_liver: double ... 9 more fields]\n",
       "allGroup = RelationalGroupedDataset: [grouping expressions: [uniref90: string], value: [uniref90: string, human_liver: double ... 9 more fields], type: GroupBy]\n"
      ]
     },
     "metadata": {},
     "output_type": "display_data",
     "source": "user"
    },
    {
     "data": {
      "text/plain": [
       "RelationalGroupedDataset: [grouping expressions: [uniref90: string], value: [uniref90: string, human_liver: double ... 9 more fields], type: GroupBy]"
      ]
     },
     "execution_count": 23,
     "metadata": {},
     "output_type": "execute_result"
    }
   ],
   "source": [
    "val allTr = uselect(human_transcripts, \"human\").na.fill(0)\n",
    "  .join(uselect(cow_mRNA_transcripts, \"cow_mRNA\"), Seq(\"uniref90\"), \"outer\").na.fill(0)\n",
    "  .join(uselect(cow_totalRNA_transcripts, \"cow_totalRNA\"), Seq(\"uniref90\"), \"outer\").na.fill(0)\n",
    "  .join(uselect(mouse_mRNA_transcripts, \"mouse_mRNA\"), Seq(\"uniref90\"), \"outer\").na.fill(0)\n",
    "  .join(uselect(mouse_totalRNA_transcripts, \"mouse_totalRNA\"), Seq(\"uniref90\"), \"outer\").na.fill(0)\n",
    "val allGroup =     allTr.groupBy(\"uniref90\")"
   ]
  },
  {
   "cell_type": "code",
   "execution_count": 24,
   "metadata": {},
   "outputs": [
    {
     "data": {
      "text/plain": [
       "modelSum = [uniref90: string, sum(human_liver): double ... 9 more fields]\n"
      ]
     },
     "metadata": {},
     "output_type": "display_data",
     "source": "user"
    },
    {
     "data": {
      "text/plain": [
       "[uniref90: string, sum(human_liver): double ... 9 more fields]"
      ]
     },
     "execution_count": 24,
     "metadata": {},
     "output_type": "execute_result"
    }
   ],
   "source": [
    "val modelSum = allGroup.sum(allTr.columns.tail:_*)"
   ]
  },
  {
   "cell_type": "code",
   "execution_count": 25,
   "metadata": {},
   "outputs": [
    {
     "data": {
      "text/plain": [
       "modelRenamings = Array((sum(human_liver),human_liver), (sum(human_kidney),human_kidney), (sum(cow_mRNA_liver),cow_mRNA_liver), (sum(cow_mRNA_kidney),cow_mRNA_kidney), (sum(cow_totalRNA_liver),cow_totalRNA_liver), (sum(cow_totalRNA_kidney),cow_totalRNA_kidney), (sum(mouse_mRNA_liver),mouse_mRNA_liver), (sum(mouse_mRNA_kidney),mouse_mRNA_kidney), (sum(mouse_totalRNA_liver),mouse_totalRNA_liver), (sum(mouse_totalRNA_kidney),mouse_totalRNA_kidney))\n"
      ]
     },
     "metadata": {},
     "output_type": "display_data",
     "source": "user"
    },
    {
     "data": {
      "text/plain": [
       "[(sum(human_liver),human_liver), (sum(human_kidney),human_kidney), (sum(cow_mRNA_liver),cow_mRNA_liver), (sum(cow_mRNA_kidney),cow_mRNA_kidney), (sum(cow_totalRNA_liver),cow_totalRNA_liver), (sum(cow_totalRNA_kidney),cow_totalRNA_kidney), (sum(mouse_mRNA_liver),mouse_mRNA_liver), (sum(mouse_mRNA_kidney),mouse_mRNA_kidney), (sum(mouse_totalRNA_liver),mouse_totalRNA_liver), (sum(mouse_totalRNA_kidney),mouse_totalRNA_kidney)]"
      ]
     },
     "execution_count": 25,
     "metadata": {},
     "output_type": "execute_result"
    }
   ],
   "source": [
    "val modelRenamings = modelSum.columns.filter(_.startsWith(\"sum(\")).map(v=>v->v.replace(\"sum(\",\"\").replace(\")\", \"\"))"
   ]
  },
  {
   "cell_type": "code",
   "execution_count": 28,
   "metadata": {},
   "outputs": [
    {
     "data": {
      "text/plain": [
       "models = [uniref90: string, human_liver: double ... 9 more fields]\n"
      ]
     },
     "metadata": {},
     "output_type": "display_data",
     "source": "user"
    },
    {
     "data": {
      "text/plain": [
       "[uniref90: string, human_liver: double ... 9 more fields]"
      ]
     },
     "execution_count": 28,
     "metadata": {},
     "output_type": "execute_result"
    }
   ],
   "source": [
    "val models = rename(modelSum, modelRenamings.toMap).cache"
   ]
  },
  {
   "cell_type": "code",
   "execution_count": 29,
   "metadata": {},
   "outputs": [
    {
     "data": {
      "text/plain": [
       "96855"
      ]
     },
     "execution_count": 29,
     "metadata": {},
     "output_type": "execute_result"
    }
   ],
   "source": [
    "models.count"
   ]
  },
  {
   "cell_type": "code",
   "execution_count": 31,
   "metadata": {},
   "outputs": [
    {
     "data": {
      "text/html": [
       "<table><tr><th>uniref90</th><th>human_liver</th><th>human_kidney</th><th>cow_mRNA_liver</th><th>cow_mRNA_kidney</th><th>cow_totalRNA_liver</th><th>cow_totalRNA_kidney</th><th>mouse_mRNA_liver</th><th>mouse_mRNA_kidney</th><th>mouse_totalRNA_liver</th><th>mouse_totalRNA_kidney</th></tr><tr><td>UniRef90_A0A075B5M4</td><td>0.0</td><td>0.0</td><td>0.0</td><td>0.0</td><td>0.0</td><td>0.0</td><td>0.0</td><td>0.0</td><td>0.273356</td><td>0.529034</td></tr><tr><td>UniRef90_A0A087WQS9</td><td>0.0</td><td>0.0</td><td>0.0</td><td>0.0</td><td>0.0</td><td>0.0</td><td>0.008303</td><td>0.018094</td><td>0.017657</td><td>0.031973</td></tr><tr><td>UniRef90_A0A087WRG2</td><td>0.534042</td><td>1.572286</td><td>0.0</td><td>0.0</td><td>0.0</td><td>0.0</td><td>0.704116</td><td>1.694746</td><td>1.25442</td><td>1.69502</td></tr><tr><td>UniRef90_A0A087WRS0</td><td>0.0</td><td>0.0</td><td>0.0</td><td>0.0</td><td>0.0</td><td>0.0</td><td>0.074889</td><td>0.724762</td><td>0.0</td><td>0.51444</td></tr><tr><td>UniRef90_A0A087WS80</td><td>0.0</td><td>0.0</td><td>0.0</td><td>0.0</td><td>0.0</td><td>0.0</td><td>0.125387</td><td>0.740652</td><td>0.0</td><td>13.04524</td></tr><tr><td>UniRef90_A0A087WU18</td><td>0.0</td><td>1.0E-6</td><td>0.0</td><td>0.0</td><td>0.0</td><td>0.0</td><td>0.0</td><td>0.0</td><td>0.0</td><td>0.0</td></tr><tr><td>UniRef90_A0A087WU77</td><td>0.0</td><td>0.0</td><td>0.0</td><td>0.0</td><td>0.0</td><td>0.0</td><td>0.0</td><td>0.0</td><td>0.0</td><td>0.0</td></tr><tr><td>UniRef90_A0A087WVF0</td><td>0.0</td><td>0.0</td><td>0.0</td><td>0.0</td><td>0.0</td><td>0.0</td><td>0.0</td><td>0.0</td><td>0.0</td><td>0.0</td></tr><tr><td>UniRef90_A0A087WWR9</td><td>0.0</td><td>0.115162</td><td>0.0</td><td>0.0</td><td>0.0</td><td>0.0</td><td>0.0</td><td>0.0</td><td>0.0</td><td>0.0</td></tr><tr><td>UniRef90_A0A087WWV1</td><td>0.020154</td><td>0.070128</td><td>0.0</td><td>0.0</td><td>0.0</td><td>0.0</td><td>0.0</td><td>0.0</td><td>0.0</td><td>0.0</td></tr></table>"
      ]
     },
     "execution_count": 31,
     "metadata": {},
     "output_type": "execute_result"
    }
   ],
   "source": [
    "%%dataframe models"
   ]
  },
  {
   "cell_type": "code",
   "execution_count": 32,
   "metadata": {},
   "outputs": [
    {
     "data": {
      "text/plain": [
       "[uniref90, gray_whale_liver, bowhead_whale_liver, minke_liver, NMR_liver, gray_whale_kidney, bowhead_whale_kidney, minke_kidney, NMR_kidney]"
      ]
     },
     "execution_count": 32,
     "metadata": {},
     "output_type": "execute_result"
    }
   ],
   "source": [
    "nonModelUniref90_outer.columns"
   ]
  },
  {
   "cell_type": "code",
   "execution_count": 33,
   "metadata": {},
   "outputs": [
    {
     "data": {
      "text/plain": [
       "allColumns = List(uniref90, gray_whale_liver, bowhead_whale_liver, minke_liver, NMR_liver, human_liver, mouse_totalRNA_liver, mouse_mRNA_liver, cow_totalRNA_liver, cow_mRNA_liver, gray_whale_kidney, bowhead_whale_kidney, minke_kidney, NMR_kidney, human_kidney, mouse_totalRNA_kidney, mouse_mRNA_kidney, cow_totalRNA_kidney, cow_mRNA_kidney)\n"
      ]
     },
     "metadata": {},
     "output_type": "display_data",
     "source": "user"
    },
    {
     "data": {
      "text/plain": [
       "List(uniref90, gray_whale_liver, bowhead_whale_liver, minke_liver, NMR_liver, human_liver, mouse_totalRNA_liver, mouse_mRNA_liver, cow_totalRNA_liver, cow_mRNA_liver, gray_whale_kidney, bowhead_whale_kidney, minke_kidney, NMR_kidney, human_kidney, mouse_totalRNA_kidney, mouse_mRNA_kidney, cow_totalRNA_kidney, cow_mRNA_kidney)"
      ]
     },
     "execution_count": 33,
     "metadata": {},
     "output_type": "execute_result"
    }
   ],
   "source": [
    "val allColumns = List(\"uniref90\", \"gray_whale_liver\", \"bowhead_whale_liver\", \"minke_liver\", \"NMR_liver\", \"human_liver\", \"mouse_totalRNA_liver\", \"mouse_mRNA_liver\", \"cow_totalRNA_liver\", \"cow_mRNA_liver\", \"gray_whale_kidney\", \"bowhead_whale_kidney\", \"minke_kidney\", \"NMR_kidney\", \"human_kidney\", \"mouse_totalRNA_kidney\", \"mouse_mRNA_kidney\", \"cow_totalRNA_kidney\", \"cow_mRNA_kidney\" )"
   ]
  },
  {
   "cell_type": "code",
   "execution_count": 34,
   "metadata": {},
   "outputs": [
    {
     "data": {
      "text/plain": [
       "all = [uniref90: string, gray_whale_liver: double ... 17 more fields]\n"
      ]
     },
     "metadata": {},
     "output_type": "display_data",
     "source": "user"
    },
    {
     "data": {
      "text/plain": [
       "[uniref90: string, gray_whale_liver: double ... 17 more fields]"
      ]
     },
     "execution_count": 34,
     "metadata": {},
     "output_type": "execute_result"
    }
   ],
   "source": [
    "val all =nonModelUniref90_outer.join(models, Seq(\"uniref90\"), \"outer\").select(allColumns.head, allColumns.tail:_*).na.fill(0).sort($\"gray_whale_liver\".desc)"
   ]
  },
  {
   "cell_type": "code",
   "execution_count": 35,
   "metadata": {},
   "outputs": [
    {
     "data": {
      "text/html": [
       "<table><tr><th>uniref90</th><th>gray_whale_liver</th><th>bowhead_whale_liver</th><th>minke_liver</th><th>NMR_liver</th><th>human_liver</th><th>mouse_totalRNA_liver</th><th>mouse_mRNA_liver</th><th>cow_totalRNA_liver</th><th>cow_mRNA_liver</th><th>gray_whale_kidney</th><th>bowhead_whale_kidney</th><th>minke_kidney</th><th>NMR_kidney</th><th>human_kidney</th><th>mouse_totalRNA_kidney</th><th>mouse_mRNA_kidney</th><th>cow_totalRNA_kidney</th><th>cow_mRNA_kidney</th></tr><tr><td>UniRef90_A0A1D3JP32</td><td>28912.07396</td><td>0.0</td><td>0.0</td><td>0.0</td><td>0.0</td><td>0.0</td><td>0.0</td><td>0.0</td><td>0.0</td><td>80702.3886</td><td>0.0</td><td>0.0</td><td>0.0</td><td>0.0</td><td>0.0</td><td>0.0</td><td>0.0</td><td>0.0</td></tr><tr><td>UniRef90_B0JE22</td><td>23345.653565</td><td>0.0</td><td>0.0</td><td>0.0</td><td>0.0</td><td>0.0</td><td>0.0</td><td>0.0</td><td>0.0</td><td>44961.569793</td><td>0.0</td><td>0.0</td><td>0.0</td><td>0.0</td><td>0.0</td><td>0.0</td><td>0.0</td><td>0.0</td></tr><tr><td>UniRef90_P0DMM1</td><td>13273.280865</td><td>2400.85</td><td>14073.428271</td><td>0.0</td><td>0.0</td><td>0.0</td><td>0.0</td><td>0.0</td><td>0.0</td><td>5.871845</td><td>25.693117</td><td>1321.29886</td><td>0.0</td><td>0.0</td><td>0.0</td><td>0.0</td><td>0.0</td><td>0.0</td></tr><tr><td>UniRef90_Q8IY31</td><td>10851.276487</td><td>0.0</td><td>31.497888</td><td>0.0</td><td>0.0</td><td>0.0</td><td>0.0</td><td>0.0</td><td>0.0</td><td>27763.924099</td><td>0.0</td><td>47.342378</td><td>0.0</td><td>0.0</td><td>0.0</td><td>0.0</td><td>0.0</td><td>0.0</td></tr><tr><td>UniRef90_Q95MP7</td><td>10473.906031</td><td>0.0</td><td>3043.48281</td><td>0.0</td><td>0.0</td><td>0.0</td><td>0.0</td><td>0.0</td><td>0.0</td><td>3570.825838</td><td>113.243136</td><td>2407.273068</td><td>0.0</td><td>0.0</td><td>0.0</td><td>0.0</td><td>0.0</td><td>0.0</td></tr><tr><td>UniRef90_A0A286ZQC7</td><td>10060.120714</td><td>8386.28</td><td>24576.018837</td><td>0.0</td><td>0.0</td><td>0.0</td><td>0.0</td><td>0.0</td><td>0.0</td><td>1723.115534</td><td>46.086086</td><td>639.28565</td><td>0.0</td><td>0.0</td><td>0.0</td><td>0.0</td><td>0.0</td><td>0.0</td></tr><tr><td>UniRef90_A0A212CAV9</td><td>6413.629848</td><td>0.0</td><td>0.0</td><td>0.0</td><td>0.0</td><td>0.0</td><td>0.0</td><td>0.0</td><td>0.0</td><td>12812.097645</td><td>1.358659</td><td>0.0</td><td>0.0</td><td>0.0</td><td>0.0</td><td>0.0</td><td>0.0</td><td>0.0</td></tr><tr><td>UniRef90_A0A0E2JFH7</td><td>5342.438348</td><td>0.0</td><td>0.0</td><td>0.0</td><td>0.0</td><td>0.0</td><td>0.0</td><td>0.0</td><td>0.0</td><td>12792.727827</td><td>0.0</td><td>0.0</td><td>0.0</td><td>0.0</td><td>0.0</td><td>0.0</td><td>0.0</td><td>0.0</td></tr><tr><td>UniRef90_L5MA95</td><td>3971.232224</td><td>871.505</td><td>3710.557181</td><td>0.0</td><td>0.0</td><td>0.0</td><td>0.0</td><td>0.0</td><td>0.0</td><td>3177.662877</td><td>67.772318</td><td>4141.129523</td><td>0.0</td><td>0.0</td><td>0.0</td><td>0.0</td><td>0.0</td><td>0.0</td></tr><tr><td>UniRef90_A0A140GN66</td><td>3903.081981</td><td>0.0</td><td>0.0</td><td>0.0</td><td>0.0</td><td>0.0</td><td>0.0</td><td>0.0</td><td>0.0</td><td>1555.815324</td><td>0.0</td><td>0.0</td><td>0.0</td><td>0.0</td><td>0.0</td><td>0.0</td><td>0.0</td><td>0.0</td></tr></table>"
      ]
     },
     "execution_count": 35,
     "metadata": {},
     "output_type": "execute_result"
    }
   ],
   "source": [
    "%%dataframe all"
   ]
  },
  {
   "cell_type": "code",
   "execution_count": 47,
   "metadata": {},
   "outputs": [
    {
     "data": {
      "text/plain": [
       "wasbs://storage@pipelines1.blob.core.windows.net/expressions/uniref90/all_uniref90_outer.tsv"
      ]
     },
     "execution_count": 47,
     "metadata": {},
     "output_type": "execute_result"
    }
   ],
   "source": [
    "write(all.select(allColumns.head, allColumns.tail:_*), az(unirefPath + \"/all_uniref90_outer.tsv\"))"
   ]
  },
  {
   "cell_type": "markdown",
   "metadata": {},
   "source": [
    "Reactome\n",
    "---------"
   ]
  },
  {
   "cell_type": "markdown",
   "metadata": {},
   "source": [
    "Identifiers Mapping\n",
    "--------------------\n",
    "\n",
    "The mapping files consist of a tab-separated table that indicates which external protein, gene or small molecule identifiers in the source database were mapped to Reactome pathway and reaction annotations. Our goal with distributing three sets of files for each different identifier type is to provide these mapping files link the source database identifier to:\n",
    "\n",
    "* the lowest level pathway diagram or subset of the pathway\n",
    "* all level pathway diagrams (filename appended with 'All_Levels’),\n",
    "* all reaction events.\n",
    "\n",
    "The columns within the mappings files follow a similar format:\n",
    "\n",
    "* Source database identifier, e.g. UniProt, ENSEMBL, NCBI Gene or ChEBI identifier\n",
    "* Reactome Pathway Stable identifier\n",
    "* URL\n",
    "* Event (Pathway or Reaction) Name\n",
    "* Evidence Code\n",
    "* Species\n"
   ]
  },
  {
   "cell_type": "code",
   "execution_count": 36,
   "metadata": {},
   "outputs": [
    {
     "data": {
      "text/plain": [
       "reactomeTable = [id: string, reactome_id: string ... 4 more fields]\n"
      ]
     },
     "metadata": {},
     "output_type": "display_data",
     "source": "user"
    },
    {
     "data": {
      "text/plain": [
       "[id: string, reactome_id: string ... 4 more fields]"
      ]
     },
     "execution_count": 36,
     "metadata": {},
     "output_type": "execute_result"
    }
   ],
   "source": [
    "val reactomeTable = readTSV(az(reactomePath + \"/UniProt2Reactome.txt\"), false).toDF(\"id\", \"reactome_id\", \"reactome_url\", \"reactome_title\", \"evidence_code\", \"pathway_species\")"
   ]
  },
  {
   "cell_type": "code",
   "execution_count": 37,
   "metadata": {},
   "outputs": [
    {
     "data": {
      "text/plain": [
       "reactome = [id: string, reactome_url: string ... 2 more fields]\n"
      ]
     },
     "metadata": {},
     "output_type": "display_data",
     "source": "user"
    },
    {
     "data": {
      "text/plain": [
       "[id: string, reactome_url: string ... 2 more fields]"
      ]
     },
     "execution_count": 37,
     "metadata": {},
     "output_type": "execute_result"
    }
   ],
   "source": [
    "val reactome = reactomeTable.select(\"id\",\"reactome_url\", \"reactome_title\", \"pathway_species\").distinct.cache"
   ]
  },
  {
   "cell_type": "code",
   "execution_count": 38,
   "metadata": {},
   "outputs": [
    {
     "data": {
      "text/plain": [
       "df = [uniref90: string, gray_whale_liver: double ... 18 more fields]\n"
      ]
     },
     "metadata": {},
     "output_type": "display_data",
     "source": "user"
    },
    {
     "data": {
      "text/plain": [
       "[uniref90: string, gray_whale_liver: double ... 18 more fields]"
      ]
     },
     "execution_count": 38,
     "metadata": {},
     "output_type": "execute_result"
    }
   ],
   "source": [
    "val df = all.na.fill(\"0\").withColumn(\"id\", cut_id($\"uniref90\"))"
   ]
  },
  {
   "cell_type": "code",
   "execution_count": 39,
   "metadata": {},
   "outputs": [
    {
     "data": {
      "text/plain": [
       "values = Array(gray_whale_liver, bowhead_whale_liver, minke_liver, NMR_liver, human_liver, mouse_totalRNA_liver, mouse_mRNA_liver, cow_totalRNA_liver, cow_mRNA_liver, gray_whale_kidney, bowhead_whale_kidney, minke_kidney, NMR_kidney, human_kidney, mouse_totalRNA_kidney, mouse_mRNA_kidney, cow_totalRNA_kidney, cow_mRNA_kidney)\n"
      ]
     },
     "metadata": {},
     "output_type": "display_data",
     "source": "user"
    },
    {
     "data": {
      "text/plain": [
       "[gray_whale_liver, bowhead_whale_liver, minke_liver, NMR_liver, human_liver, mouse_totalRNA_liver, mouse_mRNA_liver, cow_totalRNA_liver, cow_mRNA_liver, gray_whale_kidney, bowhead_whale_kidney, minke_kidney, NMR_kidney, human_kidney, mouse_totalRNA_kidney, mouse_mRNA_kidney, cow_totalRNA_kidney, cow_mRNA_kidney]"
      ]
     },
     "execution_count": 39,
     "metadata": {},
     "output_type": "execute_result"
    }
   ],
   "source": [
    "val values = df.columns.tail.filter(_!=\"id\")"
   ]
  },
  {
   "cell_type": "code",
   "execution_count": 44,
   "metadata": {},
   "outputs": [
    {
     "data": {
      "text/plain": [
       "Name: Compile Error\n",
       "Message: <console>:149: error: too many arguments for method count: ()Long\n",
       "       val pathways = reactome.join(df, \"id\").groupBy(\"reactome_url\").sum(values:_*).count(values:_*)\n",
       "                                                                                          ^\n",
       "\n",
       "StackTrace: "
      ]
     },
     "execution_count": 44,
     "metadata": {},
     "output_type": "execute_result"
    }
   ],
   "source": [
    "val pathways = reactome.join(df, \"id\").groupBy(\"reactome_url\").sum(values:_*)"
   ]
  },
  {
   "cell_type": "code",
   "execution_count": 48,
   "metadata": {},
   "outputs": [
    {
     "data": {
      "text/plain": [
       "pathwayCounts = [reactome_url: string, uniref90_count: bigint]\n"
      ]
     },
     "metadata": {},
     "output_type": "display_data",
     "source": "user"
    },
    {
     "data": {
      "text/plain": [
       "[reactome_url: string, uniref90_count: bigint]"
      ]
     },
     "execution_count": 48,
     "metadata": {},
     "output_type": "execute_result"
    }
   ],
   "source": [
    "val pathwayCounts = reactome.join(df, \"id\").groupBy(\"reactome_url\").count().withColumnRenamed(\"count\", \"uniref90_count\")"
   ]
  },
  {
   "cell_type": "code",
   "execution_count": 49,
   "metadata": {},
   "outputs": [
    {
     "data": {
      "text/plain": [
       "renamings = Array((sum(gray_whale_liver),gray_whale_liver), (sum(bowhead_whale_liver),bowhead_whale_liver), (sum(minke_liver),minke_liver), (sum(NMR_liver),NMR_liver), (sum(human_liver),human_liver), (sum(mouse_totalRNA_liver),mouse_totalRNA_liver), (sum(mouse_mRNA_liver),mouse_mRNA_liver), (sum(cow_totalRNA_liver),cow_totalRNA_liver), (sum(cow_mRNA_liver),cow_mRNA_liver), (sum(gray_whale_kidney),gray_whale_kidney), (sum(bowhead_whale_kidney),bowhead_whale_kidney), (sum(minke_kidney),minke_kidney), (sum(NMR_kidney),NMR_kidney), (sum(human_kidney),human_kidney), (sum(mouse_totalRNA_kidney),mouse_totalRNA_kidney), (sum(mouse_mRNA_kidney),mouse_mRNA_kidney), (sum(cow_totalRNA_kidney),cow_totalRNA_kidney), (sum(cow_mRNA_kidney),cow_mRNA_kidney))\n"
      ]
     },
     "metadata": {},
     "output_type": "display_data",
     "source": "user"
    },
    {
     "data": {
      "text/plain": [
       "[(sum(gray_whale_liver),gray_whale_liver), (sum(bowhead_whale_liver),bowhead_whale_liver), (sum(minke_liver),minke_liver), (sum(NMR_liver),NMR_liver), (sum(human_liver),human_liver), (sum(mouse_totalRNA_liver),mouse_totalRNA_liver), (sum(mouse_mRNA_liver),mouse_mRNA_liver), (sum(cow_totalRNA_liver),cow_totalRNA_liver), (sum(cow_mRNA_liver),cow_mRNA_liver), (sum(gray_whale_kidney),gray_whale_kidney), (sum(bowhead_whale_kidney),bowhead_whale_kidney), (sum(minke_kidney),minke_kidney), (sum(NMR_kidney),NMR_kidney), (sum(human_kidney),human_kidney), (sum(mouse_totalRNA_kidney),mouse_totalRNA_kidney), (sum(mouse_mRNA_kidney),mouse_mRNA_kidney), (sum(cow_totalRNA_kidney),cow_totalRNA_kidney), (sum(cow_mRNA_kidney),cow_mRNA_kidney)]"
      ]
     },
     "execution_count": 49,
     "metadata": {},
     "output_type": "execute_result"
    }
   ],
   "source": [
    "val renamings = pathways.columns.filter(_.startsWith(\"sum(\")).map(v=>v->v.replace(\"sum(\",\"\").replace(\")\", \"\"))"
   ]
  },
  {
   "cell_type": "code",
   "execution_count": 50,
   "metadata": {},
   "outputs": [
    {
     "data": {
      "text/plain": [
       "pathways_renamed = [reactome_url: string, gray_whale_liver: double ... 17 more fields]\n"
      ]
     },
     "metadata": {},
     "output_type": "display_data",
     "source": "user"
    },
    {
     "data": {
      "text/plain": [
       "[reactome_url: string, gray_whale_liver: double ... 17 more fields]"
      ]
     },
     "execution_count": 50,
     "metadata": {},
     "output_type": "execute_result"
    }
   ],
   "source": [
    "val pathways_renamed = rename(pathways, renamings.toMap)\n",
    " .sort($\"gray_whale_liver\".desc).cache"
   ]
  },
  {
   "cell_type": "code",
   "execution_count": 65,
   "metadata": {},
   "outputs": [
    {
     "data": {
      "text/plain": [
       "reactome_counts = [reactome_url: string, all_pathway_members_count: bigint]\n"
      ]
     },
     "metadata": {},
     "output_type": "display_data",
     "source": "user"
    },
    {
     "data": {
      "text/plain": [
       "[reactome_url: string, all_pathway_members_count: bigint]"
      ]
     },
     "execution_count": 65,
     "metadata": {},
     "output_type": "execute_result"
    }
   ],
   "source": [
    "val reactome_counts = reactome.groupBy(\"reactome_url\").count().withColumnRenamed(\"count\", \"all_pathway_members_count\")"
   ]
  },
  {
   "cell_type": "code",
   "execution_count": 66,
   "metadata": {},
   "outputs": [
    {
     "data": {
      "text/html": [
       "<table><tr><th>reactome_url</th><th>all_pathway_members_count</th></tr><tr><td>https://reactome.org/PathwayBrowser/#/R-OSA-8949215</td><td>52</td></tr><tr><td>https://reactome.org/PathwayBrowser/#/R-BTA-5668541</td><td>68</td></tr><tr><td>https://reactome.org/PathwayBrowser/#/R-DME-114608</td><td>326</td></tr><tr><td>https://reactome.org/PathwayBrowser/#/R-XTR-70895</td><td>23</td></tr><tr><td>https://reactome.org/PathwayBrowser/#/R-DRE-5654695</td><td>36</td></tr><tr><td>https://reactome.org/PathwayBrowser/#/R-DME-425397</td><td>8</td></tr><tr><td>https://reactome.org/PathwayBrowser/#/R-HSA-5676594</td><td>17</td></tr><tr><td>https://reactome.org/PathwayBrowser/#/R-GGA-1250342</td><td>19</td></tr><tr><td>https://reactome.org/PathwayBrowser/#/R-MMU-8939242</td><td>18</td></tr><tr><td>https://reactome.org/PathwayBrowser/#/R-SSC-69601</td><td>87</td></tr></table>"
      ]
     },
     "execution_count": 66,
     "metadata": {},
     "output_type": "execute_result"
    }
   ],
   "source": [
    "%%dataframe reactome_counts"
   ]
  },
  {
   "cell_type": "code",
   "execution_count": 69,
   "metadata": {},
   "outputs": [
    {
     "data": {
      "text/plain": [
       "reactome_pathways = [reactome_url: string, reactome_title: string ... 2 more fields]\n"
      ]
     },
     "metadata": {},
     "output_type": "display_data",
     "source": "user"
    },
    {
     "data": {
      "text/plain": [
       "[reactome_url: string, reactome_title: string ... 2 more fields]"
      ]
     },
     "execution_count": 69,
     "metadata": {},
     "output_type": "execute_result"
    }
   ],
   "source": [
    "val reactome_pathways = reactome.select(\"reactome_url\", \"reactome_title\", \"pathway_species\").distinct.join(reactome_counts, \"reactome_url\").cache"
   ]
  },
  {
   "cell_type": "code",
   "execution_count": 52,
   "metadata": {},
   "outputs": [
    {
     "data": {
      "text/plain": [
       "(119429,7001,7001,7001)"
      ]
     },
     "execution_count": 52,
     "metadata": {},
     "output_type": "execute_result"
    }
   ],
   "source": [
    "(all.count, pathways.count,pathwayCounts.count, pathways_renamed.count)"
   ]
  },
  {
   "cell_type": "code",
   "execution_count": 55,
   "metadata": {},
   "outputs": [
    {
     "data": {
      "text/plain": [
       "withCounts = [reactome_url: string, uniref90_count: bigint ... 18 more fields]\n"
      ]
     },
     "metadata": {},
     "output_type": "display_data",
     "source": "user"
    },
    {
     "data": {
      "text/plain": [
       "[reactome_url: string, uniref90_count: bigint ... 18 more fields]"
      ]
     },
     "execution_count": 55,
     "metadata": {},
     "output_type": "execute_result"
    }
   ],
   "source": [
    "val withCounts = pathwayCounts.join(pathways_renamed, \"reactome_url\").sort($\"gray_whale_liver\".desc).cache"
   ]
  },
  {
   "cell_type": "code",
   "execution_count": 56,
   "metadata": {},
   "outputs": [
    {
     "data": {
      "text/html": [
       "<table><tr><th>reactome_url</th><th>uniref90_count</th><th>gray_whale_liver</th><th>bowhead_whale_liver</th><th>minke_liver</th><th>NMR_liver</th><th>human_liver</th><th>mouse_totalRNA_liver</th><th>mouse_mRNA_liver</th><th>cow_totalRNA_liver</th><th>cow_mRNA_liver</th><th>gray_whale_kidney</th><th>bowhead_whale_kidney</th><th>minke_kidney</th><th>NMR_kidney</th><th>human_kidney</th><th>mouse_totalRNA_kidney</th><th>mouse_mRNA_kidney</th><th>cow_totalRNA_kidney</th><th>cow_mRNA_kidney</th></tr><tr><td>https://reactome.org/PathwayBrowser/#/R-HSA-156902</td><td>88</td><td>19637.931238</td><td>7514.556700000001</td><td>17703.458897</td><td>21663.525935</td><td>18056.367420000024</td><td>174108.85328099816</td><td>60877.01633299961</td><td>323051.8819499993</td><td>329410.42027599947</td><td>21307.646262000002</td><td>3627.6083249999997</td><td>23939.159025</td><td>13208.959111999999</td><td>31793.936546999867</td><td>268547.9726200002</td><td>100875.11032099958</td><td>358744.86299999995</td><td>254749.9923690004</td></tr><tr><td>https://reactome.org/PathwayBrowser/#/R-HSA-72706</td><td>111</td><td>18388.370119999996</td><td>6996.8179</td><td>18708.172548000002</td><td>22430.506553999996</td><td>18182.25419700002</td><td>190741.66758899813</td><td>67397.19484499955</td><td>558076.200818996</td><td>707918.9307499938</td><td>18016.065963</td><td>2871.2132520000005</td><td>25847.752873000005</td><td>13816.322236999998</td><td>32375.033277999897</td><td>287451.1578780002</td><td>108512.0454279996</td><td>654210.881260999</td><td>566184.8675109937</td></tr><tr><td>https://reactome.org/PathwayBrowser/#/R-HSA-156827</td><td>110</td><td>18372.797392999997</td><td>6936.7880000000005</td><td>18488.162880000003</td><td>22430.506553999996</td><td>18219.996078000022</td><td>192422.41019699816</td><td>67519.97816899956</td><td>562947.158072996</td><td>711774.3317439937</td><td>17961.455723</td><td>2846.702263</td><td>25588.544480000004</td><td>13816.322236999998</td><td>32429.634711999897</td><td>289196.7124680002</td><td>108702.38247599959</td><td>659361.4237349989</td><td>569511.2117949937</td></tr><tr><td>https://reactome.org/PathwayBrowser/#/R-HSA-9010553</td><td>163</td><td>18360.779705</td><td>6986.213008006</td><td>18618.633012000006</td><td>23590.610610999996</td><td>18267.891083000028</td><td>194365.76055099815</td><td>68039.74809299955</td><td>565374.2222059959</td><td>716396.5449419938</td><td>17689.185163000002</td><td>2689.8907090000002</td><td>25317.394116</td><td>14920.502066999998</td><td>32394.969015999897</td><td>292241.05422100023</td><td>109576.9800089996</td><td>659777.6433139988</td><td>571765.7958729937</td></tr><tr><td>https://reactome.org/PathwayBrowser/#/R-HSA-72689</td><td>100</td><td>18246.386712</td><td>6847.500100000001</td><td>18130.938637000003</td><td>22430.506554000003</td><td>17598.789392000024</td><td>174488.42158999818</td><td>61079.5954419996</td><td>313608.75475699926</td><td>321039.9499599994</td><td>17450.452099000002</td><td>2688.6024390000002</td><td>24797.766375</td><td>13816.322236999998</td><td>31277.417861999867</td><td>269237.48373000027</td><td>101277.72807599955</td><td>344422.8744569999</td><td>250064.57739200036</td></tr><tr><td>https://reactome.org/PathwayBrowser/#/R-HSA-1799339</td><td>110</td><td>18113.539709</td><td>6777.214347000001</td><td>17925.240543000004</td><td>22038.591883</td><td>17613.580604000024</td><td>174391.7837369982</td><td>61028.73240299962</td><td>311462.58389199944</td><td>319400.0883849994</td><td>17137.423287999994</td><td>2647.101637</td><td>24231.530167000008</td><td>13804.67815</td><td>31214.86833499987</td><td>268733.7740940001</td><td>100978.22664899957</td><td>340236.83312999987</td><td>246015.42946900037</td></tr><tr><td>https://reactome.org/PathwayBrowser/#/R-HSA-6791226</td><td>178</td><td>17982.048524</td><td>6724.26063</td><td>17864.019323999997</td><td>22131.229646000003</td><td>17500.679940000013</td><td>174123.99484899812</td><td>60921.19005199958</td><td>311698.24178499926</td><td>319164.5997849995</td><td>17055.693660000004</td><td>2650.6627010000007</td><td>24215.529065000002</td><td>13790.582675</td><td>31166.74560799986</td><td>268432.4852600001</td><td>100828.90403499958</td><td>341034.35885200003</td><td>247001.49380800032</td></tr><tr><td>https://reactome.org/PathwayBrowser/#/R-HSA-2408557</td><td>92</td><td>17932.065565</td><td>6693.4741</td><td>17733.587465</td><td>21794.305088</td><td>17455.04999000002</td><td>173520.24906099815</td><td>60690.125081999606</td><td>309695.6900329993</td><td>315902.79541199945</td><td>16946.607499</td><td>2633.708691</td><td>24041.630452</td><td>13287.515135</td><td>31050.70096499987</td><td>267832.5077650002</td><td>100588.66525999957</td><td>337962.33941899997</td><td>243655.5941930004</td></tr><tr><td>https://reactome.org/PathwayBrowser/#/R-HSA-975957</td><td>114</td><td>17909.649218999995</td><td>6680.638577</td><td>17794.997821000004</td><td>22101.339096</td><td>17990.96254700002</td><td>190894.37177099814</td><td>66927.51132899956</td><td>559244.6365519961</td><td>706842.2076549936</td><td>16887.385712999996</td><td>2635.5403220000003</td><td>24118.725124000004</td><td>13451.886583999998</td><td>32119.150049999906</td><td>287279.5596090002</td><td>107700.76133799959</td><td>653181.8445009991</td><td>563558.1783169936</td></tr><tr><td>https://reactome.org/PathwayBrowser/#/R-HSA-72764</td><td>92</td><td>17906.438735</td><td>6690.2869200000005</td><td>17718.359936</td><td>21663.525935</td><td>17427.350567000023</td><td>173567.62225299815</td><td>60711.00439299961</td><td>309746.8264639994</td><td>316005.64865499944</td><td>16885.082876</td><td>2622.981641</td><td>23947.329723000003</td><td>13208.959111999999</td><td>31045.271758999865</td><td>267887.29741000023</td><td>100622.70700199956</td><td>338076.634431</td><td>243757.75488100038</td></tr></table>"
      ]
     },
     "execution_count": 56,
     "metadata": {},
     "output_type": "execute_result"
    }
   ],
   "source": [
    "%%dataframe withCounts"
   ]
  },
  {
   "cell_type": "code",
   "execution_count": 97,
   "metadata": {},
   "outputs": [
    {
     "data": {
      "text/html": [
       "<table><tr><th>reactome_url</th><th>gray_whale_liver</th><th>bowhead_whale_liver</th><th>minke_liver</th><th>NMR_liver</th><th>human_liver</th><th>mouse_totalRNA_liver</th><th>mouse_mRNA_liver</th><th>cow_totalRNA_liver</th><th>cow_mRNA_liver</th><th>gray_whale_kidney</th><th>bowhead_whale_kidney</th><th>minke_kidney</th><th>NMR_kidney</th><th>human_kidney</th><th>mouse_totalRNA_kidney</th><th>mouse_mRNA_kidney</th><th>cow_totalRNA_kidney</th><th>cow_mRNA_kidney</th></tr><tr><td>https://reactome.org/PathwayBrowser/#/R-HSA-156902</td><td>19637.931237999997</td><td>7514.556699999999</td><td>17703.458897</td><td>21663.525934999998</td><td>18056.367420000013</td><td>174108.85328099807</td><td>60877.01633299962</td><td>323051.8819499993</td><td>329410.4202759994</td><td>21307.646261999995</td><td>3627.6083250000006</td><td>23939.159025</td><td>13208.959112</td><td>31793.93654699987</td><td>268547.9726200002</td><td>100875.11032099958</td><td>358744.86299999995</td><td>254749.99236900033</td></tr><tr><td>https://reactome.org/PathwayBrowser/#/R-HSA-72706</td><td>18388.370119999996</td><td>6996.8179</td><td>18708.172548000002</td><td>22430.506553999996</td><td>18182.254197000013</td><td>190741.6675889981</td><td>67397.19484499958</td><td>558076.2008189958</td><td>707918.9307499935</td><td>18016.065963</td><td>2871.213252000001</td><td>25847.752873</td><td>13816.322236999998</td><td>32375.033277999883</td><td>287451.15787800035</td><td>108512.0454279996</td><td>654210.8812609988</td><td>566184.8675109937</td></tr><tr><td>https://reactome.org/PathwayBrowser/#/R-HSA-156827</td><td>18372.797393</td><td>6936.7880000000005</td><td>18488.162880000003</td><td>22430.506554</td><td>18219.99607800001</td><td>192422.4101969982</td><td>67519.97816899956</td><td>562947.1580729957</td><td>711774.3317439939</td><td>17961.455723000003</td><td>2846.702263</td><td>25588.54448</td><td>13816.322237000002</td><td>32429.634711999875</td><td>289196.7124680004</td><td>108702.38247599962</td><td>659361.4237349988</td><td>569511.2117949937</td></tr><tr><td>https://reactome.org/PathwayBrowser/#/R-HSA-9010553</td><td>18360.779705</td><td>6986.213008006</td><td>18618.633012000002</td><td>23590.610610999993</td><td>18267.891083000017</td><td>194365.76055099812</td><td>68039.74809299957</td><td>565374.2222059959</td><td>716396.5449419938</td><td>17689.185163</td><td>2689.8907090000002</td><td>25317.394116</td><td>14920.502066999998</td><td>32394.969015999883</td><td>292241.05422100023</td><td>109576.98000899961</td><td>659777.6433139985</td><td>571765.7958729938</td></tr><tr><td>https://reactome.org/PathwayBrowser/#/R-HSA-72689</td><td>18246.386712000003</td><td>6847.5001</td><td>18130.938637000003</td><td>22430.506554</td><td>17598.789392000017</td><td>174488.42158999815</td><td>61079.595441999605</td><td>313608.75475699926</td><td>321039.9499599994</td><td>17450.452099000002</td><td>2688.6024390000002</td><td>24797.766375</td><td>13816.322237000002</td><td>31277.417861999864</td><td>269237.4837300002</td><td>101277.72807599958</td><td>344422.874457</td><td>250064.57739200038</td></tr><tr><td>https://reactome.org/PathwayBrowser/#/R-HSA-1799339</td><td>18113.539709</td><td>6777.214346999998</td><td>17925.240543</td><td>22038.591882999997</td><td>17613.58060400002</td><td>174391.78373699813</td><td>61028.73240299962</td><td>311462.5838919993</td><td>319400.08838499937</td><td>17137.423288</td><td>2647.101637</td><td>24231.530167000008</td><td>13804.67815</td><td>31214.86833499987</td><td>268733.77409400017</td><td>100978.22664899958</td><td>340236.83312999987</td><td>246015.42946900037</td></tr><tr><td>https://reactome.org/PathwayBrowser/#/R-HSA-6791226</td><td>17982.048523999998</td><td>6724.26063</td><td>17864.019324000004</td><td>22131.229645999992</td><td>17500.679940000016</td><td>174123.99484899806</td><td>60921.19005199962</td><td>311698.24178499944</td><td>319164.5997849994</td><td>17055.69366</td><td>2650.6627010000007</td><td>24215.529065000002</td><td>13790.582674999998</td><td>31166.745607999877</td><td>268432.48526000016</td><td>100828.90403499959</td><td>341034.3588520001</td><td>247001.49380800035</td></tr><tr><td>https://reactome.org/PathwayBrowser/#/R-HSA-2408557</td><td>17932.065564999997</td><td>6693.474099999999</td><td>17733.587465</td><td>21794.305087999997</td><td>17455.049990000018</td><td>173520.2490609981</td><td>60690.12508199962</td><td>309695.6900329993</td><td>315902.7954119994</td><td>16946.607498999998</td><td>2633.7086910000007</td><td>24041.630452</td><td>13287.515135</td><td>31050.700964999876</td><td>267832.5077650002</td><td>100588.66525999959</td><td>337962.33941899997</td><td>243655.59419300032</td></tr><tr><td>https://reactome.org/PathwayBrowser/#/R-HSA-975957</td><td>17909.649219000003</td><td>6680.638577</td><td>17794.997821</td><td>22101.339096</td><td>17990.962547000014</td><td>190894.37177099808</td><td>66927.5113289996</td><td>559244.6365519959</td><td>706842.2076549937</td><td>16887.385713</td><td>2635.540322</td><td>24118.725124000004</td><td>13451.886584</td><td>32119.150049999884</td><td>287279.5596090004</td><td>107700.76133799962</td><td>653181.844500999</td><td>563558.1783169935</td></tr><tr><td>https://reactome.org/PathwayBrowser/#/R-HSA-192823</td><td>17906.438735000003</td><td>6675.6617</td><td>17703.458897</td><td>21663.525934999998</td><td>17424.269848000014</td><td>173618.9771419981</td><td>60728.45172599962</td><td>309762.04346499935</td><td>316014.44830399944</td><td>16885.082876</td><td>2622.981641</td><td>23939.159025</td><td>13208.959112</td><td>31035.423677999865</td><td>268042.1216740002</td><td>100640.11610999961</td><td>338045.212011</td><td>243744.44618900036</td></tr></table>"
      ]
     },
     "execution_count": 97,
     "metadata": {},
     "output_type": "execute_result"
    }
   ],
   "source": [
    "%%dataframe pathways_renamed"
   ]
  },
  {
   "cell_type": "code",
   "execution_count": 102,
   "metadata": {},
   "outputs": [
    {
     "data": {
      "text/html": [
       "<table><tr><th>id</th><th>reactome_url</th><th>reactome_title</th><th>pathway_species</th></tr><tr><td>A0A075B5W3</td><td>https://reactome.org/PathwayBrowser/#/R-MMU-5690714</td><td>CD22 mediated BCR regulation</td><td>Mus musculus</td></tr><tr><td>A0A075B5X7</td><td>https://reactome.org/PathwayBrowser/#/R-MMU-173623</td><td>Classical antibody-mediated complement activation</td><td>Mus musculus</td></tr><tr><td>A0A075B5X7</td><td>https://reactome.org/PathwayBrowser/#/R-MMU-977606</td><td>Regulation of Complement cascade</td><td>Mus musculus</td></tr><tr><td>A0A075B678</td><td>https://reactome.org/PathwayBrowser/#/R-MMU-173623</td><td>Classical antibody-mediated complement activation</td><td>Mus musculus</td></tr><tr><td>A0A087WR31</td><td>https://reactome.org/PathwayBrowser/#/R-MMU-198933</td><td>Immunoregulatory interactions between a Lymphoid and a non-Lymphoid cell</td><td>Mus musculus</td></tr><tr><td>A0A087WSQ5</td><td>https://reactome.org/PathwayBrowser/#/R-MMU-877300</td><td>Interferon gamma signaling</td><td>Mus musculus</td></tr><tr><td>A0A096MIY3</td><td>https://reactome.org/PathwayBrowser/#/R-RNO-110357</td><td>Displacement of DNA glycosylase by APEX1</td><td>Rattus norvegicus</td></tr><tr><td>A0A096MJA8</td><td>https://reactome.org/PathwayBrowser/#/R-RNO-2565942</td><td>Regulation of PLK1 Activity at G2/M Transition</td><td>Rattus norvegicus</td></tr><tr><td>A0A096MJD1</td><td>https://reactome.org/PathwayBrowser/#/R-RNO-72187</td><td>mRNA 3'-end processing</td><td>Rattus norvegicus</td></tr><tr><td>A0A096MK10</td><td>https://reactome.org/PathwayBrowser/#/R-RNO-202733</td><td>Cell surface interactions at the vascular wall</td><td>Rattus norvegicus</td></tr></table>"
      ]
     },
     "execution_count": 102,
     "metadata": {},
     "output_type": "execute_result"
    }
   ],
   "source": [
    "%%dataframe reactome"
   ]
  },
  {
   "cell_type": "code",
   "execution_count": 104,
   "metadata": {},
   "outputs": [
    {
     "data": {
      "text/plain": [
       "(456771,453594,153540,17448)"
      ]
     },
     "execution_count": 104,
     "metadata": {},
     "output_type": "execute_result"
    }
   ],
   "source": [
    "(reactomeTable.count, reactome.count, reactome.select(\"id\").distinct.count, reactome.select(\"reactome_url\").distinct.count)"
   ]
  },
  {
   "cell_type": "code",
   "execution_count": 106,
   "metadata": {},
   "outputs": [
    {
     "data": {
      "text/plain": [
       "17448"
      ]
     },
     "execution_count": 106,
     "metadata": {},
     "output_type": "execute_result"
    }
   ],
   "source": [
    "reactomeURLs.count"
   ]
  },
  {
   "cell_type": "code",
   "execution_count": 71,
   "metadata": {},
   "outputs": [
    {
     "data": {
      "text/plain": [
       "all_pathways = [reactome_url: string, reactome_title: string ... 21 more fields]\n"
      ]
     },
     "metadata": {},
     "output_type": "display_data",
     "source": "user"
    },
    {
     "data": {
      "text/plain": [
       "[reactome_url: string, reactome_title: string ... 21 more fields]"
      ]
     },
     "execution_count": 71,
     "metadata": {},
     "output_type": "execute_result"
    }
   ],
   "source": [
    "val all_pathways = reactome_pathways.join(withCounts, \"reactome_url\").sort($\"gray_whale_liver\".desc).cache"
   ]
  },
  {
   "cell_type": "code",
   "execution_count": 72,
   "metadata": {},
   "outputs": [
    {
     "data": {
      "text/plain": [
       "7001"
      ]
     },
     "execution_count": 72,
     "metadata": {},
     "output_type": "execute_result"
    }
   ],
   "source": [
    "all_pathways.count"
   ]
  },
  {
   "cell_type": "code",
   "execution_count": 73,
   "metadata": {},
   "outputs": [
    {
     "data": {
      "text/html": [
       "<table><tr><th>reactome_url</th><th>reactome_title</th><th>pathway_species</th><th>all_pathway_members_count</th><th>uniref90_count</th><th>gray_whale_liver</th><th>bowhead_whale_liver</th><th>minke_liver</th><th>NMR_liver</th><th>human_liver</th><th>mouse_totalRNA_liver</th><th>mouse_mRNA_liver</th><th>cow_totalRNA_liver</th><th>cow_mRNA_liver</th><th>gray_whale_kidney</th><th>bowhead_whale_kidney</th><th>minke_kidney</th><th>NMR_kidney</th><th>human_kidney</th><th>mouse_totalRNA_kidney</th><th>mouse_mRNA_kidney</th><th>cow_totalRNA_kidney</th><th>cow_mRNA_kidney</th></tr><tr><td>https://reactome.org/PathwayBrowser/#/R-HSA-156902</td><td>Peptide chain elongation</td><td>Homo sapiens</td><td>90</td><td>88</td><td>19637.931238</td><td>7514.556700000001</td><td>17703.458897</td><td>21663.525935</td><td>18056.367420000024</td><td>174108.85328099816</td><td>60877.01633299961</td><td>323051.8819499993</td><td>329410.42027599947</td><td>21307.646262000002</td><td>3627.6083249999997</td><td>23939.159025</td><td>13208.959111999999</td><td>31793.936546999867</td><td>268547.9726200002</td><td>100875.11032099958</td><td>358744.86299999995</td><td>254749.9923690004</td></tr><tr><td>https://reactome.org/PathwayBrowser/#/R-HSA-72706</td><td>GTP hydrolysis and joining of the 60S ribosomal subunit</td><td>Homo sapiens</td><td>113</td><td>111</td><td>18388.370119999996</td><td>6996.8179</td><td>18708.172548000002</td><td>22430.506553999996</td><td>18182.25419700002</td><td>190741.66758899813</td><td>67397.19484499955</td><td>558076.200818996</td><td>707918.9307499938</td><td>18016.065963</td><td>2871.2132520000005</td><td>25847.752873000005</td><td>13816.322236999998</td><td>32375.033277999897</td><td>287451.1578780002</td><td>108512.0454279996</td><td>654210.881260999</td><td>566184.8675109937</td></tr><tr><td>https://reactome.org/PathwayBrowser/#/R-HSA-156827</td><td>L13a-mediated translational silencing of Ceruloplasmin expression</td><td>Homo sapiens</td><td>112</td><td>110</td><td>18372.797392999997</td><td>6936.7880000000005</td><td>18488.162880000003</td><td>22430.506553999996</td><td>18219.996078000022</td><td>192422.41019699816</td><td>67519.97816899956</td><td>562947.158072996</td><td>711774.3317439937</td><td>17961.455723</td><td>2846.702263</td><td>25588.544480000004</td><td>13816.322236999998</td><td>32429.634711999897</td><td>289196.7124680002</td><td>108702.38247599959</td><td>659361.4237349989</td><td>569511.2117949937</td></tr><tr><td>https://reactome.org/PathwayBrowser/#/R-HSA-9010553</td><td>Regulation of expression of SLITs and ROBOs</td><td>Homo sapiens</td><td>172</td><td>163</td><td>18360.779705</td><td>6986.213008006</td><td>18618.633012000006</td><td>23590.610610999996</td><td>18267.891083000028</td><td>194365.76055099815</td><td>68039.74809299955</td><td>565374.2222059959</td><td>716396.5449419938</td><td>17689.185163000002</td><td>2689.8907090000002</td><td>25317.394116</td><td>14920.502066999998</td><td>32394.969015999897</td><td>292241.05422100023</td><td>109576.9800089996</td><td>659777.6433139988</td><td>571765.7958729937</td></tr><tr><td>https://reactome.org/PathwayBrowser/#/R-HSA-72689</td><td>Formation of a pool of free 40S subunits</td><td>Homo sapiens</td><td>102</td><td>100</td><td>18246.386712</td><td>6847.500100000001</td><td>18130.938637000003</td><td>22430.506554000003</td><td>17598.789392000024</td><td>174488.42158999818</td><td>61079.5954419996</td><td>313608.75475699926</td><td>321039.9499599994</td><td>17450.452099000002</td><td>2688.6024390000002</td><td>24797.766375</td><td>13816.322236999998</td><td>31277.417861999867</td><td>269237.48373000027</td><td>101277.72807599955</td><td>344422.8744569999</td><td>250064.57739200036</td></tr><tr><td>https://reactome.org/PathwayBrowser/#/R-HSA-1799339</td><td>SRP-dependent cotranslational protein targeting to membrane</td><td>Homo sapiens</td><td>113</td><td>110</td><td>18113.539709</td><td>6777.214347000001</td><td>17925.240543000004</td><td>22038.591883</td><td>17613.580604000024</td><td>174391.7837369982</td><td>61028.73240299962</td><td>311462.58389199944</td><td>319400.0883849994</td><td>17137.423287999994</td><td>2647.101637</td><td>24231.530167000008</td><td>13804.67815</td><td>31214.86833499987</td><td>268733.7740940001</td><td>100978.22664899957</td><td>340236.83312999987</td><td>246015.42946900037</td></tr><tr><td>https://reactome.org/PathwayBrowser/#/R-HSA-6791226</td><td>Major pathway of rRNA processing in the nucleolus and cytosol</td><td>Homo sapiens</td><td>183</td><td>178</td><td>17982.048524</td><td>6724.26063</td><td>17864.019323999997</td><td>22131.229646000003</td><td>17500.679940000013</td><td>174123.99484899812</td><td>60921.19005199958</td><td>311698.24178499926</td><td>319164.5997849995</td><td>17055.693660000004</td><td>2650.6627010000007</td><td>24215.529065000002</td><td>13790.582675</td><td>31166.74560799986</td><td>268432.4852600001</td><td>100828.90403499958</td><td>341034.35885200003</td><td>247001.49380800032</td></tr><tr><td>https://reactome.org/PathwayBrowser/#/R-HSA-2408557</td><td>Selenocysteine synthesis</td><td>Homo sapiens</td><td>94</td><td>92</td><td>17932.065565</td><td>6693.4741</td><td>17733.587465</td><td>21794.305088</td><td>17455.04999000002</td><td>173520.24906099815</td><td>60690.125081999606</td><td>309695.6900329993</td><td>315902.79541199945</td><td>16946.607499</td><td>2633.708691</td><td>24041.630452</td><td>13287.515135</td><td>31050.70096499987</td><td>267832.5077650002</td><td>100588.66525999957</td><td>337962.33941899997</td><td>243655.5941930004</td></tr><tr><td>https://reactome.org/PathwayBrowser/#/R-HSA-975957</td><td>Nonsense Mediated Decay (NMD) enhanced by the Exon Junction Complex (EJC)</td><td>Homo sapiens</td><td>117</td><td>114</td><td>17909.649218999995</td><td>6680.638577</td><td>17794.997821000004</td><td>22101.339096</td><td>17990.96254700002</td><td>190894.37177099814</td><td>66927.51132899956</td><td>559244.6365519961</td><td>706842.2076549936</td><td>16887.385712999996</td><td>2635.5403220000003</td><td>24118.725124000004</td><td>13451.886583999998</td><td>32119.150049999906</td><td>287279.5596090002</td><td>107700.76133799959</td><td>653181.8445009991</td><td>563558.1783169936</td></tr><tr><td>https://reactome.org/PathwayBrowser/#/R-HSA-72764</td><td>Eukaryotic Translation Termination</td><td>Homo sapiens</td><td>94</td><td>92</td><td>17906.438735</td><td>6690.2869200000005</td><td>17718.359936</td><td>21663.525935</td><td>17427.350567000023</td><td>173567.62225299815</td><td>60711.00439299961</td><td>309746.8264639994</td><td>316005.64865499944</td><td>16885.082876</td><td>2622.981641</td><td>23947.329723000003</td><td>13208.959111999999</td><td>31045.271758999865</td><td>267887.29741000023</td><td>100622.70700199956</td><td>338076.634431</td><td>243757.75488100038</td></tr></table>"
      ]
     },
     "execution_count": 73,
     "metadata": {},
     "output_type": "execute_result"
    }
   ],
   "source": [
    "%%dataframe all_pathways"
   ]
  },
  {
   "cell_type": "code",
   "execution_count": 75,
   "metadata": {},
   "outputs": [
    {
     "data": {
      "text/plain": [
       "wasbs://storage@pipelines1.blob.core.windows.net/expressions/pathways/all_pathways.tab"
      ]
     },
     "execution_count": 75,
     "metadata": {},
     "output_type": "execute_result"
    }
   ],
   "source": [
    "write(all_pathways, az(expressionsPath + \"/pathways/all_pathways.tab\"))"
   ]
  },
  {
   "cell_type": "code",
   "execution_count": 111,
   "metadata": {},
   "outputs": [
    {
     "data": {
      "text/plain": [
       "7001"
      ]
     },
     "execution_count": 111,
     "metadata": {},
     "output_type": "execute_result"
    }
   ],
   "source": [
    "all_pathways.count"
   ]
  },
  {
   "cell_type": "code",
   "execution_count": 76,
   "metadata": {},
   "outputs": [
    {
     "data": {
      "text/plain": [
       "bowhead = [uniref90: string, transcript: string ... 13 more fields]\n"
      ]
     },
     "metadata": {},
     "output_type": "display_data",
     "source": "user"
    },
    {
     "data": {
      "text/plain": [
       "[uniref90: string, transcript: string ... 13 more fields]"
      ]
     },
     "execution_count": 76,
     "metadata": {},
     "output_type": "execute_result"
    }
   ],
   "source": [
    "val bowhead = readTSV(az(unirefPath + \"/bowhead_alaska_uniref90_all.tab\"  ), true)"
   ]
  },
  {
   "cell_type": "code",
   "execution_count": 1,
   "metadata": {},
   "outputs": [
    {
     "data": {
      "text/plain": [
       "[uniref90, transcript, type, go, uniprot_ac, taxon, uniprot_id, entrez, refSeq, gi, uniparc, pubmed, embl, sequence, liver]"
      ]
     },
     "execution_count": 1,
     "metadata": {},
     "output_type": "execute_result"
    }
   ],
   "source": [
    "bowhead.columns"
   ]
  },
  {
   "cell_type": "code",
   "execution_count": 80,
   "metadata": {},
   "outputs": [
    {
     "data": {
      "text/html": [
       "<table><tr><th>go</th></tr><tr><td>null</td></tr><tr><td>GO:0034116; GO:0050839; GO:0007165; GO:0031639; GO:0045087; GO:0070062;GO:0072562; GO:0009897; GO:0005102; GO:0090277; GO:0051592; GO:0030168; GO:0072378; GO:0043152; GO:0050714; GO:0002250; GO:0005938; GO:0045921; GO:0070527; GO:1902042; GO:0070374; GO:0030674; GO:0007160; GO:0005577; GO:0042730;GO:0005577; GO:0051087; GO:0005198; GO:0007596; GO:0051258;GO:0005576; GO:2000352; GO:0045907; GO:0031091</td></tr><tr><td>GO:0005623; GO:0008199; GO:0006879; GO:0006826</td></tr><tr><td>GO:0060228; GO:0033700; GO:0032805; GO:0043407; GO:0002021; GO:0001937;GO:0042627; GO:0034362; GO:0007186; GO:1905855; GO:0010875; GO:0051000; GO:0045807; GO:0017127; GO:0042159; GO:0006874; GO:0048844; GO:0010468; GO:0032462; GO:0070062; GO:0042982; GO:0007616; GO:0005783; GO:0006707; GO:0008289; GO:0005794; GO:0043691; GO:0031012; GO:0043537; GO:0010873; GO:0006869; GO:0046889; GO:0007263; GO:0044794; GO:0034382; GO:0072562; GO:0060999; GO:1901628; GO:0010544; GO:0034447; GO:0097114; GO:0030828; GO:0050750; GO:1902995; GO:1902952; GO:0042803;GO:0106003; GO:0005886; GO:0051651; GO:1902430; GO:0090209; GO:1905860; GO:0005634; GO:1901630; GO:0042158; GO:0019068; GO:0034384; GO:0034374; GO:0090090; GO:0061771; GO:0034363; GO:0035641; GO:0001540; GO:2000822; GO:0015909; GO:0005543; GO:1900221; GO:0050728; GO:0097113; GO:0042157; GO:0033344; GO:0034364; GO:1905906; GO:0048156; GO:0017038; GO:0008201; GO:0010977; GO:0045541; GO:0042311; GO:0016209; GO:0006979; GO:1903002; GO:0034380; GO:0070326; GO:0034375; GO:1901215; GO:0055089; GO:0006641; GO:0019934; GO:0034361; GO:0034372; GO:0006898; GO:0070328; GO:1900272; GO:0046911; GO:0032489; GO:0042632; GO:0071813; GO:1905890; GO:0010877; GO:0051044; GO:0042627</td></tr><tr><td>GO:0007165; GO:0005102; GO:0030168; GO:0030674;GO:0005577; GO:0051258</td></tr><tr><td>GO:0070062;GO:0072562; GO:0031012; GO:0042803; GO:0005886; GO:0019862; GO:0004867; GO:0020037; GO:0036094;GO:0005576; GO:0018298</td></tr><tr><td>GO:0005319</td></tr><tr><td>GO:0005737; GO:0006526; GO:0000050; GO:0000053; GO:0004055; GO:0005524</td></tr><tr><td>GO:0015067;GO:0070062; GO:0014889; GO:0005739;GO:0015067; GO:0007275; GO:0006601; GO:0005758; GO:0007611; GO:0015068</td></tr><tr><td>GO:0005783;GO:0022625; GO:0006412; GO:0016020;GO:0015934; GO:0003723; GO:0002181; GO:0003735;GO:0005840</td></tr></table>"
      ]
     },
     "execution_count": 80,
     "metadata": {},
     "output_type": "execute_result"
    }
   ],
   "source": [
    "%%dataframe bowhead.select(\"go\")"
   ]
  },
  {
   "cell_type": "code",
   "execution_count": null,
   "metadata": {},
   "outputs": [],
   "source": []
  }
 ],
 "metadata": {
  "kernelspec": {
   "display_name": "Apache Toree - Scala",
   "language": "scala",
   "name": "apache_toree_scala"
  },
  "language_info": {
   "codemirror_mode": "text/x-scala",
   "file_extension": ".scala",
   "mimetype": "text/x-scala",
   "name": "scala",
   "pygments_lexer": "scala",
   "version": "2.11.8"
  }
 },
 "nbformat": 4,
 "nbformat_minor": 2
}
