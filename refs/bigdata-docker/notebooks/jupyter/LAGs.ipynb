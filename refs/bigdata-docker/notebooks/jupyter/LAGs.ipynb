{
 "cells": [
  {
   "cell_type": "markdown",
   "metadata": {},
   "source": [
    "Enrichment\n",
    "=========="
   ]
  },
  {
   "cell_type": "markdown",
   "metadata": {},
   "source": [
    "Dependencies\n",
    "------------"
   ]
  },
  {
   "cell_type": "code",
   "execution_count": 1,
   "metadata": {},
   "outputs": [
    {
     "name": "stdout",
     "output_type": "stream",
     "text": [
      "Marking org.bdgenomics.adam:adam-core-spark2_2.11:0.24.0 for download\n",
      "Preparing to fetch from:\n",
      "-> file:/tmp/toree-tmp-dir608229789150098544/toree_add_deps/\n",
      "-> https://repo1.maven.org/maven2\n",
      "-> New file at /tmp/toree-tmp-dir608229789150098544/toree_add_deps/https/repo1.maven.org/maven2/it/unimi/dsi/fastutil/6.6.5/fastutil-6.6.5.jar\n",
      "-> New file at /tmp/toree-tmp-dir608229789150098544/toree_add_deps/https/repo1.maven.org/maven2/org/spire-math/spire_2.11/0.11.0/spire_2.11-0.11.0.jar\n",
      "-> New file at /tmp/toree-tmp-dir608229789150098544/toree_add_deps/https/repo1.maven.org/maven2/org/apache/hadoop/hadoop-hdfs/2.2.0/hadoop-hdfs-2.2.0.jar\n",
      "-> New file at /tmp/toree-tmp-dir608229789150098544/toree_add_deps/https/repo1.maven.org/maven2/org/apache/hadoop/hadoop-common/2.2.0/hadoop-common-2.2.0.jar\n",
      "-> New file at /tmp/toree-tmp-dir608229789150098544/toree_add_deps/https/repo1.maven.org/maven2/log4j/log4j/1.2.17/log4j-1.2.17.zip\n",
      "-> New file at /tmp/toree-tmp-dir608229789150098544/toree_add_deps/https/repo1.maven.org/maven2/org/apache/parquet/parquet-column/1.8.2/parquet-column-1.8.2.jar\n",
      "-> New file at /tmp/toree-tmp-dir608229789150098544/toree_add_deps/https/repo1.maven.org/maven2/log4j/log4j/1.2.17/log4j-1.2.17.tar.gz\n",
      "-> New file at /tmp/toree-tmp-dir608229789150098544/toree_add_deps/https/repo1.maven.org/maven2/com/sun/jersey/jersey-core/1.9/jersey-core-1.9.jar\n",
      "-> New file at /tmp/toree-tmp-dir608229789150098544/toree_add_deps/https/repo1.maven.org/maven2/org/apache/httpcomponents/httpcore/4.4.4/httpcore-4.4.4.jar\n",
      "-> New file at /tmp/toree-tmp-dir608229789150098544/toree_add_deps/https/repo1.maven.org/maven2/com/sun/jersey/jersey-server/1.9/jersey-server-1.9.jar\n",
      "-> New file at /tmp/toree-tmp-dir608229789150098544/toree_add_deps/https/repo1.maven.org/maven2/org/hammerlab/string-utils_2.11/1.0.0/string-utils_2.11-1.0.0.jar\n",
      "-> New file at /tmp/toree-tmp-dir608229789150098544/toree_add_deps/https/repo1.maven.org/maven2/org/bdgenomics/adam/adam-core-spark2_2.11/0.24.0/adam-core-spark2_2.11-0.24.0.jar\n",
      "-> New file at /tmp/toree-tmp-dir608229789150098544/toree_add_deps/https/repo1.maven.org/maven2/commons-lang/commons-lang/2.5/commons-lang-2.5.jar\n",
      "-> New file at /tmp/toree-tmp-dir608229789150098544/toree_add_deps/https/repo1.maven.org/maven2/org/slf4j/slf4j-log4j12/1.7.5/slf4j-log4j12-1.7.5.jar\n",
      "-> New file at /tmp/toree-tmp-dir608229789150098544/toree_add_deps/https/repo1.maven.org/maven2/org/apache/hadoop/hadoop-client/2.2.0/hadoop-client-2.2.0.jar\n",
      "-> New file at /tmp/toree-tmp-dir608229789150098544/toree_add_deps/https/repo1.maven.org/maven2/org/xerial/snappy/snappy-java/1.1.4/snappy-java-1.1.4.jar\n",
      "-> New file at /tmp/toree-tmp-dir608229789150098544/toree_add_deps/https/repo1.maven.org/maven2/commons-collections/commons-collections/3.2.1/commons-collections-3.2.1.jar\n",
      "-> New file at /tmp/toree-tmp-dir608229789150098544/toree_add_deps/https/repo1.maven.org/maven2/org/objenesis/objenesis/2.1/objenesis-2.1.jar\n",
      "-> New file at /tmp/toree-tmp-dir608229789150098544/toree_add_deps/https/repo1.maven.org/maven2/org/apache/hadoop/hadoop-yarn-api/2.2.0/hadoop-yarn-api-2.2.0.jar\n",
      "-> New file at /tmp/toree-tmp-dir608229789150098544/toree_add_deps/https/repo1.maven.org/maven2/org/bdgenomics/adam/adam-codegen-spark2_2.11/0.24.0/adam-codegen-spark2_2.11-0.24.0.jar\n",
      "-> New file at /tmp/toree-tmp-dir608229789150098544/toree_add_deps/https/repo1.maven.org/maven2/com/netflix/servo/servo-core/0.12.12/servo-core-0.12.12.jar\n",
      "-> New file at /tmp/toree-tmp-dir608229789150098544/toree_add_deps/https/repo1.maven.org/maven2/log4j/log4j/1.2.17/log4j-1.2.17.jar\n",
      "-> New file at /tmp/toree-tmp-dir608229789150098544/toree_add_deps/https/repo1.maven.org/maven2/jline/jline/0.9.94/jline-0.9.94.jar\n",
      "-> New file at /tmp/toree-tmp-dir608229789150098544/toree_add_deps/https/repo1.maven.org/maven2/org/seqdoop/hadoop-bam/7.9.2/hadoop-bam-7.9.2.jar\n",
      "-> New file at /tmp/toree-tmp-dir608229789150098544/toree_add_deps/https/repo1.maven.org/maven2/org/bdgenomics/utils/utils-metrics-spark2_2.11/0.2.13/utils-metrics-spark2_2.11-0.2.13.jar\n",
      "-> New file at /tmp/toree-tmp-dir608229789150098544/toree_add_deps/https/repo1.maven.org/maven2/com/google/protobuf/protobuf-java/2.5.0/protobuf-java-2.5.0.jar\n",
      "-> New file at /tmp/toree-tmp-dir608229789150098544/toree_add_deps/https/repo1.maven.org/maven2/com/github/samtools/htsjdk/2.13.2/htsjdk-2.13.2.jar\n",
      "-> New file at /tmp/toree-tmp-dir608229789150098544/toree_add_deps/https/repo1.maven.org/maven2/commons-beanutils/commons-beanutils-core/1.8.0/commons-beanutils-core-1.8.0.jar\n",
      "-> New file at /tmp/toree-tmp-dir608229789150098544/toree_add_deps/https/repo1.maven.org/maven2/com/sun/jersey/jersey-json/1.9/jersey-json-1.9.jar\n",
      "-> New file at /tmp/toree-tmp-dir608229789150098544/toree_add_deps/https/repo1.maven.org/maven2/com/sun/xml/bind/jaxb-impl/2.2.3-1/jaxb-impl-2.2.3-1.jar\n",
      "-> New file at /tmp/toree-tmp-dir608229789150098544/toree_add_deps/https/repo1.maven.org/maven2/org/glassfish/grizzly/grizzly-rcm/2.1.2/grizzly-rcm-2.1.2.jar\n",
      "-> New file at /tmp/toree-tmp-dir608229789150098544/toree_add_deps/https/repo1.maven.org/maven2/org/codehaus/jackson/jackson-mapper-asl/1.9.13/jackson-mapper-asl-1.9.13.jar\n",
      "-> New file at /tmp/toree-tmp-dir608229789150098544/toree_add_deps/https/repo1.maven.org/maven2/com/sun/jersey/jersey-client/1.9/jersey-client-1.9.jar\n",
      "-> New file at /tmp/toree-tmp-dir608229789150098544/toree_add_deps/https/repo1.maven.org/maven2/org/apache/hadoop/hadoop-mapreduce-client-app/2.2.0/hadoop-mapreduce-client-app-2.2.0.jar\n",
      "-> New file at /tmp/toree-tmp-dir608229789150098544/toree_add_deps/https/repo1.maven.org/maven2/org/bdgenomics/utils/utils-intervalrdd-spark2_2.11/0.2.13/utils-intervalrdd-spark2_2.11-0.2.13.jar\n",
      "-> New file at /tmp/toree-tmp-dir608229789150098544/toree_add_deps/https/repo1.maven.org/maven2/com/esotericsoftware/minlog/minlog/1.2/minlog-1.2.jar\n",
      "-> New file at /tmp/toree-tmp-dir608229789150098544/toree_add_deps/https/repo1.maven.org/maven2/org/apache/commons/commons-math3/3.6.1/commons-math3-3.6.1.jar\n",
      "-> New file at /tmp/toree-tmp-dir608229789150098544/toree_add_deps/https/repo1.maven.org/maven2/org/codehaus/jettison/jettison/1.1/jettison-1.1.jar\n",
      "-> New file at /tmp/toree-tmp-dir608229789150098544/toree_add_deps/https/repo1.maven.org/maven2/org/apache/hadoop/hadoop-yarn-client/2.2.0/hadoop-yarn-client-2.2.0.jar\n",
      "-> New file at /tmp/toree-tmp-dir608229789150098544/toree_add_deps/https/repo1.maven.org/maven2/commons-net/commons-net/3.1/commons-net-3.1.jar\n",
      "-> New file at /tmp/toree-tmp-dir608229789150098544/toree_add_deps/https/repo1.maven.org/maven2/commons-codec/commons-codec/1.9/commons-codec-1.9.jar\n",
      "-> New file at /tmp/toree-tmp-dir608229789150098544/toree_add_deps/https/repo1.maven.org/maven2/org/codehaus/jackson/jackson-jaxrs/1.8.3/jackson-jaxrs-1.8.3.jar\n",
      "-> New file at /tmp/toree-tmp-dir608229789150098544/toree_add_deps/https/repo1.maven.org/maven2/org/codehaus/jackson/jackson-xc/1.8.3/jackson-xc-1.8.3.jar\n",
      "-> New file at /tmp/toree-tmp-dir608229789150098544/toree_add_deps/https/repo1.maven.org/maven2/org/apache/parquet/parquet-hadoop/1.8.1/parquet-hadoop-1.8.1.jar\n",
      "-> New file at /tmp/toree-tmp-dir608229789150098544/toree_add_deps/https/repo1.maven.org/maven2/org/apache/avro/avro/1.8.1/avro-1.8.1.jar\n",
      "-> New file at /tmp/toree-tmp-dir608229789150098544/toree_add_deps/https/repo1.maven.org/maven2/org/apache/parquet/parquet-encoding/1.8.2/parquet-encoding-1.8.2.jar\n",
      "-> New file at /tmp/toree-tmp-dir608229789150098544/toree_add_deps/https/repo1.maven.org/maven2/org/bdgenomics/utils/utils-misc-spark2_2.11/0.2.13/utils-misc-spark2_2.11-0.2.13.jar\n",
      "-> New file at /tmp/toree-tmp-dir608229789150098544/toree_add_deps/https/repo1.maven.org/maven2/javax/inject/javax.inject/1/javax.inject-1.jar\n",
      "-> New file at /tmp/toree-tmp-dir608229789150098544/toree_add_deps/https/repo1.maven.org/maven2/commons-io/commons-io/2.5/commons-io-2.5.jar\n",
      "-> New file at /tmp/toree-tmp-dir608229789150098544/toree_add_deps/https/repo1.maven.org/maven2/org/glassfish/grizzly/grizzly-http/2.1.2/grizzly-http-2.1.2.jar\n",
      "-> New file at /tmp/toree-tmp-dir608229789150098544/toree_add_deps/https/repo1.maven.org/maven2/org/glassfish/grizzly/grizzly-framework/2.1.2/grizzly-framework-2.1.2.jar\n",
      "-> New file at /tmp/toree-tmp-dir608229789150098544/toree_add_deps/https/repo1.maven.org/maven2/org/tukaani/xz/1.5/xz-1.5.jar\n",
      "-> New file at /tmp/toree-tmp-dir608229789150098544/toree_add_deps/https/repo1.maven.org/maven2/org/apache/hadoop/hadoop-auth/2.2.0/hadoop-auth-2.2.0.jar\n",
      "-> New file at /tmp/toree-tmp-dir608229789150098544/toree_add_deps/https/repo1.maven.org/maven2/org/apache/commons/commons-math/2.1/commons-math-2.1.jar\n",
      "-> New file at /tmp/toree-tmp-dir608229789150098544/toree_add_deps/https/repo1.maven.org/maven2/com/sun/jersey/jersey-grizzly2/1.9/jersey-grizzly2-1.9.jar\n",
      "-> New file at /tmp/toree-tmp-dir608229789150098544/toree_add_deps/https/repo1.maven.org/maven2/com/github/jsr203hadoop/jsr203hadoop/1.0.3/jsr203hadoop-1.0.3.jar\n",
      "-> New file at /tmp/toree-tmp-dir608229789150098544/toree_add_deps/https/repo1.maven.org/maven2/org/hammerlab/args4s_2.11/1.0.0/args4s_2.11-1.0.0.jar\n",
      "-> New file at /tmp/toree-tmp-dir608229789150098544/toree_add_deps/https/repo1.maven.org/maven2/org/apache/hadoop/hadoop-mapreduce-client-jobclient/2.2.0/hadoop-mapreduce-client-jobclient-2.2.0.jar\n",
      "-> New file at /tmp/toree-tmp-dir608229789150098544/toree_add_deps/https/repo1.maven.org/maven2/org/apache/hadoop/hadoop-yarn-server-common/2.2.0/hadoop-yarn-server-common-2.2.0.jar\n",
      "-> New file at /tmp/toree-tmp-dir608229789150098544/toree_add_deps/https/repo1.maven.org/maven2/com/google/inject/guice/3.0/guice-3.0.jar\n",
      "-> New file at /tmp/toree-tmp-dir608229789150098544/toree_add_deps/https/repo1.maven.org/maven2/org/bdgenomics/utils/utils-io-spark2_2.11/0.2.13/utils-io-spark2_2.11-0.2.13.jar\n",
      "-> New file at /tmp/toree-tmp-dir608229789150098544/toree_add_deps/https/repo1.maven.org/maven2/org/hammerlab/genomic-loci_2.11/1.4.4/genomic-loci_2.11-1.4.4.jar\n",
      "-> New file at /tmp/toree-tmp-dir608229789150098544/toree_add_deps/https/repo1.maven.org/maven2/javax/xml/bind/jaxb-api/2.2.2/jaxb-api-2.2.2.jar\n",
      "-> New file at /tmp/toree-tmp-dir608229789150098544/toree_add_deps/https/repo1.maven.org/maven2/org/apache/hadoop/hadoop-mapreduce-client-core/2.2.0/hadoop-mapreduce-client-core-2.2.0.jar\n",
      "-> New file at /tmp/toree-tmp-dir608229789150098544/toree_add_deps/https/repo1.maven.org/maven2/org/apache/parquet/parquet-common/1.8.2/parquet-common-1.8.2.jar\n",
      "-> New file at /tmp/toree-tmp-dir608229789150098544/toree_add_deps/https/repo1.maven.org/maven2/org/glassfish/gmbal/gmbal-api-only/3.0.0-b023/gmbal-api-only-3.0.0-b023.jar\n",
      "-> New file at /tmp/toree-tmp-dir608229789150098544/toree_add_deps/https/repo1.maven.org/maven2/org/apache/hadoop/hadoop-mapreduce-client-shuffle/2.2.0/hadoop-mapreduce-client-shuffle-2.2.0.jar\n",
      "-> New file at /tmp/toree-tmp-dir608229789150098544/toree_add_deps/https/repo1.maven.org/maven2/xmlenc/xmlenc/0.52/xmlenc-0.52.jar\n",
      "-> New file at /tmp/toree-tmp-dir608229789150098544/toree_add_deps/https/repo1.maven.org/maven2/commons-httpclient/commons-httpclient/3.1/commons-httpclient-3.1.jar\n",
      "-> New file at /tmp/toree-tmp-dir608229789150098544/toree_add_deps/https/repo1.maven.org/maven2/org/apache/httpcomponents/httpclient/4.5.2/httpclient-4.5.2.jar\n",
      "-> New file at /tmp/toree-tmp-dir608229789150098544/toree_add_deps/https/repo1.maven.org/maven2/org/hammerlab/iterator_2.11/1.0.0/iterator_2.11-1.0.0.jar\n",
      "-> New file at /tmp/toree-tmp-dir608229789150098544/toree_add_deps/https/repo1.maven.org/maven2/asm/asm/3.1/asm-3.1.jar\n",
      "-> New file at /tmp/toree-tmp-dir608229789150098544/toree_add_deps/https/repo1.maven.org/maven2/aopalliance/aopalliance/1.0/aopalliance-1.0.jar\n",
      "-> New file at /tmp/toree-tmp-dir608229789150098544/toree_add_deps/https/repo1.maven.org/maven2/org/glassfish/external/management-api/3.0.0-b012/management-api-3.0.0-b012.jar\n",
      "-> New file at /tmp/toree-tmp-dir608229789150098544/toree_add_deps/https/repo1.maven.org/maven2/args4j/args4j/2.33/args4j-2.33.jar\n",
      "-> New file at /tmp/toree-tmp-dir608229789150098544/toree_add_deps/https/repo1.maven.org/maven2/org/bdgenomics/bdg-formats/bdg-formats/0.11.3/bdg-formats-0.11.3.jar\n",
      "-> New file at /tmp/toree-tmp-dir608229789150098544/toree_add_deps/https/repo1.maven.org/maven2/com/sun/jersey/contribs/jersey-guice/1.9/jersey-guice-1.9.jar\n",
      "-> New file at /tmp/toree-tmp-dir608229789150098544/toree_add_deps/https/repo1.maven.org/maven2/org/apache/parquet/parquet-jackson/1.8.1/parquet-jackson-1.8.1.jar\n",
      "-> New file at /tmp/toree-tmp-dir608229789150098544/toree_add_deps/https/repo1.maven.org/maven2/gov/nih/nlm/ncbi/ngs-java/1.2.4/ngs-java-1.2.4.jar\n",
      "-> New file at /tmp/toree-tmp-dir608229789150098544/toree_add_deps/https/repo1.maven.org/maven2/com/sun/jersey/jersey-test-framework/jersey-test-framework-grizzly2/1.9/jersey-test-framework-grizzly2-1.9.jar\n",
      "-> New file at /tmp/toree-tmp-dir608229789150098544/toree_add_deps/https/repo1.maven.org/maven2/commons-beanutils/commons-beanutils/1.7.0/commons-beanutils-1.7.0.jar\n",
      "-> New file at /tmp/toree-tmp-dir608229789150098544/toree_add_deps/https/repo1.maven.org/maven2/org/apache/commons/commons-jexl/2.1.1/commons-jexl-2.1.1.jar\n",
      "-> New file at /tmp/toree-tmp-dir608229789150098544/toree_add_deps/https/repo1.maven.org/maven2/org/apache/parquet/parquet-avro/1.8.1/parquet-avro-1.8.1.jar\n",
      "-> New file at /tmp/toree-tmp-dir608229789150098544/toree_add_deps/https/repo1.maven.org/maven2/com/thoughtworks/paranamer/paranamer/2.7/paranamer-2.7.jar\n",
      "-> New file at /tmp/toree-tmp-dir608229789150098544/toree_add_deps/https/repo1.maven.org/maven2/org/apache/hadoop/hadoop-yarn-server-nodemanager/2.2.0/hadoop-yarn-server-nodemanager-2.2.0.jar\n",
      "-> New file at /tmp/toree-tmp-dir608229789150098544/toree_add_deps/https/repo1.maven.org/maven2/commons-cli/commons-cli/1.2/commons-cli-1.2.jar\n",
      "-> New file at /tmp/toree-tmp-dir608229789150098544/toree_add_deps/https/repo1.maven.org/maven2/org/apache/commons/commons-compress/1.8.1/commons-compress-1.8.1.jar\n",
      "-> New file at /tmp/toree-tmp-dir608229789150098544/toree_add_deps/https/repo1.maven.org/maven2/stax/stax-api/1.0.1/stax-api-1.0.1.jar\n",
      "-> New file at /tmp/toree-tmp-dir608229789150098544/toree_add_deps/https/repo1.maven.org/maven2/org/apache/zookeeper/zookeeper/3.4.5/zookeeper-3.4.5.jar\n",
      "-> New file at /tmp/toree-tmp-dir608229789150098544/toree_add_deps/https/repo1.maven.org/maven2/org/mortbay/jetty/jetty-util/6.1.26/jetty-util-6.1.26.jar\n",
      "-> New file at /tmp/toree-tmp-dir608229789150098544/toree_add_deps/https/repo1.maven.org/maven2/commons-configuration/commons-configuration/1.6/commons-configuration-1.6.jar\n",
      "-> New file at /tmp/toree-tmp-dir608229789150098544/toree_add_deps/https/repo1.maven.org/maven2/org/apache/hadoop/hadoop-mapreduce-client-common/2.2.0/hadoop-mapreduce-client-common-2.2.0.jar\n",
      "-> New file at /tmp/toree-tmp-dir608229789150098544/toree_add_deps/https/repo1.maven.org/maven2/org/apache/hadoop/hadoop-yarn-common/2.2.0/hadoop-yarn-common-2.2.0.jar\n",
      "-> New file at /tmp/toree-tmp-dir608229789150098544/toree_add_deps/https/repo1.maven.org/maven2/org/apache/hadoop/hadoop-annotations/2.2.0/hadoop-annotations-2.2.0.jar\n",
      "-> New file at /tmp/toree-tmp-dir608229789150098544/toree_add_deps/https/repo1.maven.org/maven2/org/typelevel/machinist_2.11/0.4.1/machinist_2.11-0.4.1.jar\n",
      "-> New file at /tmp/toree-tmp-dir608229789150098544/toree_add_deps/https/repo1.maven.org/maven2/org/apache/parquet/parquet-format/2.3.0-incubating/parquet-format-2.3.0-incubating.jar\n",
      "-> New file at /tmp/toree-tmp-dir608229789150098544/toree_add_deps/https/repo1.maven.org/maven2/org/glassfish/grizzly/grizzly-http-server/2.1.2/grizzly-http-server-2.1.2.jar\n",
      "-> New file at /tmp/toree-tmp-dir608229789150098544/toree_add_deps/https/repo1.maven.org/maven2/commons-digester/commons-digester/1.8/commons-digester-1.8.jar\n",
      "-> New file at /tmp/toree-tmp-dir608229789150098544/toree_add_deps/https/repo1.maven.org/maven2/org/spire-math/spire-macros_2.11/0.11.0/spire-macros_2.11-0.11.0.jar\n",
      "-> New file at /tmp/toree-tmp-dir608229789150098544/toree_add_deps/https/repo1.maven.org/maven2/org/glassfish/grizzly/grizzly-http-servlet/2.1.2/grizzly-http-servlet-2.1.2.jar\n",
      "-> New file at /tmp/toree-tmp-dir608229789150098544/toree_add_deps/https/repo1.maven.org/maven2/com/esotericsoftware/kryo/kryo/2.24.0/kryo-2.24.0.jar\n",
      "-> New file at /tmp/toree-tmp-dir608229789150098544/toree_add_deps/https/repo1.maven.org/maven2/javax/servlet/javax.servlet-api/3.0.1/javax.servlet-api-3.0.1.jar\n",
      "-> New file at /tmp/toree-tmp-dir608229789150098544/toree_add_deps/https/repo1.maven.org/maven2/org/bdgenomics/utils/utils-cli-spark2_2.11/0.2.13/utils-cli-spark2_2.11-0.2.13.jar\n",
      "-> New file at /tmp/toree-tmp-dir608229789150098544/toree_add_deps/https/repo1.maven.org/maven2/com/sun/jersey/jersey-test-framework/jersey-test-framework-core/1.9/jersey-test-framework-core-1.9.jar\n",
      "-> New file at /tmp/toree-tmp-dir608229789150098544/toree_add_deps/https/repo1.maven.org/maven2/org/codehaus/jackson/jackson-core-asl/1.9.13/jackson-core-asl-1.9.13.jar\n",
      "-> New file at /tmp/toree-tmp-dir608229789150098544/toree_add_deps/https/repo1.maven.org/maven2/org/glassfish/javax.servlet/3.1/javax.servlet-3.1.jar\n",
      "-> New file at /tmp/toree-tmp-dir608229789150098544/toree_add_deps/https/repo1.maven.org/maven2/org/apache/parquet/parquet-scala_2.10/1.8.2/parquet-scala_2.10-1.8.2.jar\n",
      "-> New file at /tmp/toree-tmp-dir608229789150098544/toree_add_deps/https/repo1.maven.org/maven2/javax/activation/activation/1.1/activation-1.1.jar\n",
      "-> New file at /tmp/toree-tmp-dir608229789150098544/toree_add_deps/https/repo1.maven.org/maven2/commons-logging/commons-logging/1.2/commons-logging-1.2.jar\n",
      "-> New file at /tmp/toree-tmp-dir608229789150098544/toree_add_deps/https/repo1.maven.org/maven2/org/xerial/snappy/snappy-java/1.1.4/snappy-java-1.1.4.pom\n",
      "-> New file at /tmp/toree-tmp-dir608229789150098544/toree_add_deps/https/repo1.maven.org/maven2/com/sun/jersey/jersey-core/1.9/jersey-core-1.9.pom\n",
      "-> New file at /tmp/toree-tmp-dir608229789150098544/toree_add_deps/https/repo1.maven.org/maven2/org/hammerlab/string-utils_2.11/1.0.0/string-utils_2.11-1.0.0.pom\n",
      "-> New file at /tmp/toree-tmp-dir608229789150098544/toree_add_deps/https/repo1.maven.org/maven2/org/apache/hadoop/hadoop-client/2.2.0/hadoop-client-2.2.0.pom\n",
      "-> New file at /tmp/toree-tmp-dir608229789150098544/toree_add_deps/https/repo1.maven.org/maven2/org/apache/parquet/parquet-column/1.8.2/parquet-column-1.8.2.pom\n",
      "-> New file at /tmp/toree-tmp-dir608229789150098544/toree_add_deps/https/repo1.maven.org/maven2/org/slf4j/slf4j-log4j12/1.7.5/slf4j-log4j12-1.7.5.pom\n",
      "-> New file at /tmp/toree-tmp-dir608229789150098544/toree_add_deps/https/repo1.maven.org/maven2/com/sun/jersey/jersey-server/1.9/jersey-server-1.9.pom\n",
      "-> New file at /tmp/toree-tmp-dir608229789150098544/toree_add_deps/https/repo1.maven.org/maven2/commons-lang/commons-lang/2.5/commons-lang-2.5.pom\n",
      "-> New file at /tmp/toree-tmp-dir608229789150098544/toree_add_deps/https/repo1.maven.org/maven2/commons-collections/commons-collections/3.2.1/commons-collections-3.2.1.pom\n",
      "-> New file at /tmp/toree-tmp-dir608229789150098544/toree_add_deps/https/repo1.maven.org/maven2/org/objenesis/objenesis/2.1/objenesis-2.1.pom\n",
      "-> New file at /tmp/toree-tmp-dir608229789150098544/toree_add_deps/https/repo1.maven.org/maven2/org/bdgenomics/adam/adam-codegen-spark2_2.11/0.24.0/adam-codegen-spark2_2.11-0.24.0.pom\n",
      "-> New file at /tmp/toree-tmp-dir608229789150098544/toree_add_deps/https/repo1.maven.org/maven2/org/apache/hadoop/hadoop-common/2.2.0/hadoop-common-2.2.0.pom\n",
      "-> New file at /tmp/toree-tmp-dir608229789150098544/toree_add_deps/https/repo1.maven.org/maven2/org/apache/httpcomponents/httpcore/4.4.4/httpcore-4.4.4.pom\n",
      "-> New file at /tmp/toree-tmp-dir608229789150098544/toree_add_deps/https/repo1.maven.org/maven2/org/apache/hadoop/hadoop-hdfs/2.2.0/hadoop-hdfs-2.2.0.pom\n",
      "-> New file at /tmp/toree-tmp-dir608229789150098544/toree_add_deps/https/repo1.maven.org/maven2/jline/jline/0.9.94/jline-0.9.94.pom\n",
      "-> New file at /tmp/toree-tmp-dir608229789150098544/toree_add_deps/https/repo1.maven.org/maven2/com/netflix/servo/servo-core/0.12.12/servo-core-0.12.12.pom\n",
      "-> New file at /tmp/toree-tmp-dir608229789150098544/toree_add_deps/https/repo1.maven.org/maven2/org/seqdoop/hadoop-bam/7.9.2/hadoop-bam-7.9.2.pom\n",
      "-> New file at /tmp/toree-tmp-dir608229789150098544/toree_add_deps/https/repo1.maven.org/maven2/log4j/log4j/1.2.17/log4j-1.2.17.pom\n",
      "-> New file at /tmp/toree-tmp-dir608229789150098544/toree_add_deps/https/repo1.maven.org/maven2/commons-beanutils/commons-beanutils-core/1.8.0/commons-beanutils-core-1.8.0.pom\n",
      "-> New file at /tmp/toree-tmp-dir608229789150098544/toree_add_deps/https/repo1.maven.org/maven2/com/sun/jersey/jersey-json/1.9/jersey-json-1.9.pom\n",
      "-> New file at /tmp/toree-tmp-dir608229789150098544/toree_add_deps/https/repo1.maven.org/maven2/org/glassfish/grizzly/grizzly-rcm/2.1.2/grizzly-rcm-2.1.2.pom\n",
      "-> New file at /tmp/toree-tmp-dir608229789150098544/toree_add_deps/https/repo1.maven.org/maven2/org/bdgenomics/utils/utils-metrics-spark2_2.11/0.2.13/utils-metrics-spark2_2.11-0.2.13.pom\n",
      "-> New file at /tmp/toree-tmp-dir608229789150098544/toree_add_deps/https/repo1.maven.org/maven2/com/google/protobuf/protobuf-java/2.5.0/protobuf-java-2.5.0.pom\n",
      "-> New file at /tmp/toree-tmp-dir608229789150098544/toree_add_deps/https/repo1.maven.org/maven2/com/sun/jersey/jersey-client/1.9/jersey-client-1.9.pom\n",
      "-> New file at /tmp/toree-tmp-dir608229789150098544/toree_add_deps/https/repo1.maven.org/maven2/org/bdgenomics/utils/utils-intervalrdd-spark2_2.11/0.2.13/utils-intervalrdd-spark2_2.11-0.2.13.pom\n",
      "-> New file at /tmp/toree-tmp-dir608229789150098544/toree_add_deps/https/repo1.maven.org/maven2/org/apache/hadoop/hadoop-mapreduce-client-app/2.2.0/hadoop-mapreduce-client-app-2.2.0.pom\n",
      "-> New file at /tmp/toree-tmp-dir608229789150098544/toree_add_deps/https/repo1.maven.org/maven2/com/esotericsoftware/minlog/minlog/1.2/minlog-1.2.pom\n",
      "-> New file at /tmp/toree-tmp-dir608229789150098544/toree_add_deps/https/repo1.maven.org/maven2/org/codehaus/jackson/jackson-mapper-asl/1.9.13/jackson-mapper-asl-1.9.13.pom\n",
      "-> New file at /tmp/toree-tmp-dir608229789150098544/toree_add_deps/https/repo1.maven.org/maven2/org/apache/hadoop/hadoop-yarn-api/2.2.0/hadoop-yarn-api-2.2.0.pom\n",
      "-> New file at /tmp/toree-tmp-dir608229789150098544/toree_add_deps/https/repo1.maven.org/maven2/org/codehaus/jettison/jettison/1.1/jettison-1.1.pom\n",
      "-> New file at /tmp/toree-tmp-dir608229789150098544/toree_add_deps/https/repo1.maven.org/maven2/com/sun/xml/bind/jaxb-impl/2.2.3-1/jaxb-impl-2.2.3-1.pom\n",
      "-> New file at /tmp/toree-tmp-dir608229789150098544/toree_add_deps/https/repo1.maven.org/maven2/org/codehaus/jackson/jackson-jaxrs/1.8.3/jackson-jaxrs-1.8.3.pom\n",
      "-> New file at /tmp/toree-tmp-dir608229789150098544/toree_add_deps/https/repo1.maven.org/maven2/org/apache/hadoop/hadoop-yarn-client/2.2.0/hadoop-yarn-client-2.2.0.pom\n",
      "-> New file at /tmp/toree-tmp-dir608229789150098544/toree_add_deps/https/repo1.maven.org/maven2/org/codehaus/jackson/jackson-xc/1.8.3/jackson-xc-1.8.3.pom\n",
      "-> New file at /tmp/toree-tmp-dir608229789150098544/toree_add_deps/https/repo1.maven.org/maven2/org/spire-math/spire_2.11/0.11.0/spire_2.11-0.11.0.pom\n",
      "-> New file at /tmp/toree-tmp-dir608229789150098544/toree_add_deps/https/repo1.maven.org/maven2/commons-net/commons-net/3.1/commons-net-3.1.pom\n",
      "-> New file at /tmp/toree-tmp-dir608229789150098544/toree_add_deps/https/repo1.maven.org/maven2/commons-codec/commons-codec/1.9/commons-codec-1.9.pom\n",
      "-> New file at /tmp/toree-tmp-dir608229789150098544/toree_add_deps/https/repo1.maven.org/maven2/org/bdgenomics/utils/utils-misc-spark2_2.11/0.2.13/utils-misc-spark2_2.11-0.2.13.pom\n",
      "-> New file at /tmp/toree-tmp-dir608229789150098544/toree_add_deps/https/repo1.maven.org/maven2/org/apache/parquet/parquet-hadoop/1.8.1/parquet-hadoop-1.8.1.pom\n",
      "-> New file at /tmp/toree-tmp-dir608229789150098544/toree_add_deps/https/repo1.maven.org/maven2/javax/inject/javax.inject/1/javax.inject-1.pom\n",
      "-> New file at /tmp/toree-tmp-dir608229789150098544/toree_add_deps/https/repo1.maven.org/maven2/com/github/samtools/htsjdk/2.13.2/htsjdk-2.13.2.pom\n",
      "-> New file at /tmp/toree-tmp-dir608229789150098544/toree_add_deps/https/repo1.maven.org/maven2/org/apache/hadoop/hadoop-auth/2.2.0/hadoop-auth-2.2.0.pom\n",
      "-> New file at /tmp/toree-tmp-dir608229789150098544/toree_add_deps/https/repo1.maven.org/maven2/org/apache/parquet/parquet-encoding/1.8.2/parquet-encoding-1.8.2.pom\n",
      "-> New file at /tmp/toree-tmp-dir608229789150098544/toree_add_deps/https/repo1.maven.org/maven2/commons-io/commons-io/2.5/commons-io-2.5.pom\n",
      "-> New file at /tmp/toree-tmp-dir608229789150098544/toree_add_deps/https/repo1.maven.org/maven2/org/tukaani/xz/1.5/xz-1.5.pom\n",
      "-> New file at /tmp/toree-tmp-dir608229789150098544/toree_add_deps/https/repo1.maven.org/maven2/org/glassfish/grizzly/grizzly-http/2.1.2/grizzly-http-2.1.2.pom\n",
      "-> New file at /tmp/toree-tmp-dir608229789150098544/toree_add_deps/https/repo1.maven.org/maven2/com/github/jsr203hadoop/jsr203hadoop/1.0.3/jsr203hadoop-1.0.3.pom\n",
      "-> New file at /tmp/toree-tmp-dir608229789150098544/toree_add_deps/https/repo1.maven.org/maven2/com/sun/jersey/jersey-grizzly2/1.9/jersey-grizzly2-1.9.pom\n",
      "-> New file at /tmp/toree-tmp-dir608229789150098544/toree_add_deps/https/repo1.maven.org/maven2/org/apache/hadoop/hadoop-mapreduce-client-jobclient/2.2.0/hadoop-mapreduce-client-jobclient-2.2.0.pom\n",
      "-> New file at /tmp/toree-tmp-dir608229789150098544/toree_add_deps/https/repo1.maven.org/maven2/org/apache/hadoop/hadoop-yarn-server-common/2.2.0/hadoop-yarn-server-common-2.2.0.pom\n",
      "-> New file at /tmp/toree-tmp-dir608229789150098544/toree_add_deps/https/repo1.maven.org/maven2/org/hammerlab/args4s_2.11/1.0.0/args4s_2.11-1.0.0.pom\n",
      "-> New file at /tmp/toree-tmp-dir608229789150098544/toree_add_deps/https/repo1.maven.org/maven2/org/bdgenomics/utils/utils-io-spark2_2.11/0.2.13/utils-io-spark2_2.11-0.2.13.pom\n",
      "-> New file at /tmp/toree-tmp-dir608229789150098544/toree_add_deps/https/repo1.maven.org/maven2/javax/xml/bind/jaxb-api/2.2.2/jaxb-api-2.2.2.pom\n",
      "-> New file at /tmp/toree-tmp-dir608229789150098544/toree_add_deps/https/repo1.maven.org/maven2/org/glassfish/grizzly/grizzly-framework/2.1.2/grizzly-framework-2.1.2.pom\n",
      "-> New file at /tmp/toree-tmp-dir608229789150098544/toree_add_deps/https/repo1.maven.org/maven2/org/apache/parquet/parquet-common/1.8.2/parquet-common-1.8.2.pom\n",
      "-> New file at /tmp/toree-tmp-dir608229789150098544/toree_add_deps/https/repo1.maven.org/maven2/org/glassfish/gmbal/gmbal-api-only/3.0.0-b023/gmbal-api-only-3.0.0-b023.pom\n",
      "-> New file at /tmp/toree-tmp-dir608229789150098544/toree_add_deps/https/repo1.maven.org/maven2/org/apache/hadoop/hadoop-mapreduce-client-shuffle/2.2.0/hadoop-mapreduce-client-shuffle-2.2.0.pom\n",
      "-> New file at /tmp/toree-tmp-dir608229789150098544/toree_add_deps/https/repo1.maven.org/maven2/org/apache/commons/commons-math/2.1/commons-math-2.1.pom\n",
      "-> New file at /tmp/toree-tmp-dir608229789150098544/toree_add_deps/https/repo1.maven.org/maven2/xmlenc/xmlenc/0.52/xmlenc-0.52.pom\n",
      "-> New file at /tmp/toree-tmp-dir608229789150098544/toree_add_deps/https/repo1.maven.org/maven2/org/apache/avro/avro/1.8.1/avro-1.8.1.pom\n",
      "-> New file at /tmp/toree-tmp-dir608229789150098544/toree_add_deps/https/repo1.maven.org/maven2/org/bdgenomics/adam/adam-core-spark2_2.11/0.24.0/adam-core-spark2_2.11-0.24.0.pom\n",
      "-> New file at /tmp/toree-tmp-dir608229789150098544/toree_add_deps/https/repo1.maven.org/maven2/org/hammerlab/iterator_2.11/1.0.0/iterator_2.11-1.0.0.pom\n",
      "-> New file at /tmp/toree-tmp-dir608229789150098544/toree_add_deps/https/repo1.maven.org/maven2/aopalliance/aopalliance/1.0/aopalliance-1.0.pom\n",
      "-> New file at /tmp/toree-tmp-dir608229789150098544/toree_add_deps/https/repo1.maven.org/maven2/commons-httpclient/commons-httpclient/3.1/commons-httpclient-3.1.pom\n",
      "-> New file at /tmp/toree-tmp-dir608229789150098544/toree_add_deps/https/repo1.maven.org/maven2/com/google/inject/guice/3.0/guice-3.0.pom\n",
      "-> New file at /tmp/toree-tmp-dir608229789150098544/toree_add_deps/https/repo1.maven.org/maven2/asm/asm/3.1/asm-3.1.pom\n",
      "-> New file at /tmp/toree-tmp-dir608229789150098544/toree_add_deps/https/repo1.maven.org/maven2/org/glassfish/external/management-api/3.0.0-b012/management-api-3.0.0-b012.pom\n",
      "-> New file at /tmp/toree-tmp-dir608229789150098544/toree_add_deps/https/repo1.maven.org/maven2/args4j/args4j/2.33/args4j-2.33.pom\n",
      "-> New file at /tmp/toree-tmp-dir608229789150098544/toree_add_deps/https/repo1.maven.org/maven2/com/sun/jersey/contribs/jersey-guice/1.9/jersey-guice-1.9.pom\n",
      "-> New file at /tmp/toree-tmp-dir608229789150098544/toree_add_deps/https/repo1.maven.org/maven2/org/bdgenomics/bdg-formats/bdg-formats/0.11.3/bdg-formats-0.11.3.pom\n",
      "-> New file at /tmp/toree-tmp-dir608229789150098544/toree_add_deps/https/repo1.maven.org/maven2/gov/nih/nlm/ncbi/ngs-java/1.2.4/ngs-java-1.2.4.pom\n",
      "-> New file at /tmp/toree-tmp-dir608229789150098544/toree_add_deps/https/repo1.maven.org/maven2/com/sun/jersey/jersey-test-framework/jersey-test-framework-grizzly2/1.9/jersey-test-framework-grizzly2-1.9.pom\n",
      "-> New file at /tmp/toree-tmp-dir608229789150098544/toree_add_deps/https/repo1.maven.org/maven2/commons-beanutils/commons-beanutils/1.7.0/commons-beanutils-1.7.0.pom\n",
      "-> New file at /tmp/toree-tmp-dir608229789150098544/toree_add_deps/https/repo1.maven.org/maven2/org/apache/commons/commons-math3/3.6.1/commons-math3-3.6.1.pom\n",
      "-> New file at /tmp/toree-tmp-dir608229789150098544/toree_add_deps/https/repo1.maven.org/maven2/org/apache/httpcomponents/httpclient/4.5.2/httpclient-4.5.2.pom\n",
      "-> New file at /tmp/toree-tmp-dir608229789150098544/toree_add_deps/https/repo1.maven.org/maven2/com/thoughtworks/paranamer/paranamer/2.7/paranamer-2.7.pom\n",
      "-> New file at /tmp/toree-tmp-dir608229789150098544/toree_add_deps/https/repo1.maven.org/maven2/org/apache/commons/commons-jexl/2.1.1/commons-jexl-2.1.1.pom\n",
      "-> New file at /tmp/toree-tmp-dir608229789150098544/toree_add_deps/https/repo1.maven.org/maven2/commons-cli/commons-cli/1.2/commons-cli-1.2.pom\n",
      "-> New file at /tmp/toree-tmp-dir608229789150098544/toree_add_deps/https/repo1.maven.org/maven2/org/apache/parquet/parquet-avro/1.8.1/parquet-avro-1.8.1.pom\n",
      "-> New file at /tmp/toree-tmp-dir608229789150098544/toree_add_deps/https/repo1.maven.org/maven2/org/apache/hadoop/hadoop-yarn-server-nodemanager/2.2.0/hadoop-yarn-server-nodemanager-2.2.0.pom\n",
      "-> New file at /tmp/toree-tmp-dir608229789150098544/toree_add_deps/https/repo1.maven.org/maven2/org/apache/commons/commons-compress/1.8.1/commons-compress-1.8.1.pom\n",
      "-> New file at /tmp/toree-tmp-dir608229789150098544/toree_add_deps/https/repo1.maven.org/maven2/stax/stax-api/1.0.1/stax-api-1.0.1.pom\n",
      "-> New file at /tmp/toree-tmp-dir608229789150098544/toree_add_deps/https/repo1.maven.org/maven2/org/apache/hadoop/hadoop-mapreduce-client-core/2.2.0/hadoop-mapreduce-client-core-2.2.0.pom\n",
      "-> New file at /tmp/toree-tmp-dir608229789150098544/toree_add_deps/https/repo1.maven.org/maven2/org/mortbay/jetty/jetty-util/6.1.26/jetty-util-6.1.26.pom\n",
      "-> New file at /tmp/toree-tmp-dir608229789150098544/toree_add_deps/https/repo1.maven.org/maven2/org/apache/parquet/parquet-jackson/1.8.1/parquet-jackson-1.8.1.pom\n",
      "-> New file at /tmp/toree-tmp-dir608229789150098544/toree_add_deps/https/repo1.maven.org/maven2/commons-configuration/commons-configuration/1.6/commons-configuration-1.6.pom\n",
      "-> New file at /tmp/toree-tmp-dir608229789150098544/toree_add_deps/https/repo1.maven.org/maven2/org/glassfish/grizzly/grizzly-http-server/2.1.2/grizzly-http-server-2.1.2.pom\n",
      "-> New file at /tmp/toree-tmp-dir608229789150098544/toree_add_deps/https/repo1.maven.org/maven2/org/apache/hadoop/hadoop-annotations/2.2.0/hadoop-annotations-2.2.0.pom\n",
      "-> New file at /tmp/toree-tmp-dir608229789150098544/toree_add_deps/https/repo1.maven.org/maven2/org/typelevel/machinist_2.11/0.4.1/machinist_2.11-0.4.1.pom\n",
      "-> New file at /tmp/toree-tmp-dir608229789150098544/toree_add_deps/https/repo1.maven.org/maven2/it/unimi/dsi/fastutil/6.6.5/fastutil-6.6.5.pom\n",
      "-> New file at /tmp/toree-tmp-dir608229789150098544/toree_add_deps/https/repo1.maven.org/maven2/org/apache/parquet/parquet-format/2.3.0-incubating/parquet-format-2.3.0-incubating.pom\n",
      "-> New file at /tmp/toree-tmp-dir608229789150098544/toree_add_deps/https/repo1.maven.org/maven2/commons-digester/commons-digester/1.8/commons-digester-1.8.pom\n",
      "-> New file at /tmp/toree-tmp-dir608229789150098544/toree_add_deps/https/repo1.maven.org/maven2/org/apache/hadoop/hadoop-mapreduce-client-common/2.2.0/hadoop-mapreduce-client-common-2.2.0.pom\n",
      "-> New file at /tmp/toree-tmp-dir608229789150098544/toree_add_deps/https/repo1.maven.org/maven2/org/spire-math/spire-macros_2.11/0.11.0/spire-macros_2.11-0.11.0.pom\n",
      "-> New file at /tmp/toree-tmp-dir608229789150098544/toree_add_deps/https/repo1.maven.org/maven2/org/bdgenomics/utils/utils-cli-spark2_2.11/0.2.13/utils-cli-spark2_2.11-0.2.13.pom\n",
      "-> New file at /tmp/toree-tmp-dir608229789150098544/toree_add_deps/https/repo1.maven.org/maven2/javax/servlet/javax.servlet-api/3.0.1/javax.servlet-api-3.0.1.pom\n",
      "-> New file at /tmp/toree-tmp-dir608229789150098544/toree_add_deps/https/repo1.maven.org/maven2/com/sun/jersey/jersey-test-framework/jersey-test-framework-core/1.9/jersey-test-framework-core-1.9.pom\n",
      "-> New file at /tmp/toree-tmp-dir608229789150098544/toree_add_deps/https/repo1.maven.org/maven2/org/glassfish/grizzly/grizzly-http-servlet/2.1.2/grizzly-http-servlet-2.1.2.pom\n",
      "-> New file at /tmp/toree-tmp-dir608229789150098544/toree_add_deps/https/repo1.maven.org/maven2/org/hammerlab/genomic-loci_2.11/1.4.4/genomic-loci_2.11-1.4.4.pom\n",
      "-> New file at /tmp/toree-tmp-dir608229789150098544/toree_add_deps/https/repo1.maven.org/maven2/org/glassfish/javax.servlet/3.1/javax.servlet-3.1.pom\n",
      "-> New file at /tmp/toree-tmp-dir608229789150098544/toree_add_deps/https/repo1.maven.org/maven2/org/apache/hadoop/hadoop-yarn-common/2.2.0/hadoop-yarn-common-2.2.0.pom\n",
      "-> New file at /tmp/toree-tmp-dir608229789150098544/toree_add_deps/https/repo1.maven.org/maven2/org/codehaus/jackson/jackson-core-asl/1.9.13/jackson-core-asl-1.9.13.pom\n",
      "-> New file at /tmp/toree-tmp-dir608229789150098544/toree_add_deps/https/repo1.maven.org/maven2/org/apache/zookeeper/zookeeper/3.4.5/zookeeper-3.4.5.pom\n",
      "-> New file at /tmp/toree-tmp-dir608229789150098544/toree_add_deps/https/repo1.maven.org/maven2/org/apache/parquet/parquet-scala_2.10/1.8.2/parquet-scala_2.10-1.8.2.pom\n",
      "-> New file at /tmp/toree-tmp-dir608229789150098544/toree_add_deps/https/repo1.maven.org/maven2/commons-logging/commons-logging/1.2/commons-logging-1.2.pom\n",
      "-> New file at /tmp/toree-tmp-dir608229789150098544/toree_add_deps/https/repo1.maven.org/maven2/javax/activation/activation/1.1/activation-1.1.pom\n",
      "-> New file at /tmp/toree-tmp-dir608229789150098544/toree_add_deps/https/repo1.maven.org/maven2/com/esotericsoftware/kryo/kryo/2.24.0/kryo-2.24.0.pom\n"
     ]
    },
    {
     "data": {
      "text/plain": [
       "Waiting for a Spark session to start..."
      ]
     },
     "metadata": {},
     "output_type": "display_data",
     "source": "user"
    },
    {
     "data": {
      "text/plain": [
       "Waiting for a Spark session to start..."
      ]
     },
     "metadata": {},
     "output_type": "display_data",
     "source": "user"
    },
    {
     "name": "stdout",
     "output_type": "stream",
     "text": [
      "Marking comp.bio.aging:adam-playground_2.11:0.0.13 for download\n",
      "Preparing to fetch from:\n",
      "-> file:/tmp/toree-tmp-dir608229789150098544/toree_add_deps/\n",
      "-> https://dl.bintray.com/comp-bio-aging/main/\n",
      "-> https://repo1.maven.org/maven2\n"
     ]
    }
   ],
   "source": [
    "%AddDeps org.bdgenomics.adam adam-core-spark2_2.11 0.24.0 --transitive\n",
    "%AddDeps comp.bio.aging adam-playground_2.11 0.0.13 --repository https://dl.bintray.com/comp-bio-aging/main/"
   ]
  },
  {
   "cell_type": "code",
   "execution_count": 2,
   "metadata": {},
   "outputs": [
    {
     "name": "stdout",
     "output_type": "stream",
     "text": [
      "Marking org.apache.hadoop:hadoop-azure:2.7.6 for download\n",
      "Preparing to fetch from:\n",
      "-> file:/tmp/toree-tmp-dir608229789150098544/toree_add_deps/\n",
      "-> https://repo1.maven.org/maven2\n",
      "-> New file at /tmp/toree-tmp-dir608229789150098544/toree_add_deps/https/repo1.maven.org/maven2/org/apache/hadoop/hadoop-azure/2.7.6/hadoop-azure-2.7.6.jar\n",
      "-> New file at /tmp/toree-tmp-dir608229789150098544/toree_add_deps/https/repo1.maven.org/maven2/org/apache/hadoop/hadoop-azure/2.7.6/hadoop-azure-2.7.6.pom\n",
      "Marking com.microsoft.azure:azure-storage:2.0.0 for download\n",
      "Preparing to fetch from:\n",
      "-> file:/tmp/toree-tmp-dir608229789150098544/toree_add_deps/\n",
      "-> https://repo1.maven.org/maven2\n",
      "-> New file at /tmp/toree-tmp-dir608229789150098544/toree_add_deps/https/repo1.maven.org/maven2/com/microsoft/azure/azure-storage/2.0.0/azure-storage-2.0.0.jar\n",
      "-> New file at /tmp/toree-tmp-dir608229789150098544/toree_add_deps/https/repo1.maven.org/maven2/com/microsoft/azure/azure-storage/2.0.0/azure-storage-2.0.0.pom\n"
     ]
    }
   ],
   "source": [
    "%AddDeps org.apache.hadoop hadoop-azure 2.7.6\n",
    "%AddDeps com.microsoft.azure azure-storage 2.0.0"
   ]
  },
  {
   "cell_type": "markdown",
   "metadata": {},
   "source": [
    "General functions\n",
    "-----------------"
   ]
  },
  {
   "cell_type": "code",
   "execution_count": 3,
   "metadata": {},
   "outputs": [],
   "source": [
    "import org.apache.spark._\n",
    "import org.apache.spark.sql.{DataFrame, Encoders, SparkSession}\n",
    "import org.apache.spark.sql.types.StructType\n",
    "import scala.reflect.runtime.universe._\n",
    "import org.apache.spark.storage.StorageLevel\n",
    "import org.apache.spark.rdd._\n",
    "import org.apache.spark.sql.functions._"
   ]
  },
  {
   "cell_type": "code",
   "execution_count": 4,
   "metadata": {},
   "outputs": [
    {
     "data": {
      "text/plain": [
       "sparkHadoopConf: (sc: org.apache.spark.SparkContext, acountName: String, accountKey: String)org.apache.spark.SparkContext\n"
      ]
     },
     "metadata": {},
     "output_type": "display_data",
     "source": "user"
    }
   ],
   "source": [
    "def sparkHadoopConf(sc: SparkContext, acountName: String, accountKey: String) = {\n",
    "  sc.hadoopConfiguration.set(\"fs.azure\", \"org.apache.hadoop.fs.azure.NativeAzureFileSystem\")\n",
    "  sc.hadoopConfiguration.set(\"fs.azure.account.key.\" + acountName + \".blob.core.windows.net\", accountKey)\n",
    "  sc\n",
    "}"
   ]
  },
  {
   "cell_type": "code",
   "execution_count": 5,
   "metadata": {},
   "outputs": [
    {
     "data": {
      "text/plain": [
       "azurize: (container: String, accountName: String, blobFile: String)String\n",
       "writeText2Azure: [T](rdd: org.apache.spark.rdd.RDD[T], container: String, accountName: String, blobFile: String)String\n",
       "writeTsv2Azure: (df: org.apache.spark.sql.DataFrame, container: String, accountName: String, blobFile: String)String\n"
      ]
     },
     "metadata": {},
     "output_type": "display_data",
     "source": "user"
    }
   ],
   "source": [
    "def azurize(container: String, accountName: String, blobFile: String): String = \"wasbs://\"+container+\"@\"+accountName+\".blob.core.windows.net/\"+blobFile \n",
    "\n",
    "def writeText2Azure[T]( rdd: RDD[T], container: String, accountName: String, blobFile: String ): String =\n",
    "{\n",
    "  val url = azurize(container, accountName, blobFile)\n",
    "  rdd.saveAsTextFile(url)\n",
    "  url\n",
    "}\n",
    "\n",
    "def writeTsv2Azure( df: DataFrame, container: String, accountName: String, blobFile: String ): String =\n",
    "{\n",
    "  val url = azurize(container, accountName, blobFile)\n",
    "  df.write.option(\"sep\",\"\\t\").option(\"header\",\"true\").csv(url)\n",
    "  url\n",
    "}"
   ]
  },
  {
   "cell_type": "code",
   "execution_count": 6,
   "metadata": {},
   "outputs": [
    {
     "data": {
      "text/plain": [
       "account = pipelines1\n",
       "key = JHVfH9TNAcLhbIjVmIzT387Z2eAOFz1T0xvzJBb7z3jbWtMXspZD+E87OBDIvOyvnd8OWMdyPfKYSboGMKfIxQ==\n",
       "connString = DefaultEndpointsProtocol=https;AccountName=pipelines1;AccountKey=JHVfH9TNAcLhbIjVmIzT387Z2eAOFz1T0xvzJBb7z3jbWtMXspZD+E87OBDIvOyvnd8OWMdyPfKYSboGMKfIxQ==;EndpointSuffix=core.windows.net\n"
      ]
     },
     "metadata": {},
     "output_type": "display_data",
     "source": "user"
    },
    {
     "data": {
      "text/plain": [
       "az: (path: String)String\n"
      ]
     },
     "metadata": {},
     "output_type": "display_data",
     "source": "user"
    },
    {
     "data": {
      "text/plain": [
       "DefaultEndpointsProtocol=https;AccountName=pipelines1;AccountKey=JHVfH9TNAcLhbIjVmIzT387Z2eAOFz1T0xvzJBb7z3jbWtMXspZD+E87OBDIvOyvnd8OWMdyPfKYSboGMKfIxQ==;EndpointSuffix=core.windows.net"
      ]
     },
     "execution_count": 6,
     "metadata": {},
     "output_type": "execute_result"
    }
   ],
   "source": [
    "val account = \"pipelines1\"\n",
    "val key = \"JHVfH9TNAcLhbIjVmIzT387Z2eAOFz1T0xvzJBb7z3jbWtMXspZD+E87OBDIvOyvnd8OWMdyPfKYSboGMKfIxQ==\"\n",
    "val connString = s\"DefaultEndpointsProtocol=https;AccountName=pipelines1;AccountKey=${key};EndpointSuffix=core.windows.net\"\n",
    "def az(path: String): String = azurize(\"storage\", account, path)"
   ]
  },
  {
   "cell_type": "code",
   "execution_count": 7,
   "metadata": {},
   "outputs": [
    {
     "data": {
      "text/plain": [
       "write: (df: org.apache.spark.sql.DataFrame, url: String, header: Boolean)String\n"
      ]
     },
     "metadata": {},
     "output_type": "display_data",
     "source": "user"
    }
   ],
   "source": [
    "def write(df: DataFrame, url: String, header: Boolean = true) = {\n",
    "  df.coalesce(1).write.option(\"sep\",\"\\t\").option(\"header\", header).csv(url)\n",
    "  url\n",
    "}"
   ]
  },
  {
   "cell_type": "code",
   "execution_count": 8,
   "metadata": {},
   "outputs": [
    {
     "data": {
      "text/plain": [
       "readTSV: (path: String, header: Boolean, sep: String)org.apache.spark.sql.DataFrame\n"
      ]
     },
     "metadata": {},
     "output_type": "display_data",
     "source": "user"
    }
   ],
   "source": [
    "def readTSV(path: String, header: Boolean = false, sep: String = \"\\t\"): DataFrame = spark.read\n",
    "    .option(\"sep\", sep)\n",
    "    .option(\"comment\", \"#\")\n",
    "    .option(\"inferSchema\", true)\n",
    "    .option(\"header\", header)\n",
    "    .option(\"ignoreLeadingWhiteSpace\", true)\n",
    "    .option(\"ignoreTrailingWhiteSpace\", true)\n",
    "    .option(\"ignoreTrailingWhiteSpace\", true)\n",
    "    .option(\"maxColumns\", 150000)\n",
    "    .csv(path)"
   ]
  },
  {
   "cell_type": "code",
   "execution_count": 9,
   "metadata": {},
   "outputs": [
    {
     "data": {
      "text/plain": [
       "toVectors: (dataFrame: org.apache.spark.sql.DataFrame, columns: Seq[String], output: String)org.apache.spark.sql.DataFrame\n"
      ]
     },
     "metadata": {},
     "output_type": "display_data",
     "source": "user"
    }
   ],
   "source": [
    "def toVectors(dataFrame: DataFrame, columns: Seq[String], output: String) = {  \n",
    "  import org.apache.spark.ml.feature.VectorAssembler\n",
    "  import org.apache.spark.ml.linalg.Vectors\n",
    "  val assembler = new VectorAssembler()\n",
    "    .setInputCols(columns.toArray)\n",
    "    .setOutputCol(output)\n",
    "  assembler.transform(dataFrame.na.fill(0.0, columns).na.fill(0.0)).select(output)\n",
    "}"
   ]
  },
  {
   "cell_type": "code",
   "execution_count": 10,
   "metadata": {},
   "outputs": [
    {
     "data": {
      "text/plain": [
       "sparkContext = org.apache.spark.SparkContext@de3f2f8\n",
       "spark = org.apache.spark.sql.SparkSession@48f4ffea\n"
      ]
     },
     "metadata": {},
     "output_type": "display_data",
     "source": "user"
    },
    {
     "data": {
      "text/html": [
       "<ul>\n",
       "<li><a href=\"Some(http://5ba0909cc665:4040)\" target=\"new_tab\">Spark UI: app-20180712030107-0000</a></li>\n",
       "</ul>"
      ],
      "text/plain": [
       "Spark app-20180712030107-0000: Some(http://5ba0909cc665:4040)"
      ]
     },
     "execution_count": 10,
     "metadata": {},
     "output_type": "execute_result"
    }
   ],
   "source": [
    "val sparkContext = sc\n",
    "sparkHadoopConf(sparkContext, account, key)\n",
    "  \n",
    "val spark = SparkSession\n",
    "  .builder()\n",
    "  .appName(\"mapping_models\")\n",
    "  .getOrCreate()\n",
    "import spark.implicits._"
   ]
  },
  {
   "cell_type": "code",
   "execution_count": 11,
   "metadata": {},
   "outputs": [
    {
     "data": {
      "text/plain": [
       "rename: (dataFrame: org.apache.spark.sql.DataFrame, renamings: Map[String,String])org.apache.spark.sql.DataFrame\n",
       "renameFunction: (renamings: Map[String,String])org.apache.spark.sql.expressions.UserDefinedFunction\n"
      ]
     },
     "metadata": {},
     "output_type": "display_data",
     "source": "user"
    }
   ],
   "source": [
    "def rename(dataFrame: DataFrame, renamings: Map[String, String]) =   {\n",
    "      val newColumns = dataFrame.columns.map(c=> renamings.getOrElse(c, c))\n",
    "      dataFrame.toDF(newColumns:_*)\n",
    "    }\n",
    "def renameFunction(renamings: Map[String, String]) = udf[String, String](c=> renamings.getOrElse(c, c))"
   ]
  },
  {
   "cell_type": "code",
   "execution_count": 12,
   "metadata": {},
   "outputs": [
    {
     "data": {
      "text/plain": [
       "expressionsPath = expressions\n",
       "byGoPath = expressions/go\n",
       "comparison = expressions/go/gray_whale_with_bowhead_with_minke_with_NMR_with_human_with_mouse_with_cow_full_outer_counts_extended.tsv\n",
       "grouped = expressions/go/grouped\n",
       "ranked = expressions/go/grouped/ranked\n",
       "transcriptsPath = expressions/transcripts\n",
       "indexesPath = indexes\n",
       "reactomePath = indexes/reactome\n",
       "unirefPath = expressions/uniref90\n"
      ]
     },
     "metadata": {},
     "output_type": "display_data",
     "source": "user"
    },
    {
     "data": {
      "text/plain": [
       "expressions/uniref90"
      ]
     },
     "execution_count": 12,
     "metadata": {},
     "output_type": "execute_result"
    }
   ],
   "source": [
    "val expressionsPath = \"expressions\"\n",
    "val byGoPath = expressionsPath + \"/go\"\n",
    "val comparison = byGoPath + \"/gray_whale_with_bowhead_with_minke_with_NMR_with_human_with_mouse_with_cow_full_outer_counts_extended.tsv\"\n",
    "val grouped = byGoPath + \"/grouped\"\n",
    "val ranked = byGoPath + \"/grouped/ranked\"\n",
    "val transcriptsPath = expressionsPath + \"/transcripts\"\n",
    "val indexesPath = \"indexes\"\n",
    "val reactomePath = indexesPath + \"/reactome\"\n",
    "val unirefPath = expressionsPath + \"/\" + \"uniref90\""
   ]
  },
  {
   "cell_type": "markdown",
   "metadata": {},
   "source": [
    "LAGs comparisons\n",
    "---------------"
   ]
  },
  {
   "cell_type": "code",
   "execution_count": 14,
   "metadata": {},
   "outputs": [
    {
     "data": {
      "text/plain": [
       "lastException = null\n"
      ]
     },
     "metadata": {},
     "output_type": "display_data",
     "source": "user"
    },
    {
     "data": {
      "text/plain": [
       "Name: org.apache.spark.SparkException\n",
       "Message: Job aborted due to stage failure: ClassNotFound with classloader: scala.reflect.internal.util.ScalaClassLoader$URLClassLoader@4c2a056b\n",
       "StackTrace:   at org.apache.spark.scheduler.DAGScheduler$$anonfun$abortStage$1.apply(DAGScheduler.scala:1590)\n",
       "  at org.apache.spark.scheduler.DAGScheduler$$anonfun$abortStage$1.apply(DAGScheduler.scala:1589)\n",
       "  at scala.collection.mutable.ResizableArray$class.foreach(ResizableArray.scala:59)\n",
       "  at scala.collection.mutable.ArrayBuffer.foreach(ArrayBuffer.scala:48)\n",
       "  at org.apache.spark.scheduler.DAGScheduler.abortStage(DAGScheduler.scala:1589)\n",
       "  at org.apache.spark.scheduler.DAGScheduler$$anonfun$handleTaskSetFailed$1.apply(DAGScheduler.scala:831)\n",
       "  at org.apache.spark.scheduler.DAGScheduler$$anonfun$handleTaskSetFailed$1.apply(DAGScheduler.scala:831)\n",
       "  at scala.Option.foreach(Option.scala:257)\n",
       "  at org.apache.spark.scheduler.DAGScheduler.handleTaskSetFailed(DAGScheduler.scala:831)\n",
       "  at org.apache.spark.scheduler.DAGSchedulerEventProcessLoop.doOnReceive(DAGScheduler.scala:1823)\n",
       "  at org.apache.spark.scheduler.DAGSchedulerEventProcessLoop.onReceive(DAGScheduler.scala:1772)\n",
       "  at org.apache.spark.scheduler.DAGSchedulerEventProcessLoop.onReceive(DAGScheduler.scala:1761)\n",
       "  at org.apache.spark.util.EventLoop$$anon$1.run(EventLoop.scala:48)\n",
       "  at org.apache.spark.scheduler.DAGScheduler.runJob(DAGScheduler.scala:642)\n",
       "  at org.apache.spark.SparkContext.runJob(SparkContext.scala:2034)\n",
       "  at org.apache.spark.SparkContext.runJob(SparkContext.scala:2055)\n",
       "  at org.apache.spark.SparkContext.runJob(SparkContext.scala:2074)\n",
       "  at org.apache.spark.SparkContext.runJob(SparkContext.scala:2099)\n",
       "  at org.apache.spark.rdd.RDD$$anonfun$collect$1.apply(RDD.scala:939)\n",
       "  at org.apache.spark.rdd.RDDOperationScope$.withScope(RDDOperationScope.scala:151)\n",
       "  at org.apache.spark.rdd.RDDOperationScope$.withScope(RDDOperationScope.scala:112)\n",
       "  at org.apache.spark.rdd.RDD.withScope(RDD.scala:363)\n",
       "  at org.apache.spark.rdd.RDD.collect(RDD.scala:938)\n",
       "  at org.bdgenomics.adam.rdd.contig.NucleotideContigFragmentRDD$.apply(NucleotideContigFragmentRDD.scala:95)\n",
       "  at org.bdgenomics.adam.rdd.ADAMContext$$anonfun$loadFasta$1.apply(ADAMContext.scala:2488)\n",
       "  at org.bdgenomics.adam.rdd.ADAMContext$$anonfun$loadFasta$1.apply(ADAMContext.scala:2472)\n",
       "  at scala.Option.fold(Option.scala:158)\n",
       "  at org.apache.spark.rdd.Timer.time(Timer.scala:48)\n",
       "  at org.bdgenomics.adam.rdd.ADAMContext.loadFasta(ADAMContext.scala:2472)"
      ]
     },
     "execution_count": 14,
     "metadata": {},
     "output_type": "execute_result"
    }
   ],
   "source": [
    "import org.bdgenomics.adam.rdd.ADAMContext._\n",
    "val genage = sc.loadFasta(az(\"indexes/genage/mouse_fly_worm_genage.fasta\"))"
   ]
  },
  {
   "cell_type": "code",
   "execution_count": null,
   "metadata": {},
   "outputs": [],
   "source": []
  }
 ],
 "metadata": {
  "kernelspec": {
   "display_name": "Apache Toree - Scala",
   "language": "scala",
   "name": "apache_toree_scala"
  },
  "language_info": {
   "codemirror_mode": "text/x-scala",
   "file_extension": ".scala",
   "mimetype": "text/x-scala",
   "name": "scala",
   "pygments_lexer": "scala",
   "version": "2.11.8"
  }
 },
 "nbformat": 4,
 "nbformat_minor": 2
}
