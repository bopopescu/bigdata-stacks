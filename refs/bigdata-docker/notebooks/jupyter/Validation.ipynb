{
 "cells": [
  {
   "cell_type": "markdown",
   "metadata": {},
   "source": [
    "Validation notebook for statistical methods in the Gray Whale Project\n",
    "===================================="
   ]
  },
  {
   "cell_type": "markdown",
   "metadata": {},
   "source": [
    "Dependencies\n",
    "-------------"
   ]
  },
  {
   "cell_type": "code",
   "execution_count": 1,
   "metadata": {
    "scrolled": false
   },
   "outputs": [
    {
     "name": "stdout",
     "output_type": "stream",
     "text": [
      "Marking org.bdgenomics.adam:adam-core-spark2_2.11:0.24.0 for download\n",
      "Preparing to fetch from:\n",
      "-> file:/tmp/toree-tmp-dir561821172751950842/toree_add_deps/\n",
      "-> https://repo1.maven.org/maven2\n",
      "-> New file at /tmp/toree-tmp-dir561821172751950842/toree_add_deps/https/repo1.maven.org/maven2/org/bdgenomics/adam/adam-core-spark2_2.11/0.24.0/adam-core-spark2_2.11-0.24.0.jar\n",
      "-> New file at /tmp/toree-tmp-dir561821172751950842/toree_add_deps/https/repo1.maven.org/maven2/org/bdgenomics/adam/adam-core-spark2_2.11/0.24.0/adam-core-spark2_2.11-0.24.0.pom\n"
     ]
    },
    {
     "data": {
      "text/plain": [
       "Waiting for a Spark session to start..."
      ]
     },
     "metadata": {},
     "output_type": "display_data",
     "source": "user"
    },
    {
     "name": "stdout",
     "output_type": "stream",
     "text": [
      "Marking comp.bio.aging:adam-playground_2.11:0.0.13 for download\n",
      "Preparing to fetch from:\n",
      "-> file:/tmp/toree-tmp-dir561821172751950842/toree_add_deps/\n",
      "-> https://dl.bintray.com/comp-bio-aging/main/\n",
      "-> https://repo1.maven.org/maven2\n"
     ]
    }
   ],
   "source": [
    "%AddDeps org.bdgenomics.adam adam-core-spark2_2.11 0.24.0\n",
    "%AddDeps comp.bio.aging adam-playground_2.11 0.0.13 --repository https://dl.bintray.com/comp-bio-aging/main/"
   ]
  },
  {
   "cell_type": "code",
   "execution_count": 2,
   "metadata": {},
   "outputs": [
    {
     "name": "stdout",
     "output_type": "stream",
     "text": [
      "Marking org.apache.hadoop:hadoop-azure:2.7.6 for download\n",
      "Preparing to fetch from:\n",
      "-> file:/tmp/toree-tmp-dir561821172751950842/toree_add_deps/\n",
      "-> https://repo1.maven.org/maven2\n",
      "-> New file at /tmp/toree-tmp-dir561821172751950842/toree_add_deps/https/repo1.maven.org/maven2/org/apache/hadoop/hadoop-azure/2.7.6/hadoop-azure-2.7.6.jar\n",
      "-> New file at /tmp/toree-tmp-dir561821172751950842/toree_add_deps/https/repo1.maven.org/maven2/org/apache/hadoop/hadoop-azure/2.7.6/hadoop-azure-2.7.6.pom\n"
     ]
    },
    {
     "data": {
      "text/plain": [
       "Waiting for a Spark session to start..."
      ]
     },
     "metadata": {},
     "output_type": "display_data",
     "source": "user"
    },
    {
     "name": "stdout",
     "output_type": "stream",
     "text": [
      "Marking com.microsoft.azure:azure-storage:2.0.0 for download\n",
      "Preparing to fetch from:\n",
      "-> file:/tmp/toree-tmp-dir561821172751950842/toree_add_deps/\n",
      "-> https://repo1.maven.org/maven2\n",
      "-> New file at /tmp/toree-tmp-dir561821172751950842/toree_add_deps/https/repo1.maven.org/maven2/com/microsoft/azure/azure-storage/2.0.0/azure-storage-2.0.0.jar\n",
      "-> New file at /tmp/toree-tmp-dir561821172751950842/toree_add_deps/https/repo1.maven.org/maven2/com/microsoft/azure/azure-storage/2.0.0/azure-storage-2.0.0.pom\n"
     ]
    }
   ],
   "source": [
    "%AddDeps org.apache.hadoop hadoop-azure 2.7.6\n",
    "%AddDeps com.microsoft.azure azure-storage 2.0.0"
   ]
  },
  {
   "cell_type": "markdown",
   "metadata": {},
   "source": [
    "Imports and general functions\n",
    "==============="
   ]
  },
  {
   "cell_type": "code",
   "execution_count": 3,
   "metadata": {},
   "outputs": [],
   "source": [
    "import  org.apache.spark._\n",
    "import org.apache.spark.sql._\n",
    "import org.apache.spark.sql.types.StructType\n",
    "import scala.reflect.runtime.universe._\n",
    "import org.apache.spark.storage.StorageLevel\n",
    "import org.apache.spark.rdd._\n",
    "import org.apache.spark.ml.linalg._\n",
    "import org.apache.spark.ml.stat._"
   ]
  },
  {
   "cell_type": "code",
   "execution_count": 4,
   "metadata": {},
   "outputs": [
    {
     "data": {
      "text/plain": [
       "Name: Syntax Error.\n",
       "Message: \n",
       "StackTrace: "
      ]
     },
     "execution_count": 4,
     "metadata": {},
     "output_type": "execute_result"
    }
   ],
   "source": [
    "//import comp.bio.aging.playground.extensions._\n",
    "//import org.bdgenomics.adam.rdd.ADAMContext._"
   ]
  },
  {
   "cell_type": "code",
   "execution_count": 5,
   "metadata": {},
   "outputs": [
    {
     "data": {
      "text/plain": [
       "sparkHadoopConf: (sc: org.apache.spark.SparkContext, acountName: String, accountKey: String)org.apache.spark.SparkContext\n"
      ]
     },
     "metadata": {},
     "output_type": "display_data",
     "source": "user"
    }
   ],
   "source": [
    "def sparkHadoopConf(sc: SparkContext, acountName: String, accountKey: String) = {\n",
    "  sc.hadoopConfiguration.set(\"fs.azure\", \"org.apache.hadoop.fs.azure.NativeAzureFileSystem\")\n",
    "  sc.hadoopConfiguration.set(\"fs.azure.account.key.\" + acountName + \".blob.core.windows.net\", accountKey)\n",
    "  sc\n",
    "}"
   ]
  },
  {
   "cell_type": "code",
   "execution_count": 6,
   "metadata": {},
   "outputs": [
    {
     "data": {
      "text/plain": [
       "azurize: (container: String, accountName: String, blobFile: String)String\n"
      ]
     },
     "metadata": {},
     "output_type": "display_data",
     "source": "user"
    }
   ],
   "source": [
    "def azurize(container: String, accountName: String, blobFile: String): String = \"wasbs://\"+container+\"@\"+accountName+\".blob.core.windows.net/\"+blobFile "
   ]
  },
  {
   "cell_type": "code",
   "execution_count": 7,
   "metadata": {},
   "outputs": [
    {
     "data": {
      "text/plain": [
       "account = pipelines1\n",
       "key = \n",
       "connString = DefaultEndpointsProtocol=https;AccountName=pipelines1;AccountKey=;EndpointSuffix=core.windows.net\n"
      ]
     },
     "metadata": {},
     "output_type": "display_data",
     "source": "user"
    },
    {
     "data": {
      "text/plain": [
       "az: (path: String)String\n"
      ]
     },
     "metadata": {},
     "output_type": "display_data",
     "source": "user"
    },
    {
     "data": {
      "text/plain": [
       "DefaultEndpointsProtocol=https;AccountName=pipelines1;AccountKey=;EndpointSuffix=core.windows.net"
      ]
     },
     "execution_count": 7,
     "metadata": {},
     "output_type": "execute_result"
    }
   ],
   "source": [
    "val account = \"pipelines1\"\n",
    "val key = \"\"\n",
    "val connString = s\"DefaultEndpointsProtocol=https;AccountName=pipelines1;AccountKey=${key};EndpointSuffix=core.windows.net\"\n",
    "def az(path: String): String = azurize(\"storage\", account, path)"
   ]
  },
  {
   "cell_type": "code",
   "execution_count": 8,
   "metadata": {},
   "outputs": [
    {
     "data": {
      "text/plain": [
       "write: (df: org.apache.spark.sql.DataFrame, url: String, header: Boolean)String\n"
      ]
     },
     "metadata": {},
     "output_type": "display_data",
     "source": "user"
    }
   ],
   "source": [
    "def write(df: DataFrame, url: String, header: Boolean = true) = {\n",
    "  df.coalesce(1).write.option(\"sep\",\"\\t\").option(\"header\", header).csv(url)\n",
    "  url\n",
    "}"
   ]
  },
  {
   "cell_type": "code",
   "execution_count": 9,
   "metadata": {},
   "outputs": [
    {
     "data": {
      "text/plain": [
       "sparkContext = org.apache.spark.SparkContext@77dd51fb\n",
       "spark = org.apache.spark.sql.SparkSession@48a08343\n"
      ]
     },
     "metadata": {},
     "output_type": "display_data",
     "source": "user"
    },
    {
     "data": {
      "text/html": [
       "<ul>\n",
       "<li><a href=\"Some(http://c8fc1f462c1d:4040)\" target=\"new_tab\">Spark UI: app-20180703125720-0000</a></li>\n",
       "</ul>"
      ],
      "text/plain": [
       "Spark app-20180703125720-0000: Some(http://c8fc1f462c1d:4040)"
      ]
     },
     "execution_count": 9,
     "metadata": {},
     "output_type": "execute_result"
    }
   ],
   "source": [
    "val sparkContext = sc\n",
    "sparkHadoopConf(sparkContext, account, key)\n",
    "  \n",
    "val spark = SparkSession\n",
    "  .builder()\n",
    "  .appName(\"whales_validation\")\n",
    "  .getOrCreate()"
   ]
  },
  {
   "cell_type": "code",
   "execution_count": 23,
   "metadata": {},
   "outputs": [
    {
     "data": {
      "text/plain": [
       "toDouble = UserDefinedFunction(<function1>,DoubleType,Some(List(StringType)))\n"
      ]
     },
     "metadata": {},
     "output_type": "display_data",
     "source": "user"
    },
    {
     "data": {
      "text/plain": [
       "UserDefinedFunction(<function1>,DoubleType,Some(List(StringType)))"
      ]
     },
     "execution_count": 23,
     "metadata": {},
     "output_type": "execute_result"
    }
   ],
   "source": [
    "import org.apache.spark.sql.functions._\n",
    "import spark.implicits._\n",
    "\n",
    "val toDouble = udf[Double, String]( _.toDouble)"
   ]
  },
  {
   "cell_type": "code",
   "execution_count": 24,
   "metadata": {},
   "outputs": [
    {
     "data": {
      "text/plain": [
       "readTSV: (path: String, header: Boolean, sep: String, infer: Boolean)org.apache.spark.sql.DataFrame\n"
      ]
     },
     "metadata": {},
     "output_type": "display_data",
     "source": "user"
    }
   ],
   "source": [
    "def readTSV(path: String, header: Boolean = false, sep: String = \"\\t\", infer: Boolean = true): DataFrame = spark.read\n",
    "    .option(\"sep\", sep)\n",
    "    .option(\"comment\", \"#\")\n",
    "    .option(\"ignoreLeadingWhiteSpace\", true)\n",
    "    .option(\"ignoreTrailingWhiteSpace\", true)\n",
    "    .option(\"ignoreTrailingWhiteSpace\", true)\n",
    "    .option(\"inferSchema\", infer)\n",
    "    .option(\"header\", header)\n",
    "    .option(\"maxColumns\", 150000)\n",
    "    .csv(path)"
   ]
  },
  {
   "cell_type": "code",
   "execution_count": 25,
   "metadata": {},
   "outputs": [
    {
     "data": {
      "text/plain": [
       "readTypedTSV: [T <: Product](path: String, header: Boolean, sep: String)(implicit tag: reflect.runtime.universe.TypeTag[T])org.apache.spark.sql.Dataset[T]\n"
      ]
     },
     "metadata": {},
     "output_type": "display_data",
     "source": "user"
    }
   ],
   "source": [
    "def readTypedTSV[T <: Product](path: String, header: Boolean = false, sep: String = \"\\t\")\n",
    "                              (implicit tag: TypeTag[T]): Dataset[T] = {\n",
    "  implicit val encoder: StructType = Encoders.product[T](tag).schema\n",
    "  spark.read\n",
    "    .option(\"sep\", sep)\n",
    "    .option(\"comment\", \"#\")\n",
    "    .option(\"ignoreLeadingWhiteSpace\", true)\n",
    "    .option(\"ignoreTrailingWhiteSpace\", true)\n",
    "    .option(\"ignoreTrailingWhiteSpace\", true)\n",
    "    .option(\"header\", header)\n",
    "    .schema(encoder)\n",
    "    .csv(path).as[T]\n",
    "}"
   ]
  },
  {
   "cell_type": "code",
   "execution_count": 26,
   "metadata": {},
   "outputs": [
    {
     "data": {
      "text/plain": [
       "toVectors: (dataFrame: org.apache.spark.sql.DataFrame, columns: Seq[String], output: String)org.apache.spark.sql.DataFrame\n"
      ]
     },
     "metadata": {},
     "output_type": "display_data",
     "source": "user"
    }
   ],
   "source": [
    " def toVectors(dataFrame: DataFrame, columns: Seq[String], output: String) = {  \n",
    "      import org.apache.spark.ml.feature.VectorAssembler\n",
    "      import org.apache.spark.ml.linalg.Vectors\n",
    "\n",
    "      val assembler = new VectorAssembler()\n",
    "        .setInputCols(columns.toArray)\n",
    "        .setOutputCol(output)\n",
    "\n",
    "      assembler.transform(dataFrame.na.fill(0.0, columns).na.fill(\"\")).select(output)\n",
    "    }"
   ]
  },
  {
   "cell_type": "markdown",
   "metadata": {},
   "source": [
    "Core code\n",
    "====="
   ]
  },
  {
   "cell_type": "markdown",
   "metadata": {},
   "source": [
    "Loading pathes\n",
    "---------------"
   ]
  },
  {
   "cell_type": "code",
   "execution_count": 55,
   "metadata": {},
   "outputs": [
    {
     "data": {
      "text/plain": [
       "expressionsPath = expressions\n",
       "byGoPath = expressions/go\n",
       "comparison = expressions/go/gray_whale_with_bowhead_with_minke_with_NMR_with_human_with_mouse_with_cow_full_outer_counts_extended.tsv\n",
       "grouped = expressions/go/grouped\n",
       "ranked = expressions/go/grouped/ranked\n",
       "transcriptsPath = expressions/transcripts\n",
       "indexesPath = indexes\n",
       "reactomePath = indexes/reactome\n",
       "unirefPath = expressions/uniref90\n"
      ]
     },
     "metadata": {},
     "output_type": "display_data",
     "source": "user"
    },
    {
     "data": {
      "text/plain": [
       "expressions/uniref90"
      ]
     },
     "execution_count": 55,
     "metadata": {},
     "output_type": "execute_result"
    }
   ],
   "source": [
    "val expressionsPath = \"expressions\"\n",
    "val byGoPath = expressionsPath + \"/go\"\n",
    "val comparison = byGoPath + \"/gray_whale_with_bowhead_with_minke_with_NMR_with_human_with_mouse_with_cow_full_outer_counts_extended.tsv\"\n",
    "val grouped = byGoPath + \"/grouped\"\n",
    "val ranked = byGoPath + \"/grouped/ranked\"\n",
    "val transcriptsPath = expressionsPath + \"/transcripts\"\n",
    "\n",
    "val indexesPath = \"indexes\"\n",
    "val reactomePath = indexesPath + \"/reactome\"\n",
    "val unirefPath = expressionsPath + \"/\" + \"uniref90\""
   ]
  },
  {
   "cell_type": "code",
   "execution_count": 28,
   "metadata": {},
   "outputs": [
    {
     "data": {
      "text/plain": [
       "goTable = [go: string, namespace: string ... 27 more fields]\n"
      ]
     },
     "metadata": {},
     "output_type": "display_data",
     "source": "user"
    },
    {
     "data": {
      "text/plain": [
       "[go: string, namespace: string ... 27 more fields]"
      ]
     },
     "execution_count": 28,
     "metadata": {},
     "output_type": "execute_result"
    }
   ],
   "source": [
    "val goTable = readTSV(az(comparison), true)"
   ]
  },
  {
   "cell_type": "code",
   "execution_count": 29,
   "metadata": {},
   "outputs": [
    {
     "data": {
      "text/html": [
       "<table><tr><th>go</th><th>namespace</th><th>label</th><th>gray_whale_avg</th><th>uniref90_count</th><th>taxons_count</th><th>transcripts_count</th><th>human_transcripts_count</th><th>mouse_transcripts_count</th><th>cow_transcripts_count</th><th>type</th><th>gray_whale_liver</th><th>bowhead_whale_liver</th><th>minke_liver</th><th>NMR_liver</th><th>human_liver</th><th>mouse_totalRNA_liver</th><th>mouse_mRNA_liver</th><th>cow_totalRNA_liver</th><th>cow_mRNA_liver</th><th>gray_whale_kidney</th><th>bowhead_whale_kidney</th><th>minke_kidney</th><th>NMR_kidney</th><th>human_kidney</th><th>mouse_totalRNA_kidney</th><th>mouse_mRNA_kidney</th><th>cow_totalRNA_kidney</th><th>cow_mRNA_kidney</th></tr><tr><td>GO:0070062</td><td>cellular_component</td><td>extracellular exosome</td><td>95231.76295</td><td>726</td><td>929</td><td>876</td><td>2714</td><td>116</td><td>2162</td><td>complete;5prime_partial;internal;3prime_partial</td><td>82627.97828900004</td><td>43406.81879601012</td><td>103879.82613499998</td><td>189153.98861699994</td><td>34179.85539700001</td><td>63059.86755299999</td><td>12146.704848999996</td><td>407115.5446490002</td><td>402875.4094160001</td><td>107835.54761100012</td><td>12291.983165</td><td>139226.62839100015</td><td>251177.67484400002</td><td>17317.253403999995</td><td>8189.928592999998</td><td>3009.2303389999997</td><td>284041.33320799994</td><td>274118.5267729999</td></tr><tr><td>GO:0016021</td><td>cellular_component</td><td>integral component of membrane</td><td>81241.0623675</td><td>1391</td><td>565</td><td>1713</td><td>9561</td><td>8900</td><td>4715</td><td>5prime_partial;complete;3prime_partial;internal</td><td>62374.28512099997</td><td>27353.04877027518</td><td>55178.75498600001</td><td>108836.22230300008</td><td>11032.347553</td><td>168821.304916</td><td>28909.156348999997</td><td>198371.61491800006</td><td>189068.7378029999</td><td>100107.839614</td><td>24343.312661999982</td><td>94079.22781100006</td><td>149277.02259700003</td><td>30508.606157000006</td><td>241562.48318399998</td><td>51496.39662599999</td><td>315467.63018200017</td><td>373243.68564099993</td></tr><tr><td>GO:0003735</td><td>molecular_function</td><td>structural constituent of ribosome</td><td>61936.161357499994</td><td>98</td><td>380</td><td>107</td><td>467</td><td>306</td><td>261</td><td>complete;5prime_partial;3prime_partial;internal</td><td>62265.27571699998</td><td>21665.888836018064</td><td>62369.073224</td><td>103095.90135300001</td><td>5244.261549</td><td>24249.30922799999</td><td>7137.034891999996</td><td>89084.343089</td><td>87166.34631000001</td><td>61607.046997999976</td><td>8349.420524000001</td><td>88459.54913499996</td><td>70943.44369100004</td><td>4565.115427999999</td><td>50372.43014700001</td><td>11549.923136999998</td><td>94610.67463199992</td><td>72399.43132700001</td></tr><tr><td>GO:0005829</td><td>cellular_component</td><td>cytosol</td><td>61398.1790675</td><td>1109</td><td>994</td><td>1376</td><td>6775</td><td>5043</td><td>2348</td><td>complete;3prime_partial;5prime_partial;internal</td><td>50912.655819000014</td><td>29665.787975965563</td><td>72109.60757099999</td><td>188757.6132710001</td><td>20623.12592999999</td><td>148373.97883200005</td><td>100424.52617</td><td>86184.9085600001</td><td>90951.61626199998</td><td>71883.70231600002</td><td>12335.804511999993</td><td>124936.20551199997</td><td>132241.5113150001</td><td>13435.613476000004</td><td>105758.17169699995</td><td>43636.518504000014</td><td>111689.96638100002</td><td>102744.94863500002</td></tr><tr><td>GO:0005840</td><td>cellular_component</td><td>ribosome</td><td>59087.688684</td><td>89</td><td>316</td><td>99</td><td>297</td><td>123</td><td>40</td><td>complete;5prime_partial;internal;3prime_partial</td><td>58631.94472899998</td><td>23801.48132475636</td><td>65881.81530099995</td><td>103165.58999999998</td><td>2209.9476119999995</td><td>5478.616020999998</td><td>1831.119411</td><td>5936.298134999999</td><td>6073.805264</td><td>59543.432639000006</td><td>9270.050664999997</td><td>92530.64897999998</td><td>71492.44906799999</td><td>1924.4887119999999</td><td>10029.277271</td><td>2800.6401849999993</td><td>5875.225427000001</td><td>4481.681578999999</td></tr><tr><td>GO:0006412</td><td>biological_process</td><td>translation</td><td>58622.12868799999</td><td>105</td><td>377</td><td>116</td><td>468</td><td>286</td><td>193</td><td>complete;5prime_partial;3prime_partial;internal</td><td>58727.85268499997</td><td>20034.802301962056</td><td>58984.534049</td><td>99321.06117499995</td><td>5245.888943999999</td><td>19875.159683999995</td><td>5806.578341</td><td>66453.233819</td><td>66083.20671399997</td><td>58516.40469099998</td><td>7580.873805999998</td><td>83876.08076099999</td><td>68055.43613499998</td><td>4572.8019749999985</td><td>40136.835409</td><td>9191.198294</td><td>69545.42429499998</td><td>53565.293888999986</td></tr><tr><td>GO:0005634</td><td>cellular_component</td><td>nucleus</td><td>57345.87068550001</td><td>1431</td><td>2115</td><td>1830</td><td>7301</td><td>6496</td><td>2778</td><td>complete;5prime_partial;3prime_partial;internal</td><td>55747.40112099999</td><td>30295.434521280793</td><td>70441.20552599998</td><td>140240.092983</td><td>10470.131235999997</td><td>94231.85965399996</td><td>84031.996854</td><td>126193.50819700002</td><td>143407.437234</td><td>58944.34024999998</td><td>11416.312302999997</td><td>102915.768411</td><td>90533.17986400002</td><td>8808.929934000003</td><td>81393.57837199996</td><td>30863.47935199999</td><td>118101.15175700001</td><td>99420.20529599997</td></tr><tr><td>GO:0003723</td><td>molecular_function</td><td>RNA binding</td><td>54252.262738</td><td>621</td><td>368</td><td>821</td><td>2148</td><td>1069</td><td>1008</td><td>complete;5prime_partial;3prime_partial;internal</td><td>48843.76697</td><td>23928.740201085533</td><td>56334.43345600005</td><td>91851.60494800007</td><td>6522.695184999994</td><td>14026.664751000004</td><td>4708.064785000002</td><td>74843.61990199998</td><td>82199.186156</td><td>59660.75850600002</td><td>10025.436343999996</td><td>93364.80089000006</td><td>79318.97048099998</td><td>6672.883201000003</td><td>24822.313444999996</td><td>8102.410284000003</td><td>93044.76531800005</td><td>83947.353972</td></tr><tr><td>GO:0005737</td><td>cellular_component</td><td>cytoplasm</td><td>51021.87724949999</td><td>1070</td><td>1897</td><td>1342</td><td>4490</td><td>5424</td><td>2333</td><td>complete;5prime_partial;3prime_partial;internal</td><td>43367.513537999985</td><td>24393.98329442446</td><td>63289.08200100004</td><td>177635.51962800007</td><td>6716.158039999998</td><td>135388.78987699997</td><td>34234.04624200001</td><td>79546.89437599998</td><td>85249.95693999997</td><td>58676.24096099999</td><td>10090.376369000003</td><td>102810.643446</td><td>85731.96628100002</td><td>7004.031145</td><td>87788.121675</td><td>34874.35143699998</td><td>101489.413696</td><td>87811.42796300001</td></tr><tr><td>GO:0005813</td><td>cellular_component</td><td>centrosome</td><td>42454.98833149999</td><td>127</td><td>243</td><td>162</td><td>632</td><td>769</td><td>382</td><td>complete;5prime_partial;internal;3prime_partial</td><td>24852.939731</td><td>1933.4432743038858</td><td>4332.0924300000015</td><td>5095.546241</td><td>292.3133429999999</td><td>3911.2582859999984</td><td>1290.271993</td><td>6743.0331620000015</td><td>7806.252158000002</td><td>60057.036932000025</td><td>839.858576</td><td>9289.642984999997</td><td>3992.193603</td><td>583.6687029999998</td><td>7800.484518000001</td><td>3703.0777580000004</td><td>12280.558181999999</td><td>11146.476477</td></tr></table>"
      ]
     },
     "execution_count": 29,
     "metadata": {},
     "output_type": "execute_result"
    }
   ],
   "source": [
    "%%dataframe goTable"
   ]
  },
  {
   "cell_type": "code",
   "execution_count": 30,
   "metadata": {},
   "outputs": [
    {
     "data": {
      "text/plain": [
       "features = List(gray_whale_liver, bowhead_whale_liver, minke_liver, NMR_liver, human_liver, mouse_totalRNA_liver, mouse_mRNA_liver, cow_totalRNA_liver, cow_mRNA_liver, gray_whale_kidney, bowhead_whale_kidney, minke_kidney, NMR_kidney, human_kidney, mouse_totalRNA_kidney, mouse_mRNA_kidney, cow_totalRNA_kidney, cow_mRNA_kidney)\n"
      ]
     },
     "metadata": {},
     "output_type": "display_data",
     "source": "user"
    },
    {
     "data": {
      "text/plain": [
       "List(gray_whale_liver, bowhead_whale_liver, minke_liver, NMR_liver, human_liver, mouse_totalRNA_liver, mouse_mRNA_liver, cow_totalRNA_liver, cow_mRNA_liver, gray_whale_kidney, bowhead_whale_kidney, minke_kidney, NMR_kidney, human_kidney, mouse_totalRNA_kidney, mouse_mRNA_kidney, cow_totalRNA_kidney, cow_mRNA_kidney)"
      ]
     },
     "execution_count": 30,
     "metadata": {},
     "output_type": "execute_result"
    }
   ],
   "source": [
    "val features = List(\"gray_whale_liver\", \"bowhead_whale_liver\", \"minke_liver\", \"NMR_liver\", \"human_liver\", \"mouse_totalRNA_liver\", \"mouse_mRNA_liver\", \"cow_totalRNA_liver\", \"cow_mRNA_liver\", \"gray_whale_kidney\", \"bowhead_whale_kidney\", \"minke_kidney\", \"NMR_kidney\", \"human_kidney\", \"mouse_totalRNA_kidney\", \"mouse_mRNA_kidney\", \"cow_totalRNA_kidney\", \"cow_mRNA_kidney\")"
   ]
  },
  {
   "cell_type": "code",
   "execution_count": 34,
   "metadata": {},
   "outputs": [
    {
     "data": {
      "text/plain": [
       "vec = [features: vector]\n"
      ]
     },
     "metadata": {},
     "output_type": "display_data",
     "source": "user"
    },
    {
     "data": {
      "text/plain": [
       "[features: vector]"
      ]
     },
     "execution_count": 34,
     "metadata": {},
     "output_type": "execute_result"
    }
   ],
   "source": [
    "val vec = toVectors(goTable, features, \"features\").cache\n",
    "vec"
   ]
  },
  {
   "cell_type": "code",
   "execution_count": 32,
   "metadata": {},
   "outputs": [
    {
     "data": {
      "text/html": [
       "<table><tr><th>features</th></tr><tr><td>[82627.97828900004,43406.81879601012,103879.82613499998,189153.98861699994,34179.85539700001,63059.86755299999,12146.704848999996,407115.5446490002,402875.4094160001,107835.54761100012,12291.983165,139226.62839100015,251177.67484400002,17317.253403999995,8189.928592999998,3009.2303389999997,284041.33320799994,274118.5267729999]</td></tr><tr><td>[62374.28512099997,27353.04877027518,55178.75498600001,108836.22230300008,11032.347553,168821.304916,28909.156348999997,198371.61491800006,189068.7378029999,100107.839614,24343.312661999982,94079.22781100006,149277.02259700003,30508.606157000006,241562.48318399998,51496.39662599999,315467.63018200017,373243.68564099993]</td></tr><tr><td>[62265.27571699998,21665.888836018064,62369.073224,103095.90135300001,5244.261549,24249.30922799999,7137.034891999996,89084.343089,87166.34631000001,61607.046997999976,8349.420524000001,88459.54913499996,70943.44369100004,4565.115427999999,50372.43014700001,11549.923136999998,94610.67463199992,72399.43132700001]</td></tr><tr><td>[50912.655819000014,29665.787975965563,72109.60757099999,188757.6132710001,20623.12592999999,148373.97883200005,100424.52617,86184.9085600001,90951.61626199998,71883.70231600002,12335.804511999993,124936.20551199997,132241.5113150001,13435.613476000004,105758.17169699995,43636.518504000014,111689.96638100002,102744.94863500002]</td></tr><tr><td>[58631.94472899998,23801.48132475636,65881.81530099995,103165.58999999998,2209.9476119999995,5478.616020999998,1831.119411,5936.298134999999,6073.805264,59543.432639000006,9270.050664999997,92530.64897999998,71492.44906799999,1924.4887119999999,10029.277271,2800.6401849999993,5875.225427000001,4481.681578999999]</td></tr><tr><td>[58727.85268499997,20034.802301962056,58984.534049,99321.06117499995,5245.888943999999,19875.159683999995,5806.578341,66453.233819,66083.20671399997,58516.40469099998,7580.873805999998,83876.08076099999,68055.43613499998,4572.8019749999985,40136.835409,9191.198294,69545.42429499998,53565.293888999986]</td></tr><tr><td>[55747.40112099999,30295.434521280793,70441.20552599998,140240.092983,10470.131235999997,94231.85965399996,84031.996854,126193.50819700002,143407.437234,58944.34024999998,11416.312302999997,102915.768411,90533.17986400002,8808.929934000003,81393.57837199996,30863.47935199999,118101.15175700001,99420.20529599997]</td></tr><tr><td>[48843.76697,23928.740201085533,56334.43345600005,91851.60494800007,6522.695184999994,14026.664751000004,4708.064785000002,74843.61990199998,82199.186156,59660.75850600002,10025.436343999996,93364.80089000006,79318.97048099998,6672.883201000003,24822.313444999996,8102.410284000003,93044.76531800005,83947.353972]</td></tr><tr><td>[43367.513537999985,24393.98329442446,63289.08200100004,177635.51962800007,6716.158039999998,135388.78987699997,34234.04624200001,79546.89437599998,85249.95693999997,58676.24096099999,10090.376369000003,102810.643446,85731.96628100002,7004.031145,87788.121675,34874.35143699998,101489.413696,87811.42796300001]</td></tr><tr><td>[24852.939731,1933.4432743038858,4332.0924300000015,5095.546241,292.3133429999999,3911.2582859999984,1290.271993,6743.0331620000015,7806.252158000002,60057.036932000025,839.858576,9289.642984999997,3992.193603,583.6687029999998,7800.484518000001,3703.0777580000004,12280.558181999999,11146.476477]</td></tr></table>"
      ]
     },
     "execution_count": 32,
     "metadata": {},
     "output_type": "execute_result"
    }
   ],
   "source": [
    "%%dataframe vec"
   ]
  },
  {
   "cell_type": "code",
   "execution_count": 33,
   "metadata": {},
   "outputs": [
    {
     "data": {
      "text/plain": [
       "cor = [pearson(features): matrix]\n"
      ]
     },
     "metadata": {},
     "output_type": "display_data",
     "source": "user"
    },
    {
     "data": {
      "text/plain": [
       "[pearson(features): matrix]"
      ]
     },
     "execution_count": 33,
     "metadata": {},
     "output_type": "execute_result"
    }
   ],
   "source": [
    "val cor =   Correlation.corr(vec, \"features\")"
   ]
  },
  {
   "cell_type": "markdown",
   "metadata": {},
   "source": [
    "Splitting by GO namespaces\n",
    "------------------------------"
   ]
  },
  {
   "cell_type": "code",
   "execution_count": 35,
   "metadata": {},
   "outputs": [
    {
     "data": {
      "text/plain": [
       "components = [go: string, namespace: string ... 27 more fields]\n",
       "processes = [go: string, namespace: string ... 27 more fields]\n",
       "functions = [go: string, namespace: string ... 27 more fields]\n"
      ]
     },
     "metadata": {},
     "output_type": "display_data",
     "source": "user"
    },
    {
     "data": {
      "text/plain": [
       "[go: string, namespace: string ... 27 more fields]"
      ]
     },
     "execution_count": 35,
     "metadata": {},
     "output_type": "execute_result"
    }
   ],
   "source": [
    "val components = goTable.where(\"namespace = 'cellular_component'\")\n",
    "val processes = goTable.where(\"namespace = 'biological_process'\")\n",
    "val functions = goTable.where(\"namespace = 'molecular_function'\")"
   ]
  },
  {
   "cell_type": "code",
   "execution_count": 36,
   "metadata": {},
   "outputs": [
    {
     "data": {
      "text/plain": [
       "(1739,12369,4396,18597)"
      ]
     },
     "execution_count": 36,
     "metadata": {},
     "output_type": "execute_result"
    }
   ],
   "source": [
    "(components.count, processes.count, functions.count, goTable.count)"
   ]
  },
  {
   "cell_type": "code",
   "execution_count": 33,
   "metadata": {
    "scrolled": false
   },
   "outputs": [
    {
     "data": {
      "text/plain": [
       "Name: Syntax Error.\n",
       "Message: \n",
       "StackTrace: "
      ]
     },
     "execution_count": 33,
     "metadata": {},
     "output_type": "execute_result"
    }
   ],
   "source": [
    "//write(components, az(grouped + \"/by_cellular_component.tsv\"))\n",
    "//write(processes, az(grouped + \"/by_biological_process.tsv\"))\n",
    "//write(functions, az(grouped + \"/by_molecular_function.tsv\"))"
   ]
  },
  {
   "cell_type": "markdown",
   "metadata": {},
   "source": [
    "Ranks computations\n",
    "=================="
   ]
  },
  {
   "cell_type": "code",
   "execution_count": 38,
   "metadata": {},
   "outputs": [
    {
     "data": {
      "text/plain": [
       "rank: (df: org.apache.spark.sql.DataFrame, name: String, rankSuffix: String)org.apache.spark.sql.DataFrame\n",
       "ranks: (df: org.apache.spark.sql.DataFrame, names: Seq[String], rankSuffix: String)org.apache.spark.sql.DataFrame\n"
      ]
     },
     "metadata": {},
     "output_type": "display_data",
     "source": "user"
    }
   ],
   "source": [
    "import org.apache.spark.sql.{ColumnName, Dataset}\n",
    "import org.apache.spark.sql.expressions.Window\n",
    "\n",
    "def rank(df: DataFrame, name: String, rankSuffix: String = \"_rank\") =\n",
    "  df.withColumn(name + rankSuffix, org.apache.spark.sql.functions.dense_rank().over(Window.orderBy(new ColumnName(name).desc)))\n",
    "\n",
    "def ranks(df: DataFrame,\n",
    "          names: Seq[String],\n",
    "          rankSuffix: String = \"_rank\") = names.foldLeft(df){\n",
    "  case (f, n)=> rank(f, n, rankSuffix)\n",
    "}"
   ]
  },
  {
   "cell_type": "code",
   "execution_count": 39,
   "metadata": {},
   "outputs": [
    {
     "data": {
      "text/plain": [
       "Name: Unknown Error\n",
       "Message: <console>:225: error: not found: value components\n",
       "       val rankedCols = components.columns.drop(11)++List(\"gray_whale_avg\")\n",
       "                        ^\n",
       "\n",
       "StackTrace: "
      ]
     },
     "execution_count": 39,
     "metadata": {},
     "output_type": "execute_result"
    }
   ],
   "source": [
    "val rankedCols = components.columns.drop(11)++List(\"gray_whale_avg\")"
   ]
  },
  {
   "cell_type": "code",
   "execution_count": 41,
   "metadata": {},
   "outputs": [
    {
     "data": {
      "text/plain": [
       "rankedComponents = [go: string, namespace: string ... 46 more fields]\n",
       "rankedProcesses = [go: string, namespace: string ... 46 more fields]\n",
       "rankedFunctions = [go: string, namespace: string ... 46 more fields]\n"
      ]
     },
     "metadata": {},
     "output_type": "display_data"
    },
    {
     "data": {
      "text/plain": [
       "[go: string, namespace: string ... 46 more fields]"
      ]
     },
     "execution_count": 41,
     "metadata": {},
     "output_type": "execute_result"
    }
   ],
   "source": [
    "val rankedComponents = ranks(components, rankedCols)\n",
    "val rankedProcesses = ranks(processes, rankedCols)\n",
    "val rankedFunctions = ranks(functions, rankedCols)"
   ]
  },
  {
   "cell_type": "code",
   "execution_count": 3,
   "metadata": {},
   "outputs": [
    {
     "data": {
      "text/plain": [
       "wasbs://storage@pipelines1.blob.core.windows.net/expressions/go/grouped/by_molecular_function_ranked.tsv"
      ]
     },
     "execution_count": 3,
     "metadata": {},
     "output_type": "execute_result"
    }
   ],
   "source": [
    "write(rankedComponents, az(grouped + \"/by_cellular_component_ranked.tsv\"))\n",
    "write(rankedProcesses, az(grouped + \"/by_biological_process_ranked.tsv\"))\n",
    "write(rankedFunctions, az(grouped + \"/by_molecular_function_ranked.tsv\"))"
   ]
  },
  {
   "cell_type": "code",
   "execution_count": 26,
   "metadata": {},
   "outputs": [
    {
     "data": {
      "text/html": [
       "<table><tr><th>go</th><th>namespace</th><th>label</th><th>gray_whale_avg</th><th>uniref90_count</th><th>taxons_count</th><th>transcripts_count</th><th>human_transcripts_count</th><th>mouse_transcripts_count</th><th>cow_transcripts_count</th><th>type</th><th>gray_whale_liver</th><th>bowhead_whale_liver</th><th>minke_liver</th><th>NMR_liver</th><th>human_liver</th><th>mouse_totalRNA_liver</th><th>mouse_mRNA_liver</th><th>cow_totalRNA_liver</th><th>cow_mRNA_liver</th><th>gray_whale_kidney</th><th>bowhead_whale_kidney</th><th>minke_kidney</th><th>NMR_kidney</th><th>human_kidney</th><th>mouse_totalRNA_kidney</th><th>mouse_mRNA_kidney</th><th>cow_totalRNA_kidney</th><th>cow_mRNA_kidney</th><th>gray_whale_liver_rank</th><th>bowhead_whale_liver_rank</th><th>minke_liver_rank</th><th>NMR_liver_rank</th><th>human_liver_rank</th><th>mouse_totalRNA_liver_rank</th><th>mouse_mRNA_liver_rank</th><th>cow_totalRNA_liver_rank</th><th>cow_mRNA_liver_rank</th><th>gray_whale_kidney_rank</th><th>bowhead_whale_kidney_rank</th><th>minke_kidney_rank</th><th>NMR_kidney_rank</th><th>human_kidney_rank</th><th>mouse_totalRNA_kidney_rank</th><th>mouse_mRNA_kidney_rank</th><th>cow_totalRNA_kidney_rank</th><th>cow_mRNA_kidney_rank</th><th>gray_whale_avg_rank</th></tr><tr><td>GO:0070062</td><td>cellular_component</td><td>extracellular exosome</td><td>95231.76295</td><td>726</td><td>929</td><td>876</td><td>2714</td><td>116</td><td>2162</td><td>complete;5prime_partial;internal;3prime_partial</td><td>82627.97828900004</td><td>43406.81879601012</td><td>103879.82613499998</td><td>189153.98861699994</td><td>34179.85539700001</td><td>63059.86755299999</td><td>12146.704848999996</td><td>407115.5446490002</td><td>402875.4094160001</td><td>107835.54761100012</td><td>12291.983165</td><td>139226.62839100015</td><td>251177.67484400002</td><td>17317.253403999995</td><td>8189.928592999998</td><td>3009.2303389999997</td><td>284041.33320799994</td><td>274118.5267729999</td><td>1</td><td>1</td><td>1</td><td>1</td><td>1</td><td>12</td><td>16</td><td>1</td><td>1</td><td>1</td><td>4</td><td>1</td><td>1</td><td>3</td><td>46</td><td>45</td><td>2</td><td>2</td><td>1</td></tr><tr><td>GO:0016021</td><td>cellular_component</td><td>integral component of membrane</td><td>81241.0623675</td><td>1391</td><td>565</td><td>1713</td><td>9561</td><td>8900</td><td>4715</td><td>5prime_partial;complete;3prime_partial;internal</td><td>62374.28512099997</td><td>27353.04877027518</td><td>55178.75498600001</td><td>108836.22230300008</td><td>11032.347553</td><td>168821.304916</td><td>28909.156348999997</td><td>198371.61491800006</td><td>189068.7378029999</td><td>100107.839614</td><td>24343.312661999982</td><td>94079.22781100006</td><td>149277.02259700003</td><td>30508.606157000006</td><td>241562.48318399998</td><td>51496.39662599999</td><td>315467.63018200017</td><td>373243.68564099993</td><td>2</td><td>4</td><td>6</td><td>6</td><td>8</td><td>3</td><td>8</td><td>2</td><td>2</td><td>2</td><td>1</td><td>5</td><td>2</td><td>1</td><td>2</td><td>2</td><td>1</td><td>1</td><td>2</td></tr><tr><td>GO:0005829</td><td>cellular_component</td><td>cytosol</td><td>61398.1790675</td><td>1109</td><td>994</td><td>1376</td><td>6775</td><td>5043</td><td>2348</td><td>complete;3prime_partial;5prime_partial;internal</td><td>50912.655819000014</td><td>29665.787975965563</td><td>72109.60757099999</td><td>188757.6132710001</td><td>20623.12592999999</td><td>148373.97883200005</td><td>100424.52617</td><td>86184.9085600001</td><td>90951.61626199998</td><td>71883.70231600002</td><td>12335.804511999993</td><td>124936.20551199997</td><td>132241.5113150001</td><td>13435.613476000004</td><td>105758.17169699995</td><td>43636.518504000014</td><td>111689.96638100002</td><td>102744.94863500002</td><td>5</td><td>3</td><td>2</td><td>2</td><td>4</td><td>5</td><td>2</td><td>5</td><td>6</td><td>3</td><td>3</td><td>2</td><td>3</td><td>4</td><td>3</td><td>3</td><td>4</td><td>4</td><td>3</td></tr><tr><td>GO:0005840</td><td>cellular_component</td><td>ribosome</td><td>59087.688684</td><td>89</td><td>316</td><td>99</td><td>297</td><td>123</td><td>40</td><td>complete;5prime_partial;internal;3prime_partial</td><td>58631.94472899998</td><td>23801.48132475636</td><td>65881.81530099995</td><td>103165.58999999998</td><td>2209.9476119999995</td><td>5478.616020999998</td><td>1831.119411</td><td>5936.298134999999</td><td>6073.805264</td><td>59543.432639000006</td><td>9270.050664999997</td><td>92530.64897999998</td><td>71492.44906799999</td><td>1924.4887119999999</td><td>10029.277271</td><td>2800.6401849999993</td><td>5875.225427000001</td><td>4481.681578999999</td><td>3</td><td>6</td><td>4</td><td>7</td><td>37</td><td>71</td><td>70</td><td>69</td><td>71</td><td>5</td><td>7</td><td>6</td><td>7</td><td>24</td><td>42</td><td>46</td><td>63</td><td>71</td><td>4</td></tr><tr><td>GO:0005634</td><td>cellular_component</td><td>nucleus</td><td>57345.87068550001</td><td>1431</td><td>2115</td><td>1830</td><td>7301</td><td>6496</td><td>2778</td><td>complete;5prime_partial;3prime_partial;internal</td><td>55747.40112099999</td><td>30295.434521280793</td><td>70441.20552599998</td><td>140240.092983</td><td>10470.131235999997</td><td>94231.85965399996</td><td>84031.996854</td><td>126193.50819700002</td><td>143407.437234</td><td>58944.34024999998</td><td>11416.312302999997</td><td>102915.768411</td><td>90533.17986400002</td><td>8808.929934000003</td><td>81393.57837199996</td><td>30863.47935199999</td><td>118101.15175700001</td><td>99420.20529599997</td><td>4</td><td>2</td><td>3</td><td>4</td><td>10</td><td>9</td><td>3</td><td>4</td><td>4</td><td>6</td><td>5</td><td>3</td><td>4</td><td>9</td><td>7</td><td>5</td><td>3</td><td>5</td><td>5</td></tr><tr><td>GO:0005737</td><td>cellular_component</td><td>cytoplasm</td><td>51021.87724949999</td><td>1070</td><td>1897</td><td>1342</td><td>4490</td><td>5424</td><td>2333</td><td>complete;5prime_partial;3prime_partial;internal</td><td>43367.513537999985</td><td>24393.98329442446</td><td>63289.08200100004</td><td>177635.51962800007</td><td>6716.158039999998</td><td>135388.78987699997</td><td>34234.04624200001</td><td>79546.89437599998</td><td>85249.95693999997</td><td>58676.24096099999</td><td>10090.376369000003</td><td>102810.643446</td><td>85731.96628100002</td><td>7004.031145</td><td>87788.121675</td><td>34874.35143699998</td><td>101489.413696</td><td>87811.42796300001</td><td>6</td><td>5</td><td>5</td><td>3</td><td>19</td><td>6</td><td>6</td><td>7</td><td>7</td><td>7</td><td>6</td><td>4</td><td>5</td><td>12</td><td>5</td><td>4</td><td>5</td><td>8</td><td>6</td></tr><tr><td>GO:0005813</td><td>cellular_component</td><td>centrosome</td><td>42454.98833149999</td><td>127</td><td>243</td><td>162</td><td>632</td><td>769</td><td>382</td><td>complete;5prime_partial;internal;3prime_partial</td><td>24852.939731</td><td>1933.4432743038858</td><td>4332.0924300000015</td><td>5095.546241</td><td>292.3133429999999</td><td>3911.2582859999984</td><td>1290.271993</td><td>6743.0331620000015</td><td>7806.252158000002</td><td>60057.036932000025</td><td>839.858576</td><td>9289.642984999997</td><td>3992.193603</td><td>583.6687029999998</td><td>7800.484518000001</td><td>3703.0777580000004</td><td>12280.558181999999</td><td>11146.476477</td><td>15</td><td>42</td><td>43</td><td>68</td><td>107</td><td>80</td><td>77</td><td>68</td><td>62</td><td>4</td><td>35</td><td>25</td><td>72</td><td>51</td><td>47</td><td>40</td><td>37</td><td>39</td><td>7</td></tr><tr><td>GO:0016020</td><td>cellular_component</td><td>membrane</td><td>42195.42010000002</td><td>540</td><td>793</td><td>679</td><td>2429</td><td>1361</td><td>873</td><td>complete;5prime_partial;3prime_partial;internal</td><td>37894.592234999975</td><td>19480.8165792182</td><td>46392.14733899998</td><td>117524.23082799997</td><td>7963.051234999998</td><td>29617.254172</td><td>7866.986895000002</td><td>51652.158988999996</td><td>58572.10771399999</td><td>46496.247965</td><td>8248.603917000006</td><td>76320.57983899997</td><td>65810.41654900002</td><td>10104.827831000002</td><td>49547.508830999985</td><td>12548.841867000006</td><td>63923.18794699999</td><td>55224.136316000026</td><td>7</td><td>7</td><td>7</td><td>5</td><td>15</td><td>26</td><td>22</td><td>15</td><td>13</td><td>9</td><td>8</td><td>7</td><td>8</td><td>6</td><td>10</td><td>13</td><td>11</td><td>12</td><td>8</td></tr><tr><td>GO:0005743</td><td>cellular_component</td><td>mitochondrial inner membrane</td><td>41890.178823999995</td><td>94</td><td>199</td><td>107</td><td>480</td><td>457</td><td>264</td><td>complete;5prime_partial;3prime_partial;internal</td><td>29423.994463000003</td><td>6016.2954890921</td><td>11020.485428</td><td>27978.854220000012</td><td>7830.421898000001</td><td>70641.50428300002</td><td>13822.831728000003</td><td>20350.154425999994</td><td>23997.109960999995</td><td>54356.36318499999</td><td>1293.5116610000002</td><td>16315.796938999994</td><td>29127.529349999997</td><td>27011.827738999997</td><td>90054.086334</td><td>27055.700689000005</td><td>24419.770394000006</td><td>24988.700207999995</td><td>9</td><td>24</td><td>29</td><td>28</td><td>16</td><td>11</td><td>11</td><td>35</td><td>32</td><td>8</td><td>25</td><td>22</td><td>20</td><td>2</td><td>4</td><td>6</td><td>23</td><td>27</td><td>9</td></tr><tr><td>GO:0045263</td><td>cellular_component</td><td>proton-transporting ATP synthase complex, coupling factor F(o)</td><td>35197.364487</td><td>3</td><td>15</td><td>4</td><td>6</td><td>3</td><td>3</td><td>3prime_partial;complete</td><td>24176.706967000002</td><td>237.07</td><td>712.834561</td><td>null</td><td>235.81343800000002</td><td>16696.458196</td><td>1010.2585270000001</td><td>14724.021791000001</td><td>9415.669591000002</td><td>46218.022007</td><td>46.619923</td><td>1444.4431379999999</td><td>null</td><td>1532.0307950000001</td><td>20318.691885</td><td>1973.9292030000001</td><td>28560.529769</td><td>32445.969279</td><td>16</td><td>202</td><td>162</td><td>941</td><td>121</td><td>33</td><td>84</td><td>39</td><td>55</td><td>10</td><td>320</td><td>168</td><td>940</td><td>31</td><td>28</td><td>58</td><td>22</td><td>19</td><td>10</td></tr></table>"
      ]
     },
     "execution_count": 26,
     "metadata": {},
     "output_type": "execute_result"
    }
   ],
   "source": [
    "%%dataframe rankedComponents"
   ]
  },
  {
   "cell_type": "markdown",
   "metadata": {},
   "source": [
    "Loading mappings\n",
    "================\n",
    "\n",
    "Here we load uniprot mapping for further usage."
   ]
  },
  {
   "cell_type": "code",
   "execution_count": 16,
   "metadata": {},
   "outputs": [
    {
     "data": {
      "text/plain": [
       "mapping = [uniprot_ac: string, uniprot_id: string ... 20 more fields]\n"
      ]
     },
     "metadata": {},
     "output_type": "display_data"
    },
    {
     "data": {
      "text/plain": [
       "[uniprot_ac: string, uniprot_id: string ... 20 more fields]"
      ]
     },
     "execution_count": 16,
     "metadata": {},
     "output_type": "execute_result"
    }
   ],
   "source": [
    "import org.apache.spark.storage._\n",
    "\n",
    "val mapping =  readTSV(az(\"/indexes/uniprot/idmapping_selected.tab\"))\n",
    ".toDF(\"uniprot_ac\",\"uniprot_id\",\"entrez\",\"refSeq\", \"gi\",\"pdb\", \"go\", \"uniref100\", \"uniref90\", \"uniref50\", \"uniparc\", \"pir\", \"taxon\", \"mim\", \"unigene\", \"pubmed\", \"embl\", \"embl_cds\", \"ensembl\", \"ensembl_trs\", \"ensembl_pro\", \"additional_pubmed\")\n",
    ".persist(StorageLevel.MEMORY_AND_DISK) "
   ]
  },
  {
   "cell_type": "code",
   "execution_count": 26,
   "metadata": {},
   "outputs": [
    {
     "data": {
      "text/html": [
       "<table><tr><th>uniprot_ac</th><th>uniprot_id</th><th>entrez</th><th>refSeq</th><th>gi</th><th>pdb</th><th>go</th><th>uniref100</th><th>uniref90</th><th>uniref50</th><th>uniparc</th><th>pir</th><th>taxon</th><th>mim</th><th>unigene</th><th>pubmed</th><th>embl</th><th>embl_cds</th><th>ensembl</th><th>ensembl_trs</th><th>ensembl_pro</th><th>additional_pubmed</th></tr><tr><td>Q6GZX4</td><td>001R_FRG3G</td><td>2947773</td><td>YP_031579.1</td><td>81941549; 49237298</td><td>null</td><td>GO:0006355; GO:0046782; GO:0006351</td><td>UniRef100_Q6GZX4</td><td>UniRef90_Q6GZX4</td><td>UniRef50_Q6GZX4</td><td>UPI00003B0FD4</td><td>null</td><td>654924</td><td>null</td><td>null</td><td>15165820</td><td>AY548484</td><td>AAT09660.1</td><td>null</td><td>null</td><td>null</td><td>null</td></tr><tr><td>Q6GZX3</td><td>002L_FRG3G</td><td>2947774</td><td>YP_031580.1</td><td>49237299; 81941548; 47060117</td><td>null</td><td>GO:0033644; GO:0016021</td><td>UniRef100_Q6GZX3</td><td>UniRef90_Q6GZX3</td><td>UniRef50_Q6GZX3</td><td>UPI00003B0FD5</td><td>null</td><td>654924</td><td>null</td><td>null</td><td>15165820</td><td>AY548484</td><td>AAT09661.1</td><td>null</td><td>null</td><td>null</td><td>null</td></tr><tr><td>Q197F8</td><td>002R_IIV3</td><td>4156251</td><td>YP_654574.1</td><td>109287880; 123808694; 106073503</td><td>null</td><td>null</td><td>UniRef100_Q197F8</td><td>UniRef90_Q197F8</td><td>UniRef50_Q197F8</td><td>UPI0000D83464</td><td>null</td><td>345201</td><td>null</td><td>null</td><td>16912294</td><td>DQ643392</td><td>ABF82032.1</td><td>null</td><td>null</td><td>null</td><td>null</td></tr><tr><td>Q197F7</td><td>003L_IIV3</td><td>4156252</td><td>YP_654575.1</td><td>106073504; 109287881; 123808693</td><td>null</td><td>null</td><td>UniRef100_Q197F7</td><td>UniRef90_Q197F7</td><td>UniRef50_Q197F7</td><td>UPI0000D83465</td><td>null</td><td>345201</td><td>null</td><td>null</td><td>16912294</td><td>DQ643392</td><td>ABF82033.1</td><td>null</td><td>null</td><td>null</td><td>null</td></tr><tr><td>Q6GZX2</td><td>003R_FRG3G</td><td>2947775</td><td>YP_031581.1</td><td>47060118; 81941547; 49237300</td><td>null</td><td>null</td><td>UniRef100_Q6GZX2</td><td>UniRef90_Q6GZX2</td><td>UniRef50_Q6GZX2</td><td>UPI00003B0FD6</td><td>null</td><td>654924</td><td>null</td><td>null</td><td>15165820</td><td>AY548484</td><td>AAT09662.1</td><td>null</td><td>null</td><td>null</td><td>null</td></tr><tr><td>Q6GZX1</td><td>004R_FRG3G</td><td>2947776</td><td>YP_031582.1</td><td>49237301; 81941546</td><td>null</td><td>GO:0033644; GO:0016021</td><td>UniRef100_Q6GZX1</td><td>UniRef90_Q6GZX1</td><td>UniRef50_Q6GZX1</td><td>UPI00003B0FD7</td><td>null</td><td>654924</td><td>null</td><td>null</td><td>15165820</td><td>AY548484</td><td>AAT09663.1</td><td>null</td><td>null</td><td>null</td><td>null</td></tr><tr><td>Q197F5</td><td>005L_IIV3</td><td>4156254</td><td>YP_654577.1</td><td>123808691; 109287883; 106073506</td><td>null</td><td>null</td><td>UniRef100_Q197F5</td><td>UniRef90_Q197F5</td><td>UniRef50_Q197F5</td><td>UPI0000D83467</td><td>null</td><td>345201</td><td>null</td><td>null</td><td>16912294</td><td>DQ643392</td><td>ABF82035.1</td><td>null</td><td>null</td><td>null</td><td>null</td></tr><tr><td>Q6GZX0</td><td>005R_FRG3G</td><td>2947777</td><td>YP_031583.1</td><td>47060120; 49237302; 81941545</td><td>null</td><td>null</td><td>UniRef100_Q6GZX0</td><td>UniRef90_Q6GZX0</td><td>UniRef50_Q6GZX0</td><td>UPI00003B0FD8</td><td>null</td><td>654924</td><td>null</td><td>null</td><td>15165820</td><td>AY548484</td><td>AAT09664.1</td><td>null</td><td>null</td><td>null</td><td>null</td></tr><tr><td>Q91G88</td><td>006L_IIV6</td><td>1733056</td><td>NP_149469.1</td><td>82012333; 15078718; 15042163</td><td>null</td><td>null</td><td>UniRef100_Q91G88</td><td>UniRef90_Q91G88</td><td>UniRef50_Q91G88</td><td>UPI00000F3D32</td><td>null</td><td>176652</td><td>null</td><td>null</td><td>11448171; 17239238</td><td>AF303741</td><td>AAK81943.1</td><td>null</td><td>null</td><td>null</td><td>null</td></tr><tr><td>Q6GZW9</td><td>006R_FRG3G</td><td>2947778</td><td>YP_031584.1</td><td>81941544; 49237303</td><td>null</td><td>null</td><td>UniRef100_Q6GZW9</td><td>UniRef90_Q6GZW9</td><td>UniRef50_Q6GZW9</td><td>UPI00003B0FD9</td><td>null</td><td>654924</td><td>null</td><td>null</td><td>15165820</td><td>AY548484</td><td>AAT09665.1</td><td>null</td><td>null</td><td>null</td><td>null</td></tr></table>"
      ]
     },
     "execution_count": 26,
     "metadata": {},
     "output_type": "execute_result"
    }
   ],
   "source": [
    "%%dataframe mapping"
   ]
  },
  {
   "cell_type": "code",
   "execution_count": 76,
   "metadata": {},
   "outputs": [
    {
     "data": {
      "text/plain": [
       "human_tax_id = 9606\n",
       "mouse_tax_id = 10090\n",
       "cow_tax_id = 9913\n",
       "mapping_headers = List(uniprot_ac, uniprot_id, entrez, refSeq, gi, pdb, go, uniref100, uniref90, uniref50, uniparc, pir, taxon, mim, unigene, pubmed, embl, embl_cds, ensembl, ensembl_trs, ensembl_pro, additional_pubmed)\n",
       "ind = wasbs://storage@pipelines1.blob.core.windows.net//indexes/uniprot\n",
       "human_mapping = [uniprot_ac: string, uniprot_id: string ... 20 more fields]\n",
       "mouse_mapping = [uniprot_ac: string, uniprot_id: string ... 20 more fields]\n",
       "cow_mapping = [uniprot_ac: string, uniprot_id: string ... 20 more fields]\n"
      ]
     },
     "metadata": {},
     "output_type": "display_data"
    },
    {
     "data": {
      "text/plain": [
       "[uniprot_ac: string, uniprot_id: string ... 20 more fields]"
      ]
     },
     "execution_count": 76,
     "metadata": {},
     "output_type": "execute_result"
    }
   ],
   "source": [
    "val human_tax_id = \"9606\"\n",
    "val mouse_tax_id = \"10090\"\n",
    "val cow_tax_id = \"9913\"\n",
    "\n",
    "val mapping_headers = Seq(\"uniprot_ac\",\"uniprot_id\",\"entrez\",\"refSeq\", \"gi\",\"pdb\", \"go\", \"uniref100\", \"uniref90\", \"uniref50\", \"uniparc\", \"pir\", \"taxon\", \"mim\", \"unigene\", \"pubmed\", \"embl\", \"embl_cds\", \"ensembl\", \"ensembl_trs\", \"ensembl_pro\", \"additional_pubmed\")\n",
    "  \n",
    "\n",
    "val ind = az(\"/indexes/uniprot\")\n",
    "val human_mapping = readTSV(ind + \"/HUMAN_9606_idmapping_selected.tab\").toDF(mapping_headers:_*)\n",
    "val mouse_mapping = readTSV(ind + \"/MOUSE_10090_idmapping_selected.tab\").toDF(mapping_headers:_*)\n",
    "val cow_mapping = readTSV(ind + s\"/COW_${cow_tax_id}_idmapping_selected.tab\").toDF(mapping_headers:_*)"
   ]
  },
  {
   "cell_type": "code",
   "execution_count": 95,
   "metadata": {},
   "outputs": [
    {
     "data": {
      "text/plain": [
       "simplifyFunction: org.apache.spark.sql.expressions.UserDefinedFunction\n"
      ]
     },
     "metadata": {},
     "output_type": "display_data"
    }
   ],
   "source": [
    "def simplifyFunction = udf[String, String]{case tran =>\n",
    "  val i = tran.indexOf('|')\n",
    "  val tr = if(i> 0) tran.substring(0, tran.indexOf('|')) else tran\n",
    "  tr.substring(0, Math.min(tr.indexOf('.'),tr.length))\n",
    "}"
   ]
  },
  {
   "cell_type": "markdown",
   "metadata": {},
   "source": [
    "Correlations computations\n",
    "==============\n",
    "\n",
    "Here we compute correlations"
   ]
  },
  {
   "cell_type": "markdown",
   "metadata": {},
   "source": [
    "Correlation functions\n",
    "------------------------"
   ]
  },
  {
   "cell_type": "code",
   "execution_count": 36,
   "metadata": {},
   "outputs": [
    {
     "data": {
      "text/plain": [
       "convertCorrellationMatrix: (matrix: org.apache.spark.ml.linalg.Matrix, columns: Seq[String])scala.collection.immutable.IndexedSeq[org.apache.spark.sql.Row]\n",
       "doublesByColumns: (columns: Seq[String])List[org.apache.spark.sql.types.StructField]\n",
       "transformCorrellationMatrix: (dataFrame: org.apache.spark.sql.DataFrame, columns: Seq[String])(implicit sparkSession: org.apache.spark.sql.SparkSession)org.apache.spark.sql.DataFrame\n"
      ]
     },
     "metadata": {},
     "output_type": "display_data",
     "source": "user"
    }
   ],
   "source": [
    "def convertCorrellationMatrix(matrix: Matrix, columns: Seq[String]) = {\n",
    "  require(columns.size == matrix.numCols)\n",
    "  for(r <- 0 until matrix.numRows) yield {\n",
    "    val seq = for(c <- 0 until matrix.numCols) yield matrix(r, c)\n",
    "    Row.fromSeq(columns(r)::seq.toList)\n",
    "  }\n",
    "}\n",
    "\n",
    "import org.apache.spark.sql.types._\n",
    "\n",
    "def doublesByColumns(columns: Seq[String]) = columns.map(c=>StructField(c, DoubleType, false)).toList\n",
    "\n",
    "def transformCorrellationMatrix(dataFrame: DataFrame, columns: Seq[String])(implicit sparkSession: SparkSession) = {\n",
    "  import sparkSession.implicits._\n",
    "  val rows  = dataFrame.rdd\n",
    "    .flatMap{ case Row(matrix: Matrix) => convertCorrellationMatrix(matrix, columns) }\n",
    "  sparkSession.createDataFrame(rows, StructType(StructField(\"feature\", StringType, false)::doublesByColumns(columns)))\n",
    "}"
   ]
  },
  {
   "cell_type": "code",
   "execution_count": 37,
   "metadata": {},
   "outputs": [
    {
     "data": {
      "text/plain": [
       "pearsonCorrellation: (dataFrame: org.apache.spark.sql.DataFrame, columns: Seq[String])(implicit sparkSession: org.apache.spark.sql.SparkSession)org.apache.spark.sql.DataFrame\n"
      ]
     },
     "metadata": {},
     "output_type": "display_data",
     "source": "user"
    }
   ],
   "source": [
    "def pearsonCorrellation(dataFrame: DataFrame, columns: Seq[String])(implicit sparkSession: SparkSession) = {\n",
    "  val cor = toVectors(dataFrame, columns, \"features\")\n",
    "  val df = Correlation.corr(cor, \"features\")\n",
    "  transformCorrellationMatrix(df, columns)\n",
    "}"
   ]
  },
  {
   "cell_type": "code",
   "execution_count": 38,
   "metadata": {},
   "outputs": [
    {
     "data": {
      "text/plain": [
       "spearmanCorrellation: (dataFrame: org.apache.spark.sql.DataFrame, columns: Seq[String])(implicit sparkSession: org.apache.spark.sql.SparkSession)org.apache.spark.sql.DataFrame\n"
      ]
     },
     "metadata": {},
     "output_type": "display_data",
     "source": "user"
    }
   ],
   "source": [
    "def spearmanCorrellation(dataFrame: DataFrame, columns: Seq[String])(implicit sparkSession: SparkSession) = {\n",
    "  val cor = toVectors(dataFrame, columns.toSeq, \"features\").persist(StorageLevel.MEMORY_AND_DISK)\n",
    "  import org.apache.spark.ml.linalg.Matrix\n",
    "  val df = Correlation.corr(cor, \"features\", method = \"spearman\")\n",
    "  transformCorrellationMatrix(df, columns)\n",
    "}"
   ]
  },
  {
   "cell_type": "markdown",
   "metadata": {},
   "source": [
    "Computing correlations to our data\n",
    "---------------------------------------"
   ]
  },
  {
   "cell_type": "code",
   "execution_count": 4,
   "metadata": {},
   "outputs": [
    {
     "data": {
      "text/plain": [
       "corPath = expressions/go/grouped/correlations\n",
       "statsPath = expressions/go/stats\n"
      ]
     },
     "metadata": {},
     "output_type": "display_data",
     "source": "user"
    },
    {
     "data": {
      "text/plain": [
       "expressions/go/stats"
      ]
     },
     "execution_count": 4,
     "metadata": {},
     "output_type": "execute_result"
    }
   ],
   "source": [
    "val corPath = grouped + \"/correlations\"\n",
    "val statsPath = byGoPath + \"/stats\""
   ]
  },
  {
   "cell_type": "code",
   "execution_count": 40,
   "metadata": {},
   "outputs": [
    {
     "data": {
      "text/plain": [
       "p = [feature: string, gray_whale_liver: double ... 17 more fields]\n"
      ]
     },
     "metadata": {},
     "output_type": "display_data",
     "source": "user"
    },
    {
     "data": {
      "text/plain": [
       "[feature: string, gray_whale_liver: double ... 17 more fields]"
      ]
     },
     "execution_count": 40,
     "metadata": {},
     "output_type": "execute_result"
    }
   ],
   "source": [
    "val p = pearsonCorrellation(goTable, features)(spark)"
   ]
  },
  {
   "cell_type": "code",
   "execution_count": 44,
   "metadata": {},
   "outputs": [
    {
     "data": {
      "text/plain": [
       "wasbs://storage@pipelines1.blob.core.windows.net/expressions/go/grouped/correlations/pearson_go.tsv"
      ]
     },
     "execution_count": 44,
     "metadata": {},
     "output_type": "execute_result"
    }
   ],
   "source": [
    "//write(p, az(corPath + \"/pearson_go.tsv\"))"
   ]
  },
  {
   "cell_type": "code",
   "execution_count": 41,
   "metadata": {},
   "outputs": [
    {
     "data": {
      "text/plain": [
       "pCorComponents = [feature: string, gray_whale_liver: double ... 17 more fields]\n",
       "pCorFunctions = [feature: string, gray_whale_liver: double ... 17 more fields]\n",
       "pCorProcesses = [feature: string, gray_whale_liver: double ... 17 more fields]\n"
      ]
     },
     "metadata": {},
     "output_type": "display_data",
     "source": "user"
    },
    {
     "data": {
      "text/plain": [
       "[feature: string, gray_whale_liver: double ... 17 more fields]"
      ]
     },
     "execution_count": 41,
     "metadata": {},
     "output_type": "execute_result"
    }
   ],
   "source": [
    "val pCorComponents = pearsonCorrellation(components, features)(spark)\n",
    "val pCorFunctions =  pearsonCorrellation(functions, features)(spark)\n",
    "val pCorProcesses = pearsonCorrellation(processes, features)(spark)"
   ]
  },
  {
   "cell_type": "code",
   "execution_count": 42,
   "metadata": {},
   "outputs": [
    {
     "data": {
      "text/plain": [
       "Name: Syntax Error.\n",
       "Message: \n",
       "StackTrace: "
      ]
     },
     "execution_count": 42,
     "metadata": {},
     "output_type": "execute_result"
    }
   ],
   "source": [
    "//write(pCorComponents, az(corPath + \"/pearson_components.tsv\"))\n",
    "//write(pCorFunctions, az(corPath + \"/pearson_functions.tsv\"))\n",
    "//write(pCorProcesses, az(corPath + \"/pearson_proccesses.tsv\"))"
   ]
  },
  {
   "cell_type": "code",
   "execution_count": 43,
   "metadata": {},
   "outputs": [
    {
     "data": {
      "text/plain": [
       "s = [feature: string, gray_whale_liver: double ... 17 more fields]\n"
      ]
     },
     "metadata": {},
     "output_type": "display_data",
     "source": "user"
    },
    {
     "data": {
      "text/plain": [
       "[feature: string, gray_whale_liver: double ... 17 more fields]"
      ]
     },
     "execution_count": 43,
     "metadata": {},
     "output_type": "execute_result"
    }
   ],
   "source": [
    "val s =  spearmanCorrellation(goTable, features)(spark)"
   ]
  },
  {
   "cell_type": "code",
   "execution_count": 44,
   "metadata": {},
   "outputs": [
    {
     "data": {
      "text/plain": [
       "Name: Syntax Error.\n",
       "Message: \n",
       "StackTrace: "
      ]
     },
     "execution_count": 44,
     "metadata": {},
     "output_type": "execute_result"
    }
   ],
   "source": [
    "//write(s, az(corPath + \"/spearman_go.tsv\"))"
   ]
  },
  {
   "cell_type": "code",
   "execution_count": 45,
   "metadata": {},
   "outputs": [
    {
     "data": {
      "text/plain": [
       "sCorComponents = [feature: string, gray_whale_liver: double ... 17 more fields]\n",
       "sCorFunctions = [feature: string, gray_whale_liver: double ... 17 more fields]\n",
       "sCorProcesses = [feature: string, gray_whale_liver: double ... 17 more fields]\n"
      ]
     },
     "metadata": {},
     "output_type": "display_data",
     "source": "user"
    },
    {
     "data": {
      "text/plain": [
       "[feature: string, gray_whale_liver: double ... 17 more fields]"
      ]
     },
     "execution_count": 45,
     "metadata": {},
     "output_type": "execute_result"
    }
   ],
   "source": [
    "val sCorComponents = spearmanCorrellation(components, features)(spark)\n",
    "val sCorFunctions =  spearmanCorrellation(functions, features)(spark)\n",
    "val sCorProcesses = spearmanCorrellation(processes, features)(spark)"
   ]
  },
  {
   "cell_type": "code",
   "execution_count": 46,
   "metadata": {},
   "outputs": [
    {
     "data": {
      "text/plain": [
       "Name: Syntax Error.\n",
       "Message: \n",
       "StackTrace: "
      ]
     },
     "execution_count": 46,
     "metadata": {},
     "output_type": "execute_result"
    }
   ],
   "source": [
    "//write(sCorComponents, az(corPath + \"/spearman_components.tsv\"))\n",
    "//write(sCorFunctions, az(corPath + \"/spearman_functions.tsv\"))\n",
    "//write(sCorProcesses, az(corPath + \"/spearman_proccesses.tsv\"))"
   ]
  },
  {
   "cell_type": "code",
   "execution_count": 47,
   "metadata": {},
   "outputs": [
    {
     "data": {
      "text/html": [
       "<table><tr><th>feature</th><th>gray_whale_liver</th><th>bowhead_whale_liver</th><th>minke_liver</th><th>NMR_liver</th><th>human_liver</th><th>mouse_totalRNA_liver</th><th>mouse_mRNA_liver</th><th>cow_totalRNA_liver</th><th>cow_mRNA_liver</th><th>gray_whale_kidney</th><th>bowhead_whale_kidney</th><th>minke_kidney</th><th>NMR_kidney</th><th>human_kidney</th><th>mouse_totalRNA_kidney</th><th>mouse_mRNA_kidney</th><th>cow_totalRNA_kidney</th><th>cow_mRNA_kidney</th></tr><tr><td>gray_whale_liver</td><td>1.0</td><td>0.8277300898845916</td><td>0.9231764719150914</td><td>0.6237165331036026</td><td>0.5839001198830035</td><td>0.47109557041520245</td><td>0.2719093462662776</td><td>0.6825022436073613</td><td>0.6841162854945757</td><td>0.8065833989865004</td><td>0.6850213875576928</td><td>0.7899857007091465</td><td>0.719278598655406</td><td>0.5286961010921573</td><td>0.4489435056074344</td><td>0.5121332467029109</td><td>0.6298461707080121</td><td>0.5772035550483416</td></tr><tr><td>bowhead_whale_liver</td><td>0.8277300898845916</td><td>1.0</td><td>0.9297485675593679</td><td>0.729453278796176</td><td>0.6394810866079089</td><td>0.5388773215348185</td><td>0.3383741179558949</td><td>0.7730174087781075</td><td>0.7785332663796907</td><td>0.6790049910256678</td><td>0.7754762525813655</td><td>0.8736890632027058</td><td>0.8145719207842063</td><td>0.5591738180614569</td><td>0.5103960111913068</td><td>0.6131282893853465</td><td>0.693380496155032</td><td>0.6234410190264307</td></tr><tr><td>minke_liver</td><td>0.9231764719150914</td><td>0.9297485675593679</td><td>1.0</td><td>0.692347254017083</td><td>0.6455423627253681</td><td>0.5197703764542697</td><td>0.31801743778340913</td><td>0.7476002972933502</td><td>0.7516153560553112</td><td>0.6480641156386425</td><td>0.7275467681180834</td><td>0.856921042886526</td><td>0.7884509948912664</td><td>0.5209318578283816</td><td>0.466215175280821</td><td>0.5625110535696441</td><td>0.6499475735701372</td><td>0.5793552978069281</td></tr><tr><td>NMR_liver</td><td>0.6237165331036026</td><td>0.729453278796176</td><td>0.692347254017083</td><td>1.0</td><td>0.4965568906189072</td><td>0.46266543205444266</td><td>0.3263649770068802</td><td>0.5847860311413801</td><td>0.5961371269003599</td><td>0.6341200398602842</td><td>0.7205210166870238</td><td>0.8278918313897569</td><td>0.7242749929004192</td><td>0.5041062372727515</td><td>0.47371579813518483</td><td>0.5874948974878154</td><td>0.6425294842881665</td><td>0.5746602087792788</td></tr><tr><td>human_liver</td><td>0.5839001198830035</td><td>0.6394810866079089</td><td>0.6455423627253681</td><td>0.4965568906189072</td><td>1.0</td><td>0.728960820068277</td><td>0.427812964545153</td><td>0.7617933936885383</td><td>0.7446471727963583</td><td>0.4567391269738563</td><td>0.49478889119680536</td><td>0.5659417724675692</td><td>0.6955847159635357</td><td>0.5062677425656119</td><td>0.4167723293316779</td><td>0.5119919649522698</td><td>0.5271933392336179</td><td>0.4814844236868365</td></tr><tr><td>mouse_totalRNA_liver</td><td>0.47109557041520245</td><td>0.5388773215348185</td><td>0.5197703764542697</td><td>0.46266543205444266</td><td>0.728960820068277</td><td>1.0</td><td>0.6446251954067806</td><td>0.6652310614735593</td><td>0.6754636393786392</td><td>0.42043287611000485</td><td>0.5655711146300061</td><td>0.5077328027853565</td><td>0.6085229484106558</td><td>0.5516751446980661</td><td>0.6939430715721151</td><td>0.7490223913791028</td><td>0.5550998282188593</td><td>0.5349212758890417</td></tr><tr><td>mouse_mRNA_liver</td><td>0.2719093462662776</td><td>0.3383741179558949</td><td>0.31801743778340913</td><td>0.3263649770068802</td><td>0.427812964545153</td><td>0.6446251954067806</td><td>1.0</td><td>0.34816006646351355</td><td>0.3569456319795662</td><td>0.24959301534096084</td><td>0.32028006990835145</td><td>0.3348826213267037</td><td>0.3646637772213359</td><td>0.2863790933146166</td><td>0.3502233389494442</td><td>0.4310864573894164</td><td>0.29771337376173673</td><td>0.2709927831433547</td></tr><tr><td>cow_totalRNA_liver</td><td>0.6825022436073613</td><td>0.7730174087781075</td><td>0.7476002972933502</td><td>0.5847860311413801</td><td>0.7617933936885383</td><td>0.6652310614735593</td><td>0.34816006646351355</td><td>1.0</td><td>0.987646598795349</td><td>0.5719909064494857</td><td>0.6462966459553575</td><td>0.6874795127271022</td><td>0.8203228016352635</td><td>0.5839525158636899</td><td>0.4891978269797072</td><td>0.5234095847839716</td><td>0.7850296352020211</td><td>0.7435058880802083</td></tr><tr><td>cow_mRNA_liver</td><td>0.6841162854945757</td><td>0.7785332663796907</td><td>0.7516153560553112</td><td>0.5961371269003599</td><td>0.7446471727963583</td><td>0.6754636393786392</td><td>0.3569456319795662</td><td>0.987646598795349</td><td>1.0</td><td>0.575727809338449</td><td>0.6469930933609092</td><td>0.6982424714782212</td><td>0.8131421474659105</td><td>0.5655332839025662</td><td>0.4784898211331575</td><td>0.5260494532852728</td><td>0.765255936390077</td><td>0.7226842650678631</td></tr><tr><td>gray_whale_kidney</td><td>0.8065833989865004</td><td>0.6790049910256678</td><td>0.6480641156386425</td><td>0.6341200398602842</td><td>0.4567391269738563</td><td>0.42043287611000485</td><td>0.24959301534096084</td><td>0.5719909064494857</td><td>0.575727809338449</td><td>1.0</td><td>0.7081672512669088</td><td>0.7710701279362062</td><td>0.6761719951089161</td><td>0.5670383084366521</td><td>0.48647219124665636</td><td>0.551505370215726</td><td>0.6665799816923631</td><td>0.6260569256462964</td></tr></table>"
      ]
     },
     "execution_count": 47,
     "metadata": {},
     "output_type": "execute_result"
    }
   ],
   "source": [
    "%%dataframe p"
   ]
  },
  {
   "cell_type": "code",
   "execution_count": 3,
   "metadata": {},
   "outputs": [
    {
     "data": {
      "text/plain": [
       "statGo = [summary: string, gray_whale_liver: string ... 17 more fields]\n",
       "statComponents = [summary: string, gray_whale_liver: string ... 17 more fields]\n",
       "statFunctions = [summary: string, gray_whale_liver: string ... 17 more fields]\n",
       "statProcesses = [summary: string, gray_whale_liver: string ... 17 more fields]\n"
      ]
     },
     "metadata": {},
     "output_type": "display_data",
     "source": "user"
    },
    {
     "data": {
      "text/plain": [
       "[summary: string, gray_whale_liver: string ... 17 more fields]"
      ]
     },
     "execution_count": 3,
     "metadata": {},
     "output_type": "execute_result"
    }
   ],
   "source": [
    "val statGo = components.describe(features:_*)\n",
    "val statComponents = components.describe(features:_*)\n",
    "val statFunctions = functions.describe(features:_*)\n",
    "val statProcesses = processes.describe(features:_*)"
   ]
  },
  {
   "cell_type": "code",
   "execution_count": 5,
   "metadata": {},
   "outputs": [
    {
     "data": {
      "text/plain": [
       "wasbs://storage@pipelines1.blob.core.windows.net/expressions/go/stats/processes_stats.tsv"
      ]
     },
     "execution_count": 5,
     "metadata": {},
     "output_type": "execute_result"
    }
   ],
   "source": [
    "write(statGo, az(statsPath + \"/go_stats.tsv\"))\n",
    "write(statComponents, az(statsPath + \"/components_stats.tsv\"))\n",
    "write(statFunctions, az(statsPath + \"/functions_stats.tsv\"))\n",
    "write(statProcesses, az(statsPath + \"/processes_stats.tsv\"))"
   ]
  },
  {
   "cell_type": "code",
   "execution_count": 6,
   "metadata": {},
   "outputs": [
    {
     "data": {
      "text/html": [
       "<table><tr><th>summary</th><th>gray_whale_liver</th><th>bowhead_whale_liver</th><th>minke_liver</th><th>NMR_liver</th><th>human_liver</th><th>mouse_totalRNA_liver</th><th>mouse_mRNA_liver</th><th>cow_totalRNA_liver</th><th>cow_mRNA_liver</th><th>gray_whale_kidney</th><th>bowhead_whale_kidney</th><th>minke_kidney</th><th>NMR_kidney</th><th>human_kidney</th><th>mouse_totalRNA_kidney</th><th>mouse_mRNA_kidney</th><th>cow_totalRNA_kidney</th><th>cow_mRNA_kidney</th></tr><tr><td>count</td><td>1453</td><td>1243</td><td>1205</td><td>1017</td><td>1617</td><td>1582</td><td>1582</td><td>1437</td><td>1437</td><td>1453</td><td>1195</td><td>1205</td><td>1017</td><td>1617</td><td>1582</td><td>1582</td><td>1437</td><td>1437</td></tr><tr><td>mean</td><td>868.5354391699926</td><td>468.7891043725651</td><td>1139.1835879551854</td><td>3011.4510380943952</td><td>255.64292075386538</td><td>1939.6801433242754</td><td>595.5306853274335</td><td>2140.863913127349</td><td>2270.3778592651283</td><td>1192.0169739649018</td><td>188.7824074962342</td><td>1611.9041302257253</td><td>2234.358287944933</td><td>176.73478424180556</td><td>1616.8993346485413</td><td>507.8351420663703</td><td>2066.537954194845</td><td>2054.3890774996503</td></tr><tr><td>stddev</td><td>4899.940679867033</td><td>2553.2165129144614</td><td>6212.724892591675</td><td>14760.924799645785</td><td>1777.820935124624</td><td>13271.063811067626</td><td>5067.003835882542</td><td>14985.194700965862</td><td>15198.61551838991</td><td>6674.09065749058</td><td>1186.617703523776</td><td>8857.436828992848</td><td>12346.228517487874</td><td>1361.1948859049087</td><td>11896.801473627173</td><td>3168.1352716157044</td><td>13927.841305004195</td><td>14757.667618630821</td></tr><tr><td>min</td><td>-0.0</td><td>0.0</td><td>0.0</td><td>0.0</td><td>0.0</td><td>0.0</td><td>0.0</td><td>0.0</td><td>0.0</td><td>-0.0</td><td>0.0</td><td>0.0</td><td>0.0</td><td>0.0</td><td>0.0</td><td>0.0</td><td>0.0</td><td>0.0</td></tr><tr><td>max</td><td>82627.97828900004</td><td>43406.81879601012</td><td>103879.82613499998</td><td>189153.98861699994</td><td>34179.85539700001</td><td>238106.703232</td><td>116765.71726399995</td><td>407115.5446490002</td><td>402875.4094160001</td><td>107835.54761100012</td><td>24343.312661999982</td><td>139226.62839100015</td><td>251177.67484400002</td><td>30508.606157000006</td><td>311226.213938</td><td>71787.03052000001</td><td>315467.63018200017</td><td>373243.68564099993</td></tr></table>"
      ]
     },
     "execution_count": 6,
     "metadata": {},
     "output_type": "execute_result"
    }
   ],
   "source": [
    "%%dataframe statGo"
   ]
  },
  {
   "cell_type": "code",
   "execution_count": 52,
   "metadata": {},
   "outputs": [
    {
     "data": {
      "text/plain": [
       "An error occurred converting DataFrame to html.\n",
       "<console>:128: error: missing argument list for method describe in class Dataset\n",
       "Unapplied methods are only converted to functions when a function type is expected.\n",
       "You can make this conversion explicit by writing `describe _` or `describe(_)` instead of `describe`.\n",
       "       components.describe\n",
       "                  ^\n"
      ]
     },
     "execution_count": 52,
     "metadata": {},
     "output_type": "execute_result"
    }
   ],
   "source": [
    "%%dataframe components.describe"
   ]
  },
  {
   "cell_type": "code",
   "execution_count": 48,
   "metadata": {},
   "outputs": [
    {
     "data": {
      "text/plain": [
       "comp_count = 1739\n",
       "proc_count = 12369\n",
       "fun_count = 4396\n",
       "all_count = 18597\n"
      ]
     },
     "metadata": {},
     "output_type": "display_data",
     "source": "user"
    },
    {
     "data": {
      "text/plain": [
       "18597"
      ]
     },
     "execution_count": 48,
     "metadata": {},
     "output_type": "execute_result"
    }
   ],
   "source": [
    "val comp_count = components.count\n",
    "val proc_count = processes.count\n",
    "val fun_count = functions.count\n",
    "val all_count = goTable.count"
   ]
  },
  {
   "cell_type": "code",
   "execution_count": 36,
   "metadata": {},
   "outputs": [
    {
     "data": {
      "text/plain": [
       "applyFunction2: (df: org.apache.spark.sql.DataFrame, uf: org.apache.spark.sql.expressions.UserDefinedFunction, fields: List[String])org.apache.spark.sql.DataFrame\n"
      ]
     },
     "metadata": {},
     "output_type": "display_data",
     "source": "user"
    }
   ],
   "source": [
    "import org.apache.spark.sql.expressions._\n",
    "def applyFunction2(df: DataFrame, uf: UserDefinedFunction, fields: List[String]): DataFrame = fields match {\n",
    "    case Nil => df\n",
    "    case head::tail => applyFunction( df.withColumn(\"z_score_\"+head, uf(col(head))), uf, tail)\n",
    "}"
   ]
  },
  {
   "cell_type": "code",
   "execution_count": 43,
   "metadata": {},
   "outputs": [
    {
     "data": {
      "text/plain": [
       "fisherize = UserDefinedFunction(<function1>,DoubleType,Some(List(DoubleType)))\n"
      ]
     },
     "metadata": {},
     "output_type": "display_data",
     "source": "user"
    },
    {
     "data": {
      "text/plain": [
       "lastException: Throwable = null\n",
       "fisher: (r: Double)Double\n",
       "zScore: (r: Double, n: Double)Double\n",
       "scoreFunction2: (n: Double)org.apache.spark.sql.expressions.UserDefinedFunction\n"
      ]
     },
     "metadata": {},
     "output_type": "display_data",
     "source": "user"
    },
    {
     "data": {
      "text/plain": [
       "UserDefinedFunction(<function1>,DoubleType,Some(List(DoubleType)))"
      ]
     },
     "execution_count": 43,
     "metadata": {},
     "output_type": "execute_result"
    }
   ],
   "source": [
    "import org.apache.spark.sql.functions._\n",
    "import spark.implicits._\n",
    "def fisher(r: Double): Double = 0.5 *  Math.log( (1 + r) / (1 - r) )\n",
    "def zScore(r: Double, n: Double) = Math.sqrt((n-3)/ 1.06) * fisher(r)\n",
    "val fisherize = udf[Double, Double]( fisher )\n",
    "def scoreFunction2(n: Double):UserDefinedFunction = udf[Double, Double](r=>Math.sqrt((n-3)/ 1.06) * 0.5 *  Math.log( (1 + r) / (1 - r) ))"
   ]
  },
  {
   "cell_type": "code",
   "execution_count": 44,
   "metadata": {},
   "outputs": [
    {
     "data": {
      "text/plain": [
       "zGo2 = [feature: string, gray_whale_liver: double ... 35 more fields]\n",
       "zCorComponents2 = [feature: string, gray_whale_liver: double ... 35 more fields]\n",
       "zCorFunctions2 = [feature: string, gray_whale_liver: double ... 35 more fields]\n",
       "zCorProcesses2 = [feature: string, gray_whale_liver: double ... 35 more fields]\n"
      ]
     },
     "metadata": {},
     "output_type": "display_data",
     "source": "user"
    },
    {
     "data": {
      "text/plain": [
       "[feature: string, gray_whale_liver: double ... 35 more fields]"
      ]
     },
     "execution_count": 44,
     "metadata": {},
     "output_type": "execute_result"
    }
   ],
   "source": [
    "val zGo2 = applyFunction2(s, scoreFunction2(all_count), features.toList)\n",
    "val zCorComponents2 = applyFunction2(sCorComponents, scoreFunction2(comp_count), features.toList)\n",
    "val zCorFunctions2 = applyFunction2(sCorFunctions, scoreFunction2(fun_count), features.toList)\n",
    "val zCorProcesses2 = applyFunction2(sCorProcesses, scoreFunction2(proc_count), features.toList)"
   ]
  },
  {
   "cell_type": "code",
   "execution_count": 48,
   "metadata": {},
   "outputs": [
    {
     "data": {
      "text/plain": [
       "lastException: Throwable = null\n"
      ]
     },
     "metadata": {},
     "output_type": "display_data",
     "source": "user"
    },
    {
     "data": {
      "text/plain": [
       "wasbs://storage@pipelines1.blob.core.windows.net/expressions/go/stats/z_score_processes.tsv"
      ]
     },
     "execution_count": 48,
     "metadata": {},
     "output_type": "execute_result"
    }
   ],
   "source": [
    "write(zGo2, az(statsPath + \"/z_score_go.tsv\"))\n",
    "write(zCorComponents2, az(statsPath + \"/z_score_components.tsv\"))\n",
    "write(zCorFunctions2, az(statsPath + \"/z_score_functions.tsv\"))\n",
    "write(zCorProcesses2, az(statsPath + \"/z_score_processes.tsv\"))"
   ]
  },
  {
   "cell_type": "markdown",
   "metadata": {},
   "source": [
    "Uniref90 correlations for nonmodel animals\n",
    "------------------------------------------------"
   ]
  },
  {
   "cell_type": "code",
   "execution_count": 1,
   "metadata": {},
   "outputs": [
    {
     "data": {
      "text/plain": [
       "unirefPath = expressions/uniref90\n"
      ]
     },
     "metadata": {},
     "output_type": "display_data"
    },
    {
     "data": {
      "text/plain": [
       "expressions/uniref90"
      ]
     },
     "execution_count": 1,
     "metadata": {},
     "output_type": "execute_result"
    }
   ],
   "source": [
    "val unirefPath = expressionsPath + \"/\" + \"uniref90\""
   ]
  },
  {
   "cell_type": "code",
   "execution_count": 2,
   "metadata": {},
   "outputs": [
    {
     "data": {
      "text/plain": [
       "bowheadAlaska_uniref90 = [uniref90: string, transcript: string ... 13 more fields]\n",
       "bowheadGreenland_uniref90 = [uniref90: string, transcript: string ... 13 more fields]\n",
       "minky_uniref90 = [uniref90: string, transcript: string ... 15 more fields]\n",
       "gray_whale_uniref90 = [uniref90: string, transcript: string ... 15 more fields]\n",
       "naked_mole_rat_uniref90 = [uniref90: string, transcript: string ... 15 more fields]\n"
      ]
     },
     "metadata": {},
     "output_type": "display_data"
    },
    {
     "data": {
      "text/plain": [
       "[uniref90: string, transcript: string ... 15 more fields]"
      ]
     },
     "execution_count": 2,
     "metadata": {},
     "output_type": "execute_result"
    }
   ],
   "source": [
    "val bowheadAlaska_uniref90 = readTSV(az(unirefPath + \"/bowhead_alaska_uniref90_all.tab\"), true)\n",
    "val bowheadGreenland_uniref90 = readTSV(az(unirefPath + \"/bowhead_greenland_uniref90_all.tab\"), true)\n",
    "val minky_uniref90 = readTSV(az(unirefPath + \"/minky_whale_uniref90_all.tab\"), true)\n",
    "val gray_whale_uniref90 = readTSV(az(unirefPath + \"/gray_whale_uniref90_all.tab\"), true)\n",
    "val naked_mole_rat_uniref90 = readTSV(az(unirefPath + \"/naked_mole_rat_uniref90_all.tab\"), true)\n"
   ]
  },
  {
   "cell_type": "code",
   "execution_count": 39,
   "metadata": {},
   "outputs": [
    {
     "data": {
      "text/plain": [
       "uselect: (dataFrame: org.apache.spark.sql.DataFrame, prefix: String)org.apache.spark.sql.DataFrame\n"
      ]
     },
     "metadata": {},
     "output_type": "display_data"
    }
   ],
   "source": [
    "def uselect(dataFrame: DataFrame, prefix: String) = {\n",
    "    val liverNew = prefix + \"_liver\"\n",
    "    val kidneyNew = prefix + \"_kidney\"\n",
    "    dataFrame\n",
    "        .withColumnRenamed(\"liver\", liverNew)\n",
    "        .withColumnRenamed(\"kidney\", kidneyNew)\n",
    "    .select(\"uniref90\", liverNew, kidneyNew)\n",
    "}"
   ]
  },
  {
   "cell_type": "code",
   "execution_count": 66,
   "metadata": {},
   "outputs": [
    {
     "data": {
      "text/plain": [
       "bowhead_outer = [uniref90: string, bowhead_whale_liver: double ... 1 more field]\n",
       "nonModelUniref90_outer = [uniref90: string, gray_whale_liver: double ... 7 more fields]\n"
      ]
     },
     "metadata": {},
     "output_type": "display_data"
    },
    {
     "data": {
      "text/plain": [
       "lastException: Throwable = null\n"
      ]
     },
     "metadata": {},
     "output_type": "display_data"
    },
    {
     "data": {
      "text/plain": [
       "[uniref90: string, gray_whale_liver: double ... 7 more fields]"
      ]
     },
     "execution_count": 66,
     "metadata": {},
     "output_type": "execute_result"
    }
   ],
   "source": [
    "val bowhead_outer = bowheadAlaska_uniref90\n",
    "        .withColumnRenamed(\"liver\", \"bowhead_whale_liver\")\n",
    "        .select(\"uniref90\", \"bowhead_whale_liver\")\n",
    "    .join(bowheadGreenland_uniref90\n",
    "      .withColumnRenamed(\"kidney\", \"bowhead_whale_kidney\")\n",
    "      .select(\"uniref90\",\"bowhead_whale_kidney\"), Seq(\"uniref90\"), \"outer\")\n",
    "    .na.fill(0)\n",
    "val nonModelUniref90_outer = bowhead_outer\n",
    "  .join(uselect(naked_mole_rat_uniref90, \"NMR\"), Seq(\"uniref90\"), \"outer\")\n",
    "  .join(uselect(minky_uniref90, \"minke\"), Seq(\"uniref90\"), \"outer\")\n",
    "  .join(uselect(gray_whale_uniref90, \"gray_whale\"), Seq(\"uniref90\"), \"outer\").na.fill(0)\n",
    "    .select(\"uniref90\", \"gray_whale_liver\",\"bowhead_whale_liver\", \"minke_liver\", \"NMR_liver\",\n",
    "              \"gray_whale_kidney\",\"bowhead_whale_kidney\", \"minke_kidney\", \"NMR_kidney\")"
   ]
  },
  {
   "cell_type": "code",
   "execution_count": 41,
   "metadata": {},
   "outputs": [
    {
     "data": {
      "text/plain": [
       "wasbs://storage@pipelines1.blob.core.windows.net/expressions/uniref90/nonModelUniref90_outer.tsv"
      ]
     },
     "execution_count": 41,
     "metadata": {},
     "output_type": "execute_result"
    }
   ],
   "source": [
    "write(nonModelUniref90_outer, az(unirefPath + \"/non_model_uniref90_outer.tsv\"))"
   ]
  },
  {
   "cell_type": "code",
   "execution_count": 60,
   "metadata": {},
   "outputs": [
    {
     "data": {
      "text/plain": [
       "bowhead_inner = [uniref90: string, bowhead_whale_liver: double ... 1 more field]\n",
       "nonModelUniref90_inner = [uniref90: string, gray_whale_liver: double ... 7 more fields]\n"
      ]
     },
     "metadata": {},
     "output_type": "display_data"
    },
    {
     "data": {
      "text/plain": [
       "lastException: Throwable = null\n"
      ]
     },
     "metadata": {},
     "output_type": "display_data"
    },
    {
     "data": {
      "text/plain": [
       "[uniref90: string, gray_whale_liver: double ... 7 more fields]"
      ]
     },
     "execution_count": 60,
     "metadata": {},
     "output_type": "execute_result"
    }
   ],
   "source": [
    "val bowhead_inner = bowheadAlaska_uniref90\n",
    "        .withColumnRenamed(\"liver\", \"bowhead_whale_liver\")\n",
    "        .select(\"uniref90\", \"bowhead_whale_liver\")\n",
    "    .join(bowheadGreenland_uniref90\n",
    "      .withColumnRenamed(\"kidney\", \"bowhead_whale_kidney\")\n",
    "      .select(\"uniref90\",\"bowhead_whale_kidney\"), Seq(\"uniref90\"), \"inner\")\n",
    "    .na.fill(0)\n",
    "val nonModelUniref90_inner = bowhead_inner\n",
    "  .join(uselect(naked_mole_rat_uniref90, \"NMR\"), Seq(\"uniref90\"), \"inner\")\n",
    "  .join(uselect(minky_uniref90, \"minke\"), Seq(\"uniref90\"), \"inner\")\n",
    "  .join(uselect(gray_whale_uniref90, \"gray_whale\"), Seq(\"uniref90\"), \"inner\").na.fill(0)\n",
    "    .select(\"uniref90\", \"gray_whale_liver\",\"bowhead_whale_liver\", \"minke_liver\", \"NMR_liver\",\n",
    "              \"gray_whale_kidney\",\"bowhead_whale_kidney\", \"minke_kidney\", \"NMR_kidney\")"
   ]
  },
  {
   "cell_type": "code",
   "execution_count": 62,
   "metadata": {},
   "outputs": [
    {
     "data": {
      "text/plain": [
       "lastException: Throwable = null\n"
      ]
     },
     "metadata": {},
     "output_type": "display_data"
    },
    {
     "data": {
      "text/plain": [
       "wasbs://storage@pipelines1.blob.core.windows.net/expressions/uniref90/non_model_uniref90_inner.tsv"
      ]
     },
     "execution_count": 62,
     "metadata": {},
     "output_type": "execute_result"
    }
   ],
   "source": [
    "write(nonModelUniref90_inner, az(unirefPath + \"/non_model_uniref90_inner.tsv\"))"
   ]
  },
  {
   "cell_type": "code",
   "execution_count": 67,
   "metadata": {},
   "outputs": [
    {
     "data": {
      "text/plain": [
       "pCorUniref90_inner = [feature: string, gray_whale_liver: double ... 7 more fields]\n"
      ]
     },
     "metadata": {},
     "output_type": "display_data"
    },
    {
     "data": {
      "text/plain": [
       "[feature: string, gray_whale_liver: double ... 7 more fields]"
      ]
     },
     "execution_count": 67,
     "metadata": {},
     "output_type": "execute_result"
    }
   ],
   "source": [
    "val pCorUniref90_inner = pearsonCorrellation(nonModelUniref90_inner, nonModelUniref90_inner.columns.tail)(spark)"
   ]
  },
  {
   "cell_type": "code",
   "execution_count": 68,
   "metadata": {},
   "outputs": [
    {
     "data": {
      "text/html": [
       "<table><tr><th>feature</th><th>gray_whale_liver</th><th>bowhead_whale_liver</th><th>minke_liver</th><th>NMR_liver</th><th>gray_whale_kidney</th><th>bowhead_whale_kidney</th><th>minke_kidney</th><th>NMR_kidney</th></tr><tr><td>gray_whale_liver</td><td>1.0</td><td>0.8300586910031105</td><td>0.8469116693333069</td><td>0.6669585219776608</td><td>0.9298140542466256</td><td>0.8493871407603216</td><td>0.8462590061430213</td><td>0.5294741029129806</td></tr><tr><td>bowhead_whale_liver</td><td>0.8300586910031105</td><td>1.0</td><td>0.8000472869408696</td><td>0.45483848041601543</td><td>0.822258675210378</td><td>0.8771210752206287</td><td>0.8026170765946911</td><td>0.5211770501263002</td></tr><tr><td>minke_liver</td><td>0.8469116693333069</td><td>0.8000472869408696</td><td>1.0</td><td>0.5197339363588092</td><td>0.830027793793164</td><td>0.8102696110441489</td><td>0.9662833322999814</td><td>0.823327047028031</td></tr><tr><td>NMR_liver</td><td>0.6669585219776608</td><td>0.45483848041601543</td><td>0.5197339363588092</td><td>1.0</td><td>0.7334151283780421</td><td>0.49038781720551383</td><td>0.581252957671909</td><td>0.449795392863793</td></tr><tr><td>gray_whale_kidney</td><td>0.9298140542466256</td><td>0.822258675210378</td><td>0.830027793793164</td><td>0.7334151283780421</td><td>1.0</td><td>0.8362624204104355</td><td>0.8849154071710491</td><td>0.6248508934088939</td></tr><tr><td>bowhead_whale_kidney</td><td>0.8493871407603216</td><td>0.8771210752206287</td><td>0.8102696110441489</td><td>0.49038781720551383</td><td>0.8362624204104355</td><td>1.0</td><td>0.8374133453149177</td><td>0.5635818695611686</td></tr><tr><td>minke_kidney</td><td>0.8462590061430213</td><td>0.8026170765946911</td><td>0.9662833322999814</td><td>0.581252957671909</td><td>0.8849154071710491</td><td>0.8374133453149177</td><td>1.0</td><td>0.8251714962097114</td></tr><tr><td>NMR_kidney</td><td>0.5294741029129806</td><td>0.5211770501263002</td><td>0.823327047028031</td><td>0.449795392863793</td><td>0.6248508934088939</td><td>0.5635818695611686</td><td>0.8251714962097114</td><td>1.0</td></tr></table>"
      ]
     },
     "execution_count": 68,
     "metadata": {},
     "output_type": "execute_result"
    }
   ],
   "source": [
    "%%dataframe pCorUniref90_inner"
   ]
  },
  {
   "cell_type": "code",
   "execution_count": 63,
   "metadata": {},
   "outputs": [
    {
     "data": {
      "text/plain": [
       "sCorUniref90_inner = [feature: string, gray_whale_liver: double ... 7 more fields]\n"
      ]
     },
     "metadata": {},
     "output_type": "display_data"
    },
    {
     "data": {
      "text/plain": [
       "[feature: string, gray_whale_liver: double ... 7 more fields]"
      ]
     },
     "execution_count": 63,
     "metadata": {},
     "output_type": "execute_result"
    }
   ],
   "source": [
    "val sCorUniref90_inner = spearmanCorrellation(nonModelUniref90_inner, nonModelUniref90_inner.columns.tail)(spark)"
   ]
  },
  {
   "cell_type": "code",
   "execution_count": 64,
   "metadata": {},
   "outputs": [
    {
     "data": {
      "text/html": [
       "<table><tr><th>feature</th><th>gray_whale_liver</th><th>bowhead_whale_liver</th><th>minke_liver</th><th>NMR_liver</th><th>gray_whale_kidney</th><th>bowhead_whale_kidney</th><th>minke_kidney</th><th>NMR_kidney</th></tr><tr><td>gray_whale_liver</td><td>1.0</td><td>0.7639173336841389</td><td>0.8430350683951906</td><td>0.549761808756336</td><td>0.8347408304749393</td><td>0.5365711661878696</td><td>0.7430483190607209</td><td>0.700989262822804</td></tr><tr><td>bowhead_whale_liver</td><td>0.7639173336841389</td><td>1.0</td><td>0.8271636509527601</td><td>0.5877812506699471</td><td>0.7439277239332438</td><td>0.687662277965784</td><td>0.7265230142709078</td><td>0.709511650790017</td></tr><tr><td>minke_liver</td><td>0.8430350683951906</td><td>0.8271636509527601</td><td>1.0</td><td>0.6336283978593613</td><td>0.7990513668612917</td><td>0.6494176766396411</td><td>0.8539677496783272</td><td>0.7442344088031906</td></tr><tr><td>NMR_liver</td><td>0.549761808756336</td><td>0.5877812506699471</td><td>0.6336283978593613</td><td>1.0</td><td>0.6469130529791486</td><td>0.5990136932321215</td><td>0.6652075366481272</td><td>0.7261078254797796</td></tr><tr><td>gray_whale_kidney</td><td>0.8347408304749393</td><td>0.7439277239332438</td><td>0.7990513668612917</td><td>0.6469130529791486</td><td>1.0</td><td>0.7410226620018905</td><td>0.8658049826038999</td><td>0.6906618601830136</td></tr><tr><td>bowhead_whale_kidney</td><td>0.5365711661878696</td><td>0.687662277965784</td><td>0.6494176766396411</td><td>0.5990136932321215</td><td>0.7410226620018905</td><td>1.0</td><td>0.7279144448062425</td><td>0.5731992179358378</td></tr><tr><td>minke_kidney</td><td>0.7430483190607209</td><td>0.7265230142709078</td><td>0.8539677496783272</td><td>0.6652075366481272</td><td>0.8658049826038999</td><td>0.7279144448062425</td><td>1.0</td><td>0.6951876874316372</td></tr><tr><td>NMR_kidney</td><td>0.700989262822804</td><td>0.709511650790017</td><td>0.7442344088031906</td><td>0.7261078254797796</td><td>0.6906618601830136</td><td>0.5731992179358378</td><td>0.6951876874316372</td><td>1.0</td></tr></table>"
      ]
     },
     "execution_count": 64,
     "metadata": {},
     "output_type": "execute_result"
    }
   ],
   "source": [
    "%%dataframe sCorUniref90_inner "
   ]
  },
  {
   "cell_type": "code",
   "execution_count": 69,
   "metadata": {},
   "outputs": [
    {
     "data": {
      "text/html": [
       "<table><tr><th>feature</th><th>gray_whale_liver</th><th>bowhead_whale_liver</th><th>minke_liver</th><th>NMR_liver</th><th>human_liver</th><th>mouse_totalRNA_liver</th><th>mouse_mRNA_liver</th><th>cow_totalRNA_liver</th><th>cow_mRNA_liver</th><th>gray_whale_kidney</th><th>bowhead_whale_kidney</th><th>minke_kidney</th><th>NMR_kidney</th><th>human_kidney</th><th>mouse_totalRNA_kidney</th><th>mouse_mRNA_kidney</th><th>cow_totalRNA_kidney</th><th>cow_mRNA_kidney</th></tr><tr><td>gray_whale_liver</td><td>1.0</td><td>0.8277300898845916</td><td>0.9231764719150914</td><td>0.6237165331036026</td><td>0.5839001198830035</td><td>0.47109557041520245</td><td>0.2719093462662776</td><td>0.6825022436073613</td><td>0.6841162854945757</td><td>0.8065833989865004</td><td>0.6850213875576928</td><td>0.7899857007091465</td><td>0.719278598655406</td><td>0.5286961010921573</td><td>0.4489435056074344</td><td>0.5121332467029109</td><td>0.6298461707080121</td><td>0.5772035550483416</td></tr><tr><td>bowhead_whale_liver</td><td>0.8277300898845916</td><td>1.0</td><td>0.9297485675593679</td><td>0.729453278796176</td><td>0.6394810866079089</td><td>0.5388773215348185</td><td>0.3383741179558949</td><td>0.7730174087781075</td><td>0.7785332663796907</td><td>0.6790049910256678</td><td>0.7754762525813655</td><td>0.8736890632027058</td><td>0.8145719207842063</td><td>0.5591738180614569</td><td>0.5103960111913068</td><td>0.6131282893853465</td><td>0.693380496155032</td><td>0.6234410190264307</td></tr><tr><td>minke_liver</td><td>0.9231764719150914</td><td>0.9297485675593679</td><td>1.0</td><td>0.692347254017083</td><td>0.6455423627253681</td><td>0.5197703764542697</td><td>0.31801743778340913</td><td>0.7476002972933502</td><td>0.7516153560553112</td><td>0.6480641156386425</td><td>0.7275467681180834</td><td>0.856921042886526</td><td>0.7884509948912664</td><td>0.5209318578283816</td><td>0.466215175280821</td><td>0.5625110535696441</td><td>0.6499475735701372</td><td>0.5793552978069281</td></tr><tr><td>NMR_liver</td><td>0.6237165331036026</td><td>0.729453278796176</td><td>0.692347254017083</td><td>1.0</td><td>0.4965568906189072</td><td>0.46266543205444266</td><td>0.3263649770068802</td><td>0.5847860311413801</td><td>0.5961371269003599</td><td>0.6341200398602842</td><td>0.7205210166870238</td><td>0.8278918313897569</td><td>0.7242749929004192</td><td>0.5041062372727515</td><td>0.47371579813518483</td><td>0.5874948974878154</td><td>0.6425294842881665</td><td>0.5746602087792788</td></tr><tr><td>human_liver</td><td>0.5839001198830035</td><td>0.6394810866079089</td><td>0.6455423627253681</td><td>0.4965568906189072</td><td>1.0</td><td>0.728960820068277</td><td>0.427812964545153</td><td>0.7617933936885383</td><td>0.7446471727963583</td><td>0.4567391269738563</td><td>0.49478889119680536</td><td>0.5659417724675692</td><td>0.6955847159635357</td><td>0.5062677425656119</td><td>0.4167723293316779</td><td>0.5119919649522698</td><td>0.5271933392336179</td><td>0.4814844236868365</td></tr><tr><td>mouse_totalRNA_liver</td><td>0.47109557041520245</td><td>0.5388773215348185</td><td>0.5197703764542697</td><td>0.46266543205444266</td><td>0.728960820068277</td><td>1.0</td><td>0.6446251954067806</td><td>0.6652310614735593</td><td>0.6754636393786392</td><td>0.42043287611000485</td><td>0.5655711146300061</td><td>0.5077328027853565</td><td>0.6085229484106558</td><td>0.5516751446980661</td><td>0.6939430715721151</td><td>0.7490223913791028</td><td>0.5550998282188593</td><td>0.5349212758890417</td></tr><tr><td>mouse_mRNA_liver</td><td>0.2719093462662776</td><td>0.3383741179558949</td><td>0.31801743778340913</td><td>0.3263649770068802</td><td>0.427812964545153</td><td>0.6446251954067806</td><td>1.0</td><td>0.34816006646351355</td><td>0.3569456319795662</td><td>0.24959301534096084</td><td>0.32028006990835145</td><td>0.3348826213267037</td><td>0.3646637772213359</td><td>0.2863790933146166</td><td>0.3502233389494442</td><td>0.4310864573894164</td><td>0.29771337376173673</td><td>0.2709927831433547</td></tr><tr><td>cow_totalRNA_liver</td><td>0.6825022436073613</td><td>0.7730174087781075</td><td>0.7476002972933502</td><td>0.5847860311413801</td><td>0.7617933936885383</td><td>0.6652310614735593</td><td>0.34816006646351355</td><td>1.0</td><td>0.987646598795349</td><td>0.5719909064494857</td><td>0.6462966459553575</td><td>0.6874795127271022</td><td>0.8203228016352635</td><td>0.5839525158636899</td><td>0.4891978269797072</td><td>0.5234095847839716</td><td>0.7850296352020211</td><td>0.7435058880802083</td></tr><tr><td>cow_mRNA_liver</td><td>0.6841162854945757</td><td>0.7785332663796907</td><td>0.7516153560553112</td><td>0.5961371269003599</td><td>0.7446471727963583</td><td>0.6754636393786392</td><td>0.3569456319795662</td><td>0.987646598795349</td><td>1.0</td><td>0.575727809338449</td><td>0.6469930933609092</td><td>0.6982424714782212</td><td>0.8131421474659105</td><td>0.5655332839025662</td><td>0.4784898211331575</td><td>0.5260494532852728</td><td>0.765255936390077</td><td>0.7226842650678631</td></tr><tr><td>gray_whale_kidney</td><td>0.8065833989865004</td><td>0.6790049910256678</td><td>0.6480641156386425</td><td>0.6341200398602842</td><td>0.4567391269738563</td><td>0.42043287611000485</td><td>0.24959301534096084</td><td>0.5719909064494857</td><td>0.575727809338449</td><td>1.0</td><td>0.7081672512669088</td><td>0.7710701279362062</td><td>0.6761719951089161</td><td>0.5670383084366521</td><td>0.48647219124665636</td><td>0.551505370215726</td><td>0.6665799816923631</td><td>0.6260569256462964</td></tr></table>"
      ]
     },
     "execution_count": 69,
     "metadata": {},
     "output_type": "execute_result"
    }
   ],
   "source": [
    "%%dataframe p"
   ]
  },
  {
   "cell_type": "markdown",
   "metadata": {},
   "source": [
    "Uniref computations for model organisms\n",
    "---------------------------------------"
   ]
  },
  {
   "cell_type": "code",
   "execution_count": 90,
   "metadata": {},
   "outputs": [
    {
     "data": {
      "text/plain": [
       "mouse_mRNA = [transcript: string, uniref90: string ... 13 more fields]\n",
       "mouse_totalRNA = [transcript: string, uniref90: string ... 13 more fields]\n",
       "cow_mRNA = [transcript: string, uniref90: string ... 13 more fields]\n",
       "cow_totalRNA = [transcript: string, uniref90: string ... 13 more fields]\n",
       "human_totalRNA = [transcript: string, uniref90: string ... 13 more fields]\n"
      ]
     },
     "metadata": {},
     "output_type": "display_data"
    },
    {
     "data": {
      "text/plain": [
       "[transcript: string, uniref90: string ... 13 more fields]"
      ]
     },
     "execution_count": 90,
     "metadata": {},
     "output_type": "execute_result"
    }
   ],
   "source": [
    "val mouse_mRNA = readTSV(az(transcriptsPath + \"/mouse_mRNA_transcripts_all.tsv\"), true)\n",
    "val mouse_totalRNA =  readTSV(az(transcriptsPath + \"/mouse_totalRNA_transcripts_all.tsv\"), true)\n",
    "val cow_mRNA = readTSV(az(transcriptsPath + \"/cow_mRNA_transcripts_all.tsv\"), true)\n",
    "val cow_totalRNA =  readTSV(az(transcriptsPath + \"/cow_totalRNA_transcripts_all.tsv\"), true)\n",
    "val human_totalRNA = readTSV(az(transcriptsPath + \"/human_transcripts_all.tsv\"), true)"
   ]
  },
  {
   "cell_type": "code",
   "execution_count": 93,
   "metadata": {},
   "outputs": [
    {
     "data": {
      "text/html": [
       "<table><tr><th>transcript</th><th>uniref90</th><th>go</th><th>liver</th><th>kidney</th><th>avg_expression</th><th>uniprot_ac</th><th>taxon</th><th>uniprot_id</th><th>entrez</th><th>refSeq</th><th>gi</th><th>uniparc</th><th>pubmed</th><th>embl</th></tr><tr><td>ENSBTAT00000025946</td><td>UniRef90_F1MN15</td><td>GO:0004536; GO:0016888; GO:0006308</td><td>3.985021</td><td>11.832584</td><td>15.817605</td><td>F1MN15</td><td>9913</td><td>F1MN15_BOVIN</td><td>null</td><td>null</td><td>null</td><td>UPI0000F30D1B</td><td>19393038</td><td>DAAA02053751</td></tr><tr><td>ENSBTAT00000009797</td><td>UniRef90_Q9NZJ9</td><td>GO:0005737; GO:0005634; GO:0034431; GO:0034432; GO:0008486; GO:0000298; GO:0050072; GO:1901911; GO:1901909; GO:1901907; GO:0071543</td><td>7.028422</td><td>64.554945</td><td>71.58336700000001</td><td>A2VDV0</td><td>9913</td><td>A2VDV0_BOVIN</td><td>614183</td><td>NP_001075087.1</td><td>125991926; 124829074</td><td>UPI0000616276</td><td>19393038</td><td>DAAA02012773; BC133414</td></tr><tr><td>ENSBTAT00000008621</td><td>UniRef90_Q9R1P4</td><td>GO:0005737; GO:0005634; GO:0005839; GO:0019773; GO:0001530; GO:0004298; GO:0002376; GO:0002862; GO:0006511</td><td>56.054289</td><td>70.186761</td><td>126.24105</td><td>Q3T0X5</td><td>9913</td><td>PSA1_BOVIN</td><td>515503</td><td>NP_001030387.1</td><td>21465661; 74354782; 122140416; 78369458; 21465647</td><td>UPI00005B61ED</td><td>12015144</td><td>BC102216</td></tr><tr><td>ENSBTAT00000002123</td><td>UniRef90_F1N5T9</td><td>GO:0070062; GO:0005794; GO:0016021; GO:0043209; GO:0005886; GO:0015194; GO:0051607; GO:0009597; GO:0045087; GO:0042552; GO:0006658; GO:0006665</td><td>14.145071</td><td>15.494706</td><td>29.639777000000002</td><td>F1N5T9</td><td>9913</td><td>F1N5T9_BOVIN</td><td>null</td><td>null</td><td>null</td><td>UPI0002264BBB</td><td>19393038</td><td>DAAA02027840</td></tr><tr><td>ENSBTAT00000000236</td><td>UniRef90_F1MVX6</td><td>GO:0000786; GO:0005634; GO:0003677; GO:0046982; GO:0006334</td><td>1.862637</td><td>1.867203</td><td>3.7298400000000003</td><td>F1MVX6</td><td>9913</td><td>F1MVX6_BOVIN</td><td>null</td><td>null</td><td>null</td><td>UPI00022650F9</td><td>19393038</td><td>DAAA02032276</td></tr><tr><td>ENSBTAT00000064367</td><td>UniRef90_W5PQ94</td><td>GO:0016021; GO:0005886; GO:0004930; GO:0004984</td><td>0.081154</td><td>0.053759</td><td>0.134913</td><td>G3N2Y6</td><td>9913</td><td>G3N2Y6_BOVIN</td><td>null</td><td>null</td><td>null</td><td>UPI000226505E</td><td>19393038</td><td>DAAA02028046</td></tr><tr><td>ENSBTAT00000003860</td><td>UniRef90_F1MDR9</td><td>GO:0004722</td><td>34.219832</td><td>30.02334</td><td>64.243172</td><td>F1MDR9</td><td>9913</td><td>F1MDR9_BOVIN</td><td>null</td><td>null</td><td>null</td><td>UPI0002264D79</td><td>19393038</td><td>DAAA02054383; DAAA02054384</td></tr><tr><td>ENSBTAT00000025094</td><td>UniRef90_P12081</td><td>GO:0005829; GO:0005739; GO:0005524; GO:0004821; GO:0042802; GO:0016874; GO:0006427; GO:0032543</td><td>28.883329</td><td>41.151501</td><td>70.03483</td><td>Q2KI84</td><td>9913</td><td>SYHC_BOVIN</td><td>510937</td><td>NP_001039531.1</td><td>114051578; 86826556; 110287977</td><td>UPI0000695E6F</td><td>null</td><td>BC112731</td></tr><tr><td>ENSBTAT00000054839</td><td>UniRef90_F1MNX4</td><td>null</td><td>0.017913</td><td>0.305231</td><td>0.323144</td><td>F1MNX4</td><td>9913</td><td>F1MNX4_BOVIN</td><td>null</td><td>null</td><td>null</td><td>UPI0002263F4B</td><td>19393038</td><td>DAAA02058454</td></tr><tr><td>ENSBTAT00000022373</td><td>UniRef90_Q9NP64</td><td>GO:0003676; GO:0008270</td><td>31.627287</td><td>36.404036</td><td>68.031323</td><td>Q3T0H4</td><td>9913</td><td>Q3T0H4_BOVIN</td><td>538816</td><td>NP_001029824.1; XP_005203034.1; XP_005203035.1</td><td>95769249; 528940528; 77736247; 528940530; 74354076</td><td>UPI00005B6221</td><td>11282978; 16305752; 19393038</td><td>DAAA02006258; DAAA02006259; DAAA02006260; DAAA02006261; DAAA02006262; DAAA02006263; BC102395; BT025465</td></tr></table>"
      ]
     },
     "execution_count": 93,
     "metadata": {},
     "output_type": "execute_result"
    }
   ],
   "source": [
    "%%dataframe cow_totalRNA"
   ]
  },
  {
   "cell_type": "code",
   "execution_count": 87,
   "metadata": {},
   "outputs": [
    {
     "data": {
      "text/html": [
       "<table><tr><th>uniprot_ac</th><th>uniprot_id</th><th>entrez</th><th>refSeq</th><th>gi</th><th>pdb</th><th>go</th><th>uniref100</th><th>uniref90</th><th>uniref50</th><th>uniparc</th><th>pir</th><th>taxon</th><th>mim</th><th>unigene</th><th>pubmed</th><th>embl</th><th>embl_cds</th><th>ensembl</th><th>ensembl_trs</th><th>ensembl_pro</th><th>additional_pubmed</th></tr><tr><td>Q9CQV8</td><td>1433B_MOUSE</td><td>54401</td><td>NP_061223.2; XP_006499972.1</td><td>1009083986; 409974018; 74219534; 31543974; 3065925; 568917832; 18202836; 74191394</td><td>4GNT:A; 5F74:A</td><td>GO:0005737; GO:0030659; GO:0005829; GO:0042470; GO:0005634; GO:0048471; GO:0043234; GO:0017053; GO:0045296; GO:0019899; GO:0042826; GO:0042802; GO:0051219; GO:0050815; GO:0008022; GO:0032403; GO:0019904; GO:0003714; GO:0051220; GO:0045744; GO:0035308; GO:0045892; GO:0043085; GO:0051291; GO:0006605</td><td>UniRef100_Q9CQV8</td><td>UniRef90_P35213</td><td>UniRef50_P27348</td><td>UPI0000004168</td><td>null</td><td>10090</td><td>null</td><td>Mm.34319; Mm.491117</td><td>16141072; 9705322; 15883195; 16800626; 18604201; 21183079; 20478393; 26047703</td><td>AF058797; AK002632; AK004872; AK011389; AK083367; AK144061; AK150414; AK151294; AK158932</td><td>AAC14343.1; BAB22246.1; BAB23631.1; BAB27587.1; BAC38886.1; BAE25678.1; BAE29538.1; BAE30278.1; BAE34730.1</td><td>ENSMUSG00000018326</td><td>ENSMUST00000018470</td><td>ENSMUSP00000018470</td><td>11217851; 12008017; 12446771; 12466851; 12937170; 14610273; 14679215; 15226823; 15240115; 16099986; 16282323; 16602821; 16635246; 16959763; 17923476; 18237277; 18239087; 18332103; 18606808; 18799693; 19014373; 19429675; 19841136; 19915011; 19955570; 20598904; 21267068; 21390248; 23071090; 23177959; 23615913; 23791194; 24026679; 24206222; 24726955; 26214742; 26984404; 11875115; 12796778; 16613846; 18628823; 18687683; 19223768; 19423573; 19834914; 20410134; 20412061; 20697350; 21112954; 26045162; 26514267; 9422753</td></tr><tr><td>P62259</td><td>1433E_MOUSE</td><td>22627</td><td>NP_033562.3</td><td>60391192; 226874906</td><td>null</td><td>GO:0030424; GO:0090724; GO:0005737; GO:0030659; GO:0005829; GO:0005871; GO:0042470; GO:0005739; GO:0005634; GO:0005886; GO:0045296; GO:0005246; GO:0019899; GO:0042826; GO:0042802; GO:0044325; GO:0051219; GO:0050815; GO:0015459; GO:0032403; GO:0019904; GO:0046982; GO:0097110; GO:0031625; GO:0034605; GO:0021987; GO:0021766; GO:0000165; GO:1905913; GO:1901020; GO:1902309; GO:0035308; GO:0001764; GO:0046827; GO:0006605; GO:0051480; GO:0060306; GO:1901016</td><td>UniRef100_P62258</td><td>UniRef90_P62258</td><td>UniRef50_P62258</td><td>UPI0000021A46</td><td>I48337</td><td>10090</td><td>null</td><td>Mm.234700; Mm.471625</td><td>7750640; 11471062; 15489334; 10409742; 11278287; 11533041; 12796778; 15722337; 17320046; 21183079; 21078877; 26047703</td><td>Z19599; D87663; AF483478; AF483479; BC058686</td><td>CAA79659.1; BAA13424.1; AAL90752.1; AAL90753.1; AAH58686.1</td><td>ENSMUSG00000020849</td><td>ENSMUST00000067664</td><td>ENSMUSP00000070993</td><td>11784696; 14966136; 15364926; 17720156; 18687683; 21152247; 21245341; 21287435; 21458426; 22065591; 23071090; 23326474; 25059436; 26208633; 27001213; 27845227; 10441394; 10725249; 11217851; 11585834; 12446771; 12466851; 12520002; 12904583; 12905154; 14517258; 14610273; 14613977; 14651853; 14681479; 15166223; 15284227; 15741177; 15979417; 16141072; 16482218; 16602821; 16615898; 16956611; 16959763; 18059471; 18331715; 18332103; 18658164; 18799693; 19014373; 19799774; 19865483; 20410134; 21092859; 21145499; 21242966; 21267068; 21346153; 21390248; 21423666; 21436042; 21677750; 22982415; 23055941; 23177959; 23615913; 23673330; 23831578; 24721909; 25186760; 27580238; 7671812; 8684458; 8798343; 8858348; 9182797; 9199935; 9811942; 16216880; 16635246; 18614564; 19423573; 19455133; 20564261; 20697350; 21274006; 21565611; 24390569; 24687852; 9144171; 9452471</td></tr><tr><td>P68510</td><td>1433F_MOUSE</td><td>22629</td><td>NP_035868.1</td><td>74226056; 17976969; 1526541; 74139366; 74140682; 3335652; 55976655; 1354808; 26346472; 74214318; 148705461; 38181914; 14198255; 6756037</td><td>null</td><td>GO:0005737; GO:0030659; GO:0005829; GO:0014704; GO:0005886; GO:0003779; GO:0019899; GO:0035259; GO:0042802; GO:0044325; GO:0019904; GO:0046982; GO:0017080; GO:0007010; GO:0006713; GO:0042921; GO:0006886; GO:0086010; GO:0043066; GO:0050774; GO:0045893; GO:0007088; GO:2000649; GO:0002028</td><td>UniRef100_P68510</td><td>UniRef90_P68510</td><td>UniRef50_P62258</td><td>UPI000000109B</td><td>null</td><td>10090</td><td>null</td><td>Mm.332314</td><td>9197417; 9738002; 12008017; 16141072; 15489334; 9705322; 11533041; 18397886; 21183079; 20478393; 26047703</td><td>U57311; D87661; AF077002; AB063572; AK077596; AK149224; AK168520; AK169035; AK169189; BC008187; BC061497</td><td>AAC53256.1; BAA13422.1; AAC36290.1; BAB79599.1; BAC36887.1; BAE28768.1; BAE40399.1; BAE40826.1; BAE40965.1; AAH08187.1; AAH61497.1</td><td>ENSMUSG00000018965</td><td>ENSMUST00000019109</td><td>ENSMUSP00000019109</td><td>14593000; 21152247; 21291861; 22178943; 25599858; 10441394; 11352901; 12176032; 12446771; 12904583; 14610273; 14681479; 15580267; 16096643; 16602821; 16728661; 16959763; 17967808; 18332103; 18799693; 19014373; 19667072; 21267068; 21390248; 23071090; 23547714; 7750640; 9299557; 9452471; 16615898; 16635246; 19423573; 19834914; 20697350; 21247419; 21311561; 8668348</td></tr><tr><td>P61982</td><td>1433G_MOUSE</td><td>22628</td><td>NP_061359.2</td><td>74215924; 31543976; 48428722; 3065929</td><td>null</td><td>GO:0030659; GO:0005829; GO:0043209; GO:0003779; GO:0042802; GO:0005159; GO:0019904; GO:0005080; GO:0030971; GO:0032869; GO:0006605; GO:0045664; GO:0048167</td><td>UniRef100_P61981</td><td>UniRef90_P61981</td><td>UniRef50_P61981</td><td>UPI000000106B</td><td>null</td><td>10090</td><td>null</td><td>Mm.233813</td><td>16141072; 15489334; 18034455; 21183079; 20478393; 26047703</td><td>AF058799; CT010208; AK088847; AK148618; AK153307; AK164356; BC008129</td><td>AAC14345.1; CAJ18416.1; BAC40609.1; BAE28625.1; BAE31888.1; BAE37756.1; AAH08129.1</td><td>ENSMUSG00000051391</td><td>ENSMUST00000055808; ENSMUST00000198270</td><td>ENSMUSP00000051223; ENSMUSP00000143631</td><td>12176032; 12694396; 12730952; 19574997; 20628654; 20642453; 21148311; 21152247; 22427666; 22556425; 25047048; 25086053; 26198629; 26297819; 10512203; 12446771; 12520002; 12904583; 14610273; 14681479; 15031102; 15684385; 15840001; 15998744; 16602821; 16868027; 17032734; 17634366; 17967808; 18332103; 18397886; 18799693; 19014373; 19124748; 19423573; 20215114; 20729863; 21390248; 23071090; 23177959; 24190973; 24209747; 24610948; 9371744; 12796778; 15602769; 16615898; 16635246; 16959763; 17500595; 18614564; 19022416; 19834914; 20697350; 21565611</td></tr><tr><td>O70456</td><td>1433S_MOUSE</td><td>55948</td><td>NP_061224.2</td><td>148698109; 18202125; 74138801; 134023662; 338817846; 74142094; 3065927</td><td>null</td><td>GO:0005737; GO:0030659; GO:0005829; GO:0005576; GO:0005634; GO:0045296; GO:0042802; GO:0051219; GO:0019904; GO:0019901; GO:0061436; GO:0008630; GO:0031424; GO:0003334; GO:0030216; GO:0043154; GO:0010839; GO:0030307; GO:0045606; GO:0046827; GO:0051726; GO:0000079; GO:0010482; GO:0001836; GO:0043588</td><td>UniRef100_O70456</td><td>UniRef90_P31947</td><td>UniRef50_P31947</td><td>UPI00000253C3</td><td>null</td><td>10090</td><td>null</td><td>Mm.44482</td><td>16141072; 19468303; 16710422; 21183079; 20478393; 26047703</td><td>AF058798; AK146490; AK169358; AL627228; CH466552</td><td>AAC14344.1; BAE27209.1; BAE41107.1; CAM14836.1; EDL30056.1</td><td>ENSMUSG00000047281</td><td>ENSMUST00000057311</td><td>ENSMUSP00000050374</td><td>11864996; 12075357; 12077355; 14517281; 15286034; 16200063; 16239341; 16532026; 17643371; 17938205; 20082218; 20100467; 20237493; 20439433; 21205887; 21926108; 22377760; 22768254; 23375543; 24067649; 27409835; 10767298; 11203384; 11845283; 14613977; 14681479; 1613075; 1613076; 16602821; 17041601; 17041603; 17177285; 18184563; 18332103; 19014373; 1909952; 19626033; 20105280; 20729863; 21093383; 21228373; 21267068; 21574244; 21677750; 21743007; 22173065; 22366192; 22560297; 22585169; 23906066; 24055172; 24075906; 2443312; 24478334; 25133425; 25668240; 26527653; 26542370; 27302476; 2989601; 479550; 6174530; 6374282; 6643653; 9328433; 16615898; 21565611</td></tr><tr><td>P68254</td><td>1433T_MOUSE</td><td>22630</td><td>NP_035869.1</td><td>68566157; 74226957; 74204655; 6756039; 51593617; 55153870</td><td>null</td><td>GO:0005737; GO:0030659; GO:0005829; GO:0043234; GO:0071889; GO:0042802; GO:0044325; GO:0008022; GO:0019904; GO:0047485; GO:0034766; GO:0045892; GO:0006605; GO:0007165; GO:0007264</td><td>UniRef100_P68254</td><td>UniRef90_P27348</td><td>UniRef50_P27348</td><td>UPI00000213E8</td><td>null</td><td>10090</td><td>null</td><td>Mm.289630</td><td>9197417; 9211421; 16141072; 19468303; 15489334; 21183079; 26047703</td><td>U57312; U56243; D87662; AK145568; AK146371; AK150850; AK151437; AK151715; AK151864; AK159403; AK159817; AK163237; AK167397; AL929409; BC080802; BC085299; BC090838; BC106164</td><td>AAC53257.1; AAB72023.1; BAA13423.1; BAE26517.1; BAE27120.1; BAE29907.1; BAE30400.1; BAE30634.1; BAE30752.1; BAE35055.1; BAE35397.1; BAE37249.1; BAE39486.1; CAI25590.1; AAH80802.1; AAH85299.1; AAH90838.1; AAI06165.1</td><td>ENSMUSG00000076432</td><td>ENSMUST00000049531; ENSMUST00000103002</td><td>ENSMUSP00000106602; ENSMUSP00000100067</td><td>10441394; 10725249; 11217851; 12446771; 12520002; 12944463; 14610273; 15339983; 15930726; 16099986; 16602821; 16822840; 17145769; 18332103; 18463355; 19014373; 19521500; 19998061; 20659021; 20843830; 21390248; 22119642; 22797923; 23071090; 23177959; 24163432; 24576423; 24912162; 26645691; 8929531; 9341892; 12796778; 16615898; 16635246; 16959763; 17008717; 18163231; 18458160; 19423573; 19834914; 20086099; 20127721; 20697350; 21565611</td></tr><tr><td>P63101</td><td>1433Z_MOUSE</td><td>22631</td><td>NP_001240734.1; NP_001240735.1; NP_035870.1; XP_011243654.1</td><td>74147004; 29748002; 74189019; 1304166; 1841387; 59808984; 74219475; 359385696; 74216901; 52000885; 1526539; 74207182; 1711130; 755550334; 148676867; 359385698; 26350495; 6756041; 74187552</td><td>null</td><td>GO:0030659; GO:0005829; GO:0042470; GO:0005739; GO:0005634; GO:0045296; GO:0042802; GO:0044325; GO:0019904; GO:0019901; GO:0008134; GO:0031625; GO:0051683; GO:0090168; GO:0006605; GO:0010941</td><td>UniRef100_P63101</td><td>UniRef90_P63101</td><td>UniRef50_P61981</td><td>UPI0000004169</td><td>JC5384</td><td>10090</td><td>null</td><td>Mm.3360</td><td>8645260; 9197417; 9016762; 16141072; 15489334; 9705322; 10455159; 12176995; 15345747; 21183079; 20478393; 21478148; 22701344; 26047703</td><td>D78647; D87660; U79231; D83037; AK083368; AK145657; AK146800; AK150381; AK151900; AK162099; AK167128; BC050891; BC089334</td><td>BAA11464.1; BAA13421.1; AAC53254.1; BAA11751.1; BAC38887.1; BAE26570.1; BAE27442.1; BAE29512.1; BAE30783.1; BAE36724.1; BAE39275.1; AAH50891.1; AAH89334.1</td><td>ENSMUSG00000022285</td><td>ENSMUST00000022894; ENSMUST00000110361; ENSMUST00000110362</td><td>ENSMUSP00000022894; ENSMUSP00000105990; ENSMUSP00000105991</td><td>12801936; 12861023; 12865427; 16822840; 19218246; 19289463; 19531356; 20007511; 20082218; 20679397; 20679398; 20976158; 21322651; 22583519; 22884776; 23355742; 23359526; 23523922; 23754751; 24301645; 24812321; 25645340; 26207352; 26363783; 26645691; 27001213; 27167773; 27401462; 28494163; 29101850; 10441394; 10725249; 11124266; 11180952; 11217851; 12446771; 12466851; 12904583; 14595844; 14610273; 14651853; 15615787; 15979417; 16602821; 16959763; 17008314; 17911046; 18059471; 18198340; 18332103; 18466333; 18495661; 18799693; 19014373; 19451227; 20129940; 20534673; 21262862; 21267068; 21390248; 21621563; 22124272; 22967998; 23071090; 23169590; 23177959; 24788519; 25186760; 26216548; 26220403; 26702834; 27670677; 27864010; 7675443; 8858346; 11533041; 11917136; 12796778; 15102471; 15923056; 16512683; 16615898; 16635246; 17032734; 17166838; 17605760; 18439900; 18614564; 19423573; 19562802; 19834914; 20564261; 20697350; 21565611; 24390569; 9115393; 9299557; 9524113; 9858547; 20813501</td></tr><tr><td>A2AIG8</td><td>1A1L1_MOUSE</td><td>329470</td><td>NP_001277711.1; NP_899043.1; XP_006499823.1; XP_006499824.1; XP_006499826.1; XP_006499827.1; XP_006499828.1; XP_006499829.1</td><td>568917534; 24658761; 568917536; 167017114; 568917526; 568917530; 568917524; 595763487; 568917532; 34850059</td><td>null</td><td>GO:0003824; GO:0042802; GO:0030170; GO:0009058</td><td>UniRef100_A2AIG8</td><td>UniRef90_A2AIG8</td><td>UniRef50_A2AIG8</td><td>UPI0000D7787F</td><td>null</td><td>10090</td><td>null</td><td>Mm.486910</td><td>19468303; 15489334</td><td>AL732472; BC039569</td><td>-; AAH39569.1</td><td>ENSMUSG00000040272</td><td>ENSMUST00000041593; ENSMUST00000068513; ENSMUST00000111246</td><td>ENSMUSP00000036268; ENSMUSP00000065389; ENSMUSP00000106877</td><td>11217851; 12466851; 14610273</td></tr><tr><td>Q3UX83</td><td>1A1L2_MOUSE</td><td>381411</td><td>NP_001028624.2; XP_011237948.1</td><td>148695687; 74189285; 74208590; 755500071; 123785362; 110625627</td><td>null</td><td>GO:0003824; GO:0030170; GO:0009058</td><td>UniRef100_Q3UX83</td><td>UniRef90_Q3UX83</td><td>UniRef50_Q3UX83</td><td>UPI00005ABBF4</td><td>null</td><td>10090</td><td>null</td><td>Mm.9889</td><td>16141072; 19468303</td><td>AK135828; AK163963; AL732472</td><td>BAE22680.1; BAE37555.1; CAM23889.1</td><td>ENSMUSG00000075023</td><td>ENSMUST00000099690</td><td>ENSMUSP00000097281</td><td>10512203; 14610273; 15840001</td></tr><tr><td>Q6PD03</td><td>2A5A_MOUSE</td><td>226849</td><td>NP_659129.2</td><td>37748153; 68565039; 18606205; 47059051</td><td>null</td><td>GO:0005813; GO:0000775; GO:0005737; GO:0005829; GO:0031430; GO:0016020; GO:0005634; GO:0000159; GO:0030018; GO:0019900; GO:0004721; GO:0019888; GO:0090219; GO:1903077; GO:0035307; GO:0006470; GO:0007165</td><td>UniRef100_Q6PD03</td><td>UniRef90_Q15172</td><td>UniRef50_Q15172</td><td>UPI00001D9487</td><td>null</td><td>10090</td><td>null</td><td>Mm.205569</td><td>15489334; 15095873; 21183079</td><td>BC023062; BC059026; BK000647</td><td>AAH23062.1; AAH59026.1; DAA01426.1</td><td>ENSMUSG00000026626</td><td>ENSMUST00000067976</td><td>ENSMUSP00000070726</td><td>14610273; 15226823; 16141072; 17416611; 17967808; 18782775; 21878643; 25320082; 26198358; 16615898; 22370726</td></tr></table>"
      ]
     },
     "execution_count": 87,
     "metadata": {},
     "output_type": "execute_result"
    }
   ],
   "source": [
    "%%dataframe mouse_mapping"
   ]
  },
  {
   "cell_type": "markdown",
   "metadata": {},
   "source": [
    "Validational data\n",
    "========="
   ]
  },
  {
   "cell_type": "code",
   "execution_count": 24,
   "metadata": {},
   "outputs": [
    {
     "data": {
      "text/plain": [
       "validationPath = expressions/validation\n",
       "mouseValidationPath = expressions/validation/mouse\n",
       "jenageValidationPath = expressions/validation/mouse/GSE75192\n",
       "mouseColsValidationPath = expressions/validation/mouse/GSE75192/expressions_columns_GSE75192.tsv\n",
       "mouseRowsValidationPath = expressions/validation/mouse/GSE75192/expressions_rows_GSE75192.tsv\n"
      ]
     },
     "metadata": {},
     "output_type": "display_data"
    },
    {
     "data": {
      "text/plain": [
       "expressions/validation/mouse/GSE75192/expressions_rows_GSE75192.tsv"
      ]
     },
     "execution_count": 24,
     "metadata": {},
     "output_type": "execute_result"
    }
   ],
   "source": [
    "val validationPath = expressionsPath + \"/\" + \"validation\"\n",
    "val mouseValidationPath = validationPath + \"/\" + \"mouse\"\n",
    "val jenageValidationPath = mouseValidationPath + \"/\" + \"GSE75192\"\n",
    "val mouseColsValidationPath = jenageValidationPath + \"/\" + \"expressions_columns_GSE75192.tsv\"\n",
    "val mouseRowsValidationPath = jenageValidationPath + \"/\" + \"expressions_rows_GSE75192.tsv\"\n"
   ]
  },
  {
   "cell_type": "code",
   "execution_count": 30,
   "metadata": {},
   "outputs": [
    {
     "data": {
      "text/plain": [
       "Name: java.lang.OutOfMemoryError\n",
       "Message: Java heap space\n",
       "StackTrace:   at java.util.Arrays.copyOf(Arrays.java:3332)\n",
       "  at java.lang.AbstractStringBuilder.ensureCapacityInternal(AbstractStringBuilder.java:124)\n",
       "  at java.lang.AbstractStringBuilder.append(AbstractStringBuilder.java:448)\n",
       "  at java.lang.StringBuilder.append(StringBuilder.java:136)\n",
       "  at scala.collection.mutable.StringBuilder.append(StringBuilder.scala:200)\n",
       "  at scala.collection.TraversableOnce$$anonfun$addString$1.apply(TraversableOnce.scala:364)\n",
       "  at scala.collection.immutable.List.foreach(List.scala:381)\n",
       "  at scala.collection.TraversableOnce$class.addString(TraversableOnce.scala:357)\n",
       "  at scala.collection.AbstractTraversable.addString(Traversable.scala:104)\n",
       "  at scala.collection.TraversableOnce$class.mkString(TraversableOnce.scala:323)\n",
       "  at scala.collection.AbstractTraversable.mkString(Traversable.scala:104)\n",
       "  at scala.collection.TraversableOnce$class.mkString(TraversableOnce.scala:325)\n",
       "  at scala.collection.AbstractTraversable.mkString(Traversable.scala:104)\n",
       "  at org.apache.spark.sql.catalyst.encoders.ExpressionEncoder.<init>(ExpressionEncoder.scala:329)\n",
       "  at org.apache.spark.sql.catalyst.encoders.RowEncoder$.apply(RowEncoder.scala:63)\n",
       "  at org.apache.spark.sql.Dataset$.ofRows(Dataset.scala:75)\n",
       "  at org.apache.spark.sql.SparkSession.baseRelationToDataFrame(SparkSession.scala:428)\n",
       "  at org.apache.spark.sql.DataFrameReader.loadV1Source(DataFrameReader.scala:233)\n",
       "  at org.apache.spark.sql.DataFrameReader.load(DataFrameReader.scala:227)\n",
       "  at org.apache.spark.sql.DataFrameReader.csv(DataFrameReader.scala:594)\n",
       "  at org.apache.spark.sql.DataFrameReader.csv(DataFrameReader.scala:473)\n",
       "  at readTSV(<console>:98)"
      ]
     },
     "execution_count": 30,
     "metadata": {},
     "output_type": "execute_result"
    }
   ],
   "source": [
    "val mouseRows = readTSV(az(mouseRowsValidationPath), true)"
   ]
  },
  {
   "cell_type": "code",
   "execution_count": 48,
   "metadata": {},
   "outputs": [
    {
     "data": {
      "text/plain": [
       "An error occurred converting DataFrame to html.\n",
       "lastException: Throwable = null\n",
       "<console>:138: error: not found: value mouseRows\n",
       "       mouseRows\n",
       "       ^\n"
      ]
     },
     "execution_count": 48,
     "metadata": {},
     "output_type": "execute_result"
    }
   ],
   "source": [
    "%%dataframe mouseRows"
   ]
  },
  {
   "cell_type": "code",
   "execution_count": 28,
   "metadata": {},
   "outputs": [
    {
     "data": {
      "text/plain": [
       "mouseCols = [transcripts\\samples: string, GSM1944768: double ... 62 more fields]\n"
      ]
     },
     "metadata": {},
     "output_type": "display_data"
    },
    {
     "data": {
      "text/plain": [
       "[transcripts\\samples: string, GSM1944768: double ... 62 more fields]"
      ]
     },
     "execution_count": 28,
     "metadata": {},
     "output_type": "execute_result"
    }
   ],
   "source": [
    "val mouseCols = readTSV(az(mouseColsValidationPath), true)"
   ]
  },
  {
   "cell_type": "code",
   "execution_count": 32,
   "metadata": {},
   "outputs": [
    {
     "data": {
      "text/html": [
       "<table><tr><th>transcripts\\samples</th><th>GSM1944768</th><th>GSM1944769</th><th>GSM1944770</th><th>GSM1944771</th><th>GSM1944772</th><th>GSM1944773</th><th>GSM1944774</th><th>GSM1944775</th><th>GSM1944776</th><th>GSM1944777</th><th>GSM1944778</th><th>GSM1944779</th><th>GSM1944780</th><th>GSM1944781</th><th>GSM1944782</th><th>GSM1944783</th><th>GSM1944784</th><th>GSM1944785</th><th>GSM1944786</th><th>GSM1944787</th><th>GSM1944788</th><th>GSM1944789</th><th>GSM1944790</th><th>GSM1944791</th><th>GSM1944792</th><th>GSM1944793</th><th>GSM1944794</th><th>GSM1944795</th><th>GSM1944796</th><th>GSM1944797</th><th>GSM1944798</th><th>GSM1944799</th><th>GSM1944800</th><th>GSM1944801</th><th>GSM1944802</th><th>GSM1944803</th><th>GSM1944804</th><th>GSM1944805</th><th>GSM1944806</th><th>GSM1944807</th><th>GSM1944808</th><th>GSM1944809</th><th>GSM1944810</th><th>GSM1944811</th><th>GSM1944812</th><th>GSM1944813</th><th>GSM1944814</th><th>GSM1944815</th><th>GSM1944816</th><th>GSM1944817</th><th>GSM1944818</th><th>GSM1944819</th><th>GSM1944820</th><th>GSM1944821</th><th>GSM1944822</th><th>GSM1944823</th><th>GSM1944824</th><th>GSM1944825</th><th>GSM1944826</th><th>GSM1944827</th><th>GSM1944828</th><th>GSM1944829</th><th>GSM1944830</th></tr><tr><td>ENSMUST00000193812.1|ENSMUSG00000102693.1|OTTMUSG00000049935.1|OTTMUST00000127109.1|RP23-271O17.1-001|RP23-271O17.1|1070|TEC|</td><td>0.0</td><td>0.0</td><td>0.0</td><td>0.0</td><td>0.0</td><td>0.0</td><td>0.0</td><td>0.0</td><td>0.0</td><td>0.0</td><td>0.0</td><td>0.0</td><td>0.0</td><td>0.0</td><td>0.0</td><td>0.0</td><td>0.0</td><td>0.0</td><td>0.0</td><td>0.0</td><td>0.0</td><td>0.0</td><td>0.0</td><td>0.0</td><td>0.0</td><td>0.024182</td><td>0.020793</td><td>0.016223</td><td>0.04766</td><td>0.020777</td><td>0.0</td><td>0.0</td><td>0.0</td><td>0.0</td><td>0.012129</td><td>0.0</td><td>0.0</td><td>0.0</td><td>0.0</td><td>0.020563</td><td>0.0</td><td>0.0</td><td>0.0</td><td>0.0</td><td>0.0</td><td>0.0</td><td>0.0</td><td>0.0</td><td>0.0</td><td>0.0</td><td>0.0</td><td>0.036685</td><td>0.018082</td><td>0.0</td><td>0.033083</td><td>0.0</td><td>0.0</td><td>0.028305</td><td>0.0</td><td>0.0</td><td>0.044858</td><td>0.0</td><td>0.025776</td></tr><tr><td>ENSMUST00000082908.1|ENSMUSG00000064842.1|-|-|Gm26206-201|Gm26206|110|snRNA|</td><td>0.0</td><td>0.0</td><td>0.0</td><td>0.0</td><td>0.0</td><td>0.0</td><td>0.0</td><td>0.0</td><td>0.0</td><td>0.0</td><td>0.0</td><td>0.0</td><td>0.0</td><td>0.0</td><td>0.0</td><td>0.0</td><td>0.0</td><td>0.0</td><td>0.0</td><td>0.0</td><td>0.0</td><td>0.0</td><td>0.0</td><td>0.0</td><td>0.0</td><td>0.0</td><td>0.0</td><td>0.0</td><td>0.0</td><td>0.0</td><td>0.0</td><td>0.0</td><td>0.0</td><td>0.0</td><td>0.0</td><td>0.0</td><td>0.0</td><td>0.0</td><td>0.0</td><td>0.0</td><td>0.0</td><td>0.0</td><td>0.0</td><td>0.0</td><td>0.0</td><td>0.0</td><td>0.0</td><td>0.0</td><td>0.0</td><td>0.0</td><td>0.0</td><td>0.0</td><td>0.0</td><td>0.0</td><td>0.0</td><td>0.0</td><td>0.0</td><td>0.0</td><td>0.0</td><td>0.0</td><td>0.0</td><td>0.0</td><td>0.0</td></tr><tr><td>ENSMUST00000162897.1|ENSMUSG00000051951.5|OTTMUSG00000026353.2|OTTMUST00000086625.1|AC157543.1-003|Xkr4|4153|processed_transcript|</td><td>0.0</td><td>0.0</td><td>0.0</td><td>0.0</td><td>0.0</td><td>0.0</td><td>0.0</td><td>0.0</td><td>0.0</td><td>0.0</td><td>0.0</td><td>0.0</td><td>0.0</td><td>0.0</td><td>0.0</td><td>0.0</td><td>0.0</td><td>0.0</td><td>0.0</td><td>0.0</td><td>0.0</td><td>0.0</td><td>0.0</td><td>0.0</td><td>2.845847</td><td>3.929305</td><td>3.280159</td><td>1.721415</td><td>2.849152</td><td>3.914385</td><td>1.89188</td><td>3.050555</td><td>1.194886</td><td>3.317348</td><td>1.350467</td><td>3.52716</td><td>2.531776</td><td>3.370729</td><td>1.981201</td><td>2.595443</td><td>2.267062</td><td>2.632438</td><td>3.331712</td><td>3.65756</td><td>2.411469</td><td>3.501615</td><td>1.989149</td><td>3.019143</td><td>3.503243</td><td>2.980232</td><td>3.297474</td><td>2.425381</td><td>2.472874</td><td>2.920016</td><td>2.310033</td><td>2.314357</td><td>2.613919</td><td>1.601334</td><td>2.743659</td><td>3.481774</td><td>3.06037</td><td>1.239043</td><td>1.907532</td></tr><tr><td>ENSMUST00000159265.1|ENSMUSG00000051951.5|OTTMUSG00000026353.2|OTTMUST00000086624.1|AC157543.1-002|Xkr4|2989|processed_transcript|</td><td>0.0</td><td>0.0</td><td>0.0</td><td>0.0</td><td>0.0</td><td>0.0</td><td>0.0</td><td>0.0</td><td>0.0</td><td>0.0</td><td>0.0</td><td>0.0</td><td>0.0</td><td>0.0</td><td>0.0</td><td>0.0</td><td>0.0</td><td>0.0</td><td>0.0</td><td>0.0</td><td>0.0</td><td>0.0</td><td>0.0</td><td>0.0</td><td>2.17336</td><td>3.139969</td><td>3.210255</td><td>1.736156</td><td>2.076496</td><td>2.509397</td><td>1.376288</td><td>2.719016</td><td>1.028211</td><td>2.835558</td><td>1.046355</td><td>2.888735</td><td>1.800355</td><td>2.632922</td><td>1.491177</td><td>2.038503</td><td>1.650463</td><td>2.307781</td><td>2.699214</td><td>2.13219</td><td>1.898486</td><td>2.44241</td><td>1.715781</td><td>2.43412</td><td>2.697341</td><td>2.632112</td><td>2.703276</td><td>1.916514</td><td>1.874155</td><td>2.469174</td><td>1.697529</td><td>1.879833</td><td>2.243523</td><td>1.540279</td><td>2.356135</td><td>2.51088</td><td>2.536061</td><td>0.882864</td><td>1.558731</td></tr><tr><td>ENSMUST00000070533.4|ENSMUSG00000051951.5|OTTMUSG00000026353.2|OTTMUST00000065166.1|AC157543.1-001|Xkr4|3634|protein_coding|</td><td>0.0</td><td>0.0</td><td>0.0</td><td>0.0</td><td>0.0</td><td>0.0</td><td>0.0</td><td>0.0</td><td>0.0</td><td>0.0</td><td>0.0</td><td>0.0</td><td>0.0</td><td>0.0</td><td>0.0</td><td>0.0</td><td>0.0</td><td>0.0</td><td>0.0</td><td>0.0</td><td>0.0</td><td>0.0</td><td>0.0</td><td>0.0</td><td>2.295981</td><td>3.137039</td><td>3.119776</td><td>2.456489</td><td>2.184665</td><td>3.310844</td><td>1.521686</td><td>3.3146</td><td>1.426211</td><td>3.055218</td><td>1.190453</td><td>2.82577</td><td>2.126554</td><td>3.034597</td><td>1.687767</td><td>2.623207</td><td>1.834155</td><td>2.276686</td><td>2.652952</td><td>2.755665</td><td>2.280889</td><td>3.132647</td><td>1.598027</td><td>2.482539</td><td>2.908216</td><td>2.667507</td><td>3.47796</td><td>2.148933</td><td>2.6256</td><td>3.088543</td><td>2.083587</td><td>2.102174</td><td>2.530062</td><td>1.64131</td><td>2.946637</td><td>3.087038</td><td>2.482002</td><td>1.119524</td><td>1.773834</td></tr><tr><td>ENSMUST00000192857.1|ENSMUSG00000102851.1|OTTMUSG00000049958.1|OTTMUST00000127143.1|RP23-317L18.1-001|RP23-317L18.1|480|processed_pseudogene|</td><td>0.0</td><td>0.0</td><td>0.0</td><td>0.0</td><td>0.0</td><td>0.0</td><td>0.0</td><td>0.0</td><td>0.0</td><td>0.0</td><td>0.0</td><td>0.0</td><td>0.0</td><td>0.0</td><td>0.0</td><td>0.0</td><td>0.0</td><td>0.0</td><td>0.0</td><td>0.0</td><td>0.0</td><td>0.0</td><td>0.0</td><td>0.0</td><td>0.0</td><td>0.0</td><td>0.0</td><td>0.11532</td><td>0.0</td><td>0.0</td><td>0.0</td><td>0.0</td><td>0.0</td><td>0.0</td><td>0.0</td><td>0.0</td><td>0.0</td><td>0.0</td><td>0.0</td><td>0.0</td><td>0.0</td><td>0.0</td><td>0.0</td><td>0.0</td><td>0.055959</td><td>0.0</td><td>0.106961</td><td>0.0</td><td>0.0</td><td>0.0</td><td>0.0</td><td>0.0</td><td>0.0</td><td>0.0</td><td>0.0</td><td>0.058736</td><td>0.0</td><td>0.0</td><td>0.0</td><td>0.0</td><td>0.0</td><td>0.0</td><td>0.0</td></tr><tr><td>ENSMUST00000195335.1|ENSMUSG00000103377.1|OTTMUSG00000049960.1|OTTMUST00000127145.1|RP23-317L18.4-001|RP23-317L18.4|2819|TEC|</td><td>0.0</td><td>0.0</td><td>0.0</td><td>0.0</td><td>0.0</td><td>0.0</td><td>0.0</td><td>0.0</td><td>0.0</td><td>0.0</td><td>0.0</td><td>0.0</td><td>0.0</td><td>0.0</td><td>0.0</td><td>0.0</td><td>0.0</td><td>0.0</td><td>0.0</td><td>0.0</td><td>0.0</td><td>0.0</td><td>0.0</td><td>0.0</td><td>0.021717</td><td>0.006544</td><td>0.006643</td><td>0.0</td><td>0.005075</td><td>0.013274</td><td>0.007396</td><td>0.011441</td><td>0.005954</td><td>0.020022</td><td>0.015499</td><td>0.00525</td><td>0.01363</td><td>0.012002</td><td>0.01096</td><td>0.006569</td><td>0.0</td><td>0.009893</td><td>0.0</td><td>0.0</td><td>0.01006</td><td>0.019521</td><td>0.004807</td><td>0.016893</td><td>0.004946</td><td>0.0</td><td>0.015417</td><td>0.021476</td><td>0.005316</td><td>0.006562</td><td>0.009639</td><td>0.005279</td><td>0.01055</td><td>0.008578</td><td>0.010765</td><td>0.012462</td><td>0.013311</td><td>0.017313</td><td>0.0</td></tr><tr><td>ENSMUST00000192336.1|ENSMUSG00000104017.1|OTTMUSG00000049961.1|OTTMUST00000127146.1|RP23-317L18.3-001|RP23-317L18.3|2233|TEC|</td><td>0.0</td><td>0.0</td><td>0.0</td><td>0.0</td><td>0.0</td><td>0.0</td><td>0.003791</td><td>0.0</td><td>0.0</td><td>0.0</td><td>0.0</td><td>0.0</td><td>0.0</td><td>0.0</td><td>0.0</td><td>0.0</td><td>0.0</td><td>0.0</td><td>0.0</td><td>0.0</td><td>0.0</td><td>0.0</td><td>0.0</td><td>0.0</td><td>0.007033</td><td>0.025431</td><td>0.008604</td><td>0.02014</td><td>0.019722</td><td>0.017195</td><td>0.01916</td><td>0.01482</td><td>0.003856</td><td>0.0</td><td>0.005019</td><td>0.020403</td><td>0.008828</td><td>0.007774</td><td>0.007098</td><td>0.0</td><td>0.006887</td><td>0.0</td><td>0.007468</td><td>0.023573</td><td>0.006515</td><td>0.012643</td><td>0.012454</td><td>0.014588</td><td>0.019219</td><td>0.0</td><td>0.0</td><td>0.020864</td><td>0.0</td><td>0.008501</td><td>0.0</td><td>0.0</td><td>0.013666</td><td>0.011112</td><td>0.013945</td><td>0.008071</td><td>0.043105</td><td>0.01682</td><td>0.0</td></tr><tr><td>ENSMUST00000194099.1|ENSMUSG00000103025.1|OTTMUSG00000049930.1|OTTMUST00000127101.1|RP23-115I1.6-001|RP23-115I1.6|2309|TEC|</td><td>0.0</td><td>0.0</td><td>0.0</td><td>0.0</td><td>0.0</td><td>0.0</td><td>0.0</td><td>0.0</td><td>0.0</td><td>0.0</td><td>0.0</td><td>0.0</td><td>0.0</td><td>0.0</td><td>0.0</td><td>0.0</td><td>0.0</td><td>0.0</td><td>0.0</td><td>0.0</td><td>0.0</td><td>0.0</td><td>0.0</td><td>0.0</td><td>0.013547</td><td>0.0</td><td>0.0</td><td>0.006466</td><td>0.006332</td><td>0.0</td><td>0.009227</td><td>0.0</td><td>0.007428</td><td>0.0</td><td>0.0</td><td>0.00655</td><td>0.0</td><td>0.014974</td><td>0.006836</td><td>0.016391</td><td>0.0</td><td>0.006171</td><td>0.014386</td><td>0.0</td><td>0.0</td><td>0.006088</td><td>0.0</td><td>0.0</td><td>0.006233</td><td>0.0079</td><td>0.019233</td><td>0.0</td><td>0.0</td><td>0.008187</td><td>0.006013</td><td>0.026346</td><td>0.006581</td><td>0.005351</td><td>0.0</td><td>0.007774</td><td>0.033212</td><td>0.0108</td><td>0.009415</td></tr><tr><td>ENSMUST00000161581.1|ENSMUSG00000089699.1|OTTMUSG00000026352.1|OTTMUST00000065165.1|RP23-115I1.1-001|RP23-115I1.1|250|antisense|</td><td>0.0</td><td>0.0</td><td>0.0</td><td>0.0</td><td>0.0</td><td>0.0</td><td>0.0</td><td>0.0</td><td>0.0</td><td>0.0</td><td>0.0</td><td>0.0</td><td>0.0</td><td>0.0</td><td>0.0</td><td>0.0</td><td>0.0</td><td>0.0</td><td>0.0</td><td>0.0</td><td>0.0</td><td>0.0</td><td>0.0</td><td>0.0</td><td>0.0</td><td>0.0</td><td>0.0</td><td>0.0</td><td>0.0</td><td>0.0</td><td>0.0</td><td>0.0</td><td>0.0</td><td>1.662618</td><td>0.0</td><td>0.0</td><td>0.0</td><td>1.469139</td><td>0.0</td><td>0.0</td><td>0.639353</td><td>0.0</td><td>0.0</td><td>0.0</td><td>0.0</td><td>0.0</td><td>0.0</td><td>0.0</td><td>0.609805</td><td>0.0</td><td>0.0</td><td>0.0</td><td>0.0</td><td>0.0</td><td>0.0</td><td>0.0</td><td>0.649445</td><td>0.0</td><td>0.0</td><td>0.0</td><td>0.0</td><td>1.078272</td><td>0.921195</td></tr></table>"
      ]
     },
     "execution_count": 32,
     "metadata": {},
     "output_type": "execute_result"
    }
   ],
   "source": [
    "%%dataframe mouseCols"
   ]
  },
  {
   "cell_type": "code",
   "execution_count": 29,
   "metadata": {},
   "outputs": [
    {
     "data": {
      "text/plain": [
       "133618"
      ]
     },
     "execution_count": 29,
     "metadata": {},
     "output_type": "execute_result"
    }
   ],
   "source": [
    "mouseCols.count"
   ]
  },
  {
   "cell_type": "code",
   "execution_count": 40,
   "metadata": {},
   "outputs": [
    {
     "data": {
      "text/plain": [
       "span: (from: String, to: String, prefix: String)scala.collection.immutable.IndexedSeq[String]\n"
      ]
     },
     "metadata": {},
     "output_type": "display_data"
    }
   ],
   "source": [
    "def span(from: String, to: String, prefix: String) = {\n",
    "    val f = from.replace(prefix, \"\").toLong\n",
    "    val t = to.replace(prefix, \"\").toLong\n",
    "    for(v <- f to t) yield prefix + v\n",
    "}"
   ]
  },
  {
   "cell_type": "code",
   "execution_count": 55,
   "metadata": {},
   "outputs": [
    {
     "data": {
      "text/plain": [
       "renamings = Map(GSM1944837 -> liver_GSM1944837, GSM1944781 -> blood_GSM1944781, GSM1944842 -> liver_GSM1944842, GSM1944858 -> skin_GSM1944858, GSM1944770 -> blood_GSM1944770, GSM1944791 -> blood_GSM1944791, GSM1944832 -> liver_GSM1944832, GSM1944861 -> skin_GSM1944861, GSM1944785 -> blood_GSM1944785, GSM1944853 -> liver_GSM1944853, GSM1944794 -> brain_GSM1944794, GSM1944864 -> skin_GSM1944864, GSM1944809 -> brain_GSM1944809, GSM1944774 -> blood_GSM1944774, GSM1944871 -> skin_GSM1944871, GSM1944847 -> liver_GSM1944847, GSM1944805 -> brain_GSM1944805, GSM1944816 -> brain_GSM1944816, GSM1944798 -> brain_GSM1944798, GSM1944808 -> brain_GSM1944808, GSM1944778 -> blood_GSM1944778, GSM1944860 -> skin_GSM1944860, GSM1944786 -> blood_GSM1944786, GSM...\n"
      ]
     },
     "metadata": {},
     "output_type": "display_data"
    },
    {
     "data": {
      "text/plain": [
       "Map(GSM1944837 -> liver_GSM1944837, GSM1944781 -> blood_GSM1944781, GSM1944842 -> liver_GSM1944842, GSM1944858 -> skin_GSM1944858, GSM1944770 -> blood_GSM1944770, GSM1944791 -> blood_GSM1944791, GSM1944832 -> liver_GSM1944832, GSM1944861 -> skin_GSM1944861, GSM1944785 -> blood_GSM1944785, GSM1944853 -> liver_GSM1944853, GSM1944794 -> brain_GSM1944794, GSM1944864 -> skin_GSM1944864, GSM1944809 -> brain_GSM1944809, GSM1944774 -> blood_GSM1944774, GSM1944871 -> skin_GSM1944871, GSM1944847 -> liver_GSM1944847, GSM1944805 -> brain_GSM1944805, GSM1944816 -> brain_GSM1944816, GSM1944798 -> brain_GSM1944798, GSM1944808 -> brain_GSM1944808, GSM1944778 -> blood_GSM1944778, GSM1944860 -> skin_GSM1944860, GSM1944786 -> blood_GSM1944786, GSM1944797 -> brain_GSM1944797, GSM1944789 -> blood_GSM1944789, GSM1944875 -> skin_GSM1944875, GSM1944869 -> skin_GSM1944869, GSM1944820 -> brain_GSM1944820, GSM1944827 -> brain_GSM1944827, GSM1944819 -> brain_GSM1944819, GSM1944769 -> blood_GSM1944769, GSM1944848 -> liver_GSM1944848, GSM1944790 -> blood_GSM1944790, GSM1944810 -> brain_GSM1944810, GSM1944838 -> liver_GSM1944838, GSM1944845 -> liver_GSM1944845, GSM1944856 -> skin_GSM1944856, GSM1944771 -> blood_GSM1944771, GSM2795211 -> brain_GSM2795211, GSM1944782 -> blood_GSM1944782, GSM1944867 -> skin_GSM1944867, GSM1944859 -> skin_GSM1944859, GSM1944795 -> brain_GSM1944795, GSM2795212 -> liver_GSM2795212, GSM1944818 -> brain_GSM1944818, GSM1944804 -> brain_GSM1944804, GSM1944878 -> skin_GSM1944878, GSM1944815 -> brain_GSM1944815, GSM1944799 -> brain_GSM1944799, GSM2795210 -> blood_GSM2795210, GSM1944826 -> brain_GSM1944826, GSM1944852 -> liver_GSM1944852, GSM1944821 -> brain_GSM1944821, GSM1944831 -> liver_GSM1944831, GSM1944807 -> brain_GSM1944807, GSM1944835 -> liver_GSM1944835, GSM1944863 -> skin_GSM1944863, GSM1944855 -> skin_GSM1944855, GSM1944844 -> liver_GSM1944844, GSM1944841 -> liver_GSM1944841, GSM1944829 -> brain_GSM1944829, GSM1944834 -> liver_GSM1944834, GSM1944777 -> blood_GSM1944777, GSM1944811 -> brain_GSM1944811, GSM1944866 -> skin_GSM1944866, GSM1944788 -> blood_GSM1944788, GSM1944840 -> liver_GSM1944840, GSM1944877 -> skin_GSM1944877, GSM1944822 -> brain_GSM1944822, GSM1944825 -> brain_GSM1944825, GSM1944817 -> brain_GSM1944817, GSM1944830 -> brain_GSM1944830, GSM1944773 -> blood_GSM1944773, GSM1944776 -> blood_GSM1944776, GSM1944784 -> blood_GSM1944784, GSM1944803 -> brain_GSM1944803, GSM1944814 -> brain_GSM1944814, GSM1944793 -> brain_GSM1944793, GSM1944849 -> liver_GSM1944849, GSM1944851 -> liver_GSM1944851, GSM1944874 -> skin_GSM1944874, GSM1944806 -> brain_GSM1944806, GSM1944800 -> brain_GSM1944800, GSM1944865 -> skin_GSM1944865, GSM1944870 -> skin_GSM1944870, GSM1944857 -> skin_GSM1944857, GSM1944868 -> skin_GSM1944868, GSM1944843 -> liver_GSM1944843, GSM1944862 -> skin_GSM1944862, GSM1944833 -> liver_GSM1944833, GSM1944872 -> skin_GSM1944872, GSM1944775 -> blood_GSM1944775, GSM1944828 -> brain_GSM1944828, GSM1944787 -> blood_GSM1944787, GSM1944846 -> liver_GSM1944846, GSM1944836 -> liver_GSM1944836, GSM1944839 -> liver_GSM1944839, GSM1944854 -> liver_GSM1944854, GSM1944779 -> blood_GSM1944779, GSM1944772 -> blood_GSM1944772, GSM1944802 -> brain_GSM1944802, GSM1944876 -> skin_GSM1944876, GSM1944824 -> brain_GSM1944824, GSM1944783 -> blood_GSM1944783, GSM1944796 -> brain_GSM1944796, GSM1944812 -> brain_GSM1944812, GSM1944850 -> liver_GSM1944850, GSM1944823 -> brain_GSM1944823, GSM1944801 -> brain_GSM1944801, GSM1944813 -> brain_GSM1944813, GSM1944768 -> blood_GSM1944768, GSM1944873 -> skin_GSM1944873, GSM1944879 -> skin_GSM1944879, GSM1944792 -> brain_GSM1944792, GSM1944780 -> blood_GSM1944780)"
      ]
     },
     "execution_count": 55,
     "metadata": {},
     "output_type": "execute_result"
    }
   ],
   "source": [
    "val renamings = (span(\"GSM1944768\", \"GSM1944791\", \"GSM\").map(v=>v->s\"blood_${v}\") ++\n",
    "span(\"GSM1944792\",  \"GSM1944830\", \"GSM\").map(v=>v->s\"brain_${v}\") ++\n",
    "span(\"GSM1944831\", \"GSM1944854\", \"GSM\").map(v=>v->s\"liver_${v}\") ++\n",
    "span(\"GSM1944855\", \"GSM1944879\", \"GSM\").map(v=>v->s\"skin_${v}\") ++ Seq(\n",
    "\"GSM2795210\" -> \"blood_GSM2795210\", \"GSM2795211\" -> \"brain_GSM2795211\", \"GSM2795212\"-> \"liver_GSM2795212\"\n",
    ")).toMap"
   ]
  },
  {
   "cell_type": "code",
   "execution_count": 62,
   "metadata": {},
   "outputs": [
    {
     "data": {
      "text/plain": [
       "rename: (dataFrame: org.apache.spark.sql.DataFrame, renamings: Map[String,String])org.apache.spark.sql.DataFrame\n",
       "renameFunction: (renamings: Map[String,String])org.apache.spark.sql.expressions.UserDefinedFunction\n"
      ]
     },
     "metadata": {},
     "output_type": "display_data"
    }
   ],
   "source": [
    "def rename(dataFrame: DataFrame, renamings: Map[String, String]) =   {\n",
    "      val newColumns = dataFrame.columns.map(c=> renamings.getOrElse(c, c))\n",
    "      dataFrame.toDF(newColumns:_*)\n",
    "    }\n",
    "def renameFunction(renamings: Map[String, String]) = udf[String, String](c=> renamings.getOrElse(c, c))"
   ]
  },
  {
   "cell_type": "code",
   "execution_count": 149,
   "metadata": {},
   "outputs": [
    {
     "data": {
      "text/plain": [
       "mouseCorPearsonComponents = [feature: string, GSM1944768: double ... 62 more fields]\n",
       "mouseCorSpearmanComponents = [feature: string, GSM1944768: double ... 62 more fields]\n"
      ]
     },
     "metadata": {},
     "output_type": "display_data"
    },
    {
     "data": {
      "text/plain": [
       "[feature: string, GSM1944768: double ... 62 more fields]"
      ]
     },
     "execution_count": 149,
     "metadata": {},
     "output_type": "execute_result"
    }
   ],
   "source": [
    "val mouseCorPearsonComponents = pearsonCorrellation(mouseCols, mouseCols.columns.tail)(spark)\n",
    "val mouseCorSpearmanComponents = spearmanCorrellation(mouseCols, mouseCols.columns.tail)(spark)\n"
   ]
  },
  {
   "cell_type": "code",
   "execution_count": 151,
   "metadata": {},
   "outputs": [
    {
     "data": {
      "text/plain": [
       "mouseCorSpearmanComponents2 = [feature: string, blood_GSM1944768: double ... 62 more fields]\n",
       "mouseCorPearsonComponents2 = [feature: string, blood_GSM1944768: double ... 62 more fields]\n"
      ]
     },
     "metadata": {},
     "output_type": "display_data"
    },
    {
     "data": {
      "text/plain": [
       "[feature: string, blood_GSM1944768: double ... 62 more fields]"
      ]
     },
     "execution_count": 151,
     "metadata": {},
     "output_type": "execute_result"
    }
   ],
   "source": [
    "val mouseCorSpearmanComponents2 = rename(mouseCorSpearmanComponents, renamings)\n",
    ".withColumn(\"feature\", renameFunction(renamings)($\"feature\"))\n",
    "\n",
    "val mouseCorPearsonComponents2  = rename(mouseCorPearsonComponents, renamings)\n",
    ".withColumn(\"feature\", renameFunction(renamings)($\"feature\"))"
   ]
  },
  {
   "cell_type": "code",
   "execution_count": 67,
   "metadata": {},
   "outputs": [
    {
     "data": {
      "text/html": [
       "<table><tr><th>feature</th><th>blood_GSM1944768</th><th>blood_GSM1944769</th><th>blood_GSM1944770</th><th>blood_GSM1944771</th><th>blood_GSM1944772</th><th>blood_GSM1944773</th><th>blood_GSM1944774</th><th>blood_GSM1944775</th><th>blood_GSM1944776</th><th>blood_GSM1944777</th><th>blood_GSM1944778</th><th>blood_GSM1944779</th><th>blood_GSM1944780</th><th>blood_GSM1944781</th><th>blood_GSM1944782</th><th>blood_GSM1944783</th><th>blood_GSM1944784</th><th>blood_GSM1944785</th><th>blood_GSM1944786</th><th>blood_GSM1944787</th><th>blood_GSM1944788</th><th>blood_GSM1944789</th><th>blood_GSM1944790</th><th>blood_GSM1944791</th><th>brain_GSM1944792</th><th>brain_GSM1944793</th><th>brain_GSM1944794</th><th>brain_GSM1944795</th><th>brain_GSM1944796</th><th>brain_GSM1944797</th><th>brain_GSM1944798</th><th>brain_GSM1944799</th><th>brain_GSM1944800</th><th>brain_GSM1944801</th><th>brain_GSM1944802</th><th>brain_GSM1944803</th><th>brain_GSM1944804</th><th>brain_GSM1944805</th><th>brain_GSM1944806</th><th>brain_GSM1944807</th><th>brain_GSM1944808</th><th>brain_GSM1944809</th><th>brain_GSM1944810</th><th>brain_GSM1944811</th><th>brain_GSM1944812</th><th>brain_GSM1944813</th><th>brain_GSM1944814</th><th>brain_GSM1944815</th><th>brain_GSM1944816</th><th>brain_GSM1944817</th><th>brain_GSM1944818</th><th>brain_GSM1944819</th><th>brain_GSM1944820</th><th>brain_GSM1944821</th><th>brain_GSM1944822</th><th>brain_GSM1944823</th><th>brain_GSM1944824</th><th>brain_GSM1944825</th><th>brain_GSM1944826</th><th>brain_GSM1944827</th><th>brain_GSM1944828</th><th>brain_GSM1944829</th><th>brain_GSM1944830</th></tr><tr><td>blood_GSM1944768</td><td>1.0</td><td>0.9800146988978149</td><td>0.9980087845450593</td><td>0.9758984471327348</td><td>0.986526585240169</td><td>0.9276551607393562</td><td>0.9791040387800648</td><td>0.929036324665687</td><td>0.9449397845871823</td><td>0.9641924361531625</td><td>0.9784081617681026</td><td>0.9867468065456799</td><td>0.9623295917802204</td><td>0.9378967153445574</td><td>0.9784607518723251</td><td>0.8918602100200701</td><td>0.9715442969378143</td><td>0.9396622299097261</td><td>0.8863357660557402</td><td>0.9725706852637802</td><td>0.988507774401264</td><td>0.981665267940832</td><td>0.9214699330142266</td><td>0.9523355736075579</td><td>0.13322074282954538</td><td>0.13007749507677693</td><td>0.12430065903426131</td><td>0.11984469119837797</td><td>0.1264362620183099</td><td>0.12621668422793292</td><td>0.12327497511088473</td><td>0.1361992892498205</td><td>0.12472971847747451</td><td>0.1324864736809431</td><td>0.1163458408510198</td><td>0.1302367485132671</td><td>0.12570676293678015</td><td>0.13103332769382964</td><td>0.1257911301490447</td><td>0.13258728776059478</td><td>0.13256833166997564</td><td>0.13130508398730964</td><td>0.12924171253429742</td><td>0.12581680674504703</td><td>0.12742569028180592</td><td>0.1276917885374066</td><td>0.12074101230060709</td><td>0.13097112738176522</td><td>0.127643776228311</td><td>0.13089048286712762</td><td>0.13123073451086795</td><td>0.13096110397492675</td><td>0.1336816865493354</td><td>0.12979444187040362</td><td>0.12982095936395782</td><td>0.14167960299828475</td><td>0.13406930284499433</td><td>0.12990369921136505</td><td>0.13537989594576788</td><td>0.1326771857191741</td><td>0.13295498965883748</td><td>0.13510561974411164</td><td>0.13547950554513538</td></tr><tr><td>blood_GSM1944769</td><td>0.9800146988978149</td><td>1.0</td><td>0.9873082932238477</td><td>0.9792266818201666</td><td>0.9925400706363682</td><td>0.9463849974618574</td><td>0.9911875507224625</td><td>0.9497565957713517</td><td>0.9703954306507344</td><td>0.9711156481179406</td><td>0.9862687774484886</td><td>0.9720372928855354</td><td>0.9778495507725905</td><td>0.9720888568525774</td><td>0.9833562251738096</td><td>0.9568898326685787</td><td>0.985907173742579</td><td>0.9611640672403833</td><td>0.8954908193872523</td><td>0.9610317584428727</td><td>0.9670575334692151</td><td>0.9839672724382208</td><td>0.9720806889481292</td><td>0.9666737743402176</td><td>0.1963085781860788</td><td>0.19137432747408686</td><td>0.18347657791011307</td><td>0.17695269775875713</td><td>0.1876935374653852</td><td>0.18701853695495402</td><td>0.1854327465468714</td><td>0.20102661719679948</td><td>0.18826718924257252</td><td>0.19565359052612893</td><td>0.17625420116279628</td><td>0.1917541782192559</td><td>0.18710407174711796</td><td>0.19244873474992608</td><td>0.18786749559176869</td><td>0.19635573335767062</td><td>0.19770064884204125</td><td>0.19498489239464628</td><td>0.1909936955715739</td><td>0.18584614700192223</td><td>0.18899326164542626</td><td>0.18938690283108026</td><td>0.1817019459281103</td><td>0.19487331991207132</td><td>0.18925663537455406</td><td>0.19366792497007615</td><td>0.19237743466613597</td><td>0.19347878464221796</td><td>0.19633475079272156</td><td>0.18985153170351055</td><td>0.19303599571029462</td><td>0.20882340130223861</td><td>0.19753058367093174</td><td>0.19419377958408438</td><td>0.1993077795332422</td><td>0.19612485547553588</td><td>0.19590444128991855</td><td>0.20198449429566204</td><td>0.201137787641386</td></tr><tr><td>blood_GSM1944770</td><td>0.9980087845450593</td><td>0.9873082932238477</td><td>1.0</td><td>0.9852364109878083</td><td>0.9935249700926262</td><td>0.9419413464368868</td><td>0.9874457788767739</td><td>0.9458455142830883</td><td>0.9602972252203994</td><td>0.9754040297014612</td><td>0.9859532556152789</td><td>0.9908906342793611</td><td>0.9752277615634076</td><td>0.9547968792483008</td><td>0.9859215648390596</td><td>0.9125072649181599</td><td>0.9745870399338278</td><td>0.9545059226710972</td><td>0.9017265175435737</td><td>0.9797414165351054</td><td>0.9836228155138017</td><td>0.9825437564303823</td><td>0.9387566439649436</td><td>0.965009592717647</td><td>0.13886559701220436</td><td>0.13556035666539926</td><td>0.12978721221223807</td><td>0.12574801317905926</td><td>0.1321233793420498</td><td>0.13171277639053006</td><td>0.12906503146633302</td><td>0.1421327792477259</td><td>0.13104432583281989</td><td>0.13819553418143682</td><td>0.12204138840979711</td><td>0.13582872648223454</td><td>0.13143274442722847</td><td>0.13682330655148997</td><td>0.13133525587844525</td><td>0.13841422336690623</td><td>0.13848336768418945</td><td>0.13724367286997247</td><td>0.13493178418402427</td><td>0.13110176982690586</td><td>0.13319319290245146</td><td>0.13336105011838978</td><td>0.12598005901997208</td><td>0.1367741470854674</td><td>0.1330444457522404</td><td>0.13663218306435368</td><td>0.13700990135269012</td><td>0.13675202098450417</td><td>0.1397324352445915</td><td>0.1348687266611737</td><td>0.135586212586793</td><td>0.1483058335648527</td><td>0.13985779560558104</td><td>0.13603807777975124</td><td>0.14134292285956002</td><td>0.13847420167253924</td><td>0.13847256590862025</td><td>0.14196730562695678</td><td>0.14199007060178956</td></tr><tr><td>blood_GSM1944771</td><td>0.9758984471327348</td><td>0.9792266818201666</td><td>0.9852364109878083</td><td>1.0</td><td>0.994342305212026</td><td>0.9728417283825521</td><td>0.9884065868876614</td><td>0.9786704426996087</td><td>0.9830279750104933</td><td>0.9904206283259902</td><td>0.9907429249779676</td><td>0.9888264719064508</td><td>0.9938815093384645</td><td>0.9794854134026785</td><td>0.987751457636035</td><td>0.9327148290426117</td><td>0.9523142637410204</td><td>0.9797674984473007</td><td>0.9347597012920045</td><td>0.9916437101507742</td><td>0.9474171531151925</td><td>0.9580473974015201</td><td>0.953257231162341</td><td>0.9828175273485461</td><td>0.13905755439973555</td><td>0.13611481624718433</td><td>0.13070218889877247</td><td>0.12650852819707212</td><td>0.1321169306725235</td><td>0.13201554823966696</td><td>0.1277054297198295</td><td>0.14244556556606996</td><td>0.13003395626899378</td><td>0.1386963478098632</td><td>0.120470750167694</td><td>0.1364442272461131</td><td>0.13126654693724327</td><td>0.13762030678964138</td><td>0.13063410769214617</td><td>0.13867166609830384</td><td>0.13780572869350405</td><td>0.13767992390441278</td><td>0.1360376079105762</td><td>0.13150890356791722</td><td>0.13316033743900627</td><td>0.13372948266952026</td><td>0.12500997741206293</td><td>0.13692281008299687</td><td>0.1334190205742946</td><td>0.13708329331570102</td><td>0.13812317665765242</td><td>0.13649560130225996</td><td>0.14023537616231208</td><td>0.1359830493932196</td><td>0.13545072474048225</td><td>0.1486779783348309</td><td>0.14062879848363166</td><td>0.1351062870621003</td><td>0.14216437144029176</td><td>0.13905954170144375</td><td>0.13899728314446036</td><td>0.13982465495552637</td><td>0.1423559108820543</td></tr><tr><td>blood_GSM1944772</td><td>0.986526585240169</td><td>0.9925400706363682</td><td>0.9935249700926262</td><td>0.994342305212026</td><td>1.0</td><td>0.9653746321847454</td><td>0.9947972249675627</td><td>0.9669501861963709</td><td>0.9797129499124291</td><td>0.982204481613144</td><td>0.9927143556334457</td><td>0.9860200418565525</td><td>0.9902926267526958</td><td>0.9783820863509038</td><td>0.9896127603459485</td><td>0.9439583175012961</td><td>0.975259927583503</td><td>0.9698977040879955</td><td>0.922573366614705</td><td>0.9818624540778254</td><td>0.9659108857800995</td><td>0.9788347924222502</td><td>0.9653194497809641</td><td>0.9791425207934101</td><td>0.17055217993949412</td><td>0.16673871211131203</td><td>0.1595423625973527</td><td>0.15246650169903084</td><td>0.16177703373154134</td><td>0.16190498057422428</td><td>0.15752858080016682</td><td>0.17431060548863717</td><td>0.15907172949090842</td><td>0.16986348687254188</td><td>0.14861637263948765</td><td>0.16682817704532224</td><td>0.16090155965823408</td><td>0.1672170318585846</td><td>0.1609691132540402</td><td>0.1697032863941996</td><td>0.16963676927336813</td><td>0.16838968881448882</td><td>0.16628875585498432</td><td>0.1616316736800062</td><td>0.16305582082428416</td><td>0.16383899171965652</td><td>0.1551093874684744</td><td>0.16791497711366551</td><td>0.1643201885550337</td><td>0.16779993853874572</td><td>0.167909689660594</td><td>0.16701647853113458</td><td>0.17033550624237692</td><td>0.1655087816831511</td><td>0.1660684567885733</td><td>0.18095085557529428</td><td>0.1718265625642543</td><td>0.16588430977732505</td><td>0.1729872557901545</td><td>0.17011820923905707</td><td>0.17038717455526028</td><td>0.17094463702373291</td><td>0.17329173362833117</td></tr><tr><td>blood_GSM1944773</td><td>0.9276551607393562</td><td>0.9463849974618574</td><td>0.9419413464368868</td><td>0.9728417283825521</td><td>0.9653746321847454</td><td>1.0</td><td>0.9580737142552197</td><td>0.9592814451045446</td><td>0.9651457409109292</td><td>0.9558762462591793</td><td>0.9705045102884418</td><td>0.9460363817828781</td><td>0.9803904829880408</td><td>0.9680868024901701</td><td>0.9426621850620854</td><td>0.9408427422948469</td><td>0.9314587623534467</td><td>0.9574148680255681</td><td>0.9591680243604725</td><td>0.9583547756235903</td><td>0.9011204871470718</td><td>0.9261963679094121</td><td>0.9511597903134076</td><td>0.9547958972264172</td><td>0.21348432628390338</td><td>0.20916941284283772</td><td>0.20005924795115929</td><td>0.18801950384573785</td><td>0.20183576635148037</td><td>0.20265992377650033</td><td>0.1949206308603041</td><td>0.2170066012619547</td><td>0.1950384719209521</td><td>0.21235279445996888</td><td>0.1835568655083724</td><td>0.20857532591322223</td><td>0.20017213960560157</td><td>0.20748704505619345</td><td>0.20062571486035807</td><td>0.21134296943936637</td><td>0.21108789361266533</td><td>0.21000123679794397</td><td>0.2095073715717231</td><td>0.2034403940723201</td><td>0.20301596620808468</td><td>0.20482096572540354</td><td>0.19435428928978396</td><td>0.20924757966901775</td><td>0.20733264719517203</td><td>0.2096776178437656</td><td>0.2092983987915637</td><td>0.2073373376503788</td><td>0.21088687686160987</td><td>0.2141775605295625</td><td>0.20659509908286264</td><td>0.22511186651755594</td><td>0.21478254012386555</td><td>0.20557980597312428</td><td>0.21542616826296368</td><td>0.21285144575050163</td><td>0.2153924904327876</td><td>0.20786900374958722</td><td>0.21625583867003956</td></tr><tr><td>blood_GSM1944774</td><td>0.9791040387800648</td><td>0.9911875507224625</td><td>0.9874457788767739</td><td>0.9884065868876614</td><td>0.9947972249675627</td><td>0.9580737142552197</td><td>1.0</td><td>0.9758316408049692</td><td>0.9886102643389638</td><td>0.9816652567371127</td><td>0.9862557459964407</td><td>0.9833113699948342</td><td>0.9898080705231204</td><td>0.9856129912329828</td><td>0.9950833810683066</td><td>0.9538630916406224</td><td>0.9742480099909834</td><td>0.9692278402152127</td><td>0.9012414123903931</td><td>0.9794680813582165</td><td>0.9592468578344495</td><td>0.973395976137643</td><td>0.9695523528491639</td><td>0.988316885251661</td><td>0.19693035645479176</td><td>0.19365507970083304</td><td>0.1854213397421393</td><td>0.1754785682509691</td><td>0.18694836158205969</td><td>0.18802841615740912</td><td>0.1822190392165489</td><td>0.20142417880333513</td><td>0.18319504358297378</td><td>0.19677650889020226</td><td>0.1717926347528397</td><td>0.1934755424485697</td><td>0.18650843354549002</td><td>0.19300200148820573</td><td>0.1866389419173414</td><td>0.1962697973967815</td><td>0.1961643180682148</td><td>0.1950255401980874</td><td>0.19272111492237065</td><td>0.18836820140455085</td><td>0.18899992607436858</td><td>0.19024249193533846</td><td>0.18070011131528238</td><td>0.19444706719486463</td><td>0.19164450624312948</td><td>0.19457320217165772</td><td>0.1944918131082882</td><td>0.19318418776473578</td><td>0.19636266672929045</td><td>0.19155951782554162</td><td>0.19198566834044253</td><td>0.20736724176662638</td><td>0.19877860884354642</td><td>0.19150230184863531</td><td>0.1999194333554628</td><td>0.1973703922337115</td><td>0.19780602166918</td><td>0.1950696554402377</td><td>0.19923011272194183</td></tr><tr><td>blood_GSM1944775</td><td>0.929036324665687</td><td>0.9497565957713517</td><td>0.9458455142830883</td><td>0.9786704426996087</td><td>0.9669501861963709</td><td>0.9592814451045446</td><td>0.9758316408049692</td><td>1.0</td><td>0.9939917411448307</td><td>0.982250450598935</td><td>0.9639312504949704</td><td>0.9638727734101238</td><td>0.9872414542076771</td><td>0.9892753687683412</td><td>0.9780069726228514</td><td>0.9454877875042548</td><td>0.9134203335211641</td><td>0.9804783716491172</td><td>0.9145073898033376</td><td>0.9780592474240939</td><td>0.8923945305971602</td><td>0.9112899097137599</td><td>0.953505874196422</td><td>0.993077796051529</td><td>0.1526289839647886</td><td>0.15093287147013457</td><td>0.1450863146052276</td><td>0.13813350314123155</td><td>0.1447979933502324</td><td>0.14576018483600128</td><td>0.13851885730705646</td><td>0.15732116912286565</td><td>0.141055968537925</td><td>0.15375231964700792</td><td>0.13026420709832312</td><td>0.1511959955935779</td><td>0.14437932190721048</td><td>0.15169431323698734</td><td>0.142928459650818</td><td>0.15299033447428179</td><td>0.15113866639221932</td><td>0.15231600772819548</td><td>0.15087123539626426</td><td>0.14617255840128762</td><td>0.14656830355984837</td><td>0.14800042768006325</td><td>0.13705992746780904</td><td>0.15108593507753085</td><td>0.14866904206994652</td><td>0.1519270156108127</td><td>0.15341791605491023</td><td>0.1498738270514428</td><td>0.15431947893393622</td><td>0.14989340703199902</td><td>0.1486134280714998</td><td>0.16300267600151075</td><td>0.15557199655654808</td><td>0.14756850273395833</td><td>0.15773181423320187</td><td>0.15454587088464503</td><td>0.1542480277638629</td><td>0.1506413505415361</td><td>0.1560310104954836</td></tr><tr><td>blood_GSM1944776</td><td>0.9449397845871823</td><td>0.9703954306507344</td><td>0.9602972252203994</td><td>0.9830279750104933</td><td>0.9797129499124291</td><td>0.9651457409109292</td><td>0.9886102643389638</td><td>0.9939917411448307</td><td>1.0</td><td>0.9817339514953338</td><td>0.9740514224276432</td><td>0.9682022445434254</td><td>0.9919190753072434</td><td>0.996400573185562</td><td>0.984837698303706</td><td>0.9662835097245552</td><td>0.9439588349284662</td><td>0.9766633001162406</td><td>0.9120281768349838</td><td>0.9747185194190963</td><td>0.9147782157315638</td><td>0.9381108980925736</td><td>0.9722948115582315</td><td>0.9948823672503664</td><td>0.19759962492892522</td><td>0.1948425124063726</td><td>0.18651896319390915</td><td>0.17532080230397573</td><td>0.1871705763179461</td><td>0.18860833328214502</td><td>0.1809778903145355</td><td>0.20263708239033235</td><td>0.18214383510055784</td><td>0.1980709392331418</td><td>0.17009755734089024</td><td>0.19472613688132978</td><td>0.18667840671883637</td><td>0.19405160476345235</td><td>0.18629247976706256</td><td>0.19729839742447008</td><td>0.19639241588187795</td><td>0.1960783390850597</td><td>0.1942185875787224</td><td>0.18959087812534597</td><td>0.18939246870254955</td><td>0.19102791645072284</td><td>0.1800664318429841</td><td>0.19518545703647816</td><td>0.19307035617982382</td><td>0.19584163382748868</td><td>0.19620308773705952</td><td>0.19366948119250368</td><td>0.19745054334722578</td><td>0.19193037643537192</td><td>0.19226817105714847</td><td>0.20878241558534238</td><td>0.20013229541676397</td><td>0.19110219294471886</td><td>0.20166880356958494</td><td>0.19897098274761346</td><td>0.19898100643375616</td><td>0.1940715568422137</td><td>0.19993879997950917</td></tr><tr><td>blood_GSM1944777</td><td>0.9641924361531625</td><td>0.9711156481179406</td><td>0.9754040297014612</td><td>0.9904206283259902</td><td>0.982204481613144</td><td>0.9558762462591793</td><td>0.9816652567371127</td><td>0.982250450598935</td><td>0.9817339514953338</td><td>1.0</td><td>0.9850844346733133</td><td>0.989487751130933</td><td>0.9876004411768846</td><td>0.975062961718781</td><td>0.9872386492213319</td><td>0.9312872423406438</td><td>0.9371489585304597</td><td>0.9923952186880574</td><td>0.9258743413436138</td><td>0.9924190033977399</td><td>0.9337493787750653</td><td>0.937190767706917</td><td>0.9416474432894404</td><td>0.982738413428326</td><td>0.11588894770179596</td><td>0.11267582447203989</td><td>0.10834897467047241</td><td>0.10658168923937147</td><td>0.11068151080166504</td><td>0.1097738527402258</td><td>0.10763890660801342</td><td>0.1190437366384233</td><td>0.11110853383815587</td><td>0.11599620758990319</td><td>0.10232127403047662</td><td>0.11352984912649322</td><td>0.1100621081675169</td><td>0.11510320943909282</td><td>0.1094336611314964</td><td>0.11630877052434081</td><td>0.11602251971149699</td><td>0.11569732568613562</td><td>0.11344715892887838</td><td>0.10889340435853397</td><td>0.11147514498076219</td><td>0.11165622557195748</td><td>0.104373062348679</td><td>0.11495849703397515</td><td>0.11094700495194953</td><td>0.11481202778663677</td><td>0.11518155985711276</td><td>0.11453750405310552</td><td>0.11775289196481027</td><td>0.11292042515598935</td><td>0.11373744937955277</td><td>0.12599098085411856</td><td>0.11751043203477571</td><td>0.11455353906577355</td><td>0.11932429291029802</td><td>0.1165264807401116</td><td>0.11565038922404894</td><td>0.12071491038940542</td><td>0.12083468978756982</td></tr></table>"
      ]
     },
     "execution_count": 67,
     "metadata": {},
     "output_type": "execute_result"
    }
   ],
   "source": [
    "%%dataframe mouseCorPearsonComponents2"
   ]
  },
  {
   "cell_type": "code",
   "execution_count": 69,
   "metadata": {},
   "outputs": [
    {
     "data": {
      "text/plain": [
       "wasbs://storage@pipelines1.blob.core.windows.net/expressions/go/grouped/correlations/pearson_transcripts_mouse_GSE75192.tsv"
      ]
     },
     "execution_count": 69,
     "metadata": {},
     "output_type": "execute_result"
    }
   ],
   "source": [
    "write(mouseCorSpearmanComponents2, az(corPath + \"/spearman_transcripts_mouse_GSE75192.tsv\"))\n",
    "write(mouseCorPearsonComponents2, az(corPath + \"/pearson_transcripts_mouse_GSE75192.tsv\"))"
   ]
  },
  {
   "cell_type": "markdown",
   "metadata": {},
   "source": [
    "Mice GO correlations\n",
    "------------------------"
   ]
  },
  {
   "cell_type": "code",
   "execution_count": 105,
   "metadata": {},
   "outputs": [
    {
     "data": {
      "text/plain": [
       "mc = [transcript: string, GSM1944768: double ... 62 more fields]\n"
      ]
     },
     "metadata": {},
     "output_type": "display_data"
    },
    {
     "data": {
      "text/plain": [
       "[transcript: string, GSM1944768: double ... 62 more fields]"
      ]
     },
     "execution_count": 105,
     "metadata": {},
     "output_type": "execute_result"
    }
   ],
   "source": [
    "val mc =  mouseCols\n",
    ".withColumnRenamed(\"transcripts\\\\samples\",\"transcript\")\n",
    ".withColumn(\"transcript\", simplifyFunction($\"transcript\"))"
   ]
  },
  {
   "cell_type": "code",
   "execution_count": 108,
   "metadata": {},
   "outputs": [
    {
     "data": {
      "text/plain": [
       "miceWithGO = [transcript: string, GSM1944768: double ... 63 more fields]\n"
      ]
     },
     "metadata": {},
     "output_type": "display_data"
    },
    {
     "data": {
      "text/plain": [
       "[transcript: string, GSM1944768: double ... 63 more fields]"
      ]
     },
     "execution_count": 108,
     "metadata": {},
     "output_type": "execute_result"
    }
   ],
   "source": [
    "val miceWithGO = mc.join(mouse_mapping\n",
    "        .withColumnRenamed(\"ensembl_trs\",\"transcript\")\n",
    "        .select(\"go\", \"transcript\"),\n",
    "        Seq(\"transcript\"), \"outer\") "
   ]
  },
  {
   "cell_type": "code",
   "execution_count": 109,
   "metadata": {},
   "outputs": [
    {
     "data": {
      "text/html": [
       "<table><tr><th>transcript</th><th>GSM1944768</th><th>GSM1944769</th><th>GSM1944770</th><th>GSM1944771</th><th>GSM1944772</th><th>GSM1944773</th><th>GSM1944774</th><th>GSM1944775</th><th>GSM1944776</th><th>GSM1944777</th><th>GSM1944778</th><th>GSM1944779</th><th>GSM1944780</th><th>GSM1944781</th><th>GSM1944782</th><th>GSM1944783</th><th>GSM1944784</th><th>GSM1944785</th><th>GSM1944786</th><th>GSM1944787</th><th>GSM1944788</th><th>GSM1944789</th><th>GSM1944790</th><th>GSM1944791</th><th>GSM1944792</th><th>GSM1944793</th><th>GSM1944794</th><th>GSM1944795</th><th>GSM1944796</th><th>GSM1944797</th><th>GSM1944798</th><th>GSM1944799</th><th>GSM1944800</th><th>GSM1944801</th><th>GSM1944802</th><th>GSM1944803</th><th>GSM1944804</th><th>GSM1944805</th><th>GSM1944806</th><th>GSM1944807</th><th>GSM1944808</th><th>GSM1944809</th><th>GSM1944810</th><th>GSM1944811</th><th>GSM1944812</th><th>GSM1944813</th><th>GSM1944814</th><th>GSM1944815</th><th>GSM1944816</th><th>GSM1944817</th><th>GSM1944818</th><th>GSM1944819</th><th>GSM1944820</th><th>GSM1944821</th><th>GSM1944822</th><th>GSM1944823</th><th>GSM1944824</th><th>GSM1944825</th><th>GSM1944826</th><th>GSM1944827</th><th>GSM1944828</th><th>GSM1944829</th><th>GSM1944830</th><th>go</th></tr><tr><td>ENSMUST00000001780</td><td>1.457035</td><td>2.377753</td><td>1.807868</td><td>2.488324</td><td>1.968561</td><td>4.067363</td><td>2.627677</td><td>7.567024</td><td>5.331986</td><td>3.376342</td><td>2.038569</td><td>2.687443</td><td>5.476191</td><td>5.178084</td><td>2.47834</td><td>8.011064</td><td>3.543059</td><td>4.827703</td><td>3.017516</td><td>4.16355</td><td>3.221747</td><td>4.506296</td><td>8.235887</td><td>5.807355</td><td>26.724908</td><td>27.325342</td><td>27.609245</td><td>25.213966</td><td>24.331835</td><td>26.215639</td><td>22.81432</td><td>27.544977</td><td>22.19537</td><td>28.752434</td><td>20.419816</td><td>27.589608</td><td>27.468246</td><td>29.345561</td><td>27.630133</td><td>28.53968</td><td>24.170376</td><td>28.147612</td><td>28.736023</td><td>26.205761</td><td>27.696696</td><td>28.89871</td><td>24.924688</td><td>28.247088</td><td>28.323087</td><td>28.010072</td><td>30.00084</td><td>28.842624</td><td>28.864334</td><td>29.342918</td><td>28.687128</td><td>28.448141</td><td>29.606282</td><td>26.495599</td><td>29.524206</td><td>28.541065</td><td>28.031097</td><td>21.767546</td><td>26.980395</td><td>GO:0005911; GO:0036064; GO:0005737; GO:0005829; GO:0015630; GO:0005739; GO:0005654; GO:0005634; GO:0005886; GO:0043234; GO:0005819; GO:0031982; GO:0071889; GO:0005524; GO:0032794; GO:0042802; GO:0016301; GO:0030235; GO:0005547; GO:0043325; GO:0042803; GO:0004672; GO:0019901; GO:0005080; GO:0051721; GO:0004674; GO:0004712; GO:0004713; GO:0006924; GO:0007568; GO:0008637; GO:0030030; GO:0071276; GO:0036294; GO:0006974; GO:0071364; GO:0097011; GO:0071363; GO:0071456; GO:0032869; GO:0071260; GO:1990090; GO:0071407; GO:1901653; GO:0071380; GO:0034614; GO:0071356; GO:0035924; GO:0007010; GO:0007173; GO:0072655; GO:0097194; GO:0007281; GO:0042593; GO:0006006; GO:0015758; GO:0005978; GO:0060709; GO:0005977; GO:0030212; GO:0007249; GO:0006954; GO:0008286; GO:0048009; GO:0035655; GO:0035556; GO:0060716; GO:0031663; GO:0072656; GO:0001893; GO:0043066; GO:0010507; GO:0045792; GO:0043154; GO:0010951; GO:0031999; GO:0010629; GO:0046329; GO:0010748; GO:0006469; GO:0045861; GO:0090201; GO:0038061; GO:0001649; GO:0018105; GO:0018107; GO:0032287; GO:0014065; GO:0016310; GO:0043065; GO:0043536; GO:0030307; GO:0008284; GO:0031659; GO:0051091; GO:0032079; GO:0001938; GO:0045600; GO:0010763; GO:0046326; GO:0010907; GO:0045725; GO:1903721; GO:0046889; GO:0010918; GO:0045429; GO:0051000; GO:0046622; GO:0033138; GO:0032436; GO:1900182; GO:1903078; GO:0001934; GO:0048661; GO:0010765; GO:0045944; GO:0045893; GO:0045907; GO:0030163; GO:0000060; GO:0043491; GO:0006468; GO:0016567; GO:0042981; GO:0030334; GO:0005979; GO:0031641; GO:0010975; GO:0032880; GO:0006417; GO:0034405; GO:0032094; GO:0060416; GO:0009725; GO:1990418; GO:0010033; GO:0006979; GO:0070141; GO:0021510; GO:0051146; GO:0006412</td></tr><tr><td>ENSMUST00000002710</td><td>1.152644</td><td>1.769748</td><td>1.38618</td><td>0.88323</td><td>1.238459</td><td>1.818865</td><td>1.393137</td><td>2.055142</td><td>1.856314</td><td>1.522474</td><td>1.307268</td><td>1.082604</td><td>2.087398</td><td>2.186628</td><td>1.637338</td><td>3.160934</td><td>1.888891</td><td>1.859546</td><td>1.663773</td><td>0.869776</td><td>1.317399</td><td>1.477447</td><td>2.334978</td><td>1.540329</td><td>5.159958</td><td>3.762266</td><td>4.672721</td><td>4.813167</td><td>4.052656</td><td>4.540973</td><td>3.417692</td><td>4.62757</td><td>3.978401</td><td>3.930666</td><td>3.351347</td><td>4.630105</td><td>3.636565</td><td>4.485649</td><td>3.762605</td><td>4.626774</td><td>4.575903</td><td>4.581032</td><td>4.715888</td><td>4.280947</td><td>4.084651</td><td>4.51666</td><td>3.345868</td><td>4.220935</td><td>3.820685</td><td>4.019916</td><td>4.571506</td><td>3.860165</td><td>4.188177</td><td>5.447177</td><td>4.081221</td><td>4.931568</td><td>5.244935</td><td>3.727492</td><td>4.81019</td><td>4.327296</td><td>4.479633</td><td>3.52365</td><td>3.714444</td><td>GO:0005737; GO:0007049</td></tr><tr><td>ENSMUST00000004686; ENSMUST00000111081</td><td>null</td><td>null</td><td>null</td><td>null</td><td>null</td><td>null</td><td>null</td><td>null</td><td>null</td><td>null</td><td>null</td><td>null</td><td>null</td><td>null</td><td>null</td><td>null</td><td>null</td><td>null</td><td>null</td><td>null</td><td>null</td><td>null</td><td>null</td><td>null</td><td>null</td><td>null</td><td>null</td><td>null</td><td>null</td><td>null</td><td>null</td><td>null</td><td>null</td><td>null</td><td>null</td><td>null</td><td>null</td><td>null</td><td>null</td><td>null</td><td>null</td><td>null</td><td>null</td><td>null</td><td>null</td><td>null</td><td>null</td><td>null</td><td>null</td><td>null</td><td>null</td><td>null</td><td>null</td><td>null</td><td>null</td><td>null</td><td>null</td><td>null</td><td>null</td><td>null</td><td>null</td><td>null</td><td>null</td><td>GO:0005779; GO:0031231; GO:0005777; GO:0043234; GO:0016559; GO:0044375</td></tr><tr><td>ENSMUST00000005487</td><td>11.949114</td><td>12.026705</td><td>10.497178</td><td>9.334506</td><td>10.966229</td><td>11.007951</td><td>12.168456</td><td>12.586717</td><td>13.459405</td><td>10.882062</td><td>9.86875</td><td>10.445431</td><td>13.420545</td><td>12.612402</td><td>13.608887</td><td>15.900408</td><td>13.467493</td><td>14.806066</td><td>10.638103</td><td>8.147705</td><td>8.974275</td><td>16.126443</td><td>16.901756</td><td>17.393112</td><td>35.141672</td><td>35.139925</td><td>36.616128</td><td>36.390698</td><td>35.286034</td><td>35.645088</td><td>31.120041</td><td>37.702914</td><td>31.578981</td><td>35.83592</td><td>29.48988</td><td>35.120407</td><td>33.448085</td><td>38.437714</td><td>35.472692</td><td>39.088235</td><td>31.193638</td><td>36.412791</td><td>35.030424</td><td>35.631402</td><td>34.273692</td><td>36.592032</td><td>32.780871</td><td>34.415442</td><td>32.765889</td><td>33.419622</td><td>37.108289</td><td>35.113926</td><td>37.947655</td><td>35.455511</td><td>37.503166</td><td>33.09417</td><td>34.707127</td><td>32.495556</td><td>33.528144</td><td>31.771982</td><td>33.571761</td><td>24.63124</td><td>34.673723</td><td>null</td></tr><tr><td>ENSMUST00000006101</td><td>0.337008</td><td>0.341892</td><td>0.339684</td><td>0.460246</td><td>0.532999</td><td>0.374308</td><td>0.322307</td><td>0.207023</td><td>0.406622</td><td>0.121925</td><td>0.167378</td><td>0.07546</td><td>0.221484</td><td>0.233901</td><td>0.061754</td><td>0.258374</td><td>0.147619</td><td>0.067116</td><td>0.187518</td><td>0.126762</td><td>0.100319</td><td>0.118136</td><td>0.164369</td><td>0.13523</td><td>0.046563</td><td>0.085002</td><td>0.071209</td><td>0.055559</td><td>0.066476</td><td>0.042162</td><td>0.071355</td><td>0.061325</td><td>0.063826</td><td>0.04087</td><td>0.036235</td><td>0.056284</td><td>0.073057</td><td>0.055756</td><td>0.066578</td><td>0.032863</td><td>0.068372</td><td>0.102523</td><td>0.082411</td><td>0.066873</td><td>0.111436</td><td>0.066268</td><td>0.058403</td><td>0.054314</td><td>0.049484</td><td>0.095034</td><td>0.092069</td><td>0.042726</td><td>0.062151</td><td>0.045129</td><td>0.103335</td><td>0.06037</td><td>0.063328</td><td>0.055178</td><td>0.058835</td><td>0.080157</td><td>0.112104</td><td>0.14613</td><td>0.029888</td><td>GO:0009897; GO:0008305; GO:0046872; GO:0007155; GO:0007229</td></tr><tr><td>ENSMUST00000006167; ENSMUST00000097546; ENSMUST00000097547; ENSMUST00000111913</td><td>null</td><td>null</td><td>null</td><td>null</td><td>null</td><td>null</td><td>null</td><td>null</td><td>null</td><td>null</td><td>null</td><td>null</td><td>null</td><td>null</td><td>null</td><td>null</td><td>null</td><td>null</td><td>null</td><td>null</td><td>null</td><td>null</td><td>null</td><td>null</td><td>null</td><td>null</td><td>null</td><td>null</td><td>null</td><td>null</td><td>null</td><td>null</td><td>null</td><td>null</td><td>null</td><td>null</td><td>null</td><td>null</td><td>null</td><td>null</td><td>null</td><td>null</td><td>null</td><td>null</td><td>null</td><td>null</td><td>null</td><td>null</td><td>null</td><td>null</td><td>null</td><td>null</td><td>null</td><td>null</td><td>null</td><td>null</td><td>null</td><td>null</td><td>null</td><td>null</td><td>null</td><td>null</td><td>null</td><td>GO:0016021</td></tr><tr><td>ENSMUST00000015587</td><td>0.0</td><td>0.0</td><td>0.0</td><td>0.0</td><td>0.0</td><td>0.0</td><td>0.0</td><td>0.0</td><td>0.0</td><td>0.0</td><td>0.0</td><td>0.0</td><td>0.0</td><td>0.0</td><td>0.0</td><td>0.0</td><td>0.0</td><td>0.0</td><td>0.0</td><td>0.0</td><td>0.0</td><td>0.0</td><td>0.0</td><td>0.0</td><td>0.0</td><td>0.0</td><td>0.0</td><td>0.0</td><td>0.0</td><td>0.0</td><td>0.0</td><td>0.0</td><td>0.0</td><td>0.0</td><td>0.0</td><td>0.0</td><td>0.0</td><td>0.0</td><td>0.0</td><td>0.0</td><td>0.0</td><td>0.0</td><td>0.0</td><td>0.0</td><td>0.0</td><td>0.0</td><td>0.0</td><td>0.0</td><td>0.0</td><td>0.0</td><td>0.0</td><td>0.0</td><td>0.0</td><td>0.0</td><td>0.0</td><td>0.0</td><td>0.0</td><td>0.0</td><td>0.0</td><td>0.0</td><td>0.0</td><td>0.0</td><td>0.0</td><td>GO:0030141; GO:0004252; GO:0006508</td></tr><tr><td>ENSMUST00000019075</td><td>0.320557</td><td>0.565558</td><td>0.382376</td><td>0.483683</td><td>0.354568</td><td>0.685589</td><td>0.551113</td><td>0.554874</td><td>0.776101</td><td>0.489911</td><td>0.305926</td><td>0.275922</td><td>0.541258</td><td>0.662399</td><td>0.410762</td><td>0.796868</td><td>0.38119</td><td>0.328851</td><td>0.33635</td><td>0.235999</td><td>0.272111</td><td>0.316157</td><td>0.581172</td><td>0.697798</td><td>1.923149</td><td>2.564147</td><td>2.274464</td><td>2.21178</td><td>1.865721</td><td>2.020687</td><td>1.489485</td><td>2.318275</td><td>1.246956</td><td>2.431063</td><td>1.302066</td><td>2.438518</td><td>1.987758</td><td>2.327174</td><td>1.723566</td><td>1.84541</td><td>1.443654</td><td>2.258006</td><td>2.290048</td><td>2.258573</td><td>1.955116</td><td>1.971188</td><td>1.401807</td><td>1.843033</td><td>2.217008</td><td>2.010307</td><td>2.206911</td><td>1.93096</td><td>2.2886</td><td>2.235849</td><td>1.92568</td><td>2.082754</td><td>2.343262</td><td>1.865074</td><td>2.170537</td><td>2.426984</td><td>2.187208</td><td>1.303199</td><td>1.688358</td><td>null</td></tr><tr><td>ENSMUST00000019514</td><td>4.475097</td><td>5.951841</td><td>5.730876</td><td>7.678448</td><td>4.754675</td><td>7.749166</td><td>7.173225</td><td>9.757776</td><td>9.654593</td><td>7.005932</td><td>6.161261</td><td>6.865572</td><td>8.120107</td><td>9.095583</td><td>5.362226</td><td>11.547927</td><td>6.761335</td><td>8.685087</td><td>6.857956</td><td>8.248986</td><td>9.004491</td><td>7.031766</td><td>10.378988</td><td>8.590505</td><td>230.15091</td><td>259.443955</td><td>272.898751</td><td>242.56188</td><td>214.248575</td><td>243.56231</td><td>180.236245</td><td>256.136792</td><td>166.208046</td><td>256.920849</td><td>143.756899</td><td>244.766223</td><td>221.458358</td><td>258.123183</td><td>216.177897</td><td>255.214832</td><td>188.084258</td><td>238.574361</td><td>249.589078</td><td>232.55383</td><td>223.500241</td><td>244.691369</td><td>200.75288</td><td>250.394207</td><td>224.871728</td><td>237.795129</td><td>245.463283</td><td>217.573906</td><td>242.257504</td><td>265.297452</td><td>232.525864</td><td>204.979371</td><td>233.772535</td><td>181.922685</td><td>240.257262</td><td>228.739903</td><td>238.620034</td><td>124.506832</td><td>214.817677</td><td>null</td></tr><tr><td>ENSMUST00000019937</td><td>0.372026</td><td>0.5139</td><td>0.398846</td><td>0.440982</td><td>0.413516</td><td>0.855134</td><td>0.460078</td><td>0.631646</td><td>0.817295</td><td>0.407863</td><td>0.461648</td><td>0.394919</td><td>0.681331</td><td>0.74174</td><td>0.432605</td><td>0.832163</td><td>0.672749</td><td>0.307801</td><td>0.433195</td><td>0.356994</td><td>0.415571</td><td>0.536258</td><td>0.897348</td><td>0.568265</td><td>8.358122</td><td>10.289936</td><td>10.064749</td><td>6.980321</td><td>8.348578</td><td>9.904963</td><td>6.553773</td><td>9.445942</td><td>4.435404</td><td>10.534741</td><td>4.845402</td><td>10.530593</td><td>8.408409</td><td>10.18056</td><td>7.538191</td><td>9.558294</td><td>7.630448</td><td>10.465635</td><td>10.404274</td><td>10.681382</td><td>8.367774</td><td>10.510766</td><td>7.978799</td><td>9.736567</td><td>10.43288</td><td>10.551965</td><td>10.962522</td><td>8.59784</td><td>8.786572</td><td>10.090442</td><td>9.064463</td><td>8.307892</td><td>10.589881</td><td>7.529772</td><td>10.159439</td><td>11.169434</td><td>10.082453</td><td>5.51964</td><td>8.98864</td><td>GO:0005783; GO:0005789; GO:0016021; GO:0016020; GO:0008565; GO:0001889; GO:0010259; GO:0006807; GO:0006620; GO:0031204; GO:0072001; GO:0006614</td></tr></table>"
      ]
     },
     "execution_count": 109,
     "metadata": {},
     "output_type": "execute_result"
    }
   ],
   "source": [
    "%%dataframe miceWithGO"
   ]
  },
  {
   "cell_type": "code",
   "execution_count": 141,
   "metadata": {},
   "outputs": [
    {
     "data": {
      "text/plain": [
       "groupByGO: (df: org.apache.spark.sql.DataFrame)org.apache.spark.sql.Dataset[org.apache.spark.sql.Row]\n"
      ]
     },
     "metadata": {},
     "output_type": "display_data"
    }
   ],
   "source": [
    "import org.apache.spark.sql.catalyst.encoders.RowEncoder\n",
    "def groupByGO(df: DataFrame) =\n",
    "  {\n",
    "    implicit val encoder = RowEncoder(df.schema)  \n",
    "    df.flatMap{\n",
    "      case row =>\n",
    "        val g = row.getAs[String](\"go\")\n",
    "        val goes = if(g==null) Array[String]() else g.split(\";\").map(go=>go.trim).filter(go=>go!=\"\")\n",
    "        val seq = row.toSeq\n",
    "        goes.map{ go => Row.fromSeq(seq.map(s=> if(s==g) go else s))\n",
    "        }\n",
    "    }.groupBy(\"go\").sum(mc.columns.tail:_*).persist(StorageLevel.MEMORY_AND_DISK) \n",
    "  }"
   ]
  },
  {
   "cell_type": "code",
   "execution_count": 144,
   "metadata": {},
   "outputs": [
    {
     "data": {
      "text/plain": [
       "renamingsGO = Map(sum(GSM1944863) -> skin_GSM1944863, sum(GSM1944785) -> blood_GSM1944785, sum(GSM1944812) -> brain_GSM1944812, sum(GSM1944817) -> brain_GSM1944817, sum(GSM1944768) -> blood_GSM1944768, sum(GSM1944857) -> skin_GSM1944857, sum(GSM1944823) -> brain_GSM1944823, sum(GSM2795211) -> brain_GSM2795211, sum(GSM1944775) -> blood_GSM1944775, sum(GSM1944866) -> skin_GSM1944866, sum(GSM1944831) -> liver_GSM1944831, sum(GSM1944853) -> liver_GSM1944853, sum(GSM1944790) -> blood_GSM1944790, sum(GSM1944797) -> brain_GSM1944797, sum(GSM1944839) -> liver_GSM1944839, sum(GSM1944822) -> brain_GSM1944822, sum(GSM1944794) -> brain_GSM1944794, sum(GSM1944825) -> brain_GSM1944825, sum(GSM1944778) -> blood_GSM1944778, sum(GSM1944844) -> liver_GSM1944...\n"
      ]
     },
     "metadata": {},
     "output_type": "display_data"
    },
    {
     "data": {
      "text/plain": [
       "Map(sum(GSM1944863) -> skin_GSM1944863, sum(GSM1944785) -> blood_GSM1944785, sum(GSM1944812) -> brain_GSM1944812, sum(GSM1944817) -> brain_GSM1944817, sum(GSM1944768) -> blood_GSM1944768, sum(GSM1944857) -> skin_GSM1944857, sum(GSM1944823) -> brain_GSM1944823, sum(GSM2795211) -> brain_GSM2795211, sum(GSM1944775) -> blood_GSM1944775, sum(GSM1944866) -> skin_GSM1944866, sum(GSM1944831) -> liver_GSM1944831, sum(GSM1944853) -> liver_GSM1944853, sum(GSM1944790) -> blood_GSM1944790, sum(GSM1944797) -> brain_GSM1944797, sum(GSM1944839) -> liver_GSM1944839, sum(GSM1944822) -> brain_GSM1944822, sum(GSM1944794) -> brain_GSM1944794, sum(GSM1944825) -> brain_GSM1944825, sum(GSM1944778) -> blood_GSM1944778, sum(GSM1944844) -> liver_GSM1944844, sum(GSM1944847) -> liver_GSM1944847, sum(GSM1944870) -> skin_GSM1944870, sum(GSM1944807) -> brain_GSM1944807, sum(GSM1944803) -> brain_GSM1944803, sum(GSM1944792) -> brain_GSM1944792, sum(GSM1944793) -> brain_GSM1944793, sum(GSM1944788) -> blood_GSM1944788, sum(GSM1944770) -> blood_GSM1944770, sum(GSM1944875) -> skin_GSM1944875, sum(GSM1944821) -> brain_GSM1944821, sum(GSM1944858) -> skin_GSM1944858, sum(GSM2795212) -> liver_GSM2795212, sum(GSM1944813) -> brain_GSM1944813, sum(GSM1944816) -> brain_GSM1944816, sum(GSM1944830) -> brain_GSM1944830, sum(GSM1944826) -> brain_GSM1944826, sum(GSM1944834) -> liver_GSM1944834, sum(GSM1944773) -> blood_GSM1944773, sum(GSM1944771) -> blood_GSM1944771, sum(GSM1944838) -> liver_GSM1944838, sum(GSM1944849) -> liver_GSM1944849, sum(GSM1944787) -> blood_GSM1944787, sum(GSM1944869) -> skin_GSM1944869, sum(GSM1944867) -> skin_GSM1944867, sum(GSM1944878) -> skin_GSM1944878, sum(GSM1944795) -> brain_GSM1944795, sum(GSM1944859) -> skin_GSM1944859, sum(GSM1944829) -> brain_GSM1944829, sum(GSM1944811) -> brain_GSM1944811, sum(GSM1944782) -> blood_GSM1944782, sum(GSM1944861) -> skin_GSM1944861, sum(GSM1944843) -> liver_GSM1944843, sum(GSM1944848) -> liver_GSM1944848, sum(GSM1944854) -> liver_GSM1944854, sum(GSM1944769) -> blood_GSM1944769, sum(GSM1944876) -> skin_GSM1944876, sum(GSM1944850) -> liver_GSM1944850, sum(GSM1944846) -> liver_GSM1944846, sum(GSM1944814) -> brain_GSM1944814, sum(GSM1944842) -> liver_GSM1944842, sum(GSM1944874) -> skin_GSM1944874, sum(GSM1944855) -> skin_GSM1944855, sum(GSM1944820) -> brain_GSM1944820, sum(GSM1944868) -> skin_GSM1944868, sum(GSM1944800) -> brain_GSM1944800, sum(GSM1944808) -> brain_GSM1944808, sum(GSM1944804) -> brain_GSM1944804, sum(GSM1944779) -> blood_GSM1944779, sum(GSM1944806) -> brain_GSM1944806, sum(GSM1944879) -> skin_GSM1944879, sum(GSM1944783) -> blood_GSM1944783, sum(GSM1944836) -> liver_GSM1944836, sum(GSM1944799) -> brain_GSM1944799, sum(GSM1944877) -> skin_GSM1944877, sum(GSM1944774) -> blood_GSM1944774, sum(GSM1944772) -> blood_GSM1944772, sum(GSM1944805) -> brain_GSM1944805, sum(GSM1944851) -> liver_GSM1944851, sum(GSM1944871) -> skin_GSM1944871, sum(GSM1944833) -> liver_GSM1944833, sum(GSM1944789) -> blood_GSM1944789, sum(GSM1944796) -> brain_GSM1944796, sum(GSM1944786) -> blood_GSM1944786, sum(GSM1944828) -> brain_GSM1944828, sum(GSM1944864) -> skin_GSM1944864, sum(GSM1944862) -> skin_GSM1944862, sum(GSM1944780) -> blood_GSM1944780, sum(GSM1944819) -> brain_GSM1944819, sum(GSM1944818) -> brain_GSM1944818, sum(GSM1944815) -> brain_GSM1944815, sum(GSM1944841) -> liver_GSM1944841, sum(GSM1944873) -> skin_GSM1944873, sum(GSM1944845) -> liver_GSM1944845, sum(GSM1944827) -> brain_GSM1944827, sum(GSM1944776) -> blood_GSM1944776, sum(GSM1944781) -> blood_GSM1944781, sum(GSM1944784) -> blood_GSM1944784, sum(GSM1944777) -> blood_GSM1944777, sum(GSM1944832) -> liver_GSM1944832, sum(GSM1944860) -> skin_GSM1944860, sum(GSM1944810) -> brain_GSM1944810, sum(GSM1944802) -> brain_GSM1944802, sum(GSM1944856) -> skin_GSM1944856, sum(GSM1944865) -> skin_GSM1944865, sum(GSM1944872) -> skin_GSM1944872, sum(GSM1944837) -> liver_GSM1944837, sum(GSM2795210) -> blood_GSM2795210, sum(GSM1944801) -> brain_GSM1944801, sum(GSM1944840) -> liver_GSM1944840, sum(GSM1944791) -> blood_GSM1944791, sum(GSM1944798) -> brain_GSM1944798, sum(GSM1944809) -> brain_GSM1944809, sum(GSM1944824) -> brain_GSM1944824, sum(GSM1944835) -> liver_GSM1944835, sum(GSM1944852) -> liver_GSM1944852)"
      ]
     },
     "execution_count": 144,
     "metadata": {},
     "output_type": "execute_result"
    }
   ],
   "source": [
    "val renamingsGO = renamings.map{ case (key, value) => (s\"sum($key)\", value)}"
   ]
  },
  {
   "cell_type": "code",
   "execution_count": 145,
   "metadata": {},
   "outputs": [
    {
     "data": {
      "text/plain": [
       "gMice = [go: string, blood_GSM1944768: double ... 62 more fields]\n"
      ]
     },
     "metadata": {},
     "output_type": "display_data"
    },
    {
     "data": {
      "text/plain": [
       "[go: string, blood_GSM1944768: double ... 62 more fields]"
      ]
     },
     "execution_count": 145,
     "metadata": {},
     "output_type": "execute_result"
    }
   ],
   "source": [
    "val gMice = rename(groupByGO(miceWithGO), renamingsGO)"
   ]
  },
  {
   "cell_type": "code",
   "execution_count": 146,
   "metadata": {},
   "outputs": [
    {
     "data": {
      "text/plain": [
       "17419"
      ]
     },
     "execution_count": 146,
     "metadata": {},
     "output_type": "execute_result"
    }
   ],
   "source": [
    "gMice.count"
   ]
  },
  {
   "cell_type": "code",
   "execution_count": 150,
   "metadata": {},
   "outputs": [
    {
     "data": {
      "text/plain": [
       "mouseCorSpearmanGO = [feature: string, blood_GSM1944768: double ... 62 more fields]\n",
       "mouseCorPearsonGO = [feature: string, blood_GSM1944768: double ... 62 more fields]\n"
      ]
     },
     "metadata": {},
     "output_type": "display_data"
    },
    {
     "data": {
      "text/plain": [
       "[feature: string, blood_GSM1944768: double ... 62 more fields]"
      ]
     },
     "execution_count": 150,
     "metadata": {},
     "output_type": "execute_result"
    }
   ],
   "source": [
    "val mouseCorSpearmanGO = spearmanCorrellation(gMice, gMice.columns.tail)(spark)\n",
    "    .withColumn(\"feature\", renameFunction(renamingsGO)($\"feature\"))\n",
    "\n",
    "val mouseCorPearsonGO  = pearsonCorrellation(gMice, gMice.columns.tail)(spark)\n",
    ".withColumn(\"feature\", renameFunction(renamingsGO)($\"feature\"))"
   ]
  },
  {
   "cell_type": "code",
   "execution_count": 153,
   "metadata": {},
   "outputs": [
    {
     "data": {
      "text/html": [
       "<table><tr><th>feature</th><th>blood_GSM1944768</th><th>blood_GSM1944769</th><th>blood_GSM1944770</th><th>blood_GSM1944771</th><th>blood_GSM1944772</th><th>blood_GSM1944773</th><th>blood_GSM1944774</th><th>blood_GSM1944775</th><th>blood_GSM1944776</th><th>blood_GSM1944777</th><th>blood_GSM1944778</th><th>blood_GSM1944779</th><th>blood_GSM1944780</th><th>blood_GSM1944781</th><th>blood_GSM1944782</th><th>blood_GSM1944783</th><th>blood_GSM1944784</th><th>blood_GSM1944785</th><th>blood_GSM1944786</th><th>blood_GSM1944787</th><th>blood_GSM1944788</th><th>blood_GSM1944789</th><th>blood_GSM1944790</th><th>blood_GSM1944791</th><th>brain_GSM1944792</th><th>brain_GSM1944793</th><th>brain_GSM1944794</th><th>brain_GSM1944795</th><th>brain_GSM1944796</th><th>brain_GSM1944797</th><th>brain_GSM1944798</th><th>brain_GSM1944799</th><th>brain_GSM1944800</th><th>brain_GSM1944801</th><th>brain_GSM1944802</th><th>brain_GSM1944803</th><th>brain_GSM1944804</th><th>brain_GSM1944805</th><th>brain_GSM1944806</th><th>brain_GSM1944807</th><th>brain_GSM1944808</th><th>brain_GSM1944809</th><th>brain_GSM1944810</th><th>brain_GSM1944811</th><th>brain_GSM1944812</th><th>brain_GSM1944813</th><th>brain_GSM1944814</th><th>brain_GSM1944815</th><th>brain_GSM1944816</th><th>brain_GSM1944817</th><th>brain_GSM1944818</th><th>brain_GSM1944819</th><th>brain_GSM1944820</th><th>brain_GSM1944821</th><th>brain_GSM1944822</th><th>brain_GSM1944823</th><th>brain_GSM1944824</th><th>brain_GSM1944825</th><th>brain_GSM1944826</th><th>brain_GSM1944827</th><th>brain_GSM1944828</th><th>brain_GSM1944829</th><th>brain_GSM1944830</th></tr><tr><td>blood_GSM1944768</td><td>1.0</td><td>0.9877416747805284</td><td>0.9883839303357295</td><td>0.9837945224703988</td><td>0.9880536855095976</td><td>0.9848433540141376</td><td>0.983604301986465</td><td>0.9783286238717319</td><td>0.9830085160614356</td><td>0.9828573470404884</td><td>0.985617629118902</td><td>0.9825438489167699</td><td>0.9830699766903279</td><td>0.9836375271623312</td><td>0.9854077190774355</td><td>0.9816808111687929</td><td>0.9845973812064179</td><td>0.9781552492955442</td><td>0.9834098088257707</td><td>0.9768295515457427</td><td>0.9809427263508503</td><td>0.9795884549568258</td><td>0.9790189411994663</td><td>0.9795009217892676</td><td>0.8134252135439506</td><td>0.8009136175960636</td><td>0.8004775849896081</td><td>0.8116333080127627</td><td>0.8155067579068798</td><td>0.8049407395467647</td><td>0.8181966038468244</td><td>0.8047806304607543</td><td>0.8223604204396866</td><td>0.803848912600726</td><td>0.8258351233331401</td><td>0.8030409672535882</td><td>0.8135742333461246</td><td>0.8047395428548025</td><td>0.8150085410343606</td><td>0.8063109296295122</td><td>0.8169577008242882</td><td>0.8082318032566714</td><td>0.8056401674161431</td><td>0.8040665494307135</td><td>0.8134391626571471</td><td>0.8059007941369308</td><td>0.8154899699051452</td><td>0.8078636238314912</td><td>0.8079639902270077</td><td>0.8049431488529916</td><td>0.8015412629578084</td><td>0.8141093287882343</td><td>0.8112712016284775</td><td>0.8047770366283109</td><td>0.8128243164162874</td><td>0.8215194361886706</td><td>0.8067782998158946</td><td>0.8231855813516971</td><td>0.8074976937455273</td><td>0.8072835010477432</td><td>0.8065274278636534</td><td>0.8423571118732367</td><td>0.8199331489892943</td></tr><tr><td>blood_GSM1944769</td><td>0.9877416747805284</td><td>1.0</td><td>0.9897855645829982</td><td>0.9863693632539611</td><td>0.9892259799503949</td><td>0.9876502947148946</td><td>0.9849946255432092</td><td>0.9833220236709906</td><td>0.9879374663314192</td><td>0.9873862437502897</td><td>0.9885543323080419</td><td>0.9841634054918789</td><td>0.9874119693027908</td><td>0.9880536687518152</td><td>0.9864993798137057</td><td>0.9868830844650426</td><td>0.987284197251538</td><td>0.9812907622976694</td><td>0.9868975811983052</td><td>0.9785472916037278</td><td>0.9816622151507401</td><td>0.9823575105880648</td><td>0.9825486843264377</td><td>0.9828461005385404</td><td>0.8195711035588799</td><td>0.807476853306257</td><td>0.8070994424087482</td><td>0.8185445638787611</td><td>0.8217744366328618</td><td>0.811156067041565</td><td>0.824300505347253</td><td>0.8112579926707167</td><td>0.8288158122929472</td><td>0.8104983863468078</td><td>0.8320351868104049</td><td>0.8096753627814373</td><td>0.8201985697653866</td><td>0.8115402044874014</td><td>0.8216712497060169</td><td>0.8131760634236924</td><td>0.8231201829361047</td><td>0.8148082035934885</td><td>0.8125768539171396</td><td>0.8106666036571909</td><td>0.819867214618322</td><td>0.8125249915526357</td><td>0.8217386123508249</td><td>0.8143306506116512</td><td>0.8142614705973866</td><td>0.8116602723819798</td><td>0.8084262416518866</td><td>0.8204710200992472</td><td>0.8180583394596185</td><td>0.8114618464981339</td><td>0.8196273033450518</td><td>0.8278949290949578</td><td>0.813519550775271</td><td>0.8293470909768569</td><td>0.8142136228813228</td><td>0.813990235719355</td><td>0.8132912420806393</td><td>0.8484016902670617</td><td>0.8263714618385711</td></tr><tr><td>blood_GSM1944770</td><td>0.9883839303357295</td><td>0.9897855645829982</td><td>1.0</td><td>0.9872553360784726</td><td>0.9898060834294602</td><td>0.9867287037551967</td><td>0.9858069365893185</td><td>0.9830583142088147</td><td>0.9866936770975184</td><td>0.9872249731348723</td><td>0.9882430609916458</td><td>0.986366704116296</td><td>0.9863166431841717</td><td>0.9875622991826515</td><td>0.9873942109789802</td><td>0.985586298021317</td><td>0.9870209225028074</td><td>0.981798167847199</td><td>0.9870245335349136</td><td>0.9803150643633236</td><td>0.9829571631092803</td><td>0.9827037251174621</td><td>0.9816451636195178</td><td>0.982337424417721</td><td>0.815250556363395</td><td>0.8029561016162314</td><td>0.8024799816109384</td><td>0.8138079506265583</td><td>0.8175967612065944</td><td>0.8068565404033105</td><td>0.8200913392895801</td><td>0.8068086134649856</td><td>0.824811690835987</td><td>0.8058530644085948</td><td>0.8279751539950974</td><td>0.8052257895030407</td><td>0.8158311317951389</td><td>0.8069006377258531</td><td>0.8173975632124367</td><td>0.8084459907124208</td><td>0.8190773912270102</td><td>0.8099044037968797</td><td>0.80791004216668</td><td>0.8061310279127886</td><td>0.8155659544123864</td><td>0.8080745650355916</td><td>0.8175056461888733</td><td>0.8100973938488432</td><td>0.8099482328625226</td><td>0.8072039138199436</td><td>0.8038328512219118</td><td>0.8161368878959928</td><td>0.8134759764067928</td><td>0.8070953354825485</td><td>0.8151790361945574</td><td>0.8236486330273449</td><td>0.8088026280018951</td><td>0.8251110273278857</td><td>0.8095269340302359</td><td>0.8092542072513866</td><td>0.8088346627865037</td><td>0.8445736667754963</td><td>0.8220051425451034</td></tr><tr><td>blood_GSM1944771</td><td>0.9837945224703988</td><td>0.9863693632539611</td><td>0.9872553360784726</td><td>1.0</td><td>0.9864579471092358</td><td>0.9887920313538647</td><td>0.9850991388708158</td><td>0.9853784687319823</td><td>0.9891063061740634</td><td>0.987679685175385</td><td>0.9874169922504521</td><td>0.9854604673125077</td><td>0.9868365998664806</td><td>0.987993270834804</td><td>0.984007215079025</td><td>0.9861888331202366</td><td>0.981935497718446</td><td>0.9810826095190595</td><td>0.9873989745014502</td><td>0.9813577713605094</td><td>0.9797042990198016</td><td>0.981597574773621</td><td>0.9813604081754469</td><td>0.9839054556623795</td><td>0.8202659863169224</td><td>0.8087933237275933</td><td>0.8087316417777549</td><td>0.8190195734517983</td><td>0.8222486709787779</td><td>0.8124532913900977</td><td>0.8241822215922808</td><td>0.8125895013981851</td><td>0.8281629457491749</td><td>0.811786190556643</td><td>0.8301868313727087</td><td>0.8111348086349706</td><td>0.8205463794592642</td><td>0.8127571958489802</td><td>0.8220430972235363</td><td>0.8142066911949243</td><td>0.8232622787868547</td><td>0.8153922540798534</td><td>0.814142372115674</td><td>0.8117844249202159</td><td>0.8203856333915163</td><td>0.8136086536794096</td><td>0.8218374522146357</td><td>0.8153444168912936</td><td>0.8154805960789724</td><td>0.8129166215970658</td><td>0.8099163467809242</td><td>0.8211908606125078</td><td>0.8187552520034468</td><td>0.8134932809111884</td><td>0.8203532354693054</td><td>0.8282743021553053</td><td>0.8149568512120211</td><td>0.8298117998562919</td><td>0.8153165643756637</td><td>0.8151823983160732</td><td>0.8145433478394573</td><td>0.8468976018497281</td><td>0.826964757816915</td></tr><tr><td>blood_GSM1944772</td><td>0.9880536855095976</td><td>0.9892259799503949</td><td>0.9898060834294602</td><td>0.9864579471092358</td><td>1.0</td><td>0.9884016383452993</td><td>0.9873579985508167</td><td>0.9837405462443849</td><td>0.987161399053703</td><td>0.9862011349693848</td><td>0.9877274142158514</td><td>0.9862670954602153</td><td>0.9864805038110933</td><td>0.9872077945417271</td><td>0.987135025749669</td><td>0.9855589552541729</td><td>0.9875088051713024</td><td>0.9820860952741222</td><td>0.9866683112732262</td><td>0.9807581988778585</td><td>0.9828820416649323</td><td>0.9836353069850378</td><td>0.9844579833658835</td><td>0.983693416665737</td><td>0.8179072852451151</td><td>0.805711935511535</td><td>0.8051887949490868</td><td>0.8161352797928526</td><td>0.8201683753323635</td><td>0.8094381775482685</td><td>0.822406969542219</td><td>0.809651555444993</td><td>0.8264086465260558</td><td>0.8086688116510873</td><td>0.8297902359460094</td><td>0.8079665943633024</td><td>0.8181250253395239</td><td>0.809661934667806</td><td>0.8196901489508094</td><td>0.8110772123757647</td><td>0.8214037810335704</td><td>0.8129276839953714</td><td>0.8103895632194605</td><td>0.8090825698598596</td><td>0.8181452487847107</td><td>0.8106904889728284</td><td>0.8198862172411152</td><td>0.8126817398906991</td><td>0.8129995618577464</td><td>0.8100070876865135</td><td>0.8066805529112733</td><td>0.8188544555907307</td><td>0.81609180884559</td><td>0.8095007432308832</td><td>0.8179766817325872</td><td>0.8260522227064928</td><td>0.8118220693657816</td><td>0.827212939631196</td><td>0.8124888505702593</td><td>0.8123429769428793</td><td>0.8115851533981631</td><td>0.8465014281128062</td><td>0.824684278555809</td></tr><tr><td>blood_GSM1944773</td><td>0.9848433540141376</td><td>0.9876502947148946</td><td>0.9867287037551967</td><td>0.9887920313538647</td><td>0.9884016383452993</td><td>1.0</td><td>0.987210094434322</td><td>0.9875001691447092</td><td>0.9911127999583401</td><td>0.9874729950347043</td><td>0.9877776411513914</td><td>0.9858217427522913</td><td>0.9899909480771054</td><td>0.9898100662544383</td><td>0.986582769196021</td><td>0.9887286026964927</td><td>0.9858940531221327</td><td>0.98103307895892</td><td>0.988515243287313</td><td>0.9831323312173671</td><td>0.9815121335314779</td><td>0.9842662890626467</td><td>0.9852432060593496</td><td>0.984984451609463</td><td>0.8224800024600977</td><td>0.8109239250602966</td><td>0.810789613087111</td><td>0.8208413425755127</td><td>0.8244440107640012</td><td>0.8145986240190245</td><td>0.8261973555381322</td><td>0.8143727187052535</td><td>0.8296616609423201</td><td>0.8138869257159502</td><td>0.8322543959522154</td><td>0.8135116115765456</td><td>0.8226389406739727</td><td>0.815065456989545</td><td>0.8241839749054075</td><td>0.8161723627553038</td><td>0.8255246976428037</td><td>0.817985083152949</td><td>0.8160687111567055</td><td>0.8145137633920342</td><td>0.8225857057517236</td><td>0.8160612727935971</td><td>0.8239841432509684</td><td>0.8176141771071903</td><td>0.8185340700411419</td><td>0.8156637033450778</td><td>0.8125050295281822</td><td>0.8234136656997787</td><td>0.8210458173908328</td><td>0.8153802644489248</td><td>0.8224593100245049</td><td>0.8308149484636143</td><td>0.8174509559445335</td><td>0.8315931462937778</td><td>0.8177821918993485</td><td>0.8177772409649101</td><td>0.816748538891108</td><td>0.849126118759413</td><td>0.8293529620187045</td></tr><tr><td>blood_GSM1944774</td><td>0.983604301986465</td><td>0.9849946255432092</td><td>0.9858069365893185</td><td>0.9850991388708158</td><td>0.9873579985508167</td><td>0.987210094434322</td><td>1.0</td><td>0.9818909026808951</td><td>0.9833297549427817</td><td>0.9827538458397881</td><td>0.9847095526927839</td><td>0.9836478907614964</td><td>0.9837015470631119</td><td>0.9835665941833813</td><td>0.9830544275522136</td><td>0.9825890663392526</td><td>0.9832229365269906</td><td>0.9800646275274375</td><td>0.9826396940210195</td><td>0.978925109664227</td><td>0.9802223524073296</td><td>0.9805692539139086</td><td>0.9813885634991244</td><td>0.9813230465250676</td><td>0.8169990508909658</td><td>0.8042587336262165</td><td>0.8040898450603368</td><td>0.8149817183375415</td><td>0.819432127026473</td><td>0.8085218914125134</td><td>0.8212686139841804</td><td>0.8079391689394839</td><td>0.8251587469311039</td><td>0.8069252097298418</td><td>0.8279854505004272</td><td>0.8064724265233105</td><td>0.8166756349816702</td><td>0.808308795642643</td><td>0.8184800522627979</td><td>0.8100784944136976</td><td>0.8198800211149281</td><td>0.8115793508943366</td><td>0.8095401597773189</td><td>0.8076646747376619</td><td>0.8166395825895205</td><td>0.8095500071596119</td><td>0.8184022150876067</td><td>0.8116053814848075</td><td>0.8119533546600997</td><td>0.8084276084019338</td><td>0.8051471816905367</td><td>0.8173548701541857</td><td>0.8148866285900213</td><td>0.808711932286021</td><td>0.8165252502787863</td><td>0.8251629735155048</td><td>0.8104166883511164</td><td>0.8266374758799078</td><td>0.8110021602252755</td><td>0.8108274327011441</td><td>0.8104150890258679</td><td>0.8446741098022498</td><td>0.8236309020633407</td></tr><tr><td>blood_GSM1944775</td><td>0.9783286238717319</td><td>0.9833220236709906</td><td>0.9830583142088147</td><td>0.9853784687319823</td><td>0.9837405462443849</td><td>0.9875001691447092</td><td>0.9818909026808951</td><td>1.0</td><td>0.9886701622956415</td><td>0.989059638324398</td><td>0.9859174145162575</td><td>0.9870449062558911</td><td>0.9901934873278037</td><td>0.9891987464032599</td><td>0.9848216971460001</td><td>0.9883542261090439</td><td>0.9850467414136624</td><td>0.986186491550263</td><td>0.9865574681475517</td><td>0.9903727265745047</td><td>0.9859392934994069</td><td>0.9857768174380211</td><td>0.9898617226687157</td><td>0.987877419127062</td><td>0.8159105039290679</td><td>0.8053635401902665</td><td>0.8050731029281305</td><td>0.8149532582255689</td><td>0.8179525983447821</td><td>0.8084897532182626</td><td>0.8194121016987751</td><td>0.8084076817086114</td><td>0.8230072562514661</td><td>0.80819657653123</td><td>0.8248321383342212</td><td>0.8075046492237861</td><td>0.8165381813713919</td><td>0.8093274466656621</td><td>0.8179718967057766</td><td>0.8106434482089417</td><td>0.8189697534994256</td><td>0.8123908140248846</td><td>0.8104099037018653</td><td>0.8081864669555671</td><td>0.8165519931337911</td><td>0.8102713367312852</td><td>0.8178836456135993</td><td>0.8117635189297118</td><td>0.8123277922690653</td><td>0.8097018466867545</td><td>0.8065652497533964</td><td>0.8175620085238718</td><td>0.8151882559300544</td><td>0.8101445465136428</td><td>0.8169040338075207</td><td>0.8246704992836521</td><td>0.811982768864162</td><td>0.8257968810245658</td><td>0.8119901914988428</td><td>0.8121098132342537</td><td>0.8113194790016967</td><td>0.8426636218747762</td><td>0.8238283720883066</td></tr><tr><td>blood_GSM1944776</td><td>0.9830085160614356</td><td>0.9879374663314192</td><td>0.9866936770975184</td><td>0.9891063061740634</td><td>0.987161399053703</td><td>0.9911127999583401</td><td>0.9833297549427817</td><td>0.9886701622956415</td><td>1.0</td><td>0.9893551209108005</td><td>0.9882342773942823</td><td>0.9864602895925829</td><td>0.991351911000258</td><td>0.9917505627396196</td><td>0.9865241629767199</td><td>0.9905552967072574</td><td>0.9851227816008042</td><td>0.9830252857494377</td><td>0.989090727037363</td><td>0.9834487350398535</td><td>0.9806127752142643</td><td>0.9847382519396468</td><td>0.9849525431064037</td><td>0.9863087147802023</td><td>0.8248680240231007</td><td>0.8143513126070034</td><td>0.8141052526728674</td><td>0.8237453699330505</td><td>0.8267091970298817</td><td>0.8176301802326166</td><td>0.8286649438959028</td><td>0.8173894536443116</td><td>0.8320786930143839</td><td>0.8169740662085253</td><td>0.8343398498067147</td><td>0.8164753111553007</td><td>0.8252783401955202</td><td>0.8181579639549453</td><td>0.8267854430187347</td><td>0.819338253540144</td><td>0.8278832139639801</td><td>0.8208573500577804</td><td>0.8190084233161627</td><td>0.8171311010981368</td><td>0.8255355679261589</td><td>0.819063405990337</td><td>0.8263779079470612</td><td>0.8204956105652823</td><td>0.8209276045904504</td><td>0.8185807335364892</td><td>0.8154878827883554</td><td>0.8261517055963236</td><td>0.8239382267200178</td><td>0.8185332478567924</td><td>0.8254267806525999</td><td>0.8330402589835678</td><td>0.8203824900201115</td><td>0.8340158082520903</td><td>0.8205987244498917</td><td>0.8208237715963651</td><td>0.820150952367692</td><td>0.8509445830617333</td><td>0.8316715370682416</td></tr><tr><td>blood_GSM1944777</td><td>0.9828573470404884</td><td>0.9873862437502897</td><td>0.9872249731348723</td><td>0.987679685175385</td><td>0.9862011349693848</td><td>0.9874729950347043</td><td>0.9827538458397881</td><td>0.989059638324398</td><td>0.9893551209108005</td><td>1.0</td><td>0.9884730014415817</td><td>0.9875539295449065</td><td>0.9889045138276532</td><td>0.989378990213332</td><td>0.9870407492961132</td><td>0.989305749814113</td><td>0.9851762743819735</td><td>0.9870795220538353</td><td>0.9886416582635448</td><td>0.9852816423742307</td><td>0.9842628582645755</td><td>0.9839492871959946</td><td>0.9841834101789276</td><td>0.9873119542464982</td><td>0.8167006083377838</td><td>0.8055938589849004</td><td>0.8051820068686908</td><td>0.8155916721186591</td><td>0.8185562242939747</td><td>0.8088267751264588</td><td>0.8207769952724148</td><td>0.8089235215865713</td><td>0.8247349399095737</td><td>0.8083196193530863</td><td>0.8268672857260809</td><td>0.8075079247314016</td><td>0.8172501429555048</td><td>0.8094963773236453</td><td>0.8189126438388517</td><td>0.8111817167640791</td><td>0.8197117442248374</td><td>0.8124714496412881</td><td>0.8108182502087369</td><td>0.8083902214699159</td><td>0.8171078211213508</td><td>0.8103893927645381</td><td>0.8187547354969005</td><td>0.8123590063669472</td><td>0.812210901713465</td><td>0.8098434074392518</td><td>0.8066018639599398</td><td>0.8178922619214087</td><td>0.8154294914050519</td><td>0.8102691460439161</td><td>0.8172867389160289</td><td>0.8248440241843547</td><td>0.811532352997592</td><td>0.826785635766895</td><td>0.8120304859218732</td><td>0.8118882156872369</td><td>0.8114080119534708</td><td>0.8438425686580691</td><td>0.8240655086045914</td></tr></table>"
      ]
     },
     "execution_count": 153,
     "metadata": {},
     "output_type": "execute_result"
    }
   ],
   "source": [
    "%%dataframe mouseCorSpearmanGO"
   ]
  },
  {
   "cell_type": "code",
   "execution_count": 154,
   "metadata": {},
   "outputs": [
    {
     "data": {
      "text/html": [
       "<table><tr><th>feature</th><th>blood_GSM1944768</th><th>blood_GSM1944769</th><th>blood_GSM1944770</th><th>blood_GSM1944771</th><th>blood_GSM1944772</th><th>blood_GSM1944773</th><th>blood_GSM1944774</th><th>blood_GSM1944775</th><th>blood_GSM1944776</th><th>blood_GSM1944777</th><th>blood_GSM1944778</th><th>blood_GSM1944779</th><th>blood_GSM1944780</th><th>blood_GSM1944781</th><th>blood_GSM1944782</th><th>blood_GSM1944783</th><th>blood_GSM1944784</th><th>blood_GSM1944785</th><th>blood_GSM1944786</th><th>blood_GSM1944787</th><th>blood_GSM1944788</th><th>blood_GSM1944789</th><th>blood_GSM1944790</th><th>blood_GSM1944791</th><th>brain_GSM1944792</th><th>brain_GSM1944793</th><th>brain_GSM1944794</th><th>brain_GSM1944795</th><th>brain_GSM1944796</th><th>brain_GSM1944797</th><th>brain_GSM1944798</th><th>brain_GSM1944799</th><th>brain_GSM1944800</th><th>brain_GSM1944801</th><th>brain_GSM1944802</th><th>brain_GSM1944803</th><th>brain_GSM1944804</th><th>brain_GSM1944805</th><th>brain_GSM1944806</th><th>brain_GSM1944807</th><th>brain_GSM1944808</th><th>brain_GSM1944809</th><th>brain_GSM1944810</th><th>brain_GSM1944811</th><th>brain_GSM1944812</th><th>brain_GSM1944813</th><th>brain_GSM1944814</th><th>brain_GSM1944815</th><th>brain_GSM1944816</th><th>brain_GSM1944817</th><th>brain_GSM1944818</th><th>brain_GSM1944819</th><th>brain_GSM1944820</th><th>brain_GSM1944821</th><th>brain_GSM1944822</th><th>brain_GSM1944823</th><th>brain_GSM1944824</th><th>brain_GSM1944825</th><th>brain_GSM1944826</th><th>brain_GSM1944827</th><th>brain_GSM1944828</th><th>brain_GSM1944829</th><th>brain_GSM1944830</th></tr><tr><td>blood_GSM1944768</td><td>1.0</td><td>0.9846446483622926</td><td>0.9980851371766833</td><td>0.9917084292717487</td><td>0.9971568775071147</td><td>0.988064636071325</td><td>0.9893788180748317</td><td>0.9744811513775106</td><td>0.9896245485655729</td><td>0.9855079310052055</td><td>0.9973992458285029</td><td>0.9853886300946268</td><td>0.9910970661815564</td><td>0.9933906412903273</td><td>0.9947226206389634</td><td>0.9604928670034798</td><td>0.9643237296879814</td><td>0.9775477705374063</td><td>0.9928963163285105</td><td>0.9581407924217994</td><td>0.9747148173111069</td><td>0.982816481104321</td><td>0.9639552147250152</td><td>0.9863398737361496</td><td>0.7047498046388438</td><td>0.7168118730950348</td><td>0.7172034922873363</td><td>0.7218648945157745</td><td>0.7082100185348961</td><td>0.7110356062151517</td><td>0.7026150661135709</td><td>0.7193843155134402</td><td>0.7100762524958609</td><td>0.7148190328632098</td><td>0.6969602040757783</td><td>0.7171290844308347</td><td>0.7113712056195775</td><td>0.7201269564949477</td><td>0.7045860439593817</td><td>0.717643993918895</td><td>0.7077783923145217</td><td>0.7183304615548879</td><td>0.7127728234017252</td><td>0.7108844765654995</td><td>0.7118886789439702</td><td>0.7144170439882366</td><td>0.6963932325549816</td><td>0.7144223068341461</td><td>0.7095067258555272</td><td>0.7170258176397171</td><td>0.720688652554987</td><td>0.7153314294026786</td><td>0.7243735869955589</td><td>0.7187814242083671</td><td>0.7121861045053898</td><td>0.7186896003098009</td><td>0.7178896291770689</td><td>0.7116994318970996</td><td>0.7243179605752254</td><td>0.7210633874194229</td><td>0.7153651704795391</td><td>0.7174431790106984</td><td>0.7204653185313988</td></tr><tr><td>blood_GSM1944769</td><td>0.9846446483622926</td><td>1.0</td><td>0.9886882730623747</td><td>0.9652970776684366</td><td>0.9902194662876374</td><td>0.9917285595399368</td><td>0.9907421428188578</td><td>0.9489227412901139</td><td>0.9823891021991021</td><td>0.9519979660317458</td><td>0.9872921894534505</td><td>0.9492855262878593</td><td>0.9862774310811374</td><td>0.9860633915751444</td><td>0.9781091143174531</td><td>0.9886177636472916</td><td>0.9906561389704172</td><td>0.9669839125706404</td><td>0.9849314014700292</td><td>0.9063173026750321</td><td>0.9736857229291959</td><td>0.9912562370427779</td><td>0.9798439430954868</td><td>0.961651897846422</td><td>0.76227192569714</td><td>0.7709336828624928</td><td>0.7709508917048264</td><td>0.7789731405910428</td><td>0.7655538684631256</td><td>0.7668716017091509</td><td>0.7627951035845694</td><td>0.7748693556626918</td><td>0.7710879257489398</td><td>0.7692944212781417</td><td>0.7580632566583967</td><td>0.7712193922143836</td><td>0.7681095860114069</td><td>0.774339233880614</td><td>0.7626648383149195</td><td>0.7731243660008059</td><td>0.7664041097427089</td><td>0.7732634265147612</td><td>0.7674394100707451</td><td>0.7657484854457492</td><td>0.7687385454854556</td><td>0.7694331852111707</td><td>0.7550277346050888</td><td>0.7703268709896878</td><td>0.764954179673366</td><td>0.7716512959173295</td><td>0.7739895384750263</td><td>0.7721796660245356</td><td>0.7794180798658052</td><td>0.772785185173507</td><td>0.7689059975456449</td><td>0.7759851642655538</td><td>0.7721807178865634</td><td>0.7704231270266758</td><td>0.7781723021873744</td><td>0.7750004642749844</td><td>0.7699636449102923</td><td>0.7790261332278514</td><td>0.7776630784191864</td></tr><tr><td>blood_GSM1944770</td><td>0.9980851371766833</td><td>0.9886882730623747</td><td>1.0</td><td>0.9890540229150302</td><td>0.9975569435246735</td><td>0.9892708047917383</td><td>0.9906453863076788</td><td>0.9730204497211967</td><td>0.9903135014614604</td><td>0.9823258433612965</td><td>0.9980388475565418</td><td>0.9792135261614832</td><td>0.9952516172138786</td><td>0.9952694832112665</td><td>0.9915513038470141</td><td>0.9670166833563026</td><td>0.9668418002173436</td><td>0.978238467330825</td><td>0.991198768930123</td><td>0.9496243679729596</td><td>0.975800531273551</td><td>0.9881819147354685</td><td>0.9723021542333821</td><td>0.9831951992606196</td><td>0.693726082365405</td><td>0.7063333900588964</td><td>0.7067419246243296</td><td>0.7115517835133314</td><td>0.697326593442563</td><td>0.7002174060802296</td><td>0.6917082171523631</td><td>0.7090148863819072</td><td>0.6994983320925696</td><td>0.7042354584223282</td><td>0.6859534100871931</td><td>0.7066600698440654</td><td>0.7006845203594136</td><td>0.7098721792239828</td><td>0.6936413664486877</td><td>0.7071555552621974</td><td>0.6969330189245554</td><td>0.707940837718034</td><td>0.7020573234978381</td><td>0.7000858069311795</td><td>0.7012343643225695</td><td>0.7037899888784905</td><td>0.6850630217978908</td><td>0.7037407575633794</td><td>0.6986011203017235</td><td>0.706502895503981</td><td>0.7105157301214641</td><td>0.7048889827649013</td><td>0.7144482586357286</td><td>0.7084678200422221</td><td>0.7015030852810655</td><td>0.7083726166056515</td><td>0.7074207557975204</td><td>0.7011296654398149</td><td>0.7142012726921377</td><td>0.7108346631611997</td><td>0.7047415168109614</td><td>0.7076241744043198</td><td>0.7102344234824816</td></tr><tr><td>blood_GSM1944771</td><td>0.9917084292717487</td><td>0.9652970776684366</td><td>0.9890540229150302</td><td>1.0</td><td>0.9907723504371025</td><td>0.9809961839941684</td><td>0.9804837085948069</td><td>0.9859998053262222</td><td>0.9905891196590012</td><td>0.9968025183212286</td><td>0.9936444039518669</td><td>0.996047233117124</td><td>0.9851712631472032</td><td>0.991331606637166</td><td>0.9940608321799069</td><td>0.9410054494749643</td><td>0.9395758180016318</td><td>0.97804958936685</td><td>0.990637501623963</td><td>0.9797295860728689</td><td>0.9594628106317106</td><td>0.9659147384712045</td><td>0.9470298332313496</td><td>0.9942926816551467</td><td>0.6818929962895731</td><td>0.6968386237025058</td><td>0.6976198681026655</td><td>0.7004889475440204</td><td>0.6856251084366525</td><td>0.6897992187136303</td><td>0.6778604538136442</td><td>0.6987550901939705</td><td>0.685546517292731</td><td>0.6945060524624113</td><td>0.6710816259211942</td><td>0.6971128431410293</td><td>0.68911065950847</td><td>0.7001307821107158</td><td>0.681043140604311</td><td>0.6969347698183533</td><td>0.6844503564696414</td><td>0.6978092387174758</td><td>0.6922393041140851</td><td>0.6900815330357932</td><td>0.6895911681502795</td><td>0.6937650952988893</td><td>0.6723538730386394</td><td>0.6933816647408594</td><td>0.6882783401721714</td><td>0.696775138474346</td><td>0.7012201676593545</td><td>0.6929530460758595</td><td>0.7035722787535723</td><td>0.6987946149456562</td><td>0.6901329794163708</td><td>0.6963261046455094</td><td>0.6978757155244588</td><td>0.6880984803158636</td><td>0.704875003022062</td><td>0.7014171022440601</td><td>0.6950344987067735</td><td>0.6915220604568962</td><td>0.6983249327772064</td></tr><tr><td>blood_GSM1944772</td><td>0.9971568775071147</td><td>0.9902194662876374</td><td>0.9975569435246735</td><td>0.9907723504371025</td><td>1.0</td><td>0.994346085178686</td><td>0.9942150813209123</td><td>0.975103752771383</td><td>0.9936293423660666</td><td>0.9821274986140874</td><td>0.9988751466332559</td><td>0.9819131885617257</td><td>0.9929319531920454</td><td>0.9964295439646361</td><td>0.9935518814011814</td><td>0.970979350676734</td><td>0.9732920488483485</td><td>0.9776085350062663</td><td>0.9968043594731725</td><td>0.9521491626586271</td><td>0.975594482367908</td><td>0.9876392658855548</td><td>0.9715993876212082</td><td>0.9857962104624686</td><td>0.7256040380630157</td><td>0.7364278004595058</td><td>0.7367222445809926</td><td>0.7425135030584222</td><td>0.7289518290747474</td><td>0.7312951821835413</td><td>0.7243862821137113</td><td>0.7394693423229644</td><td>0.7320704315049009</td><td>0.7345968064164486</td><td>0.7190419586136155</td><td>0.7367294432299238</td><td>0.7318762278919066</td><td>0.7397061238067951</td><td>0.7255606230905873</td><td>0.7377250267514068</td><td>0.728983761692824</td><td>0.7383163070008862</td><td>0.732613330060103</td><td>0.7308205193803603</td><td>0.7324482792077444</td><td>0.7343958847220597</td><td>0.7176775806180565</td><td>0.734681719172398</td><td>0.7296456077007918</td><td>0.7368273175356436</td><td>0.7399420769680704</td><td>0.7358185633503873</td><td>0.744250861517748</td><td>0.7383160178725161</td><td>0.7327208250501248</td><td>0.7393604770220271</td><td>0.7376527952585507</td><td>0.732889707771461</td><td>0.7437748576409681</td><td>0.7407077129241108</td><td>0.735180784985814</td><td>0.7393994715541934</td><td>0.7411411578760071</td></tr><tr><td>blood_GSM1944773</td><td>0.988064636071325</td><td>0.9917285595399368</td><td>0.9892708047917383</td><td>0.9809961839941684</td><td>0.994346085178686</td><td>1.0</td><td>0.9977881779357202</td><td>0.9743303308745953</td><td>0.9958394724991634</td><td>0.9697088570413142</td><td>0.9931531061537616</td><td>0.9713781454573825</td><td>0.9905887359332275</td><td>0.9951998662866023</td><td>0.989319808490148</td><td>0.9845793183801106</td><td>0.9846139609987655</td><td>0.9786697502707002</td><td>0.995108248091038</td><td>0.9388803872465669</td><td>0.9765935411928625</td><td>0.9871534742028504</td><td>0.978370467930755</td><td>0.981699460694665</td><td>0.7737855317241924</td><td>0.7860991898153139</td><td>0.7866050202332828</td><td>0.7895264402712029</td><td>0.7769628288065373</td><td>0.780203388305243</td><td>0.7706525525672258</td><td>0.7881226572106214</td><td>0.7764044961781423</td><td>0.7842684606315184</td><td>0.7645502118239582</td><td>0.7863915937482906</td><td>0.7802970069899471</td><td>0.7891916469855422</td><td>0.7733475126995476</td><td>0.7863543896424903</td><td>0.7760084144595776</td><td>0.7875171294642878</td><td>0.7822381487405797</td><td>0.7804855730937802</td><td>0.7807753233201794</td><td>0.783787425309256</td><td>0.7654446508473632</td><td>0.7832475698886938</td><td>0.7789852975782744</td><td>0.78615450903608</td><td>0.789952605602733</td><td>0.784047929091647</td><td>0.7930577762684166</td><td>0.7880734738863425</td><td>0.7811496558133051</td><td>0.7869707550033734</td><td>0.7872596109220596</td><td>0.7798657867399513</td><td>0.7929446703515866</td><td>0.790280742851464</td><td>0.7846898923961855</td><td>0.7838618902817376</td><td>0.788763384743992</td></tr><tr><td>blood_GSM1944774</td><td>0.9893788180748317</td><td>0.9907421428188578</td><td>0.9906453863076788</td><td>0.9804837085948069</td><td>0.9942150813209123</td><td>0.9977881779357202</td><td>1.0</td><td>0.9776700279295572</td><td>0.9930306842399921</td><td>0.9705727681211023</td><td>0.9937851879696479</td><td>0.9717366546045021</td><td>0.991405856766426</td><td>0.9940007244798013</td><td>0.9895941918825402</td><td>0.9811913039017001</td><td>0.9829178208816407</td><td>0.9821113553132809</td><td>0.9937355293732266</td><td>0.9435172780259728</td><td>0.9843097316341588</td><td>0.9902425727114043</td><td>0.9815804807532579</td><td>0.9816912491450435</td><td>0.7585718682309435</td><td>0.7707295275280308</td><td>0.7713252614212057</td><td>0.7747219624200015</td><td>0.7617727540516955</td><td>0.7648619401381949</td><td>0.7558099004482755</td><td>0.7729686928071086</td><td>0.7619932016899283</td><td>0.7689525845826609</td><td>0.7498604126111862</td><td>0.7710816647356458</td><td>0.7651492007379479</td><td>0.7739418215757795</td><td>0.7582493350485626</td><td>0.7711642292117995</td><td>0.760985706997133</td><td>0.772447322011228</td><td>0.7668783489468113</td><td>0.7650799126106783</td><td>0.765656357041286</td><td>0.7684595478433879</td><td>0.7502503847574535</td><td>0.7680113543498547</td><td>0.7636525594373865</td><td>0.7709162385948987</td><td>0.7747325224956366</td><td>0.7689840653899718</td><td>0.7782619189444726</td><td>0.7728231414907111</td><td>0.7660028562747322</td><td>0.7720979453623311</td><td>0.7720900779608247</td><td>0.7650162153151161</td><td>0.7778657346378484</td><td>0.7752425136188932</td><td>0.7693606334816774</td><td>0.7695988624910871</td><td>0.7739226593595508</td></tr><tr><td>blood_GSM1944775</td><td>0.9744811513775106</td><td>0.9489227412901139</td><td>0.9730204497211967</td><td>0.9859998053262222</td><td>0.975103752771383</td><td>0.9743303308745953</td><td>0.9776700279295572</td><td>1.0</td><td>0.9859870477936973</td><td>0.9877560412786341</td><td>0.9806066763148292</td><td>0.9865357631531664</td><td>0.9814047792229098</td><td>0.9847282377509211</td><td>0.9848127952730252</td><td>0.9414754953614458</td><td>0.9307732084299005</td><td>0.988318821977706</td><td>0.9784455732488581</td><td>0.9827440534133546</td><td>0.971722322299855</td><td>0.9627334028700231</td><td>0.9583099099695644</td><td>0.9939422175646572</td><td>0.6773610151704071</td><td>0.6996591948847398</td><td>0.701562718104662</td><td>0.6980798535256225</td><td>0.6814426035313077</td><td>0.6890528316927829</td><td>0.6680405616734095</td><td>0.6995002938388613</td><td>0.6742554593139353</td><td>0.6968142380060198</td><td>0.6585968839390061</td><td>0.7000153400365279</td><td>0.6865332918569437</td><td>0.7032118506923591</td><td>0.6752912622389429</td><td>0.6972653566349525</td><td>0.6777916521094297</td><td>0.6995722536387542</td><td>0.6938104991916525</td><td>0.6910494807402342</td><td>0.6868945275917925</td><td>0.6949272267023031</td><td>0.6649628216900608</td><td>0.6927056412694047</td><td>0.6880327907541428</td><td>0.6987600656583806</td><td>0.7060797788199566</td><td>0.6904451949393435</td><td>0.7056380444455227</td><td>0.7022037904277924</td><td>0.6879427928240394</td><td>0.6932303870896508</td><td>0.7006558019614648</td><td>0.6817654614769679</td><td>0.7088173964695562</td><td>0.705444925420306</td><td>0.6968915828658809</td><td>0.6800567979522476</td><td>0.6956552783579822</td></tr><tr><td>blood_GSM1944776</td><td>0.9896245485655729</td><td>0.9823891021991021</td><td>0.9903135014614604</td><td>0.9905891196590012</td><td>0.9936293423660666</td><td>0.9958394724991634</td><td>0.9930306842399921</td><td>0.9859870477936973</td><td>1.0</td><td>0.9842729493428408</td><td>0.994981004326856</td><td>0.9834160415042841</td><td>0.9939262591447565</td><td>0.998546253194835</td><td>0.9941309702946093</td><td>0.9747784698861449</td><td>0.9675504024016368</td><td>0.9864779151463848</td><td>0.9945679107101496</td><td>0.9578946733556204</td><td>0.9732749078692897</td><td>0.9809501978112454</td><td>0.9718014904601745</td><td>0.9924435599133337</td><td>0.7331063983040302</td><td>0.7492218476137544</td><td>0.7501486319471262</td><td>0.7514081672881068</td><td>0.7367864717778059</td><td>0.7415768358149258</td><td>0.7279891652418287</td><td>0.7506595322785757</td><td>0.7346236345834374</td><td>0.7468676180553273</td><td>0.7206326422372223</td><td>0.7494852950751781</td><td>0.7406624092312218</td><td>0.7525474864946174</td><td>0.7320696301239602</td><td>0.7486998375991049</td><td>0.7350416380977807</td><td>0.750020284878006</td><td>0.7444782487802628</td><td>0.7422944111270343</td><td>0.7411267905473181</td><td>0.7459641425818353</td><td>0.7231195379311376</td><td>0.7450027396012305</td><td>0.740251524826489</td><td>0.7489481121007353</td><td>0.7539492681117863</td><td>0.7445892948571677</td><td>0.7558281205295473</td><td>0.7513219011062269</td><td>0.7417592225704499</td><td>0.7476794769515609</td><td>0.7502293943749444</td><td>0.738924252039</td><td>0.757168231725285</td><td>0.7539606607391268</td><td>0.7473028045497296</td><td>0.7414389912196199</td><td>0.7497218954037379</td></tr><tr><td>blood_GSM1944777</td><td>0.9855079310052055</td><td>0.9519979660317458</td><td>0.9823258433612965</td><td>0.9968025183212286</td><td>0.9821274986140874</td><td>0.9697088570413142</td><td>0.9705727681211023</td><td>0.9877560412786341</td><td>0.9842729493428408</td><td>1.0</td><td>0.9873949201389687</td><td>0.9959248767017234</td><td>0.9806958483341037</td><td>0.9855202557709141</td><td>0.9899655350060399</td><td>0.9269220925895426</td><td>0.9213905215233075</td><td>0.9770801583475586</td><td>0.982771411798414</td><td>0.9871231266325501</td><td>0.9545958130762209</td><td>0.9563515687979391</td><td>0.9379265720904703</td><td>0.9941198878819709</td><td>0.6425638489445741</td><td>0.6600910618081806</td><td>0.6612456905951689</td><td>0.6632555421063369</td><td>0.646638068454746</td><td>0.6518699487785824</td><td>0.6373519309661946</td><td>0.6617633946148068</td><td>0.6460201983185694</td><td>0.6574472750569482</td><td>0.6297940679175726</td><td>0.6603924935012898</td><td>0.6505217018132631</td><td>0.663623178345848</td><td>0.6413495073839237</td><td>0.6597662332990641</td><td>0.6450254665924922</td><td>0.6607502291361055</td><td>0.6548904722359559</td><td>0.6523758428053874</td><td>0.6510093682318573</td><td>0.6563924651540624</td><td>0.631888950265231</td><td>0.6557905213906463</td><td>0.6502650313436522</td><td>0.6598834016943391</td><td>0.6651611910783023</td><td>0.6545029140082503</td><td>0.6668223631863331</td><td>0.6621784736818981</td><td>0.651762318996409</td><td>0.6581055228732106</td><td>0.6610803939665588</td><td>0.6487301732860188</td><td>0.6690788327492421</td><td>0.6652331835832822</td><td>0.6579539869074958</td><td>0.6514430054307193</td><td>0.6602791366673737</td></tr></table>"
      ]
     },
     "execution_count": 154,
     "metadata": {},
     "output_type": "execute_result"
    }
   ],
   "source": [
    "%%dataframe mouseCorPearsonGO"
   ]
  },
  {
   "cell_type": "code",
   "execution_count": 155,
   "metadata": {},
   "outputs": [
    {
     "data": {
      "text/plain": [
       "wasbs://storage@pipelines1.blob.core.windows.net/expressions/go/grouped/correlations/pearson_go_mouse_GSE75192.tsv"
      ]
     },
     "execution_count": 155,
     "metadata": {},
     "output_type": "execute_result"
    }
   ],
   "source": [
    "write(mouseCorSpearmanGO, az(corPath + \"/spearman_go_mouse_GSE75192.tsv\"))\n",
    "write(mouseCorPearsonGO, az(corPath + \"/pearson_go_mouse_GSE75192.tsv\"))"
   ]
  },
  {
   "cell_type": "code",
   "execution_count": 156,
   "metadata": {},
   "outputs": [
    {
     "data": {
      "text/plain": [
       "wasbs://storage@pipelines1.blob.core.windows.net/expressions/validation/mouse/GSE75192/go_mouse_GSE75192.tsv"
      ]
     },
     "execution_count": 156,
     "metadata": {},
     "output_type": "execute_result"
    }
   ],
   "source": [
    "write(gMice, az(jenageValidationPath + \"/go_mouse_GSE75192.tsv\"))"
   ]
  },
  {
   "cell_type": "code",
   "execution_count": 2,
   "metadata": {},
   "outputs": [
    {
     "name": "stdout",
     "output_type": "stream",
     "text": [
      "Starting download from https://brunelvis.org/jar/spark-kernel-brunel-all-2.6.jar\n",
      "Finished download of spark-kernel-brunel-all-2.6.jar\n"
     ]
    }
   ],
   "source": [
    "%AddJar -magic https://brunelvis.org/jar/spark-kernel-brunel-all-2.6.jar"
   ]
  },
  {
   "cell_type": "code",
   "execution_count": 3,
   "metadata": {},
   "outputs": [
    {
     "data": {
      "text/plain": [
       "<console>:158: error: not found: value mouseCorPearsonGO\n",
       "       mouseCorPearsonGO\n",
       "       ^\n"
      ]
     },
     "metadata": {},
     "output_type": "display_data",
     "source": "user"
    },
    {
     "data": {
      "text/plain": [
       "Magic brunel failed to execute with error: \n",
       "compile-time error"
      ]
     },
     "execution_count": 3,
     "metadata": {},
     "output_type": "execute_result"
    }
   ],
   "source": [
    " %%brunel data('mouseCorPearsonGO') map x(feature)"
   ]
  },
  {
   "cell_type": "markdown",
   "metadata": {},
   "source": [
    "For Mitya\n",
    "=====\n",
    "\n",
    "Two cells below are for Mitya to get infromation about Uniref90 and Go. As"
   ]
  },
  {
   "cell_type": "code",
   "execution_count": null,
   "metadata": {},
   "outputs": [],
   "source": []
  },
  {
   "cell_type": "code",
   "execution_count": 34,
   "metadata": {},
   "outputs": [
    {
     "data": {
      "text/plain": [
       "go = GO:0070062\n",
       "searchGO = [uniprot_ac: string, uniprot_id: string ... 20 more fields]\n"
      ]
     },
     "metadata": {},
     "output_type": "display_data"
    },
    {
     "data": {
      "text/plain": [
       "[uniprot_ac: string, uniprot_id: string ... 20 more fields]"
      ]
     },
     "execution_count": 34,
     "metadata": {},
     "output_type": "execute_result"
    }
   ],
   "source": [
    "val go = \"GO:0070062\" //put your GO term inside quotes\n",
    "val searchGO = mapping.filter($\"go\".contains(go))"
   ]
  },
  {
   "cell_type": "code",
   "execution_count": 35,
   "metadata": {},
   "outputs": [
    {
     "data": {
      "text/html": [
       "<table><tr><th>uniprot_ac</th><th>uniprot_id</th><th>entrez</th><th>refSeq</th><th>gi</th><th>pdb</th><th>go</th><th>uniref100</th><th>uniref90</th><th>uniref50</th><th>uniparc</th><th>pir</th><th>taxon</th><th>mim</th><th>unigene</th><th>pubmed</th><th>embl</th><th>embl_cds</th><th>ensembl</th><th>ensembl_trs</th><th>ensembl_pro</th><th>additional_pubmed</th></tr><tr><td>Q5ZLQ6</td><td>1433B_CHICK</td><td>419190</td><td>NP_001006289.1</td><td>53128824; 82197872; 57529350</td><td>null</td><td>GO:0005829; GO:0070062; GO:0005925; GO:0016020; GO:0048471; GO:0045296; GO:0042826; GO:0042802; GO:0050815; GO:0019904; GO:0051220; GO:0045744; GO:0035308; GO:0043085; GO:0006605</td><td>UniRef100_Q5ZLQ6</td><td>UniRef90_Q5ZLQ6</td><td>UniRef50_P61981</td><td>UPI00004434D0</td><td>null</td><td>9031</td><td>null</td><td>Gga.34332</td><td>15642098</td><td>AJ719678</td><td>CAG31337.1</td><td>ENSGALG00000004143</td><td>ENSGALT00000044506</td><td>ENSGALP00000043305</td><td>22174833</td></tr><tr><td>P31946</td><td>1433B_HUMAN</td><td>7529</td><td>NP_003395.1; NP_647539.1; XP_016883528.1</td><td>4507949; 377656702; 67464628; 1345590; 1034625756; 21328448; 377656701; 67464627; 78101741</td><td>2BQ0:A; 2BQ0:B; 2C23:A; 4DNK:A; 4DNK:B; 5N10:A; 5N10:B</td><td>GO:0005737; GO:0030659; GO:0005829; GO:0070062; GO:0005925; GO:0042470; GO:0016020; GO:0005739; GO:0005634; GO:0048471; GO:0043234; GO:0017053; GO:0045296; GO:0019899; GO:0042826; GO:0042802; GO:0051219; GO:0050815; GO:0008022; GO:0032403; GO:0019904; GO:0003714; GO:0051220; GO:0035329; GO:0000165; GO:0061024; GO:0045744; GO:0035308; GO:0045892; GO:0043085; GO:1900740; GO:0051291; GO:0006605; GO:0043488; GO:0016032</td><td>UniRef100_P31946</td><td>UniRef90_P31946</td><td>UniRef50_P31946</td><td>UPI000013C714</td><td>S34755</td><td>9606</td><td>601289</td><td>Hs.643544</td><td>8515476; 14702039; 11780052; 15489334; 23572552; 12665801; 11427721; 15454081; 15538381; 15159416; 15696159; 17081065; 17974916; 17717073; 18249187; 19172738; 19640509; 19592491; 19690332; 19608861; 21269460; 21224381; 22827337; 22814378; 23186163; 23938468; 24636949; 24275569; 26047703; 25588844; 25489052; 25944712; 17085597; 21248752</td><td>X57346; AK292717; AL008725; CH471077; CH471077; CH471077; BC001359</td><td>CAA40621.1; BAF85406.1; CAA15497.1; EAW75893.1; EAW75894.1; EAW75896.1; AAH01359.1</td><td>ENSG00000166913</td><td>ENST00000353703; ENST00000372839</td><td>ENSP00000300161; ENSP00000361930</td><td>11996670; 12364343; 12437930; 12468542; 12482592; 12582162; 12618428; 12669242; 14680818; 15022330; 15389601; 15726117; 16166738; 17098443; 17229891; 17531190; 18094049; 19173300; 19360691; 19558434; 19821490; 20070120; 20381070; 20388496; 21147917; 21262972; 21396404; 21553213; 21598387; 21708191; 21935479; 21948273; 21972092; 22125622; 22278744; 23053962; 24038028; 24269229; 24555778; 25228695; 26260846; 26730736; 28510303; 10409742; 10713667; 10775038; 10840038; 10862767; 10958686; 11157475; 11279064; 11313964; 11555644; 11697890; 11886850; 12383250; 12438239; 12620389; 12871587; 12963375; 14651979; 14679215; 14688255; 14701738; 14743216; 15023544; 15057270; 15173315; 15324660; 15629149; 15684389; 15691829; 15860732; 15883195; 16282323; 16511560; 16581770; 16672054; 16672277; 16717153; 16775625; 16868027; 16959763; 17170118; 17314511; 17353931; 17461779; 17500595; 17620599; 17923693; 17965023; 17979178; 18029035; 18160719; 18308725; 18372248; 18458160; 18460465; 18626018; 18647389; 18771726; 19129461; 19135240; 19270694; 19329994; 19595761; 19615732; 19691494; 19725029; 19738201; 19805454; 19860830; 19955570; 20000738; 20048001; 20169078; 20195357; 20363754; 20562859; 20598904; 20618440; 20639859; 20642453; 20936779; 21112954; 21278420; 21282530; 21565611; 21706016; 21771788; 21900206; 21903422; 21911578; 22078878; 22190034; 22304920; 22593156; 22623428; 22677168; 22810585; 23602568; 23622247; 23752268; 24255178; 24366813; 24510904; 24658140; 24947832; 25036637; 25277244; 25609649; 25852190; 26496610; 26514267; 26638075; 7644510; 7882972; 7935795; 8085158; 9341175; 9581554</td></tr><tr><td>Q9CQV8</td><td>1433B_MOUSE</td><td>54401</td><td>NP_061223.2; XP_006499972.1</td><td>1009083986; 409974018; 74219534; 31543974; 3065925; 568917832; 18202836; 74191394</td><td>4GNT:A; 5F74:A</td><td>GO:0005737; GO:0030659; GO:0005829; GO:0070062; GO:0005925; GO:0042470; GO:0016020; GO:0005634; GO:0048471; GO:0043234; GO:0017053; GO:0045296; GO:0019899; GO:0042826; GO:0042802; GO:0051219; GO:0050815; GO:0008022; GO:0032403; GO:0019904; GO:0003714; GO:0051220; GO:0045744; GO:0035308; GO:0045892; GO:0043085; GO:0051291; GO:0006605</td><td>UniRef100_Q9CQV8</td><td>UniRef90_P35213</td><td>UniRef50_P27348</td><td>UPI0000004168</td><td>null</td><td>10090</td><td>null</td><td>Mm.34319; Mm.491117</td><td>16141072; 9705322; 15883195; 16800626; 18604201; 21183079; 20478393; 26047703</td><td>AF058797; AK002632; AK004872; AK011389; AK083367; AK144061; AK150414; AK151294; AK158932</td><td>AAC14343.1; BAB22246.1; BAB23631.1; BAB27587.1; BAC38886.1; BAE25678.1; BAE29538.1; BAE30278.1; BAE34730.1</td><td>ENSMUSG00000018326</td><td>ENSMUST00000018470</td><td>ENSMUSP00000018470</td><td>11217851; 12008017; 12446771; 12466851; 12937170; 14610273; 14679215; 15226823; 15240115; 16099986; 16282323; 16602821; 16635246; 16959763; 17923476; 18237277; 18239087; 18332103; 18606808; 18799693; 19014373; 19429675; 19841136; 19915011; 19955570; 20598904; 21267068; 21390248; 23071090; 23177959; 23615913; 23791194; 24026679; 24206222; 24726955; 26214742; 26984404; 11875115; 12796778; 16613846; 18628823; 18687683; 19223768; 19423573; 19834914; 20410134; 20412061; 20697350; 21112954; 26045162; 26514267; 9422753</td></tr><tr><td>P35213</td><td>1433B_RAT</td><td>56011</td><td>NP_062250.1</td><td>1911805; 265428; 49904289; 9507243; 1345591; 149042981; 402524</td><td>null</td><td>GO:0005737; GO:0005829; GO:0070062; GO:0005925; GO:0042470; GO:0016020; GO:0005634; GO:0048471; GO:0043234; GO:0017053; GO:0045296; GO:0019899; GO:0042826; GO:0042802; GO:0051219; GO:0050815; GO:0008022; GO:0032403; GO:0019904; GO:0003714; GO:0051220; GO:0045744; GO:0035308; GO:0045892; GO:0043085; GO:0051291; GO:0006605</td><td>UniRef100_P35213</td><td>UniRef90_P35213</td><td>UniRef50_P27348</td><td>UPI00001679A5</td><td>A49023</td><td>10116</td><td>null</td><td>Rn.230081; Rn.8653</td><td>8381897; 8749325; 15489334; 11427721</td><td>D17446; S55223; S83440; BC076502</td><td>BAA04260.1; AAA13843.1; AAB50874.1; AAH76502.1</td><td>ENSRNOG00000010945</td><td>ENSRNOT00000016981</td><td>ENSRNOP00000016981</td><td>10644344; 12437930; 12618428; 12871587; 16396496; 18242179; 21112954; 24687852; 12619878; 12786973; 15902199; 18460465; 20629186; 21454690</td></tr><tr><td>P62261</td><td>1433E_BOVIN</td><td>282125</td><td>NP_776916.1</td><td>73586683; 27806197; 71153779; 3676399</td><td>null</td><td>GO:0005737; GO:0070062; GO:0005925; GO:0042470; GO:0005739; GO:0005634; GO:0005886; GO:0045296; GO:0005246; GO:0042826; GO:0042802; GO:0044325; GO:0023026; GO:0050815; GO:0015459; GO:0019904; GO:0046982; GO:0003723; GO:0031625; GO:0034605; GO:0021987; GO:0021766; GO:0000165; GO:1905913; GO:1901020; GO:1902309; GO:0001764; GO:0046827; GO:0006605; GO:0051480; GO:0060306; GO:1901016; GO:0021762</td><td>UniRef100_P62258</td><td>UniRef90_P62258</td><td>UniRef50_P62258</td><td>UPI0000021A46</td><td>null</td><td>9913</td><td>null</td><td>Bt.4035</td><td>7931346</td><td>AF043735; BC102928</td><td>AAC61927.1; AAI02929.1</td><td>ENSBTAG00000005664</td><td>ENSBTAT00000007442</td><td>ENSBTAP00000007442</td><td>null</td></tr><tr><td>Q5ZMT0</td><td>1433E_CHICK</td><td>417554</td><td>NP_001006219.1</td><td>55741616; 82197924; 53126523</td><td>null</td><td>GO:0005737; GO:0070062; GO:0005925; GO:0005739; GO:0005634; GO:0005886; GO:0045296; GO:0005246; GO:0042826; GO:0042802; GO:0044325; GO:0023026; GO:0050815; GO:0015459; GO:0019904; GO:0046982; GO:0003723; GO:0031625; GO:0034605; GO:0021987; GO:0021766; GO:0000165; GO:1905913; GO:1901020; GO:1902309; GO:0001764; GO:0046827; GO:0006605; GO:0051480; GO:0060306; GO:1901016; GO:0021762</td><td>UniRef100_P62258</td><td>UniRef90_P62258</td><td>UniRef50_P62258</td><td>UPI0000021A46</td><td>null</td><td>9031</td><td>null</td><td>Gga.4550</td><td>15642098; 16287166</td><td>AJ719304</td><td>CAG30963.1</td><td>ENSGALG00000002661</td><td>ENSGALT00000039926</td><td>ENSGALP00000039133</td><td>22174833</td></tr><tr><td>P62258</td><td>1433E_HUMAN</td><td>7531</td><td>NP_006752.1</td><td>374074368; 62131678; 67464424; 194379794; 221045758; 5803225; 374074366; 51702210</td><td>2BR9:A; 3UAL:A; 3UBW:A</td><td>GO:0030424; GO:0090724; GO:0005737; GO:0030659; GO:0005829; GO:0070062; GO:0005925; GO:0005871; GO:0042470; GO:0016020; GO:0005739; GO:0005634; GO:0045296; GO:0005246; GO:0019899; GO:0042826; GO:0042802; GO:0044325; GO:0023026; GO:0051219; GO:0050815; GO:0015459; GO:0019904; GO:0046982; GO:0017112; GO:0003723; GO:0031625; GO:0034605; GO:0021987; GO:0097711; GO:0000086; GO:0035329; GO:0021766; GO:0035556; GO:0000165; GO:0061024; GO:0086013; GO:1905913; GO:1901020; GO:0043154; GO:1902309; GO:0001764; GO:0046827; GO:1900740; GO:0006605; GO:1900034; GO:0051480; GO:0010389; GO:0086091; GO:0003064; GO:0060306; GO:1901016; GO:0021762; GO:0016032</td><td>UniRef100_P62258</td><td>UniRef90_P62258</td><td>UniRef50_P62258</td><td>UPI0000021A46</td><td>A61235; I38947</td><td>9606</td><td>605066</td><td>Hs.513851</td><td>7644510; 8858348; 8684458; 20417184; 14702039; 15489334; 12665801; 23572552; 10409742; 2026444; 10644344; 11427721; 12042314; 12917326; 15722337; 15696159; 16376338; 17081065; 19172738; 18318008; 19413330; 19640509; 19592491; 19608861; 20068231; 21269460; 21406692; 23186163; 24275569; 26047703; 26055712; 25588844; 25944712; 28112733; 17085597</td><td>U20972; U54778; U43399; U43430; U28936; AB017103; AY883089; AK128785; AK295260; AK316185; BT007161; CH471108; CH471108; BC000179; BC001440</td><td>AAC50175.1; AAC50710.1; AAC50625.1; AAD00026.1; AAA75301.1; BAA32538.1; AAX68683.1; BAG54733.1; BAG58249.1; BAH14556.1; AAP35825.1; EAW90628.1; EAW90629.1; AAH00179.1; AAH01440.1</td><td>ENSG00000108953; ENSG00000274474</td><td>ENST00000264335; ENST00000571732; ENST00000616643; ENST00000627231</td><td>ENSP00000264335; ENSP00000461762; ENSP00000481059; ENSP00000487356</td><td>15838597; 11782387; 12657644; 14966136; 15364926; 16679322; 16923798; 17278997; 17430600; 17728103; 18573912; 18658164; 19173300; 19558434; 19584063; 19635726; 19996099; 20388496; 20462248; 20565895; 21184166; 21346153; 21401702; 21492476; 21935479; 22151054; 22223660; 22246185; 22456610; 22580067; 22607805; 22887762; 22899242; 22934705; 22982899; 22984113; 23035971; 23140658; 23266643; 23472066; 23483955; 23599159; 23813913; 23901910; 23982958; 24161943; 24269678; 24450199; 24536031; 24561237; 25105667; 25154416; 25244606; 25770209; 26208633; 26542179; 26616734; 26945340; 26998762; 27000436; 27030512; 27514745; 28390819; 10449590; 10737771; 10949026; 11504882; 11697890; 11784866; 12383250; 12392720; 12438239; 12757707; 12871587; 14559997; 14676191; 14743216; 15023544; 15057270; 15173315; 15369779; 15459208; 15657067; 16099986; 16126729; 16189514; 16227609; 16260042; 16306228; 16407301; 16482218; 16511560; 16581770; 16775625; 16868027; 16870138; 16990800; 17043677; 17314511; 17461779; 17620599; 17630505; 17965023; 17973628; 17979178; 18029012; 18045992; 18227151; 18356162; 18458160; 18799741; 18812399; 19156129; 19331823; 19338310; 19615732; 19738201; 19766566; 19805454; 19935711; 20000738; 20467437; 20562859; 20603015; 20618440; 20642453; 20711500; 20936779; 21044950; 21242966; 21262972; 21278420; 21282530; 21624135; 21706016; 21900206; 21911578; 21988832; 22028648; 22190034; 22593156; 22623428; 22677168; 22810585; 22863774; 23075850; 23211419; 23275563; 23414517; 23622247; 23752268; 23902751; 24189400; 24255178; 24366813; 24725412; 24947832; 25036637; 25277244; 25609649; 25852190; 26496610; 26638075; 9111084; 9312143; 9452471; 22828320</td></tr><tr><td>P62259</td><td>1433E_MOUSE</td><td>22627</td><td>NP_033562.3</td><td>60391192; 226874906</td><td>null</td><td>GO:0030424; GO:0090724; GO:0005737; GO:0030659; GO:0005829; GO:0070062; GO:0005925; GO:0005871; GO:0042470; GO:0016020; GO:0005739; GO:0005634; GO:0005886; GO:0045296; GO:0005246; GO:0019899; GO:0042826; GO:0042802; GO:0044325; GO:0023026; GO:0051219; GO:0050815; GO:0015459; GO:0019904; GO:0046982; GO:0003723; GO:0031625; GO:0034605; GO:0021987; GO:0021766; GO:0000165; GO:1905913; GO:1901020; GO:1902309; GO:0035308; GO:0001764; GO:0046827; GO:0006605; GO:0051480; GO:0060306; GO:1901016; GO:0021762</td><td>UniRef100_P62258</td><td>UniRef90_P62258</td><td>UniRef50_P62258</td><td>UPI0000021A46</td><td>I48337</td><td>10090</td><td>null</td><td>Mm.234700; Mm.471625</td><td>7750640; 11471062; 15489334; 10409742; 11278287; 11533041; 12796778; 15722337; 17320046; 21183079; 21078877; 26047703</td><td>Z19599; D87663; AF483478; AF483479; BC058686</td><td>CAA79659.1; BAA13424.1; AAL90752.1; AAL90753.1; AAH58686.1</td><td>ENSMUSG00000020849</td><td>ENSMUST00000067664</td><td>ENSMUSP00000070993</td><td>11784696; 14966136; 15364926; 17720156; 18687683; 21152247; 21245341; 21287435; 21458426; 22065591; 23071090; 23326474; 25059436; 26208633; 27001213; 10441394; 10725249; 11217851; 11585834; 12446771; 12466851; 12520002; 12904583; 12905154; 14517258; 14610273; 14613977; 14651853; 14681479; 15166223; 15284227; 15741177; 15979417; 16141072; 16482218; 16602821; 16615898; 16956611; 16959763; 18059471; 18331715; 18332103; 18658164; 18799693; 19014373; 19799774; 19865483; 20410134; 21092859; 21145499; 21242966; 21267068; 21346153; 21390248; 21423666; 21436042; 21677750; 22982415; 23055941; 23177959; 23615913; 23673330; 23831578; 24721909; 25186760; 27580238; 27845227; 7671812; 8684458; 8798343; 8858348; 9182797; 9199935; 9811942; 16216880; 16635246; 18614564; 19423573; 19455133; 20564261; 20697350; 21274006; 21565611; 24390569; 24687852; 9144171; 9452471</td></tr><tr><td>P62260</td><td>1433E_RAT</td><td>29753</td><td>NP_113791.1</td><td>487918; 149053422; 38648857; 13928824; 1469948; 61216932; 294504</td><td>null</td><td>GO:0030424; GO:0090724; GO:0005737; GO:0005829; GO:0070062; GO:0005925; GO:0005871; GO:0042470; GO:0016020; GO:0005739; GO:0005634; GO:0005886; GO:0045296; GO:0005246; GO:0019899; GO:0042826; GO:0042802; GO:0044325; GO:0023026; GO:0051219; GO:0050815; GO:0015459; GO:0032403; GO:0019904; GO:0046982; GO:0008426; GO:0019903; GO:0003723; GO:0031625; GO:0034605; GO:0021987; GO:0021766; GO:0000165; GO:1905913; GO:1901020; GO:1902309; GO:0035308; GO:0001764; GO:0046827; GO:0006605; GO:0051480; GO:0060306; GO:1901016; GO:0007165; GO:0021762</td><td>UniRef100_P62258</td><td>UniRef90_P62258</td><td>UniRef50_P62258</td><td>UPI0000021A46</td><td>JX0341</td><td>10116</td><td>null</td><td>Rn.4225</td><td>8024705; 7822263; 8694795; 15489334; 11427721; 22827337; 22673903</td><td>M84416; D30739; U53882; BC063163</td><td>AAC37659.1; BAA06401.1; AAC52676.1; AAH63163.1</td><td>ENSRNOG00000005290</td><td>ENSRNOT00000007100</td><td>ENSRNOP00000007100</td><td>11287646; 16396496; 17166838; 18242179; 19477150; 19573810; 19834914; 19860830; 19935650; 21242966; 22740335; 22770221; 16679322; 17202468</td></tr><tr><td>Q04917</td><td>1433F_HUMAN</td><td>7533</td><td>NP_003396.1</td><td>4507951; 437363; 83754686; 83754699; 83754700; 1345593; 83754684; 83754685; 28862; 83754683</td><td>2C63:A; 2C63:B; 2C63:C; 2C63:D; 2C74:A; 2C74:B</td><td>GO:0005737; GO:0030659; GO:0005829; GO:0070062; GO:0014704; GO:0005739; GO:0005886; GO:0003779; GO:0019899; GO:0035259; GO:0042802; GO:0005159; GO:0044325; GO:0019904; GO:0046982; GO:0017080; GO:0006713; GO:0042921; GO:0006886; GO:0086010; GO:0061024; GO:0050774; GO:1900740; GO:0045893; GO:0045664; GO:2000649; GO:0002028; GO:0048167; GO:0021762</td><td>UniRef100_Q04917</td><td>UniRef90_Q04917</td><td>UniRef50_P62258</td><td>UPI000013CC64</td><td>S34756; S38509; S38532</td><td>9606</td><td>113508</td><td>Hs.226755</td><td>8218406; 1578511; 8561965; 8812417; 15461802; 10591208; 15489334; 8515476; 12665801; 23572552; 11266503; 12177059; 14504289; 15696159; 19172738; 19640509; 19690332; 21269460; 24275569; 26047703; 25944712; 17085597</td><td>L20422; X80536; X78138; X57345; D78577; S80794; CR456612; Z82248; BC003047</td><td>AAA35483.1; CAA56676.1; CAA55017.1; CAA40620.1; BAA11418.1; AAB36036.1; CAG30498.1; -; AAH03047.1</td><td>ENSG00000128245</td><td>ENST00000248975</td><td>ENSP00000248975</td><td>10206237; 11121172; 11996670; 12176995; 12480176; 16459651; 16545136; 17611984; 18950845; 19034380; 19160447; 19558434; 20388496; 21416292; 21432775; 21739144; 22562251; 24507884; 24751211; 27256400; 27717743; 10713667; 11352901; 11697890; 12383250; 12438239; 12524439; 12595070; 12871946; 14676191; 14690447; 14743216; 15023544; 15369779; 15543142; 15580267; 15677482; 16511560; 16581770; 16672277; 16775625; 16868027; 16902409; 16959763; 17620599; 17700517; 17962809; 17979178; 18045992; 18242179; 18274552; 18397886; 18458160; 18647389; 19553522; 19615732; 19738201; 19860830; 19996220; 20562859; 20618440; 20642453; 20711500; 20936779; 21262972; 21278420; 21282530; 21706016; 21903422; 21988832; 22575643; 22575644; 22677168; 23075850; 23353889; 23622247; 23752268; 24255178; 24366813; 24895406; 25036637; 25277244; 25665578; 25852190; 26496610; 26638075</td></tr></table>"
      ]
     },
     "execution_count": 35,
     "metadata": {},
     "output_type": "execute_result"
    }
   ],
   "source": [
    "%%dataframe searchGO"
   ]
  },
  {
   "cell_type": "code",
   "execution_count": 21,
   "metadata": {},
   "outputs": [
    {
     "data": {
      "text/plain": [
       "uniref90 = UniRef90_Q6GZX4\n",
       "searchUniref90 = [uniprot_ac: string, uniprot_id: string ... 20 more fields]\n"
      ]
     },
     "metadata": {},
     "output_type": "display_data"
    },
    {
     "data": {
      "text/plain": [
       "[uniprot_ac: string, uniprot_id: string ... 20 more fields]"
      ]
     },
     "execution_count": 21,
     "metadata": {},
     "output_type": "execute_result"
    }
   ],
   "source": [
    "val uniref90: String = \"UniRef90_Q6GZX4\" //put your Uniref90 term inside quotes\n",
    "val searchUniref90 = mapping.filter($\"uniref90\".contains(uniref90))"
   ]
  },
  {
   "cell_type": "code",
   "execution_count": 5,
   "metadata": {},
   "outputs": [
    {
     "data": {
      "text/html": [
       "<table><tr><th>uniprot_ac</th><th>uniprot_id</th><th>entrez</th><th>refSeq</th><th>gi</th><th>pdb</th><th>go</th><th>uniref100</th><th>uniref90</th><th>uniref50</th><th>uniparc</th><th>pir</th><th>taxon</th><th>mim</th><th>unigene</th><th>pubmed</th><th>embl</th><th>embl_cds</th><th>ensembl</th><th>ensembl_trs</th><th>ensembl_pro</th><th>additional_pubmed</th></tr><tr><td>Q6GZX4</td><td>001R_FRG3G</td><td>2947773</td><td>YP_031579.1</td><td>81941549; 49237298</td><td>null</td><td>GO:0006355; GO:0046782; GO:0006351</td><td>UniRef100_Q6GZX4</td><td>UniRef90_Q6GZX4</td><td>UniRef50_Q6GZX4</td><td>UPI00003B0FD4</td><td>null</td><td>654924</td><td>null</td><td>null</td><td>15165820</td><td>AY548484</td><td>AAT09660.1</td><td>null</td><td>null</td><td>null</td><td>null</td></tr></table>"
      ]
     },
     "execution_count": 5,
     "metadata": {},
     "output_type": "execute_result"
    }
   ],
   "source": [
    "%%dataframe searchUniref90"
   ]
  },
  {
   "cell_type": "code",
   "execution_count": null,
   "metadata": {},
   "outputs": [],
   "source": []
  }
 ],
 "metadata": {
  "kernelspec": {
   "display_name": "Apache Toree - Scala",
   "language": "scala",
   "name": "apache_toree_scala"
  },
  "language_info": {
   "codemirror_mode": "text/x-scala",
   "file_extension": ".scala",
   "mimetype": "text/x-scala",
   "name": "scala",
   "pygments_lexer": "scala",
   "version": "2.11.8"
  }
 },
 "nbformat": 4,
 "nbformat_minor": 2
}
