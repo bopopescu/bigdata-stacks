{
  "metadata" : {
    "config" : {
      "dependencies" : {
        "scala" : [
          "group.research.aging:spark-extensions_2.11:0.0.7.3"
        ]
      },
      "exclusions" : [
      ],
      "repositories" : [
        {
          "maven" : {
            "base" : "https://dl.bintray.com/comp-bio-aging/main/"
          }
        },
        {
          "ivy" : {
            "base" : "https://artifacts.netflix.com/libs-releases-local"
          }
        }
      ],
      "sparkConfig" : {
        "spark.driver.memory" : "2g"
      }
    }
  },
  "nbformat" : 4,
  "nbformat_minor" : 0,
  "cells" : [
    {
      "cell_type" : "markdown",
      "execution_count" : 0,
      "metadata" : {
        "language" : "text"
      },
      "language" : "text",
      "source" : [
        "# soft check\n",
        "\n",
        "This is a text cell. Start editing!"
      ],
      "outputs" : [
      ]
    },
    {
      "cell_type" : "code",
      "execution_count" : 1,
      "metadata" : {
        "jupyter.outputs_hidden" : true,
        "cell.metadata.exec_info" : {
          "startTs" : 1576587430730,
          "endTs" : 1576587432985
        },
        "language" : "scala"
      },
      "language" : "scala",
      "source" : [
        "val scalaDF = spark.createDataFrame(List(1,2,3).map(x => (x, x*2)))\n",
        "import org.apache.spark.sql.functions._\n",
        "import group.research.aging.spark.extensions._"
      ],
      "outputs" : [
      ]
    },
    {
      "cell_type" : "code",
      "execution_count" : 3,
      "metadata" : {
        "cell.metadata.exec_info" : {
          "startTs" : 1576588440037,
          "endTs" : 1576588440354
        },
        "language" : "scala"
      },
      "language" : "scala",
      "source" : [
        "val soft_voting_path = \"/data/sources/soft-voting/\"\n",
        "val batch_corrected_path = soft_voting_path + \"batch_corrected/\"\n",
        "val pic_path = soft_voting_path + \"pic_aggregated/\"\n",
        "val uncorrected_path = soft_voting_path + \"untransformed/\""
      ],
      "outputs" : [
      ]
    },
    {
      "cell_type" : "code",
      "execution_count" : 2,
      "metadata" : {
        "cell.metadata.exec_info" : {
          "startTs" : 1576588513615,
          "endTs" : 1576588525983
        },
        "language" : "scala"
      },
      "language" : "scala",
      "source" : [
        "val untransformed = spark.readTSV(uncorrected_path + \"voting_summary.csv\", sep = \",\", headers=true)"
      ],
      "outputs" : [
      ]
    },
    {
      "cell_type" : "code",
      "execution_count" : 4,
      "metadata" : {
        "cell.metadata.exec_info" : {
          "startTs" : 1576589136619,
          "endTs" : 1576589137308
        },
        "language" : "scala"
      },
      "language" : "scala",
      "source" : [
        "val ut =  spark.read.format(\"csv\")\n",
        "  .option(\"sep\", \",\")\n",
        "  .option(\"inferSchema\", \"true\")\n",
        "  .option(\"header\", \"true\")\n",
        "  .load(uncorrected_path + \"voting_summary.csv\")\n",
        "  ut.show()\n",
        "  "
      ],
      "outputs" : [
        {
          "name" : "stdout",
          "text" : [
            "+-----------------------------------------------+\n",
            "|feature_name\tfeature_score\tfeature_explanations|\n",
            "+-----------------------------------------------+\n",
            "|                           GADD45G\t0.1749698...|\n",
            "|                           STOM\t0.1670376090...|\n",
            "|                           CCDC152\t0.1571511...|\n",
            "|                           CBFB\t0.1334083385...|\n",
            "|                           ILK\t0.13293990898...|\n",
            "|                           ANAPC16\t0.1267002...|\n",
            "|                           EMC9\t0.1236922829...|\n",
            "|                           MSH3\t0.1220877897...|\n",
            "|                           NQO1\t0.1205932453...|\n",
            "|                           CHI3L1\t0.11298228...|\n",
            "|                           C1QB\t0.0803585803...|\n",
            "|                           CYTH1\t0.077891633...|\n",
            "|                           KCNQ3\t0.073601299...|\n",
            "|                           NEDD4\t0.069294496...|\n",
            "|                           PROX2\t0.068881041...|\n",
            "|                           BUB1\t0.0686405244...|\n",
            "|                           TMEM87B\t0.0681606...|\n",
            "|                       ",
            "    F8\t0.067144537850...|\n",
            "|                           SNX21\t0.064664755...|\n",
            "|                           HSF4\t0.0620778023...|\n",
            "+-----------------------------------------------+\n",
            "only showing top 20 rows\n",
            "\n"
          ],
          "output_type" : "stream"
        }
      ]
    },
    {
      "cell_type" : "code",
      "execution_count" : 5,
      "metadata" : {
        "cell.metadata.exec_info" : {
          "startTs" : 1576589677029,
          "endTs" : 1576589677215
        },
        "language" : "scala"
      },
      "language" : "scala",
      "source" : [
        "ut.count()"
      ],
      "outputs" : [
        {
          "ename" : "java.lang.IllegalArgumentException",
          "evalue" : "Unsupported class file major version 55",
          "traceback" : [
          ],
          "output_type" : "error"
        }
      ]
    }
  ]
}